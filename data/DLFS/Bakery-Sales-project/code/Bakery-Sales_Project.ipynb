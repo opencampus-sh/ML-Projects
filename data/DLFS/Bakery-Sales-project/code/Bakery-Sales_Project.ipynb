{
 "cells": [
  {
   "cell_type": "markdown",
   "metadata": {
    "id": "6PYHLlbu4Hkc"
   },
   "source": [
    "# Bakery Sales Project\n",
    "Deep Learning Project in python to predict the sales for a bakery using historical data from the Sales dataset of 6 products. The sales dataset for daily sales used in this project spans over a period of 6 years from 2013 to 2018. The purpose of this project is to develop a predictive model and predict the expected sales for the bakery at any given date(s) in future. This project features exploratory analysis and the model is based on feed forward neural network.\n",
    "Note: the data for this project is private and cannot be shared, only the results are made available."
   ]
  },
  {
   "cell_type": "markdown",
   "metadata": {
    "id": "LcG1J5wO4Hkd"
   },
   "source": [
    "## Participants:\n",
    "\n",
    "1. Johannes Dupont\n",
    "2. Pavan Jethvani\n",
    "3. Osama Alrabayah\n",
    "4. Jannik Knopp"
   ]
  },
  {
   "cell_type": "markdown",
   "metadata": {
    "id": "kkqEtYQR4Hkd"
   },
   "source": [
    "### Course and Semester\n",
    "Deep Learning from Scratch Summer Semester 2021"
   ]
  },
  {
   "cell_type": "markdown",
   "metadata": {
    "id": "-cAJ8GixpHAT"
   },
   "source": [
    "### Tools\n",
    "#### External Tools\n",
    "\n",
    "1. Jupyter Notebook\n",
    "2. Google Colab\n",
    "\n",
    "#### Python Modules\n",
    "\n",
    "1. Tensorflow and Keras\n",
    "2. Keras Tuner\n",
    "3. pandas and numpy\n",
    "4. seaborn and matplotlib\n",
    "5. sklearn(shuffle and train_test_split)\n"
   ]
  },
  {
   "cell_type": "code",
   "execution_count": null,
   "metadata": {
    "id": "nlunpm1f4Hke"
   },
   "outputs": [],
   "source": [
    "# Imports\n",
    "import numpy as np\n",
    "import tensorflow as tf\n",
    "from tensorflow import keras\n",
    "import os\n",
    "import pandas as pd\n",
    "from sklearn.model_selection import train_test_split\n",
    "import seaborn as sns\n",
    "import matplotlib.pyplot as plt\n",
    "from sklearn.utils import shuffle\n",
    "from tensorflow.keras.layers.experimental import preprocessing\n",
    "\n",
    "from kerastuner.tuners import RandomSearch\n",
    "from kerastuner.engine.hyperparameters import HyperParameters\n",
    "from keras.callbacks import TensorBoard, EarlyStopping\n",
    "from keras.callbacks import ModelCheckpoint"
   ]
  },
  {
   "cell_type": "code",
   "execution_count": null,
   "metadata": {
    "id": "Z04RHKfM4Hke"
   },
   "outputs": [],
   "source": [
    "# Loading the data\n",
    "path = os.path.join(os.getcwd(), \"data\")\n",
    "sales = pd.read_csv(os.path.join(path, \"sales.csv\"))\n",
    "wheather = pd.read_csv(os.path.join(path, \"wheather.csv\"))\n",
    "kiwo = pd.read_csv(os.path.join(path, \"kiwo.csv\") )\n",
    "\n",
    "# Merge Data to one table\n",
    "concat_data = pd.merge(sales, wheather, on=[\"Date\"]) "
   ]
  },
  {
   "cell_type": "code",
   "execution_count": null,
   "metadata": {
    "id": "_BkgbtCIpHAW"
   },
   "outputs": [],
   "source": [
    "# convert date to Day, weekday, month, year\n",
    "concat_data.Date=pd.to_datetime(concat_data.Date)\n",
    "concat_data['Date'] = pd.to_datetime(concat_data['Date'], errors = 'coerce')\n",
    "concat_data['Year'] = concat_data['Date'].dt.year\n",
    "concat_data['Month'] = concat_data['Date'].dt.month\n",
    "concat_data['Day'] = concat_data['Date'].dt.day\n",
    "concat_data['Day_of_week'] = concat_data['Date'].dt.weekday\n",
    "concat_data=concat_data[['Date','Year','Day_of_week','Month','Day','Group',\n",
    "                         'Cloudiness','Temperature','Wind Speed','Weather Code','Sales']]"
   ]
  },
  {
   "cell_type": "markdown",
   "metadata": {
    "id": "IeSf3hFQpHAW"
   },
   "source": [
    "### Data Insights"
   ]
  },
  {
   "cell_type": "code",
   "execution_count": null,
   "metadata": {
    "id": "fGFAnxh9pHAX",
    "outputId": "6fa621b2-9c8c-4948-83c5-48a39cbdf680"
   },
   "outputs": [
    {
     "data": {
      "text/html": [
       "<div>\n",
       "<style scoped>\n",
       "    .dataframe tbody tr th:only-of-type {\n",
       "        vertical-align: middle;\n",
       "    }\n",
       "\n",
       "    .dataframe tbody tr th {\n",
       "        vertical-align: top;\n",
       "    }\n",
       "\n",
       "    .dataframe thead th {\n",
       "        text-align: right;\n",
       "    }\n",
       "</style>\n",
       "<table border=\"1\" class=\"dataframe\">\n",
       "  <thead>\n",
       "    <tr style=\"text-align: right;\">\n",
       "      <th></th>\n",
       "      <th>count</th>\n",
       "      <th>mean</th>\n",
       "      <th>std</th>\n",
       "      <th>min</th>\n",
       "      <th>25%</th>\n",
       "      <th>50%</th>\n",
       "      <th>75%</th>\n",
       "      <th>max</th>\n",
       "    </tr>\n",
       "  </thead>\n",
       "  <tbody>\n",
       "    <tr>\n",
       "      <td>Year</td>\n",
       "      <td>10788.0</td>\n",
       "      <td>2015.927790</td>\n",
       "      <td>1.753323</td>\n",
       "      <td>2013.000000</td>\n",
       "      <td>2014.000000</td>\n",
       "      <td>2016.000000</td>\n",
       "      <td>2017.00000</td>\n",
       "      <td>2019.000000</td>\n",
       "    </tr>\n",
       "    <tr>\n",
       "      <td>Day_of_week</td>\n",
       "      <td>10788.0</td>\n",
       "      <td>2.997126</td>\n",
       "      <td>2.000114</td>\n",
       "      <td>0.000000</td>\n",
       "      <td>1.000000</td>\n",
       "      <td>3.000000</td>\n",
       "      <td>5.00000</td>\n",
       "      <td>6.000000</td>\n",
       "    </tr>\n",
       "    <tr>\n",
       "      <td>Month</td>\n",
       "      <td>10788.0</td>\n",
       "      <td>6.642937</td>\n",
       "      <td>3.516118</td>\n",
       "      <td>1.000000</td>\n",
       "      <td>4.000000</td>\n",
       "      <td>7.000000</td>\n",
       "      <td>10.00000</td>\n",
       "      <td>12.000000</td>\n",
       "    </tr>\n",
       "    <tr>\n",
       "      <td>Day</td>\n",
       "      <td>10788.0</td>\n",
       "      <td>15.721264</td>\n",
       "      <td>8.755344</td>\n",
       "      <td>1.000000</td>\n",
       "      <td>8.000000</td>\n",
       "      <td>16.000000</td>\n",
       "      <td>23.00000</td>\n",
       "      <td>31.000000</td>\n",
       "    </tr>\n",
       "    <tr>\n",
       "      <td>Group</td>\n",
       "      <td>10788.0</td>\n",
       "      <td>3.091491</td>\n",
       "      <td>1.490637</td>\n",
       "      <td>1.000000</td>\n",
       "      <td>2.000000</td>\n",
       "      <td>3.000000</td>\n",
       "      <td>4.00000</td>\n",
       "      <td>6.000000</td>\n",
       "    </tr>\n",
       "    <tr>\n",
       "      <td>Cloudiness</td>\n",
       "      <td>10734.0</td>\n",
       "      <td>4.732159</td>\n",
       "      <td>2.653100</td>\n",
       "      <td>0.000000</td>\n",
       "      <td>3.000000</td>\n",
       "      <td>6.000000</td>\n",
       "      <td>7.00000</td>\n",
       "      <td>8.000000</td>\n",
       "    </tr>\n",
       "    <tr>\n",
       "      <td>Temperature</td>\n",
       "      <td>10788.0</td>\n",
       "      <td>11.794288</td>\n",
       "      <td>7.147310</td>\n",
       "      <td>-8.475000</td>\n",
       "      <td>6.100000</td>\n",
       "      <td>11.250000</td>\n",
       "      <td>17.62500</td>\n",
       "      <td>32.671428</td>\n",
       "    </tr>\n",
       "    <tr>\n",
       "      <td>Wind Speed</td>\n",
       "      <td>10788.0</td>\n",
       "      <td>10.998331</td>\n",
       "      <td>4.141871</td>\n",
       "      <td>3.000000</td>\n",
       "      <td>8.000000</td>\n",
       "      <td>10.000000</td>\n",
       "      <td>13.00000</td>\n",
       "      <td>35.000000</td>\n",
       "    </tr>\n",
       "    <tr>\n",
       "      <td>Weather Code</td>\n",
       "      <td>8277.0</td>\n",
       "      <td>36.157062</td>\n",
       "      <td>27.043763</td>\n",
       "      <td>0.000000</td>\n",
       "      <td>10.000000</td>\n",
       "      <td>22.000000</td>\n",
       "      <td>61.00000</td>\n",
       "      <td>95.000000</td>\n",
       "    </tr>\n",
       "    <tr>\n",
       "      <td>Sales</td>\n",
       "      <td>10788.0</td>\n",
       "      <td>206.495317</td>\n",
       "      <td>142.922151</td>\n",
       "      <td>7.051201</td>\n",
       "      <td>97.362053</td>\n",
       "      <td>162.953749</td>\n",
       "      <td>280.66877</td>\n",
       "      <td>1879.461831</td>\n",
       "    </tr>\n",
       "  </tbody>\n",
       "</table>\n",
       "</div>"
      ],
      "text/plain": [
       "                count         mean         std          min          25%  \\\n",
       "Year          10788.0  2015.927790    1.753323  2013.000000  2014.000000   \n",
       "Day_of_week   10788.0     2.997126    2.000114     0.000000     1.000000   \n",
       "Month         10788.0     6.642937    3.516118     1.000000     4.000000   \n",
       "Day           10788.0    15.721264    8.755344     1.000000     8.000000   \n",
       "Group         10788.0     3.091491    1.490637     1.000000     2.000000   \n",
       "Cloudiness    10734.0     4.732159    2.653100     0.000000     3.000000   \n",
       "Temperature   10788.0    11.794288    7.147310    -8.475000     6.100000   \n",
       "Wind Speed    10788.0    10.998331    4.141871     3.000000     8.000000   \n",
       "Weather Code   8277.0    36.157062   27.043763     0.000000    10.000000   \n",
       "Sales         10788.0   206.495317  142.922151     7.051201    97.362053   \n",
       "\n",
       "                      50%         75%          max  \n",
       "Year          2016.000000  2017.00000  2019.000000  \n",
       "Day_of_week      3.000000     5.00000     6.000000  \n",
       "Month            7.000000    10.00000    12.000000  \n",
       "Day             16.000000    23.00000    31.000000  \n",
       "Group            3.000000     4.00000     6.000000  \n",
       "Cloudiness       6.000000     7.00000     8.000000  \n",
       "Temperature     11.250000    17.62500    32.671428  \n",
       "Wind Speed      10.000000    13.00000    35.000000  \n",
       "Weather Code    22.000000    61.00000    95.000000  \n",
       "Sales          162.953749   280.66877  1879.461831  "
      ]
     },
     "execution_count": 71,
     "metadata": {
      "tags": []
     },
     "output_type": "execute_result"
    }
   ],
   "source": [
    "concat_data.describe().transpose()"
   ]
  },
  {
   "cell_type": "code",
   "execution_count": null,
   "metadata": {
    "id": "lMCWMaUOpHAZ",
    "outputId": "c53f18db-3c17-4498-aac2-11eb94663f53"
   },
   "outputs": [
    {
     "data": {
      "text/plain": [
       "<matplotlib.axes._subplots.AxesSubplot at 0x2b282024c08>"
      ]
     },
     "execution_count": 72,
     "metadata": {
      "tags": []
     },
     "output_type": "execute_result"
    },
    {
     "data": {
      "image/png": "[encoded data removed]",
      "text/plain": [
       "<Figure size 1080x360 with 4 Axes>"
      ]
     },
     "metadata": {
      "needs_background": "light",
      "tags": []
     },
     "output_type": "display_data"
    }
   ],
   "source": [
    "fig, axes = plt.subplots(1, 4, figsize=(15, 5), sharey=True)\n",
    "sns.lineplot(ax=axes[0], x=concat_data['Year'], y=concat_data['Sales'])\n",
    "sns.lineplot(ax=axes[1], x=concat_data['Month'], y=concat_data['Sales'])\n",
    "sns.lineplot(ax=axes[2], x=concat_data['Day_of_week'], y=concat_data['Sales'])\n",
    "sns.lineplot(ax=axes[3], x=concat_data['Day'], y=concat_data['Sales'])"
   ]
  },
  {
   "cell_type": "code",
   "execution_count": null,
   "metadata": {
    "id": "ilXcqa4epHAa",
    "outputId": "add1217b-76e9-4c1d-9a8a-627b3e5ca42f"
   },
   "outputs": [
    {
     "data": {
      "text/plain": [
       "<seaborn.axisgrid.PairGrid at 0x2b2815a18c8>"
      ]
     },
     "execution_count": 73,
     "metadata": {
      "tags": []
     },
     "output_type": "execute_result"
    },
    {
     "data": {
      "image/png": "[encoded data removed]",
      "text/plain": [
       "<Figure size 900x180 with 5 Axes>"
      ]
     },
     "metadata": {
      "needs_background": "light",
      "tags": []
     },
     "output_type": "display_data"
    }
   ],
   "source": [
    "sns.pairplot(concat_data, y_vars=[\"Sales\"], x_vars=['Year','Month','Day_of_week', 'Day', 'Group'], diag_kind='kde')"
   ]
  },
  {
   "cell_type": "code",
   "execution_count": null,
   "metadata": {
    "id": "twLwPjDUpHAa",
    "outputId": "6acdc8b4-cdf4-4b73-f141-7732d1cff209"
   },
   "outputs": [
    {
     "data": {
      "text/plain": [
       "<matplotlib.axes._subplots.AxesSubplot at 0x2b281f87488>"
      ]
     },
     "execution_count": 74,
     "metadata": {
      "tags": []
     },
     "output_type": "execute_result"
    },
    {
     "data": {
      "image/png": "[encoded data removed]",
      "text/plain": [
       "<Figure size 432x288 with 1 Axes>"
      ]
     },
     "metadata": {
      "needs_background": "light",
      "tags": []
     },
     "output_type": "display_data"
    }
   ],
   "source": [
    "sns.distplot(concat_data[\"Sales\"])"
   ]
  },
  {
   "cell_type": "markdown",
   "metadata": {
    "id": "Q5zifK-rpHAb"
   },
   "source": [
    "### Data Preprocessing\n",
    "After taking a closer look to the data we tried to clear the unsuable data and convert some features to be more fitting for a neural network.\n",
    "We have done the following steps:\n",
    "1. Remove all NaNs\n",
    "2. Remove data that is not needed (or which was later seen that is was not giving an improvement)\n",
    "3. Remove outliers of the sales data\n",
    "4. One Hot Encoding of categorical features"
   ]
  },
  {
   "cell_type": "code",
   "execution_count": null,
   "metadata": {
    "id": "dvdH4WShpHAc"
   },
   "outputs": [],
   "source": [
    "# remove weather code because a quarter of the data contains NaNs\n",
    "clean_data = concat_data.drop(columns=\"Weather Code\")  \n",
    "# Remove all data with NaNs\n",
    "clean_data = clean_data.dropna()"
   ]
  },
  {
   "cell_type": "code",
   "execution_count": null,
   "metadata": {
    "id": "Rv8W99IipHAc"
   },
   "outputs": [],
   "source": [
    "# Choose the features on which we want to train our model\n",
    "# remove weather data\n",
    "#clean_data = clean_data.drop(columns=[\"Temperature\", \"Cloudiness\", \"Wind Speed\", \"Date\"])\n",
    "clean_data = clean_data.drop(columns=[\"Date\"])"
   ]
  },
  {
   "cell_type": "code",
   "execution_count": null,
   "metadata": {
    "id": "qmTJ_7sVpHAd"
   },
   "outputs": [],
   "source": [
    "# calculate distance of every point to the point cloud in stadard deviations\n",
    "std = clean_data[\"Sales\"].std()\n",
    "mean = clean_data[\"Sales\"].mean()\n",
    "\n",
    "clean_data[\"Sales std\"] = (clean_data[\"Sales\"] - mean) / std\n",
    "#  remove all points that have a higher standard deviation of 3.0 => classified as outliers\n",
    "clean_data.drop(clean_data[clean_data[\"Sales std\"] > 3.0].index, inplace=True)\n",
    "clean_data = clean_data.drop(columns=[\"Sales std\"])"
   ]
  },
  {
   "cell_type": "code",
   "execution_count": null,
   "metadata": {
    "id": "bvIazLEcpHAd"
   },
   "outputs": [],
   "source": [
    "# convert categorical features to one hot encoding\n",
    "clean_data = pd.get_dummies(clean_data, columns=[\"Month\", \"Day_of_week\", \"Group\", \"Day\"])"
   ]
  },
  {
   "cell_type": "markdown",
   "metadata": {
    "id": "6CJuoKh3pHAe"
   },
   "source": [
    "### Model Architecture\n"
   ]
  },
  {
   "cell_type": "code",
   "execution_count": null,
   "metadata": {
    "id": "3BknbYnupHAe"
   },
   "outputs": [],
   "source": [
    "# shuffle data\n",
    "shuffled_data = shuffle(clean_data)\n",
    "\n",
    "# divide into features and labels\n",
    "Y = shuffled_data.pop(\"Sales\").to_frame()\n",
    "X = shuffled_data\n",
    "\n",
    "# separate into train and test set\n",
    "X_train, X_Test, y_train, y_test = train_test_split(X, Y, test_size=0.1)"
   ]
  },
  {
   "cell_type": "code",
   "execution_count": null,
   "metadata": {
    "id": "k9CUobhapHAf"
   },
   "outputs": [],
   "source": [
    "#%pip install -U keras-tuner"
   ]
  },
  {
   "cell_type": "code",
   "execution_count": null,
   "metadata": {
    "id": "qZWTmq9_pHAf",
    "outputId": "f2a95c9a-1aee-4b44-88f9-f6ab2702ba4f"
   },
   "outputs": [
    {
     "data": {
      "text/plain": [
       "'\\ntuner = RandomSearch(\\n    build_model,\\n    objective=\\'mean_absolute_percentage_error\\',\\n    max_trials=10,\\n    executions_per_trial=2,\\n    project_name = \"Bakery-Sales-optimal-Model\",\\n    directory = \"models/\")\\n\\ntuner.search(x=X_train,\\n             y=y_train,\\n             verbose=1, \\n             epochs=60,\\n             callbacks=es,\\n             validation_data=(X_Test, y_test))\\n'"
      ]
     },
     "execution_count": 81,
     "metadata": {
      "tags": []
     },
     "output_type": "execute_result"
    }
   ],
   "source": [
    "from tensorflow import keras\n",
    "from kerastuner.tuners import RandomSearch\n",
    "from kerastuner.engine.hyperparameters import HyperParameters\n",
    "from tensorflow.keras.layers import Dense, Flatten, Activation\n",
    "import time\n",
    "\n",
    "normaliser = preprocessing.Normalization(input_shape=[shuffled_data.shape[1]])\n",
    "normaliser.adapt(np.array(shuffled_data))\n",
    "\n",
    "es = EarlyStopping(monitor='val_loss', mode='min', baseline=16)\n",
    "\n",
    "def build_model(hp):\n",
    "    model = keras.Sequential()\n",
    "    model.add((layers.Dense(units=hp.Int('input_units',\n",
    "                                min_value=64,\n",
    "                                max_value=1024,\n",
    "                                step=64), input_shape=shuffled_data.shape[1:], activation='relu')))\n",
    "    \n",
    "    for i in range(hp.Int('n_layers', 1, 10)):  # adding variation of layers.\n",
    "        model.add(layers.Dense(units=hp.Int(f'further_{i}_units', min_value=64, max_value=1024, step=64)))\n",
    "        model.add(Activation('relu'))\n",
    "        model.add(layers.Dropout(hp.Float('dropout', 0, 0.2, step=0.05, default=0.2)))\n",
    "        \n",
    "    model.add(layers.Dense(1, activation=\"linear\"))\n",
    "\n",
    "    model.compile(\n",
    "        optimizer=keras.optimizers.Adam(\n",
    "            hp.Choice('learning_rate', values=[1e-2, 1e-3])), loss='mean_absolute_percentage_error', metrics=['mae'])\n",
    "    \n",
    "    return model\n",
    "# uncomment this code to use the tuner (caution this needs several hours!!!)\n",
    "\"\"\"\n",
    "tuner = RandomSearch(\n",
    "    build_model,\n",
    "    objective='mean_absolute_percentage_error',\n",
    "    max_trials=10,\n",
    "    executions_per_trial=2,\n",
    "    project_name = \"Bakery-Sales-optimal-Model\",\n",
    "    directory = \"models/\")\n",
    "\n",
    "tuner.search(x=X_train,\n",
    "             y=y_train,\n",
    "             verbose=1, \n",
    "             epochs=60,\n",
    "             callbacks=es,\n",
    "             validation_data=(X_Test, y_test))\n",
    "\"\"\"\n",
    "#tuner.get_best_models()[0].summary()"
   ]
  },
  {
   "cell_type": "markdown",
   "metadata": {
    "id": "f8N5vEmVpHAh"
   },
   "source": [
    "#### Optimal Hyperparameters\n",
    "\n",
    "| Layer       | Number of Neurons | Activation Function |\n",
    "| ----------- | ----------------- | ------------------- |\n",
    "| 1           | 802               | ReLu                |\n",
    "| 2           | 382               | ReLu                |\n",
    "| 3           | 926               | ReLu                |\n",
    "| 4           | 990               | ReLu                |\n",
    "| 5           | 510               | ReLu                |\n",
    "| 6           | 798               | ReLu                |\n",
    "| 7           | 1                 | Linear              |\n",
    "\n",
    "|  Method        | Used                |\n",
    "| -------------- | ------------------- |\n",
    "| Normalization  | Yes                 |\n",
    "| Data Shuffling | Yes                 |\n",
    "| Dropout        | 0.0                 |\n",
    "| Loss-Function  | mean_absolute_percentage_error |\n",
    "| Optimizer      | Adam                |\n",
    "| Learning rate  | 0.001               |"
   ]
  },
  {
   "cell_type": "code",
   "execution_count": null,
   "metadata": {
    "id": "v-K5Nnt74L2s",
    "outputId": "4df8aa28-03d5-4813-b70c-78d4a6ef87a3"
   },
   "outputs": [
    {
     "name": "stdout",
     "output_type": "stream",
     "text": [
      "Epoch 1/20\n",
      "239/239 [==============================] - 3s 12ms/step - loss: 28.8250 - mean_absolute_error: 56.1725 - val_loss: 20.9473 - val_mean_absolute_error: 37.8662\n",
      "Epoch 2/20\n",
      "239/239 [==============================] - 3s 12ms/step - loss: 19.7519 - mean_absolute_error: 36.3778 - val_loss: 19.3548 - val_mean_absolute_error: 34.3089\n",
      "Epoch 3/20\n",
      "239/239 [==============================] - 3s 11ms/step - loss: 18.2652 - mean_absolute_error: 33.8527 - val_loss: 22.3310 - val_mean_absolute_error: 36.4764\n",
      "Epoch 4/20\n",
      "239/239 [==============================] - 3s 12ms/step - loss: 17.1485 - mean_absolute_error: 31.4138 - val_loss: 20.9404 - val_mean_absolute_error: 39.2573\n",
      "Epoch 5/20\n",
      "239/239 [==============================] - 3s 12ms/step - loss: 16.4565 - mean_absolute_error: 30.5531 - val_loss: 18.7136 - val_mean_absolute_error: 33.3025\n",
      "Epoch 6/20\n",
      "239/239 [==============================] - 3s 11ms/step - loss: 15.3467 - mean_absolute_error: 28.3600 - val_loss: 18.4049 - val_mean_absolute_error: 31.9535\n",
      "Epoch 7/20\n",
      "239/239 [==============================] - 3s 12ms/step - loss: 15.2798 - mean_absolute_error: 28.3950 - val_loss: 19.9804 - val_mean_absolute_error: 36.6030\n",
      "Epoch 8/20\n",
      "239/239 [==============================] - 3s 11ms/step - loss: 14.6892 - mean_absolute_error: 27.4226 - val_loss: 21.7345 - val_mean_absolute_error: 32.9079\n",
      "Epoch 9/20\n",
      "239/239 [==============================] - 3s 12ms/step - loss: 14.7143 - mean_absolute_error: 27.4117 - val_loss: 17.8361 - val_mean_absolute_error: 29.7122\n",
      "Epoch 10/20\n",
      "239/239 [==============================] - 3s 12ms/step - loss: 13.9911 - mean_absolute_error: 26.3184 - val_loss: 18.0258 - val_mean_absolute_error: 31.1668\n",
      "Epoch 11/20\n",
      "239/239 [==============================] - 3s 12ms/step - loss: 13.2928 - mean_absolute_error: 24.8769 - val_loss: 19.5783 - val_mean_absolute_error: 30.4287\n",
      "Epoch 12/20\n",
      "239/239 [==============================] - 3s 12ms/step - loss: 12.8384 - mean_absolute_error: 24.1855 - val_loss: 18.2180 - val_mean_absolute_error: 29.4576\n",
      "Epoch 13/20\n",
      "239/239 [==============================] - 3s 12ms/step - loss: 12.6824 - mean_absolute_error: 24.0369 - val_loss: 17.9646 - val_mean_absolute_error: 29.4485\n",
      "Epoch 14/20\n",
      "239/239 [==============================] - 3s 12ms/step - loss: 12.1656 - mean_absolute_error: 23.1621 - val_loss: 18.9026 - val_mean_absolute_error: 33.3823\n",
      "Epoch 15/20\n",
      "239/239 [==============================] - 3s 12ms/step - loss: 11.7299 - mean_absolute_error: 22.1943 - val_loss: 18.2529 - val_mean_absolute_error: 29.4834\n",
      "Epoch 16/20\n",
      "239/239 [==============================] - 3s 12ms/step - loss: 11.5517 - mean_absolute_error: 22.2003 - val_loss: 18.3875 - val_mean_absolute_error: 31.5278\n",
      "Epoch 17/20\n",
      "239/239 [==============================] - 3s 12ms/step - loss: 10.9767 - mean_absolute_error: 21.0552 - val_loss: 20.0098 - val_mean_absolute_error: 36.4459\n",
      "Epoch 18/20\n",
      "239/239 [==============================] - 3s 12ms/step - loss: 10.9946 - mean_absolute_error: 21.3586 - val_loss: 18.7152 - val_mean_absolute_error: 29.3700\n",
      "Epoch 19/20\n",
      "239/239 [==============================] - 3s 12ms/step - loss: 10.3486 - mean_absolute_error: 19.8171 - val_loss: 18.5941 - val_mean_absolute_error: 29.5959\n",
      "Epoch 20/20\n",
      "239/239 [==============================] - 3s 12ms/step - loss: 10.2382 - mean_absolute_error: 19.7870 - val_loss: 18.9910 - val_mean_absolute_error: 29.6416\n"
     ]
    }
   ],
   "source": [
    "# needed to get rid of some warnings\n",
    "tf.keras.backend.set_floatx('float64')\n",
    "\n",
    "# initializing the normalization layer \n",
    "normalizer = preprocessing.Normalization(input_shape=[shuffled_data.shape[1]])\n",
    "normalizer.adapt(np.array(shuffled_data))\n",
    "# creation of the model\n",
    "model = tf.keras.models.Sequential([\n",
    "    tf.keras.layers.Input(shape=shuffled_data.shape[1]),\n",
    "    normalizer,\n",
    "    tf.keras.layers.Dense(802, activation=\"relu\"),\n",
    "    tf.keras.layers.Dense(382, activation=\"relu\"), \n",
    "    #tf.keras.layers.Dropout(dropout),\n",
    "    tf.keras.layers.Dense(926, activation=\"relu\"),\n",
    "    #tf.keras.layers.Dropout(dropout),\n",
    "    tf.keras.layers.Dense(990, activation=\"relu\"),\n",
    "    #tf.keras.layers.Dropout(dropout),\n",
    "    tf.keras.layers.Dense(510, activation=\"relu\"),\n",
    "    tf.keras.layers.Dense(798, activation=\"relu\"),\n",
    "    #tf.keras.layers.Dropout(dropout),\n",
    "    # last layer needs to have linear activation function because we solve a regression problem\n",
    "    tf.keras.layers.Dense(1, activation=\"linear\")\n",
    "])\n",
    "\n",
    "adam = tf.keras.optimizers.Adam(lr=0.001)\n",
    "# loss function can be changed to another loss function fitting for regression\n",
    "# mse = mean squared error\n",
    "model.compile(optimizer=adam, loss='mean_absolute_percentage_error', metrics=[\"mean_absolute_error\"])\n",
    "\n",
    "# specify steps per epoch for faster convergence and lower training time\n",
    "# Check other possible parameters like batch size ...\n",
    "history = model.fit(X_train,y_train, epochs=20, validation_split=0.2)"
   ]
  },
  {
   "cell_type": "markdown",
   "metadata": {
    "id": "wpAJnXtwpHAj"
   },
   "source": [
    "### Results\n",
    "In the following section the results for one specific solution followed up with results for different input Data"
   ]
  },
  {
   "cell_type": "code",
   "execution_count": null,
   "metadata": {
    "id": "RSDkd5PhpHAk"
   },
   "outputs": [],
   "source": [
    "# function that plots train and validation loss\n",
    "def plot_loss(history):\n",
    "    plt.plot(history.history['loss'], label='loss')\n",
    "    plt.plot(history.history['val_loss'], label='val_loss')\n",
    "    plt.ylim([0, 120])\n",
    "    plt.xlabel('Epoch')\n",
    "    plt.ylabel('Error [Sales]')\n",
    "    plt.legend()\n",
    "    plt.grid(True)\n",
    "\n",
    "# function that plots a number (dist) of samples and how the prediction of the model is accordning to the correct data\n",
    "def plot_prediction(pred_data, correct_data, dist):\n",
    "    plt.plot(pred_data[:dist], label='prediction')\n",
    "    plt.plot(correct_data[:dist], label='actual data')\n",
    "    plt.ylim([0, 600])\n",
    "    plt.xlabel('Datapoint')\n",
    "    plt.ylabel('Sales')\n",
    "    plt.legend()\n",
    "    plt.grid(True)"
   ]
  },
  {
   "cell_type": "code",
   "execution_count": null,
   "metadata": {
    "id": "XQWdTRvgpHAk",
    "outputId": "4bd4e99b-ac22-42f8-8b10-adea239fcfbd"
   },
   "outputs": [
    {
     "name": "stdout",
     "output_type": "stream",
     "text": [
      "0.8989100155541629\n"
     ]
    },
    {
     "data": {
      "image/png": "[encoded data removed]",
      "text/plain": [
       "<Figure size 432x288 with 1 Axes>"
      ]
     },
     "metadata": {
      "needs_background": "light",
      "tags": []
     },
     "output_type": "display_data"
    }
   ],
   "source": [
    "# plot train and validation loss\n",
    "plot_loss(history)\n",
    "\n",
    "predictions = model.predict(X_Test)\n",
    "\n",
    "# variance score of the data\n",
    "from sklearn.metrics import explained_variance_score\n",
    "print(explained_variance_score(y_test, predictions))"
   ]
  },
  {
   "cell_type": "code",
   "execution_count": null,
   "metadata": {
    "id": "lstCwrctpHAl",
    "outputId": "0d7c4a28-62ee-4737-c7ea-c2b72187e1c1"
   },
   "outputs": [
    {
     "name": "stdout",
     "output_type": "stream",
     "text": [
      "34/34 [==============================] - 0s 4ms/step - loss: 18.0765 - mean_absolute_error: 29.5586\n"
     ]
    },
    {
     "data": {
      "image/png": "[encoded data removed]",
      "text/plain": [
       "<Figure size 432x288 with 1 Axes>"
      ]
     },
     "metadata": {
      "needs_background": "light",
      "tags": []
     },
     "output_type": "display_data"
    }
   ],
   "source": [
    "# plot prediction and correct data\n",
    "eval_model = model.evaluate(X_Test, y_test) \n",
    "plot_prediction(predictions, np.array(y_test), 50)"
   ]
  },
  {
   "cell_type": "code",
   "execution_count": null,
   "metadata": {
    "id": "JCa4-AgWpHAl",
    "outputId": "09af419f-0ac7-4db9-e2b3-6b9251c14ed9"
   },
   "outputs": [
    {
     "data": {
      "text/html": [
       "<div>\n",
       "<style scoped>\n",
       "    .dataframe tbody tr th:only-of-type {\n",
       "        vertical-align: middle;\n",
       "    }\n",
       "\n",
       "    .dataframe tbody tr th {\n",
       "        vertical-align: top;\n",
       "    }\n",
       "\n",
       "    .dataframe thead th {\n",
       "        text-align: right;\n",
       "    }\n",
       "</style>\n",
       "<table border=\"1\" class=\"dataframe\">\n",
       "  <thead>\n",
       "    <tr style=\"text-align: right;\">\n",
       "      <th></th>\n",
       "      <th>Year</th>\n",
       "      <th>Cloudiness</th>\n",
       "      <th>Temperature</th>\n",
       "      <th>Wind Speed</th>\n",
       "      <th>Month_1</th>\n",
       "      <th>Month_2</th>\n",
       "      <th>Month_3</th>\n",
       "      <th>Month_4</th>\n",
       "      <th>Month_5</th>\n",
       "      <th>Month_6</th>\n",
       "      <th>...</th>\n",
       "      <th>Day_23</th>\n",
       "      <th>Day_24</th>\n",
       "      <th>Day_25</th>\n",
       "      <th>Day_26</th>\n",
       "      <th>Day_27</th>\n",
       "      <th>Day_28</th>\n",
       "      <th>Day_29</th>\n",
       "      <th>Day_30</th>\n",
       "      <th>Day_31</th>\n",
       "      <th>Error</th>\n",
       "    </tr>\n",
       "  </thead>\n",
       "  <tbody>\n",
       "    <tr>\n",
       "      <td>9743</td>\n",
       "      <td>2018</td>\n",
       "      <td>7.0</td>\n",
       "      <td>8.5375</td>\n",
       "      <td>5</td>\n",
       "      <td>0</td>\n",
       "      <td>0</td>\n",
       "      <td>0</td>\n",
       "      <td>0</td>\n",
       "      <td>0</td>\n",
       "      <td>0</td>\n",
       "      <td>...</td>\n",
       "      <td>0</td>\n",
       "      <td>0</td>\n",
       "      <td>0</td>\n",
       "      <td>0</td>\n",
       "      <td>0</td>\n",
       "      <td>0</td>\n",
       "      <td>0</td>\n",
       "      <td>0</td>\n",
       "      <td>0</td>\n",
       "      <td>0.058231</td>\n",
       "    </tr>\n",
       "    <tr>\n",
       "      <td>7984</td>\n",
       "      <td>2017</td>\n",
       "      <td>7.0</td>\n",
       "      <td>7.5375</td>\n",
       "      <td>16</td>\n",
       "      <td>0</td>\n",
       "      <td>0</td>\n",
       "      <td>0</td>\n",
       "      <td>0</td>\n",
       "      <td>0</td>\n",
       "      <td>0</td>\n",
       "      <td>...</td>\n",
       "      <td>0</td>\n",
       "      <td>0</td>\n",
       "      <td>0</td>\n",
       "      <td>0</td>\n",
       "      <td>0</td>\n",
       "      <td>0</td>\n",
       "      <td>0</td>\n",
       "      <td>0</td>\n",
       "      <td>0</td>\n",
       "      <td>0.133908</td>\n",
       "    </tr>\n",
       "    <tr>\n",
       "      <td>5302</td>\n",
       "      <td>2016</td>\n",
       "      <td>5.0</td>\n",
       "      <td>16.7500</td>\n",
       "      <td>7</td>\n",
       "      <td>0</td>\n",
       "      <td>0</td>\n",
       "      <td>0</td>\n",
       "      <td>0</td>\n",
       "      <td>1</td>\n",
       "      <td>0</td>\n",
       "      <td>...</td>\n",
       "      <td>0</td>\n",
       "      <td>0</td>\n",
       "      <td>0</td>\n",
       "      <td>0</td>\n",
       "      <td>0</td>\n",
       "      <td>0</td>\n",
       "      <td>0</td>\n",
       "      <td>0</td>\n",
       "      <td>0</td>\n",
       "      <td>0.174357</td>\n",
       "    </tr>\n",
       "    <tr>\n",
       "      <td>4186</td>\n",
       "      <td>2015</td>\n",
       "      <td>7.0</td>\n",
       "      <td>7.7500</td>\n",
       "      <td>10</td>\n",
       "      <td>0</td>\n",
       "      <td>0</td>\n",
       "      <td>0</td>\n",
       "      <td>0</td>\n",
       "      <td>0</td>\n",
       "      <td>0</td>\n",
       "      <td>...</td>\n",
       "      <td>0</td>\n",
       "      <td>0</td>\n",
       "      <td>0</td>\n",
       "      <td>0</td>\n",
       "      <td>0</td>\n",
       "      <td>0</td>\n",
       "      <td>0</td>\n",
       "      <td>0</td>\n",
       "      <td>0</td>\n",
       "      <td>0.192926</td>\n",
       "    </tr>\n",
       "    <tr>\n",
       "      <td>9552</td>\n",
       "      <td>2018</td>\n",
       "      <td>2.0</td>\n",
       "      <td>11.2875</td>\n",
       "      <td>17</td>\n",
       "      <td>0</td>\n",
       "      <td>0</td>\n",
       "      <td>0</td>\n",
       "      <td>0</td>\n",
       "      <td>0</td>\n",
       "      <td>0</td>\n",
       "      <td>...</td>\n",
       "      <td>0</td>\n",
       "      <td>1</td>\n",
       "      <td>0</td>\n",
       "      <td>0</td>\n",
       "      <td>0</td>\n",
       "      <td>0</td>\n",
       "      <td>0</td>\n",
       "      <td>0</td>\n",
       "      <td>0</td>\n",
       "      <td>0.195164</td>\n",
       "    </tr>\n",
       "    <tr>\n",
       "      <td>...</td>\n",
       "      <td>...</td>\n",
       "      <td>...</td>\n",
       "      <td>...</td>\n",
       "      <td>...</td>\n",
       "      <td>...</td>\n",
       "      <td>...</td>\n",
       "      <td>...</td>\n",
       "      <td>...</td>\n",
       "      <td>...</td>\n",
       "      <td>...</td>\n",
       "      <td>...</td>\n",
       "      <td>...</td>\n",
       "      <td>...</td>\n",
       "      <td>...</td>\n",
       "      <td>...</td>\n",
       "      <td>...</td>\n",
       "      <td>...</td>\n",
       "      <td>...</td>\n",
       "      <td>...</td>\n",
       "      <td>...</td>\n",
       "      <td>...</td>\n",
       "    </tr>\n",
       "    <tr>\n",
       "      <td>1670</td>\n",
       "      <td>2014</td>\n",
       "      <td>4.0</td>\n",
       "      <td>12.7000</td>\n",
       "      <td>14</td>\n",
       "      <td>0</td>\n",
       "      <td>0</td>\n",
       "      <td>0</td>\n",
       "      <td>0</td>\n",
       "      <td>1</td>\n",
       "      <td>0</td>\n",
       "      <td>...</td>\n",
       "      <td>0</td>\n",
       "      <td>0</td>\n",
       "      <td>0</td>\n",
       "      <td>0</td>\n",
       "      <td>0</td>\n",
       "      <td>0</td>\n",
       "      <td>1</td>\n",
       "      <td>0</td>\n",
       "      <td>0</td>\n",
       "      <td>141.555995</td>\n",
       "    </tr>\n",
       "    <tr>\n",
       "      <td>6963</td>\n",
       "      <td>2017</td>\n",
       "      <td>7.0</td>\n",
       "      <td>6.8750</td>\n",
       "      <td>7</td>\n",
       "      <td>0</td>\n",
       "      <td>0</td>\n",
       "      <td>0</td>\n",
       "      <td>1</td>\n",
       "      <td>0</td>\n",
       "      <td>0</td>\n",
       "      <td>...</td>\n",
       "      <td>0</td>\n",
       "      <td>0</td>\n",
       "      <td>0</td>\n",
       "      <td>0</td>\n",
       "      <td>0</td>\n",
       "      <td>0</td>\n",
       "      <td>0</td>\n",
       "      <td>0</td>\n",
       "      <td>0</td>\n",
       "      <td>152.488296</td>\n",
       "    </tr>\n",
       "    <tr>\n",
       "      <td>4878</td>\n",
       "      <td>2016</td>\n",
       "      <td>7.0</td>\n",
       "      <td>6.8750</td>\n",
       "      <td>12</td>\n",
       "      <td>0</td>\n",
       "      <td>1</td>\n",
       "      <td>0</td>\n",
       "      <td>0</td>\n",
       "      <td>0</td>\n",
       "      <td>0</td>\n",
       "      <td>...</td>\n",
       "      <td>0</td>\n",
       "      <td>0</td>\n",
       "      <td>0</td>\n",
       "      <td>0</td>\n",
       "      <td>0</td>\n",
       "      <td>0</td>\n",
       "      <td>0</td>\n",
       "      <td>0</td>\n",
       "      <td>0</td>\n",
       "      <td>157.376935</td>\n",
       "    </tr>\n",
       "    <tr>\n",
       "      <td>1479</td>\n",
       "      <td>2014</td>\n",
       "      <td>5.0</td>\n",
       "      <td>14.4000</td>\n",
       "      <td>14</td>\n",
       "      <td>0</td>\n",
       "      <td>0</td>\n",
       "      <td>0</td>\n",
       "      <td>1</td>\n",
       "      <td>0</td>\n",
       "      <td>0</td>\n",
       "      <td>...</td>\n",
       "      <td>0</td>\n",
       "      <td>0</td>\n",
       "      <td>0</td>\n",
       "      <td>0</td>\n",
       "      <td>0</td>\n",
       "      <td>0</td>\n",
       "      <td>0</td>\n",
       "      <td>0</td>\n",
       "      <td>0</td>\n",
       "      <td>168.305666</td>\n",
       "    </tr>\n",
       "    <tr>\n",
       "      <td>3485</td>\n",
       "      <td>2015</td>\n",
       "      <td>7.0</td>\n",
       "      <td>11.7500</td>\n",
       "      <td>10</td>\n",
       "      <td>0</td>\n",
       "      <td>0</td>\n",
       "      <td>0</td>\n",
       "      <td>0</td>\n",
       "      <td>1</td>\n",
       "      <td>0</td>\n",
       "      <td>...</td>\n",
       "      <td>0</td>\n",
       "      <td>0</td>\n",
       "      <td>1</td>\n",
       "      <td>0</td>\n",
       "      <td>0</td>\n",
       "      <td>0</td>\n",
       "      <td>0</td>\n",
       "      <td>0</td>\n",
       "      <td>0</td>\n",
       "      <td>210.110513</td>\n",
       "    </tr>\n",
       "  </tbody>\n",
       "</table>\n",
       "<p>1060 rows × 61 columns</p>\n",
       "</div>"
      ],
      "text/plain": [
       "      Year  Cloudiness  Temperature  Wind Speed  Month_1  Month_2  Month_3  \\\n",
       "9743  2018         7.0       8.5375           5        0        0        0   \n",
       "7984  2017         7.0       7.5375          16        0        0        0   \n",
       "5302  2016         5.0      16.7500           7        0        0        0   \n",
       "4186  2015         7.0       7.7500          10        0        0        0   \n",
       "9552  2018         2.0      11.2875          17        0        0        0   \n",
       "...    ...         ...          ...         ...      ...      ...      ...   \n",
       "1670  2014         4.0      12.7000          14        0        0        0   \n",
       "6963  2017         7.0       6.8750           7        0        0        0   \n",
       "4878  2016         7.0       6.8750          12        0        1        0   \n",
       "1479  2014         5.0      14.4000          14        0        0        0   \n",
       "3485  2015         7.0      11.7500          10        0        0        0   \n",
       "\n",
       "      Month_4  Month_5  Month_6  ...  Day_23  Day_24  Day_25  Day_26  Day_27  \\\n",
       "9743        0        0        0  ...       0       0       0       0       0   \n",
       "7984        0        0        0  ...       0       0       0       0       0   \n",
       "5302        0        1        0  ...       0       0       0       0       0   \n",
       "4186        0        0        0  ...       0       0       0       0       0   \n",
       "9552        0        0        0  ...       0       1       0       0       0   \n",
       "...       ...      ...      ...  ...     ...     ...     ...     ...     ...   \n",
       "1670        0        1        0  ...       0       0       0       0       0   \n",
       "6963        1        0        0  ...       0       0       0       0       0   \n",
       "4878        0        0        0  ...       0       0       0       0       0   \n",
       "1479        1        0        0  ...       0       0       0       0       0   \n",
       "3485        0        1        0  ...       0       0       1       0       0   \n",
       "\n",
       "      Day_28  Day_29  Day_30  Day_31       Error  \n",
       "9743       0       0       0       0    0.058231  \n",
       "7984       0       0       0       0    0.133908  \n",
       "5302       0       0       0       0    0.174357  \n",
       "4186       0       0       0       0    0.192926  \n",
       "9552       0       0       0       0    0.195164  \n",
       "...      ...     ...     ...     ...         ...  \n",
       "1670       0       1       0       0  141.555995  \n",
       "6963       0       0       0       0  152.488296  \n",
       "4878       0       0       0       0  157.376935  \n",
       "1479       0       0       0       0  168.305666  \n",
       "3485       0       0       0       0  210.110513  \n",
       "\n",
       "[1060 rows x 61 columns]"
      ]
     },
     "execution_count": 86,
     "metadata": {
      "tags": []
     },
     "output_type": "execute_result"
    }
   ],
   "source": [
    "### Error Analysis\n",
    "# compute the error in sales and merge it again with it features\n",
    "error = np.abs(np.array(y_test) - predictions)\n",
    "error_data = X_Test.copy()\n",
    "error_data[\"Error\"] = error\n",
    "# sort the data according to Error values\n",
    "error_data.sort_values(\"Error\")"
   ]
  },
  {
   "cell_type": "markdown",
   "metadata": {
    "id": "gNnX6JsupHAm"
   },
   "source": [
    "### Results for Different Input Data\n",
    "We tested the model with different input data to check the performance and the quality of different feautres. THese are summarized in the following table. \n",
    "The values for the results are taken from the evalutation on the test set.\n",
    "\n",
    "| Features           | Best Result (%)   | Worst Result (%)    |\n",
    "| ------------------ | ----------------- | ------------------- |\n",
    "| Only Time          | 16.93             | 18.21               |\n",
    "| Only Wheater       | 21.73             | 23.49               |\n",
    "| Time and Wheater   | 15.97             | 17.62               |\n",
    "\n",
    "We used early stopping with a value of 16. This had only an effect on the time and wheater data version.\n",
    "\n",
    "### Weekly Predictions\n",
    "Unfortunaly we had not enough time to try out this approach but maybe this would be also a valid option with less noise."
   ]
  },
  {
   "cell_type": "markdown",
   "metadata": {
    "id": "z9ki3Ij9pHAm"
   },
   "source": [
    "### Outlook\n",
    "\n",
    "#### 1. Change Labels from Sales to Numbers of Articles sold\n",
    "The sales values are influenced with from discounts and special offers and therefore introduce an initial bias which can't be corrected without additional information. Therefore predicting the number of sold articles would be much more precise and probably also better suited for practical purposes."
   ]
  },
  {
   "cell_type": "code",
   "execution_count": null,
   "metadata": {
    "id": "rFUm4dUppHAn"
   },
   "outputs": [],
   "source": []
  }
 ],
 "metadata": {
  "colab": {
   "collapsed_sections": [],
   "name": "Bakery-Sales_Project_updated.ipynb",
   "provenance": []
  },
  "kernelspec": {
   "display_name": "Python 3",
   "language": "python",
   "name": "python3"
  },
  "language_info": {
   "codemirror_mode": {
    "name": "ipython",
    "version": 3
   },
   "file_extension": ".py",
   "mimetype": "text/x-python",
   "name": "python",
   "nbconvert_exporter": "python",
   "pygments_lexer": "ipython3",
   "version": "3.7.4"
  }
 },
 "nbformat": 4,
 "nbformat_minor": 1
}
