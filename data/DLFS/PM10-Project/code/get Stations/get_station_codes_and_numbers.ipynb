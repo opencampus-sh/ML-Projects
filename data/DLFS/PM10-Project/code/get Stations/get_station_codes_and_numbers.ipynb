{
 "cells": [
  {
   "cell_type": "code",
   "execution_count": null,
   "metadata": {},
   "outputs": [],
   "source": [
    "import requests\n",
    "from time import sleep\n",
    "import csv"
   ]
  },
  {
   "cell_type": "markdown",
   "metadata": {},
   "source": [
    "Beispielcode zum Abruf aus der Datenbank des bundesumweltamtes:\n",
    "\"https://www.umweltbundesamt.de/api/air_data/v2/measures/csv?data[0][st]=1584&data[0][co]=1&data[0][sc]=1&date_from=2017-01-01&time_from=1&date_to=2017-01-02&time_to=24&lang=de\""
   ]
  },
  {
   "cell_type": "code",
   "execution_count": null,
   "metadata": {},
   "outputs": [],
   "source": [
    "fn1 = \"https://www.umweltbundesamt.de/api/air_data/v2/measures/csv?data[0][st]=\"\n",
    "fn2 = \"&data[0][co]=1&data[0][sc]=1&date_from=2017-01-01&time_from=1&date_to=2017-01-01&time_to=24&lang=de\""
   ]
  },
  {
   "cell_type": "code",
   "execution_count": null,
   "metadata": {},
   "outputs": [],
   "source": [
    "# get station number and station code for all stations\n",
    "liste = []\n",
    "\n",
    "for i in range(0,2000,100):\n",
    "    \n",
    "    for j in range(i, i+100,10):\n",
    "        \n",
    "        for k in range(j, j+10):\n",
    "            fname = fn1 + \"{}\".format(k)+fn2\n",
    "            #print(fname)\n",
    "            # Define the remote file to retrieve\n",
    "            remote_url = fname\n",
    "            # Define the local filename to save data\n",
    "            local_file = 'local_copy.txt'\n",
    "            # Make http request for remote file data\n",
    "            data = requests.get(remote_url)\n",
    "            z = str(data.content).split(\";\")\n",
    "            if (len(z)) > 11:\n",
    "                liste.append([k, z[11],z[12]])\n",
    "                print(k, z[11], z[12])\n",
    "                \n",
    "        # after 10 requests wait for 20 seconds, avoid overload on web site\n",
    "        sleep(20)\n",
    "        \n",
    "    # after 100 requests wait for 120 seconds, avoid overload on web site\n",
    "    sleep(20)\n",
    "    \n",
    "print(\"***  FERTIG  ***   FERTIG  ***  FERTIG  ***   FERTIG  ***  FERTIG  ***   FERTIG  ***\")"
   ]
  },
  {
   "cell_type": "code",
   "execution_count": null,
   "metadata": {},
   "outputs": [],
   "source": [
    "len(liste)"
   ]
  },
  {
   "cell_type": "code",
   "execution_count": null,
   "metadata": {},
   "outputs": [],
   "source": [
    "# ersetze Umlaute und Anführungszeichen in der Liste\n",
    "for i in range(0, len(liste)):\n",
    "    liste[i][2] = liste[i][2].replace('\\\"', '')\n",
    "    liste[i][2] = liste[i][2].replace(\"\\\\xc3\\\\xbc\",\"ü\").replace(\"\\\\xc3\\\\xb6\",\"ö\").replace(\"\\\\xc3\\\\x9f\",\"ß\").replace(\"\\\\xc3\\\\xa4\",\"ä\")"
   ]
  },
  {
   "cell_type": "code",
   "execution_count": null,
   "metadata": {},
   "outputs": [],
   "source": [
    "# save the list in a csv file\n",
    "with open('Liste _Messstationen.csv', 'w', newline='') as datei:\n",
    "    writer = csv.writer(datei, delimiter=';')\n",
    "    \n",
    "    for i in range(0, len(liste)):\n",
    "        writer.writerow(liste[i])   "
   ]
  },
  {
   "cell_type": "code",
   "execution_count": null,
   "metadata": {},
   "outputs": [],
   "source": [
    "#check if any weired signs are still in the list\n",
    "for i in range(0, len(liste)):\n",
    "    if liste[i][2].find(\"\\\\x\") > -1:\n",
    "        print(liste[i][2])"
   ]
  }
 ],
 "metadata": {
  "kernelspec": {
   "display_name": "Python 3",
   "language": "python",
   "name": "python3"
  },
  "language_info": {
   "codemirror_mode": {
    "name": "ipython",
    "version": 3
   },
   "file_extension": ".py",
   "mimetype": "text/x-python",
   "name": "python",
   "nbconvert_exporter": "python",
   "pygments_lexer": "ipython3",
   "version": "3.7.3"
  }
 },
 "nbformat": 4,
 "nbformat_minor": 2
}
