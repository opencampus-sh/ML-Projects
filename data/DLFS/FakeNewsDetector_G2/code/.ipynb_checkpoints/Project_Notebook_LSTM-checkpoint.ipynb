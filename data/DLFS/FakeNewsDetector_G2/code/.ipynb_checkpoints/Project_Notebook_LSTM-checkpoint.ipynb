{
 "cells": [
  {
   "cell_type": "markdown",
   "metadata": {},
   "source": [
    "---\n",
    "## Note from the Teachers:\n",
    "We added a header with information about your project. \n",
    "This is useful since we want to keep a database of all the cool projects participants have made during the courses.\n",
    "We will save the code in our database and host on github a page to show all the projects. Therefore it is more practical to add some information in the header of each notebook.\n",
    "Thanks a lot for the understanding and for taking care of it.\n",
    "\n",
    "You can delete this cell if you want\n",
    "\n",
    "---"
   ]
  },
  {
   "cell_type": "markdown",
   "metadata": {},
   "source": [
    "# Fake News Detection\n",
    "This project uses a Fake and real news dataset from the Kaggle.  We implement a Feed Forward Neural Network and a LSTM techniques using TensorFlow to find the desired output for the project."
   ]
  },
  {
   "cell_type": "markdown",
   "metadata": {},
   "source": [
    "### Project Repo \n",
    "https://github.com/nayemmajhar/fake-news-detection"
   ]
  },
  {
   "cell_type": "markdown",
   "metadata": {},
   "source": [
    "## Participants: Farjana Islam, Junaid Abbas Mohammed, Md Majharul Islam Nayem\n",
    "Please list here all the participants alongside with any information you may want to be visible. This will be hosted on a opencampus.sh repository, so if you want to keep a connection to your github user include this information here. "
   ]
  },
  {
   "cell_type": "markdown",
   "metadata": {},
   "source": [
    "### Course and Semester: Deep Learning from Scratch and SoSe2021\n",
    "Add here in which course and in which semester it was done."
   ]
  },
  {
   "cell_type": "markdown",
   "metadata": {},
   "source": [
    "### License: GNU General Public License v3.0\n",
    "If you are releasing the software under some certain license, you can mention it and also include the `LICENSE.md` file in the folder\n",
    "\n",
    "---"
   ]
  },
  {
   "cell_type": "code",
   "execution_count": 1,
   "metadata": {},
   "outputs": [],
   "source": [
    "import os\n",
    "os.environ['TF_CPP_MIN_LOG_LEVEL'] = '2'\n",
    "\n",
    "import tensorflow as tf\n",
    "from tensorflow import keras\n",
    "from tensorflow.keras import layers\n",
    "from sklearn.model_selection import train_test_split\n",
    "import numpy as np\n",
    "import pandas as pd\n",
    "import tensorflow as tf\n",
    "import string\n",
    "from nltk.tokenize import word_tokenize\n",
    "from tensorflow.keras.preprocessing.text import one_hot\n",
    "from tensorflow.keras.layers import Embedding, Dropout\n",
    "from tensorflow.keras.preprocessing.sequence import pad_sequences\n",
    "import matplotlib.pyplot as plt\n"
   ]
  },
  {
   "cell_type": "code",
   "execution_count": 2,
   "metadata": {},
   "outputs": [
    {
     "name": "stderr",
     "output_type": "stream",
     "text": [
      "[nltk_data] Downloading package stopwords to\n",
      "[nltk_data]     C:\\Users\\Home\\AppData\\Roaming\\nltk_data...\n",
      "[nltk_data]   Package stopwords is already up-to-date!\n",
      "[nltk_data] Downloading package wordnet to\n",
      "[nltk_data]     C:\\Users\\Home\\AppData\\Roaming\\nltk_data...\n",
      "[nltk_data]   Package wordnet is already up-to-date!\n"
     ]
    },
    {
     "data": {
      "text/plain": [
       "True"
      ]
     },
     "execution_count": 2,
     "metadata": {},
     "output_type": "execute_result"
    }
   ],
   "source": [
    "import nltk\n",
    "import re\n",
    "nltk.download('stopwords')\n",
    "nltk.download('wordnet')"
   ]
  },
  {
   "cell_type": "code",
   "execution_count": 3,
   "metadata": {},
   "outputs": [],
   "source": [
    "# list of stopwords for english\n",
    "stopwords = nltk.corpus.stopwords.words(\"english\")\n",
    "corpus=[]"
   ]
  },
  {
   "cell_type": "code",
   "execution_count": 4,
   "metadata": {},
   "outputs": [],
   "source": [
    "# physical_devices = tf.config.list_physical_devices('GPU')\n",
    "# try:\n",
    "#   tf.config.experimental.set_memory_growth(physical_devices[0], True)\n",
    "# except:\n",
    "#   # Invalid device or cannot modify virtual devices once initialized.\n",
    "#   pass"
   ]
  },
  {
   "cell_type": "code",
   "execution_count": 5,
   "metadata": {},
   "outputs": [
    {
     "data": {
      "text/html": [
       "<div>\n",
       "<style scoped>\n",
       "    .dataframe tbody tr th:only-of-type {\n",
       "        vertical-align: middle;\n",
       "    }\n",
       "\n",
       "    .dataframe tbody tr th {\n",
       "        vertical-align: top;\n",
       "    }\n",
       "\n",
       "    .dataframe thead th {\n",
       "        text-align: right;\n",
       "    }\n",
       "</style>\n",
       "<table border=\"1\" class=\"dataframe\">\n",
       "  <thead>\n",
       "    <tr style=\"text-align: right;\">\n",
       "      <th></th>\n",
       "      <th>title</th>\n",
       "      <th>text</th>\n",
       "      <th>subject</th>\n",
       "      <th>date</th>\n",
       "    </tr>\n",
       "  </thead>\n",
       "  <tbody>\n",
       "    <tr>\n",
       "      <th>0</th>\n",
       "      <td>Donald Trump Sends Out Embarrassing New Year’...</td>\n",
       "      <td>Donald Trump just couldn t wish all Americans ...</td>\n",
       "      <td>News</td>\n",
       "      <td>December 31, 2017</td>\n",
       "    </tr>\n",
       "    <tr>\n",
       "      <th>1</th>\n",
       "      <td>Drunk Bragging Trump Staffer Started Russian ...</td>\n",
       "      <td>House Intelligence Committee Chairman Devin Nu...</td>\n",
       "      <td>News</td>\n",
       "      <td>December 31, 2017</td>\n",
       "    </tr>\n",
       "    <tr>\n",
       "      <th>2</th>\n",
       "      <td>Sheriff David Clarke Becomes An Internet Joke...</td>\n",
       "      <td>On Friday, it was revealed that former Milwauk...</td>\n",
       "      <td>News</td>\n",
       "      <td>December 30, 2017</td>\n",
       "    </tr>\n",
       "    <tr>\n",
       "      <th>3</th>\n",
       "      <td>Trump Is So Obsessed He Even Has Obama’s Name...</td>\n",
       "      <td>On Christmas day, Donald Trump announced that ...</td>\n",
       "      <td>News</td>\n",
       "      <td>December 29, 2017</td>\n",
       "    </tr>\n",
       "    <tr>\n",
       "      <th>4</th>\n",
       "      <td>Pope Francis Just Called Out Donald Trump Dur...</td>\n",
       "      <td>Pope Francis used his annual Christmas Day mes...</td>\n",
       "      <td>News</td>\n",
       "      <td>December 25, 2017</td>\n",
       "    </tr>\n",
       "  </tbody>\n",
       "</table>\n",
       "</div>"
      ],
      "text/plain": [
       "                                               title  \\\n",
       "0   Donald Trump Sends Out Embarrassing New Year’...   \n",
       "1   Drunk Bragging Trump Staffer Started Russian ...   \n",
       "2   Sheriff David Clarke Becomes An Internet Joke...   \n",
       "3   Trump Is So Obsessed He Even Has Obama’s Name...   \n",
       "4   Pope Francis Just Called Out Donald Trump Dur...   \n",
       "\n",
       "                                                text subject  \\\n",
       "0  Donald Trump just couldn t wish all Americans ...    News   \n",
       "1  House Intelligence Committee Chairman Devin Nu...    News   \n",
       "2  On Friday, it was revealed that former Milwauk...    News   \n",
       "3  On Christmas day, Donald Trump announced that ...    News   \n",
       "4  Pope Francis used his annual Christmas Day mes...    News   \n",
       "\n",
       "                date  \n",
       "0  December 31, 2017  \n",
       "1  December 31, 2017  \n",
       "2  December 30, 2017  \n",
       "3  December 29, 2017  \n",
       "4  December 25, 2017  "
      ]
     },
     "execution_count": 5,
     "metadata": {},
     "output_type": "execute_result"
    }
   ],
   "source": [
    "fake_news = pd.read_csv('./data/Fake.csv')\n",
    "true_news = pd.read_csv('./data/True.csv')\n",
    "\n",
    "fake_news.head()"
   ]
  },
  {
   "cell_type": "code",
   "execution_count": 6,
   "metadata": {},
   "outputs": [
    {
     "data": {
      "text/html": [
       "<div>\n",
       "<style scoped>\n",
       "    .dataframe tbody tr th:only-of-type {\n",
       "        vertical-align: middle;\n",
       "    }\n",
       "\n",
       "    .dataframe tbody tr th {\n",
       "        vertical-align: top;\n",
       "    }\n",
       "\n",
       "    .dataframe thead th {\n",
       "        text-align: right;\n",
       "    }\n",
       "</style>\n",
       "<table border=\"1\" class=\"dataframe\">\n",
       "  <thead>\n",
       "    <tr style=\"text-align: right;\">\n",
       "      <th></th>\n",
       "      <th>title</th>\n",
       "      <th>text</th>\n",
       "      <th>date</th>\n",
       "      <th>label</th>\n",
       "    </tr>\n",
       "  </thead>\n",
       "  <tbody>\n",
       "    <tr>\n",
       "      <th>0</th>\n",
       "      <td>Putin says Democrats wrongly trying to blame o...</td>\n",
       "      <td>Putin says Democrats wrongly trying to blame o...</td>\n",
       "      <td>December 23, 2016</td>\n",
       "      <td>1</td>\n",
       "    </tr>\n",
       "    <tr>\n",
       "      <th>1</th>\n",
       "      <td>France criticizes U.S. travel ban on Chadian a...</td>\n",
       "      <td>France criticizes U.S. travel ban on Chadian a...</td>\n",
       "      <td>September 27, 2017</td>\n",
       "      <td>1</td>\n",
       "    </tr>\n",
       "    <tr>\n",
       "      <th>2</th>\n",
       "      <td>CNN IS EVIL: Carol Costello FAILS When Benghaz...</td>\n",
       "      <td>CNN IS EVIL: Carol Costello FAILS When Benghaz...</td>\n",
       "      <td>Aug 5, 2016</td>\n",
       "      <td>0</td>\n",
       "    </tr>\n",
       "    <tr>\n",
       "      <th>3</th>\n",
       "      <td>PRESIDENT TRUMP WARNS Comey…Tweets Veiled Thre...</td>\n",
       "      <td>PRESIDENT TRUMP WARNS Comey…Tweets Veiled Thre...</td>\n",
       "      <td>May 12, 2017</td>\n",
       "      <td>0</td>\n",
       "    </tr>\n",
       "    <tr>\n",
       "      <th>4</th>\n",
       "      <td>Trump HUMILIATED Over Name-Drop That’s Worse ...</td>\n",
       "      <td>Trump HUMILIATED Over Name-Drop That’s Worse ...</td>\n",
       "      <td>April 20, 2017</td>\n",
       "      <td>0</td>\n",
       "    </tr>\n",
       "  </tbody>\n",
       "</table>\n",
       "</div>"
      ],
      "text/plain": [
       "                                               title  \\\n",
       "0  Putin says Democrats wrongly trying to blame o...   \n",
       "1  France criticizes U.S. travel ban on Chadian a...   \n",
       "2  CNN IS EVIL: Carol Costello FAILS When Benghaz...   \n",
       "3  PRESIDENT TRUMP WARNS Comey…Tweets Veiled Thre...   \n",
       "4   Trump HUMILIATED Over Name-Drop That’s Worse ...   \n",
       "\n",
       "                                                text                 date  \\\n",
       "0  Putin says Democrats wrongly trying to blame o...   December 23, 2016    \n",
       "1  France criticizes U.S. travel ban on Chadian a...  September 27, 2017    \n",
       "2  CNN IS EVIL: Carol Costello FAILS When Benghaz...          Aug 5, 2016   \n",
       "3  PRESIDENT TRUMP WARNS Comey…Tweets Veiled Thre...         May 12, 2017   \n",
       "4   Trump HUMILIATED Over Name-Drop That’s Worse ...       April 20, 2017   \n",
       "\n",
       "   label  \n",
       "0      1  \n",
       "1      1  \n",
       "2      0  \n",
       "3      0  \n",
       "4      0  "
      ]
     },
     "execution_count": 6,
     "metadata": {},
     "output_type": "execute_result"
    }
   ],
   "source": [
    "# label dataset\n",
    "fake_news['label'] = 0\n",
    "true_news['label'] = 1\n",
    "\n",
    "# concat two dataset\n",
    "df = pd.concat([fake_news,true_news], axis=0)\n",
    "\n",
    "# drop 'subject' column\n",
    "df.drop('subject', axis=1, inplace=True)\n",
    "\n",
    "df = df.sample(frac=1).reset_index(drop=True)\n",
    "\n",
    "df['text'] = df['title'] + ' ' + df['text']\n",
    "df.head()"
   ]
  },
  {
   "cell_type": "code",
   "execution_count": 7,
   "metadata": {},
   "outputs": [
    {
     "data": {
      "text/html": [
       "<div>\n",
       "<style scoped>\n",
       "    .dataframe tbody tr th:only-of-type {\n",
       "        vertical-align: middle;\n",
       "    }\n",
       "\n",
       "    .dataframe tbody tr th {\n",
       "        vertical-align: top;\n",
       "    }\n",
       "\n",
       "    .dataframe thead th {\n",
       "        text-align: right;\n",
       "    }\n",
       "</style>\n",
       "<table border=\"1\" class=\"dataframe\">\n",
       "  <thead>\n",
       "    <tr style=\"text-align: right;\">\n",
       "      <th></th>\n",
       "      <th>title</th>\n",
       "      <th>text</th>\n",
       "      <th>date</th>\n",
       "    </tr>\n",
       "  </thead>\n",
       "  <tbody>\n",
       "    <tr>\n",
       "      <th>0</th>\n",
       "      <td>Putin says Democrats wrongly trying to blame o...</td>\n",
       "      <td>Putin says Democrats wrongly trying to blame o...</td>\n",
       "      <td>December 23, 2016</td>\n",
       "    </tr>\n",
       "    <tr>\n",
       "      <th>1</th>\n",
       "      <td>France criticizes U.S. travel ban on Chadian a...</td>\n",
       "      <td>France criticizes U.S. travel ban on Chadian a...</td>\n",
       "      <td>September 27, 2017</td>\n",
       "    </tr>\n",
       "    <tr>\n",
       "      <th>2</th>\n",
       "      <td>CNN IS EVIL: Carol Costello FAILS When Benghaz...</td>\n",
       "      <td>CNN IS EVIL: Carol Costello FAILS When Benghaz...</td>\n",
       "      <td>Aug 5, 2016</td>\n",
       "    </tr>\n",
       "    <tr>\n",
       "      <th>3</th>\n",
       "      <td>PRESIDENT TRUMP WARNS Comey…Tweets Veiled Thre...</td>\n",
       "      <td>PRESIDENT TRUMP WARNS Comey…Tweets Veiled Thre...</td>\n",
       "      <td>May 12, 2017</td>\n",
       "    </tr>\n",
       "    <tr>\n",
       "      <th>4</th>\n",
       "      <td>Trump HUMILIATED Over Name-Drop That’s Worse ...</td>\n",
       "      <td>Trump HUMILIATED Over Name-Drop That’s Worse ...</td>\n",
       "      <td>April 20, 2017</td>\n",
       "    </tr>\n",
       "  </tbody>\n",
       "</table>\n",
       "</div>"
      ],
      "text/plain": [
       "                                               title  \\\n",
       "0  Putin says Democrats wrongly trying to blame o...   \n",
       "1  France criticizes U.S. travel ban on Chadian a...   \n",
       "2  CNN IS EVIL: Carol Costello FAILS When Benghaz...   \n",
       "3  PRESIDENT TRUMP WARNS Comey…Tweets Veiled Thre...   \n",
       "4   Trump HUMILIATED Over Name-Drop That’s Worse ...   \n",
       "\n",
       "                                                text                 date  \n",
       "0  Putin says Democrats wrongly trying to blame o...   December 23, 2016   \n",
       "1  France criticizes U.S. travel ban on Chadian a...  September 27, 2017   \n",
       "2  CNN IS EVIL: Carol Costello FAILS When Benghaz...          Aug 5, 2016  \n",
       "3  PRESIDENT TRUMP WARNS Comey…Tweets Veiled Thre...         May 12, 2017  \n",
       "4   Trump HUMILIATED Over Name-Drop That’s Worse ...       April 20, 2017  "
      ]
     },
     "execution_count": 7,
     "metadata": {},
     "output_type": "execute_result"
    }
   ],
   "source": [
    "y=df['label']\n",
    "x=df.drop('label',axis=1)\n",
    "x.head()"
   ]
  },
  {
   "cell_type": "code",
   "execution_count": 8,
   "metadata": {},
   "outputs": [
    {
     "data": {
      "text/plain": [
       "'Putin says Democrats wrongly trying to blame others for defeat'"
      ]
     },
     "execution_count": 8,
     "metadata": {},
     "output_type": "execute_result"
    }
   ],
   "source": [
    "news=x.copy()\n",
    "news['title'][0]"
   ]
  },
  {
   "cell_type": "code",
   "execution_count": 9,
   "metadata": {},
   "outputs": [],
   "source": [
    "lem = nltk.stem.wordnet.WordNetLemmatizer()\n",
    "\n",
    "for i in range(len(news)):\n",
    "    # removing everything except alphabets\n",
    "    text=re.sub('[^a-zA-Z]',' ',news['title'][i])\n",
    "    text=text.lower()\n",
    "    text_words=text.split()\n",
    "    stem_words=[lem.lemmatize(word) for word in text_words if word not in stopwords ]\n",
    "    text=' '.join(stem_words)\n",
    "    corpus.append(text)"
   ]
  },
  {
   "cell_type": "code",
   "execution_count": 10,
   "metadata": {},
   "outputs": [
    {
     "data": {
      "text/plain": [
       "['putin say democrat wrongly trying blame others defeat',\n",
       " 'france criticizes u travel ban chadian ally urge reversal',\n",
       " 'cnn evil carol costello fails benghazi dad flip script boycottcnn',\n",
       " 'president trump warns comey tweet veiled threat former fbi director',\n",
       " 'trump humiliated name drop worse frederick douglas gaffe tweet']"
      ]
     },
     "execution_count": 10,
     "metadata": {},
     "output_type": "execute_result"
    }
   ],
   "source": [
    "corpus[:5]"
   ]
  },
  {
   "cell_type": "code",
   "execution_count": 11,
   "metadata": {},
   "outputs": [
    {
     "data": {
      "text/plain": [
       "[[7880, 19623, 24552, 7353, 23851, 9611, 7781, 21628],\n",
       " [14305, 1031, 4104, 1120, 22635, 19010, 5218, 8229, 5016],\n",
       " [9869, 17345, 23354, 22204, 21929, 19333, 27794, 3799, 20222, 13215],\n",
       " [2038, 9512, 24947, 18406, 12911, 8673, 28716, 18714, 29411, 4712],\n",
       " [9512, 14457, 27630, 18551, 2671, 14967, 24353, 2862, 12911]]"
      ]
     },
     "execution_count": 11,
     "metadata": {},
     "output_type": "execute_result"
    }
   ],
   "source": [
    "# one-hot representation  of our corpus\n",
    "vocab_size=30000\n",
    "onehot_corpus=[one_hot(words,vocab_size) for words in corpus]\n",
    "onehot_corpus[:5]"
   ]
  },
  {
   "cell_type": "code",
   "execution_count": 12,
   "metadata": {},
   "outputs": [
    {
     "data": {
      "text/plain": [
       "array([[    0,     0,     0,     0,     0,     0,     0,     0,     0,\n",
       "            0,     0,     0,  7880, 19623, 24552,  7353, 23851,  9611,\n",
       "         7781, 21628],\n",
       "       [    0,     0,     0,     0,     0,     0,     0,     0,     0,\n",
       "            0,     0, 14305,  1031,  4104,  1120, 22635, 19010,  5218,\n",
       "         8229,  5016],\n",
       "       [    0,     0,     0,     0,     0,     0,     0,     0,     0,\n",
       "            0,  9869, 17345, 23354, 22204, 21929, 19333, 27794,  3799,\n",
       "        20222, 13215],\n",
       "       [    0,     0,     0,     0,     0,     0,     0,     0,     0,\n",
       "            0,  2038,  9512, 24947, 18406, 12911,  8673, 28716, 18714,\n",
       "        29411,  4712],\n",
       "       [    0,     0,     0,     0,     0,     0,     0,     0,     0,\n",
       "            0,     0,  9512, 14457, 27630, 18551,  2671, 14967, 24353,\n",
       "         2862, 12911]])"
      ]
     },
     "execution_count": 12,
     "metadata": {},
     "output_type": "execute_result"
    }
   ],
   "source": [
    "max_length=20\n",
    "embedded_docs=pad_sequences(onehot_corpus,maxlen=max_length,padding='pre')\n",
    "embedded_docs[:5]"
   ]
  },
  {
   "cell_type": "code",
   "execution_count": 13,
   "metadata": {},
   "outputs": [],
   "source": [
    "x=np.array(embedded_docs)"
   ]
  },
  {
   "cell_type": "code",
   "execution_count": 14,
   "metadata": {},
   "outputs": [
    {
     "name": "stdout",
     "output_type": "stream",
     "text": [
      "\n",
      "X_train shape (33673, 20). \n",
      "\n",
      "X_train type <class 'numpy.ndarray'>. \n",
      "\n",
      "X_train dimension 2. \n",
      "\n",
      "y_train shape (33673,). \n",
      "\n",
      "y_train type <class 'pandas.core.series.Series'>. \n",
      "\n",
      "y_train dimension 1. \n",
      "\n",
      "X_test shape (11225, 20). \n",
      "\n",
      "y_test shape (11225,). \n"
     ]
    }
   ],
   "source": [
    "X_train, X_test, y_train, y_test = train_test_split(x, y, test_size=0.25, random_state=0)\n",
    "\n",
    "print(\"\\nX_train shape {}. \".format(X_train.shape))\n",
    "print(\"\\nX_train type {}. \".format(type(X_train)))\n",
    "print(\"\\nX_train dimension {}. \".format(X_train.ndim))\n",
    "print(\"\\ny_train shape {}. \".format(y_train.shape))\n",
    "print(\"\\ny_train type {}. \".format(type(y_train)))\n",
    "print(\"\\ny_train dimension {}. \".format(y_train.ndim))\n",
    "print(\"\\nX_test shape {}. \".format(X_test.shape))\n",
    "print(\"\\ny_test shape {}. \".format(y_test.shape))"
   ]
  },
  {
   "cell_type": "code",
   "execution_count": 15,
   "metadata": {},
   "outputs": [],
   "source": [
    "ACCURACY_THRESHOLD = 0.99\n",
    "\n",
    "class myCallback(tf.keras.callbacks.Callback):\n",
    "    def on_epoch_end(self, epoch, logs={}):\n",
    "        if(logs.get('accuracy') > ACCURACY_THRESHOLD):\n",
    "            print(\"\\nReached %2.2f%% accuracy, so stopping training!!\" %(ACCURACY_THRESHOLD*100))\n",
    "            self.model.stop_training = True\n",
    "\n",
    "\n",
    "# Instantiate a callback object\n",
    "callbacks = myCallback()"
   ]
  },
  {
   "cell_type": "code",
   "execution_count": 59,
   "metadata": {},
   "outputs": [
    {
     "name": "stdout",
     "output_type": "stream",
     "text": [
      "Model: \"sequential_9\"\n",
      "_________________________________________________________________\n",
      "Layer (type)                 Output Shape              Param #   \n",
      "=================================================================\n",
      "embedding_9 (Embedding)      (None, 20, 50)            1500000   \n",
      "_________________________________________________________________\n",
      "bidirectional_9 (Bidirection (None, 20, 128)           58880     \n",
      "_________________________________________________________________\n",
      "lstm_19 (LSTM)               (None, 64)                49408     \n",
      "_________________________________________________________________\n",
      "dense_20 (Dense)             (None, 32)                2080      \n",
      "_________________________________________________________________\n",
      "dense_21 (Dense)             (None, 16)                528       \n",
      "_________________________________________________________________\n",
      "dense_22 (Dense)             (None, 1)                 17        \n",
      "=================================================================\n",
      "Total params: 1,610,913\n",
      "Trainable params: 110,913\n",
      "Non-trainable params: 1,500,000\n",
      "_________________________________________________________________\n",
      "None\n"
     ]
    }
   ],
   "source": [
    "# Model\n",
    "model = keras.Sequential()\n",
    "# Embedding layer\n",
    "model.add(Embedding(vocab_size,50,input_length=max_length, trainable=False))\n",
    "model.add(\n",
    "    layers.Bidirectional(\n",
    "        layers.LSTM(64, return_sequences=True, recurrent_dropout = 0.6, dropout = 0.6)\n",
    "    )\n",
    ")\n",
    "model.add(\n",
    "    layers.LSTM(64, recurrent_dropout = 0.15, dropout = 0.15, activation = 'tanh')\n",
    ")\n",
    "model.add(layers.Dense(32 , activation = 'tanh'))\n",
    "model.add(layers.Dense(16 , activation = 'tanh'))\n",
    "model.add(layers.Dense(1, activation='sigmoid'))\n",
    "\n",
    "print(model.summary())"
   ]
  },
  {
   "cell_type": "code",
   "execution_count": 60,
   "metadata": {},
   "outputs": [
    {
     "name": "stdout",
     "output_type": "stream",
     "text": [
      "Epoch 1/100\n",
      "527/527 [==============================] - 50s 82ms/step - loss: 0.4879 - accuracy: 0.7582 - val_loss: 0.4251 - val_accuracy: 0.7971\n",
      "Epoch 2/100\n",
      "527/527 [==============================] - 40s 76ms/step - loss: 0.4226 - accuracy: 0.7978 - val_loss: 0.3787 - val_accuracy: 0.8228\n",
      "Epoch 3/100\n",
      "527/527 [==============================] - 40s 76ms/step - loss: 0.3836 - accuracy: 0.8201 - val_loss: 0.3407 - val_accuracy: 0.8453\n",
      "Epoch 4/100\n",
      "527/527 [==============================] - 42s 79ms/step - loss: 0.3563 - accuracy: 0.8346 - val_loss: 0.3198 - val_accuracy: 0.8559\n",
      "Epoch 5/100\n",
      "527/527 [==============================] - 42s 79ms/step - loss: 0.3353 - accuracy: 0.8479 - val_loss: 0.2912 - val_accuracy: 0.8717\n",
      "Epoch 6/100\n",
      "527/527 [==============================] - 42s 79ms/step - loss: 0.3203 - accuracy: 0.8559 - val_loss: 0.2883 - val_accuracy: 0.8755\n",
      "Epoch 7/100\n",
      "527/527 [==============================] - 42s 80ms/step - loss: 0.3064 - accuracy: 0.8638 - val_loss: 0.2759 - val_accuracy: 0.8829\n",
      "Epoch 8/100\n",
      "527/527 [==============================] - 41s 78ms/step - loss: 0.2989 - accuracy: 0.8693 - val_loss: 0.2694 - val_accuracy: 0.8865\n",
      "Epoch 9/100\n",
      "527/527 [==============================] - 42s 79ms/step - loss: 0.2907 - accuracy: 0.8724 - val_loss: 0.2521 - val_accuracy: 0.8944\n",
      "Epoch 10/100\n",
      "527/527 [==============================] - 43s 82ms/step - loss: 0.2844 - accuracy: 0.8746 - val_loss: 0.2511 - val_accuracy: 0.8899\n",
      "Epoch 11/100\n",
      "527/527 [==============================] - 42s 80ms/step - loss: 0.2732 - accuracy: 0.8804 - val_loss: 0.2486 - val_accuracy: 0.8961\n",
      "Epoch 12/100\n",
      "527/527 [==============================] - 43s 81ms/step - loss: 0.2653 - accuracy: 0.8831 - val_loss: 0.2481 - val_accuracy: 0.8878\n",
      "Epoch 13/100\n",
      "527/527 [==============================] - 43s 81ms/step - loss: 0.2604 - accuracy: 0.8866 - val_loss: 0.2245 - val_accuracy: 0.9062\n",
      "Epoch 14/100\n",
      "527/527 [==============================] - 50s 96ms/step - loss: 0.2541 - accuracy: 0.8893 - val_loss: 0.2331 - val_accuracy: 0.9014\n",
      "Epoch 15/100\n",
      "527/527 [==============================] - 41s 79ms/step - loss: 0.2511 - accuracy: 0.8903 - val_loss: 0.2296 - val_accuracy: 0.9047\n",
      "Epoch 16/100\n",
      "527/527 [==============================] - 43s 81ms/step - loss: 0.2442 - accuracy: 0.8930 - val_loss: 0.2136 - val_accuracy: 0.9094\n",
      "Epoch 17/100\n",
      "527/527 [==============================] - 43s 81ms/step - loss: 0.2377 - accuracy: 0.8963 - val_loss: 0.2101 - val_accuracy: 0.9123\n",
      "Epoch 18/100\n",
      "527/527 [==============================] - 45s 85ms/step - loss: 0.2362 - accuracy: 0.8980 - val_loss: 0.2157 - val_accuracy: 0.9059\n",
      "Epoch 19/100\n",
      "527/527 [==============================] - 42s 80ms/step - loss: 0.2317 - accuracy: 0.9004 - val_loss: 0.2041 - val_accuracy: 0.9162\n",
      "Epoch 20/100\n",
      "527/527 [==============================] - 42s 79ms/step - loss: 0.2294 - accuracy: 0.8997 - val_loss: 0.2059 - val_accuracy: 0.9144\n",
      "Epoch 21/100\n",
      "527/527 [==============================] - 43s 81ms/step - loss: 0.2262 - accuracy: 0.9028 - val_loss: 0.2072 - val_accuracy: 0.9102\n",
      "Epoch 22/100\n",
      "527/527 [==============================] - 42s 80ms/step - loss: 0.2245 - accuracy: 0.9044 - val_loss: 0.2081 - val_accuracy: 0.9193\n",
      "Epoch 23/100\n",
      "527/527 [==============================] - 43s 82ms/step - loss: 0.2221 - accuracy: 0.9043 - val_loss: 0.1937 - val_accuracy: 0.9212\n",
      "Epoch 24/100\n",
      "527/527 [==============================] - 45s 86ms/step - loss: 0.2153 - accuracy: 0.9070 - val_loss: 0.2120 - val_accuracy: 0.9063\n",
      "Epoch 25/100\n",
      "527/527 [==============================] - 43s 82ms/step - loss: 0.2144 - accuracy: 0.9081 - val_loss: 0.1906 - val_accuracy: 0.9201\n",
      "Epoch 26/100\n",
      "527/527 [==============================] - 41s 78ms/step - loss: 0.2156 - accuracy: 0.9078 - val_loss: 0.1880 - val_accuracy: 0.9220\n",
      "Epoch 27/100\n",
      "527/527 [==============================] - 43s 81ms/step - loss: 0.2106 - accuracy: 0.9096 - val_loss: 0.1907 - val_accuracy: 0.9261\n",
      "Epoch 28/100\n",
      "527/527 [==============================] - 43s 82ms/step - loss: 0.2093 - accuracy: 0.9107 - val_loss: 0.1829 - val_accuracy: 0.9256\n",
      "Epoch 29/100\n",
      "527/527 [==============================] - 41s 79ms/step - loss: 0.2118 - accuracy: 0.9093 - val_loss: 0.1865 - val_accuracy: 0.9215\n",
      "Epoch 30/100\n",
      "527/527 [==============================] - 45s 85ms/step - loss: 0.2125 - accuracy: 0.9086 - val_loss: 0.1904 - val_accuracy: 0.9193\n",
      "Epoch 31/100\n",
      "527/527 [==============================] - 43s 82ms/step - loss: 0.2077 - accuracy: 0.9114 - val_loss: 0.1858 - val_accuracy: 0.9219\n",
      "Epoch 32/100\n",
      "527/527 [==============================] - 42s 80ms/step - loss: 0.2061 - accuracy: 0.9108 - val_loss: 0.1839 - val_accuracy: 0.9238\n",
      "Epoch 33/100\n",
      "527/527 [==============================] - 42s 80ms/step - loss: 0.2019 - accuracy: 0.9138 - val_loss: 0.1926 - val_accuracy: 0.9194\n",
      "Epoch 34/100\n",
      "527/527 [==============================] - 42s 79ms/step - loss: 0.2036 - accuracy: 0.9125 - val_loss: 0.1800 - val_accuracy: 0.9266\n",
      "Epoch 35/100\n",
      "527/527 [==============================] - 43s 82ms/step - loss: 0.2003 - accuracy: 0.9138 - val_loss: 0.1869 - val_accuracy: 0.9218\n",
      "Epoch 36/100\n",
      "527/527 [==============================] - 41s 79ms/step - loss: 0.2010 - accuracy: 0.9133 - val_loss: 0.1810 - val_accuracy: 0.9268\n",
      "Epoch 37/100\n",
      "527/527 [==============================] - 43s 82ms/step - loss: 0.1954 - accuracy: 0.9180 - val_loss: 0.1787 - val_accuracy: 0.9280\n",
      "Epoch 38/100\n",
      "527/527 [==============================] - 43s 82ms/step - loss: 0.1928 - accuracy: 0.9186 - val_loss: 0.1746 - val_accuracy: 0.9274\n",
      "Epoch 39/100\n",
      "527/527 [==============================] - 44s 84ms/step - loss: 0.1893 - accuracy: 0.9196 - val_loss: 0.1761 - val_accuracy: 0.9286\n",
      "Epoch 40/100\n",
      "527/527 [==============================] - 43s 81ms/step - loss: 0.1929 - accuracy: 0.9190 - val_loss: 0.1738 - val_accuracy: 0.9305\n",
      "Epoch 41/100\n",
      "527/527 [==============================] - 43s 81ms/step - loss: 0.1898 - accuracy: 0.9203 - val_loss: 0.1720 - val_accuracy: 0.9300\n",
      "Epoch 42/100\n",
      "527/527 [==============================] - 47s 89ms/step - loss: 0.1889 - accuracy: 0.9186 - val_loss: 0.1786 - val_accuracy: 0.9253\n",
      "Epoch 43/100\n",
      "527/527 [==============================] - 46s 86ms/step - loss: 0.1876 - accuracy: 0.9192 - val_loss: 0.1720 - val_accuracy: 0.9307\n",
      "Epoch 44/100\n",
      "527/527 [==============================] - 42s 79ms/step - loss: 0.1838 - accuracy: 0.9206 - val_loss: 0.1800 - val_accuracy: 0.9243\n",
      "Epoch 45/100\n",
      "527/527 [==============================] - 38s 71ms/step - loss: 0.1869 - accuracy: 0.9209 - val_loss: 0.1821 - val_accuracy: 0.9241\n",
      "Epoch 46/100\n",
      "527/527 [==============================] - 42s 80ms/step - loss: 0.1824 - accuracy: 0.9237 - val_loss: 0.1770 - val_accuracy: 0.9272\n",
      "Epoch 47/100\n",
      "527/527 [==============================] - 39s 75ms/step - loss: 0.1844 - accuracy: 0.9216 - val_loss: 0.1688 - val_accuracy: 0.9314\n",
      "Epoch 48/100\n",
      "527/527 [==============================] - 41s 78ms/step - loss: 0.1836 - accuracy: 0.9222 - val_loss: 0.1730 - val_accuracy: 0.9307\n",
      "Epoch 49/100\n",
      "527/527 [==============================] - 38s 73ms/step - loss: 0.1806 - accuracy: 0.9227 - val_loss: 0.1709 - val_accuracy: 0.9310\n",
      "Epoch 50/100\n",
      "527/527 [==============================] - 39s 74ms/step - loss: 0.1806 - accuracy: 0.9237 - val_loss: 0.1806 - val_accuracy: 0.9243\n",
      "Epoch 51/100\n",
      "527/527 [==============================] - 39s 74ms/step - loss: 0.1820 - accuracy: 0.9225 - val_loss: 0.1672 - val_accuracy: 0.9318\n",
      "Epoch 52/100\n",
      "527/527 [==============================] - 39s 74ms/step - loss: 0.1788 - accuracy: 0.9243 - val_loss: 0.1766 - val_accuracy: 0.9283\n",
      "Epoch 53/100\n",
      "527/527 [==============================] - 39s 73ms/step - loss: 0.1787 - accuracy: 0.9242 - val_loss: 0.1655 - val_accuracy: 0.9327\n",
      "Epoch 54/100\n",
      "527/527 [==============================] - 38s 73ms/step - loss: 0.1765 - accuracy: 0.9255 - val_loss: 0.1698 - val_accuracy: 0.9310\n",
      "Epoch 55/100\n",
      "527/527 [==============================] - 40s 75ms/step - loss: 0.1770 - accuracy: 0.9232 - val_loss: 0.1641 - val_accuracy: 0.9329\n",
      "Epoch 56/100\n",
      "527/527 [==============================] - 39s 73ms/step - loss: 0.1771 - accuracy: 0.9245 - val_loss: 0.1681 - val_accuracy: 0.9324\n",
      "Epoch 57/100\n",
      "527/527 [==============================] - 38s 71ms/step - loss: 0.1703 - accuracy: 0.9260 - val_loss: 0.1673 - val_accuracy: 0.9318\n",
      "Epoch 58/100\n",
      "527/527 [==============================] - 38s 73ms/step - loss: 0.1707 - accuracy: 0.9288 - val_loss: 0.1643 - val_accuracy: 0.9337\n",
      "Epoch 59/100\n",
      "527/527 [==============================] - 38s 72ms/step - loss: 0.1717 - accuracy: 0.9283 - val_loss: 0.1636 - val_accuracy: 0.9336\n",
      "Epoch 60/100\n",
      "527/527 [==============================] - 40s 75ms/step - loss: 0.1673 - accuracy: 0.9305 - val_loss: 0.1660 - val_accuracy: 0.9339\n",
      "Epoch 61/100\n",
      "527/527 [==============================] - 38s 72ms/step - loss: 0.1727 - accuracy: 0.9275 - val_loss: 0.1724 - val_accuracy: 0.9285\n",
      "Epoch 62/100\n",
      "527/527 [==============================] - 38s 72ms/step - loss: 0.1711 - accuracy: 0.9284 - val_loss: 0.1693 - val_accuracy: 0.9328\n",
      "Epoch 63/100\n",
      "527/527 [==============================] - 39s 74ms/step - loss: 0.1685 - accuracy: 0.9290 - val_loss: 0.1663 - val_accuracy: 0.9330\n",
      "Epoch 64/100\n",
      "527/527 [==============================] - 38s 72ms/step - loss: 0.1683 - accuracy: 0.9293 - val_loss: 0.1674 - val_accuracy: 0.9327\n",
      "Epoch 65/100\n",
      "527/527 [==============================] - 38s 73ms/step - loss: 0.1675 - accuracy: 0.9294 - val_loss: 0.1699 - val_accuracy: 0.9333\n",
      "Epoch 66/100\n",
      "527/527 [==============================] - 38s 72ms/step - loss: 0.1668 - accuracy: 0.9306 - val_loss: 0.1607 - val_accuracy: 0.9349\n",
      "Epoch 67/100\n",
      "527/527 [==============================] - 38s 72ms/step - loss: 0.1678 - accuracy: 0.9298 - val_loss: 0.1624 - val_accuracy: 0.9342\n",
      "Epoch 68/100\n",
      "527/527 [==============================] - 38s 72ms/step - loss: 0.1668 - accuracy: 0.9298 - val_loss: 0.1669 - val_accuracy: 0.9327\n",
      "Epoch 69/100\n",
      "527/527 [==============================] - 38s 72ms/step - loss: 0.1675 - accuracy: 0.9285 - val_loss: 0.1656 - val_accuracy: 0.9333\n",
      "Epoch 70/100\n",
      "527/527 [==============================] - 38s 72ms/step - loss: 0.1663 - accuracy: 0.9302 - val_loss: 0.1600 - val_accuracy: 0.9353\n",
      "Epoch 71/100\n",
      "527/527 [==============================] - 39s 74ms/step - loss: 0.1642 - accuracy: 0.9307 - val_loss: 0.1666 - val_accuracy: 0.9330\n",
      "Epoch 72/100\n",
      "527/527 [==============================] - 38s 72ms/step - loss: 0.1623 - accuracy: 0.9323 - val_loss: 0.1692 - val_accuracy: 0.9347\n",
      "Epoch 73/100\n",
      "527/527 [==============================] - 38s 73ms/step - loss: 0.1636 - accuracy: 0.9318 - val_loss: 0.1606 - val_accuracy: 0.9356\n",
      "Epoch 74/100\n",
      "527/527 [==============================] - 38s 72ms/step - loss: 0.1630 - accuracy: 0.9309 - val_loss: 0.1755 - val_accuracy: 0.9288\n",
      "Epoch 75/100\n",
      "527/527 [==============================] - 38s 72ms/step - loss: 0.1616 - accuracy: 0.9320 - val_loss: 0.1616 - val_accuracy: 0.9346\n",
      "Epoch 76/100\n",
      "527/527 [==============================] - 39s 73ms/step - loss: 0.1610 - accuracy: 0.9327 - val_loss: 0.1621 - val_accuracy: 0.9345\n",
      "Epoch 77/100\n",
      "527/527 [==============================] - 38s 72ms/step - loss: 0.1596 - accuracy: 0.9339 - val_loss: 0.1636 - val_accuracy: 0.9342\n",
      "Epoch 78/100\n",
      "527/527 [==============================] - 38s 73ms/step - loss: 0.1569 - accuracy: 0.9348 - val_loss: 0.1686 - val_accuracy: 0.9317\n",
      "Epoch 79/100\n",
      "527/527 [==============================] - 38s 73ms/step - loss: 0.1588 - accuracy: 0.9331 - val_loss: 0.1659 - val_accuracy: 0.9315\n",
      "Epoch 80/100\n",
      "527/527 [==============================] - 38s 73ms/step - loss: 0.1588 - accuracy: 0.9331 - val_loss: 0.1604 - val_accuracy: 0.9355\n",
      "Epoch 81/100\n",
      "527/527 [==============================] - 38s 73ms/step - loss: 0.1598 - accuracy: 0.9316 - val_loss: 0.1648 - val_accuracy: 0.9343\n",
      "Epoch 82/100\n",
      "527/527 [==============================] - 38s 73ms/step - loss: 0.1593 - accuracy: 0.9330 - val_loss: 0.1624 - val_accuracy: 0.9346\n",
      "Epoch 83/100\n",
      "527/527 [==============================] - 38s 72ms/step - loss: 0.1565 - accuracy: 0.9336 - val_loss: 0.1651 - val_accuracy: 0.9337\n",
      "Epoch 84/100\n",
      "527/527 [==============================] - 38s 72ms/step - loss: 0.1543 - accuracy: 0.9366 - val_loss: 0.1623 - val_accuracy: 0.9367\n",
      "Epoch 85/100\n",
      "527/527 [==============================] - 39s 74ms/step - loss: 0.1532 - accuracy: 0.9362 - val_loss: 0.1625 - val_accuracy: 0.9338\n",
      "Epoch 86/100\n",
      "527/527 [==============================] - 38s 72ms/step - loss: 0.1552 - accuracy: 0.9352 - val_loss: 0.1644 - val_accuracy: 0.9340\n",
      "Epoch 87/100\n",
      "527/527 [==============================] - 39s 73ms/step - loss: 0.1524 - accuracy: 0.9364 - val_loss: 0.1615 - val_accuracy: 0.9357\n",
      "Epoch 88/100\n",
      "527/527 [==============================] - 38s 72ms/step - loss: 0.1554 - accuracy: 0.9357 - val_loss: 0.1657 - val_accuracy: 0.9309\n",
      "Epoch 89/100\n",
      "527/527 [==============================] - 38s 72ms/step - loss: 0.1549 - accuracy: 0.9352 - val_loss: 0.1615 - val_accuracy: 0.9354\n",
      "Epoch 90/100\n",
      "527/527 [==============================] - 38s 73ms/step - loss: 0.1518 - accuracy: 0.9358 - val_loss: 0.1697 - val_accuracy: 0.9265\n",
      "Epoch 91/100\n",
      "527/527 [==============================] - 38s 73ms/step - loss: 0.1534 - accuracy: 0.9354 - val_loss: 0.1594 - val_accuracy: 0.9352\n",
      "Epoch 92/100\n",
      "527/527 [==============================] - 38s 72ms/step - loss: 0.1505 - accuracy: 0.9370 - val_loss: 0.1606 - val_accuracy: 0.9392\n",
      "Epoch 93/100\n",
      "527/527 [==============================] - 39s 73ms/step - loss: 0.1525 - accuracy: 0.9375 - val_loss: 0.1644 - val_accuracy: 0.9365\n",
      "Epoch 94/100\n",
      "527/527 [==============================] - 38s 72ms/step - loss: 0.1522 - accuracy: 0.9363 - val_loss: 0.1582 - val_accuracy: 0.9350\n",
      "Epoch 95/100\n",
      "527/527 [==============================] - 38s 72ms/step - loss: 0.1557 - accuracy: 0.9333 - val_loss: 0.1623 - val_accuracy: 0.9369\n",
      "Epoch 96/100\n",
      "527/527 [==============================] - 39s 74ms/step - loss: 0.1532 - accuracy: 0.9359 - val_loss: 0.1628 - val_accuracy: 0.9366\n",
      "Epoch 97/100\n",
      "527/527 [==============================] - 38s 73ms/step - loss: 0.1484 - accuracy: 0.9383 - val_loss: 0.1613 - val_accuracy: 0.9375\n",
      "Epoch 98/100\n",
      "527/527 [==============================] - 38s 72ms/step - loss: 0.1489 - accuracy: 0.9380 - val_loss: 0.1610 - val_accuracy: 0.9367\n",
      "Epoch 99/100\n",
      "527/527 [==============================] - 39s 73ms/step - loss: 0.1509 - accuracy: 0.9374 - val_loss: 0.1561 - val_accuracy: 0.9376\n",
      "Epoch 100/100\n",
      "527/527 [==============================] - 38s 72ms/step - loss: 0.1522 - accuracy: 0.9366 - val_loss: 0.1556 - val_accuracy: 0.9388\n"
     ]
    }
   ],
   "source": [
    "model.compile(\n",
    "    loss='binary_crossentropy',\n",
    "    optimizer=keras.optimizers.Adam(learning_rate = 0.01),\n",
    "    metrics=['accuracy']\n",
    ")\n",
    "\n",
    "history=model.fit(X_train,y_train,validation_data=(X_test,y_test),epochs=100,batch_size=64, callbacks=[callbacks], shuffle=True, verbose = 1)"
   ]
  },
  {
   "cell_type": "code",
   "execution_count": 61,
   "metadata": {},
   "outputs": [
    {
     "name": "stdout",
     "output_type": "stream",
     "text": [
      "1053/1053 [==============================] - 8s 8ms/step - loss: 0.0887 - accuracy: 0.9711\n",
      "Accuracy of the model on Training Data is -  97.10747599601746 %\n",
      "351/351 [==============================] - 3s 8ms/step - loss: 0.1556 - accuracy: 0.9388\n",
      "Accuracy of the model on Testing Data is -  93.87973546981812 %\n"
     ]
    }
   ],
   "source": [
    "print(\"Accuracy of the model on Training Data is - \" , model.evaluate(X_train,y_train)[1]*100 , \"%\")\n",
    "print(\"Accuracy of the model on Testing Data is - \" , model.evaluate(X_test,y_test)[1]*100 , \"%\")"
   ]
  },
  {
   "cell_type": "code",
   "execution_count": 62,
   "metadata": {},
   "outputs": [
    {
     "data": {
      "image/png": "[encoded data removed]",
      "text/plain": [
       "<Figure size 432x288 with 1 Axes>"
      ]
     },
     "metadata": {
      "needs_background": "light"
     },
     "output_type": "display_data"
    }
   ],
   "source": [
    "plt.figure()\n",
    "plt.plot(history.history[\"accuracy\"], label = \"Train\")\n",
    "plt.plot(history.history[\"val_accuracy\"], label = \"Test\")\n",
    "plt.title(\"Accuracy\")\n",
    "plt.ylabel(\"Acc\")\n",
    "plt.xlabel(\"epochs\")\n",
    "plt.legend()\n",
    "plt.show()"
   ]
  },
  {
   "cell_type": "code",
   "execution_count": 64,
   "metadata": {},
   "outputs": [
    {
     "data": {
      "image/png": "[encoded data removed]",
      "text/plain": [
       "<Figure size 432x288 with 1 Axes>"
      ]
     },
     "metadata": {
      "needs_background": "light"
     },
     "output_type": "display_data"
    }
   ],
   "source": [
    "plt.figure()\n",
    "plt.plot(history.history[\"loss\"], label = \"Train\")\n",
    "plt.plot(history.history[\"val_loss\"], label = \"Test\")\n",
    "plt.title(\"Loss\")\n",
    "plt.ylabel(\"loss\")\n",
    "plt.xlabel(\"epochs\")\n",
    "plt.legend()\n",
    "plt.show()"
   ]
  },
  {
   "cell_type": "code",
   "execution_count": null,
   "metadata": {},
   "outputs": [],
   "source": []
  }
 ],
 "metadata": {
  "kernelspec": {
   "display_name": "Python 3",
   "language": "python",
   "name": "python3"
  },
  "language_info": {
   "codemirror_mode": {
    "name": "ipython",
    "version": 3
   },
   "file_extension": ".py",
   "mimetype": "text/x-python",
   "name": "python",
   "nbconvert_exporter": "python",
   "pygments_lexer": "ipython3",
   "version": "3.8.10"
  }
 },
 "nbformat": 4,
 "nbformat_minor": 4
}
