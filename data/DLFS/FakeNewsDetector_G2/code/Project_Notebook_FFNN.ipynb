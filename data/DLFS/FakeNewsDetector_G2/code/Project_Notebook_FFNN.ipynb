{
 "cells": [
  {
   "cell_type": "markdown",
   "id": "6a5ec619",
   "metadata": {},
   "source": [
    "---\n",
    "## Note from the Teachers:\n",
    "We added a header with information about your project. \n",
    "This is useful since we want to keep a database of all the cool projects participants have made during the courses.\n",
    "We will save the code in our database and host on github a page to show all the projects. Therefore it is more practical to add some information in the header of each notebook.\n",
    "Thanks a lot for the understanding and for taking care of it.\n",
    "\n",
    "You can delete this cell if you want\n",
    "\n",
    "---"
   ]
  },
  {
   "cell_type": "markdown",
   "id": "9c25861d",
   "metadata": {},
   "source": [
    "# Fake News Detection\n",
    "This project uses a Fake and real news dataset from the Kaggle.  We implement a Feed Forward Neural Network and a LSTM techniques using TensorFlow to find the desired output for the project."
   ]
  },
  {
   "cell_type": "markdown",
   "id": "1a879a2a",
   "metadata": {},
   "source": [
    "### Project Repo \n",
    "https://github.com/nayemmajhar/fake-news-detection"
   ]
  },
  {
   "cell_type": "markdown",
   "id": "cc444650",
   "metadata": {},
   "source": [
    "## Participants: Farjana Islam, Junaid Abbas Mohammed, Md Majharul Islam Nayem\n",
    "Please list here all the participants alongside with any information you may want to be visible. This will be hosted on a opencampus.sh repository, so if you want to keep a connection to your github user include this information here. "
   ]
  },
  {
   "cell_type": "markdown",
   "id": "2758c110",
   "metadata": {},
   "source": [
    "### Course and Semester: Deep Learning from Scratch and SoSe2021\n",
    "Add here in which course and in which semester it was done."
   ]
  },
  {
   "cell_type": "markdown",
   "id": "88ca14db",
   "metadata": {},
   "source": [
    "### License: GNU General Public License v3.0\n",
    "If you are releasing the software under some certain license, you can mention it and also include the `LICENSE.md` file in the folder\n",
    "\n",
    "---"
   ]
  },
  {
   "cell_type": "code",
   "execution_count": 259,
   "id": "17585a51",
   "metadata": {},
   "outputs": [],
   "source": [
    "import numpy as np\n",
    "import pandas as pd\n",
    "import tensorflow as tf\n",
    "import seaborn as sns\n",
    "import matplotlib.pyplot as plt"
   ]
  },
  {
   "cell_type": "markdown",
   "id": "7356ad21",
   "metadata": {},
   "source": [
    "### Data loading"
   ]
  },
  {
   "cell_type": "code",
   "execution_count": 260,
   "id": "c12d33d0",
   "metadata": {},
   "outputs": [
    {
     "data": {
      "text/html": [
       "<div>\n",
       "<style scoped>\n",
       "    .dataframe tbody tr th:only-of-type {\n",
       "        vertical-align: middle;\n",
       "    }\n",
       "\n",
       "    .dataframe tbody tr th {\n",
       "        vertical-align: top;\n",
       "    }\n",
       "\n",
       "    .dataframe thead th {\n",
       "        text-align: right;\n",
       "    }\n",
       "</style>\n",
       "<table border=\"1\" class=\"dataframe\">\n",
       "  <thead>\n",
       "    <tr style=\"text-align: right;\">\n",
       "      <th></th>\n",
       "      <th>title</th>\n",
       "      <th>text</th>\n",
       "      <th>subject</th>\n",
       "      <th>date</th>\n",
       "    </tr>\n",
       "  </thead>\n",
       "  <tbody>\n",
       "    <tr>\n",
       "      <th>0</th>\n",
       "      <td>Donald Trump Sends Out Embarrassing New Year’...</td>\n",
       "      <td>Donald Trump just couldn t wish all Americans ...</td>\n",
       "      <td>News</td>\n",
       "      <td>December 31, 2017</td>\n",
       "    </tr>\n",
       "    <tr>\n",
       "      <th>1</th>\n",
       "      <td>Drunk Bragging Trump Staffer Started Russian ...</td>\n",
       "      <td>House Intelligence Committee Chairman Devin Nu...</td>\n",
       "      <td>News</td>\n",
       "      <td>December 31, 2017</td>\n",
       "    </tr>\n",
       "    <tr>\n",
       "      <th>2</th>\n",
       "      <td>Sheriff David Clarke Becomes An Internet Joke...</td>\n",
       "      <td>On Friday, it was revealed that former Milwauk...</td>\n",
       "      <td>News</td>\n",
       "      <td>December 30, 2017</td>\n",
       "    </tr>\n",
       "    <tr>\n",
       "      <th>3</th>\n",
       "      <td>Trump Is So Obsessed He Even Has Obama’s Name...</td>\n",
       "      <td>On Christmas day, Donald Trump announced that ...</td>\n",
       "      <td>News</td>\n",
       "      <td>December 29, 2017</td>\n",
       "    </tr>\n",
       "    <tr>\n",
       "      <th>4</th>\n",
       "      <td>Pope Francis Just Called Out Donald Trump Dur...</td>\n",
       "      <td>Pope Francis used his annual Christmas Day mes...</td>\n",
       "      <td>News</td>\n",
       "      <td>December 25, 2017</td>\n",
       "    </tr>\n",
       "  </tbody>\n",
       "</table>\n",
       "</div>"
      ],
      "text/plain": [
       "                                               title  \\\n",
       "0   Donald Trump Sends Out Embarrassing New Year’...   \n",
       "1   Drunk Bragging Trump Staffer Started Russian ...   \n",
       "2   Sheriff David Clarke Becomes An Internet Joke...   \n",
       "3   Trump Is So Obsessed He Even Has Obama’s Name...   \n",
       "4   Pope Francis Just Called Out Donald Trump Dur...   \n",
       "\n",
       "                                                text subject  \\\n",
       "0  Donald Trump just couldn t wish all Americans ...    News   \n",
       "1  House Intelligence Committee Chairman Devin Nu...    News   \n",
       "2  On Friday, it was revealed that former Milwauk...    News   \n",
       "3  On Christmas day, Donald Trump announced that ...    News   \n",
       "4  Pope Francis used his annual Christmas Day mes...    News   \n",
       "\n",
       "                date  \n",
       "0  December 31, 2017  \n",
       "1  December 31, 2017  \n",
       "2  December 30, 2017  \n",
       "3  December 29, 2017  \n",
       "4  December 25, 2017  "
      ]
     },
     "execution_count": 260,
     "metadata": {},
     "output_type": "execute_result"
    }
   ],
   "source": [
    "fake_news = pd.read_csv('./data/Fake.csv')\n",
    "true_news = pd.read_csv('./data/True.csv')\n",
    "\n",
    "fake_news.head()"
   ]
  },
  {
   "cell_type": "code",
   "execution_count": 261,
   "id": "8665040b",
   "metadata": {},
   "outputs": [
    {
     "data": {
      "text/plain": [
       "(44898, 6)"
      ]
     },
     "execution_count": 261,
     "metadata": {},
     "output_type": "execute_result"
    }
   ],
   "source": [
    "# label the dataset\n",
    "fake_news['label'] = 0\n",
    "true_news['label'] = 1\n",
    "\n",
    "# concat two dataset\n",
    "df = pd.concat([fake_news,true_news])\n",
    "\n",
    "# Concat title and text\n",
    "df['text'] = df['title'] + ' ' + df['text']\n",
    "\n",
    "# reindex dataset\n",
    "df.reset_index(inplace=True)\n",
    "\n",
    "df.shape"
   ]
  },
  {
   "cell_type": "code",
   "execution_count": 262,
   "id": "c7f12c03",
   "metadata": {},
   "outputs": [
    {
     "data": {
      "text/html": [
       "<div>\n",
       "<style scoped>\n",
       "    .dataframe tbody tr th:only-of-type {\n",
       "        vertical-align: middle;\n",
       "    }\n",
       "\n",
       "    .dataframe tbody tr th {\n",
       "        vertical-align: top;\n",
       "    }\n",
       "\n",
       "    .dataframe thead th {\n",
       "        text-align: right;\n",
       "    }\n",
       "</style>\n",
       "<table border=\"1\" class=\"dataframe\">\n",
       "  <thead>\n",
       "    <tr style=\"text-align: right;\">\n",
       "      <th></th>\n",
       "      <th>index</th>\n",
       "      <th>title</th>\n",
       "      <th>text</th>\n",
       "      <th>subject</th>\n",
       "      <th>date</th>\n",
       "      <th>label</th>\n",
       "    </tr>\n",
       "  </thead>\n",
       "  <tbody>\n",
       "    <tr>\n",
       "      <th>0</th>\n",
       "      <td>0</td>\n",
       "      <td>Donald Trump Sends Out Embarrassing New Year’...</td>\n",
       "      <td>Donald Trump Sends Out Embarrassing New Year’...</td>\n",
       "      <td>News</td>\n",
       "      <td>December 31, 2017</td>\n",
       "      <td>0</td>\n",
       "    </tr>\n",
       "    <tr>\n",
       "      <th>1</th>\n",
       "      <td>1</td>\n",
       "      <td>Drunk Bragging Trump Staffer Started Russian ...</td>\n",
       "      <td>Drunk Bragging Trump Staffer Started Russian ...</td>\n",
       "      <td>News</td>\n",
       "      <td>December 31, 2017</td>\n",
       "      <td>0</td>\n",
       "    </tr>\n",
       "    <tr>\n",
       "      <th>2</th>\n",
       "      <td>2</td>\n",
       "      <td>Sheriff David Clarke Becomes An Internet Joke...</td>\n",
       "      <td>Sheriff David Clarke Becomes An Internet Joke...</td>\n",
       "      <td>News</td>\n",
       "      <td>December 30, 2017</td>\n",
       "      <td>0</td>\n",
       "    </tr>\n",
       "    <tr>\n",
       "      <th>3</th>\n",
       "      <td>3</td>\n",
       "      <td>Trump Is So Obsessed He Even Has Obama’s Name...</td>\n",
       "      <td>Trump Is So Obsessed He Even Has Obama’s Name...</td>\n",
       "      <td>News</td>\n",
       "      <td>December 29, 2017</td>\n",
       "      <td>0</td>\n",
       "    </tr>\n",
       "    <tr>\n",
       "      <th>4</th>\n",
       "      <td>4</td>\n",
       "      <td>Pope Francis Just Called Out Donald Trump Dur...</td>\n",
       "      <td>Pope Francis Just Called Out Donald Trump Dur...</td>\n",
       "      <td>News</td>\n",
       "      <td>December 25, 2017</td>\n",
       "      <td>0</td>\n",
       "    </tr>\n",
       "  </tbody>\n",
       "</table>\n",
       "</div>"
      ],
      "text/plain": [
       "   index                                              title  \\\n",
       "0      0   Donald Trump Sends Out Embarrassing New Year’...   \n",
       "1      1   Drunk Bragging Trump Staffer Started Russian ...   \n",
       "2      2   Sheriff David Clarke Becomes An Internet Joke...   \n",
       "3      3   Trump Is So Obsessed He Even Has Obama’s Name...   \n",
       "4      4   Pope Francis Just Called Out Donald Trump Dur...   \n",
       "\n",
       "                                                text subject  \\\n",
       "0   Donald Trump Sends Out Embarrassing New Year’...    News   \n",
       "1   Drunk Bragging Trump Staffer Started Russian ...    News   \n",
       "2   Sheriff David Clarke Becomes An Internet Joke...    News   \n",
       "3   Trump Is So Obsessed He Even Has Obama’s Name...    News   \n",
       "4   Pope Francis Just Called Out Donald Trump Dur...    News   \n",
       "\n",
       "                date  label  \n",
       "0  December 31, 2017      0  \n",
       "1  December 31, 2017      0  \n",
       "2  December 30, 2017      0  \n",
       "3  December 29, 2017      0  \n",
       "4  December 25, 2017      0  "
      ]
     },
     "execution_count": 262,
     "metadata": {},
     "output_type": "execute_result"
    }
   ],
   "source": [
    "df.head()"
   ]
  },
  {
   "cell_type": "code",
   "execution_count": 263,
   "id": "085669a9",
   "metadata": {},
   "outputs": [
    {
     "data": {
      "text/plain": [
       "<AxesSubplot:xlabel='subject'>"
      ]
     },
     "execution_count": 263,
     "metadata": {},
     "output_type": "execute_result"
    },
    {
     "data": {
      "image/png": "[encoded data removed]",
      "text/plain": [
       "<Figure size 432x288 with 1 Axes>"
      ]
     },
     "metadata": {
      "needs_background": "light"
     },
     "output_type": "display_data"
    }
   ],
   "source": [
    "# news categories\n",
    "df.groupby('subject').label.count().plot.bar()"
   ]
  },
  {
   "cell_type": "code",
   "execution_count": 264,
   "id": "9ccc8567",
   "metadata": {
    "scrolled": true
   },
   "outputs": [
    {
     "data": {
      "text/plain": [
       "<AxesSubplot:xlabel='label'>"
      ]
     },
     "execution_count": 264,
     "metadata": {},
     "output_type": "execute_result"
    },
    {
     "data": {
      "image/png": "[encoded data removed]",
      "text/plain": [
       "<Figure size 432x288 with 1 Axes>"
      ]
     },
     "metadata": {
      "needs_background": "light"
     },
     "output_type": "display_data"
    }
   ],
   "source": [
    "# Number of sample in each class\n",
    "df.groupby('label').label.count().plot.bar(color=['r','g'])"
   ]
  },
  {
   "cell_type": "code",
   "execution_count": 265,
   "id": "da5e7f7a",
   "metadata": {},
   "outputs": [],
   "source": [
    "# drop column: subject, title\n",
    "del df['subject']\n",
    "del df['title']"
   ]
  },
  {
   "cell_type": "code",
   "execution_count": 266,
   "id": "e206530c",
   "metadata": {},
   "outputs": [
    {
     "data": {
      "text/html": [
       "<div>\n",
       "<style scoped>\n",
       "    .dataframe tbody tr th:only-of-type {\n",
       "        vertical-align: middle;\n",
       "    }\n",
       "\n",
       "    .dataframe tbody tr th {\n",
       "        vertical-align: top;\n",
       "    }\n",
       "\n",
       "    .dataframe thead th {\n",
       "        text-align: right;\n",
       "    }\n",
       "</style>\n",
       "<table border=\"1\" class=\"dataframe\">\n",
       "  <thead>\n",
       "    <tr style=\"text-align: right;\">\n",
       "      <th></th>\n",
       "      <th>index</th>\n",
       "      <th>text</th>\n",
       "      <th>date</th>\n",
       "      <th>label</th>\n",
       "    </tr>\n",
       "  </thead>\n",
       "  <tbody>\n",
       "    <tr>\n",
       "      <th>13906</th>\n",
       "      <td>13906</td>\n",
       "      <td>BREAKING BOMBSHELL: Blonde Clinton Neighbor, D...</td>\n",
       "      <td>May 13, 2016</td>\n",
       "      <td>0</td>\n",
       "    </tr>\n",
       "    <tr>\n",
       "      <th>37773</th>\n",
       "      <td>14292</td>\n",
       "      <td>Rosneft's Sechin to miss hearing at ex-ministe...</td>\n",
       "      <td>November 21, 2017</td>\n",
       "      <td>1</td>\n",
       "    </tr>\n",
       "    <tr>\n",
       "      <th>37564</th>\n",
       "      <td>14083</td>\n",
       "      <td>Turkey to detain 99 suspects in widening post-...</td>\n",
       "      <td>November 23, 2017</td>\n",
       "      <td>1</td>\n",
       "    </tr>\n",
       "    <tr>\n",
       "      <th>39111</th>\n",
       "      <td>15630</td>\n",
       "      <td>France warns of ballistic proliferation after ...</td>\n",
       "      <td>November 5, 2017</td>\n",
       "      <td>1</td>\n",
       "    </tr>\n",
       "    <tr>\n",
       "      <th>14169</th>\n",
       "      <td>14169</td>\n",
       "      <td>WATCH: BLACK LIVES MATTER Bernie Sanders Suppo...</td>\n",
       "      <td>Apr 4, 2016</td>\n",
       "      <td>0</td>\n",
       "    </tr>\n",
       "  </tbody>\n",
       "</table>\n",
       "</div>"
      ],
      "text/plain": [
       "       index                                               text  \\\n",
       "13906  13906  BREAKING BOMBSHELL: Blonde Clinton Neighbor, D...   \n",
       "37773  14292  Rosneft's Sechin to miss hearing at ex-ministe...   \n",
       "37564  14083  Turkey to detain 99 suspects in widening post-...   \n",
       "39111  15630  France warns of ballistic proliferation after ...   \n",
       "14169  14169  WATCH: BLACK LIVES MATTER Bernie Sanders Suppo...   \n",
       "\n",
       "                     date  label  \n",
       "13906        May 13, 2016      0  \n",
       "37773  November 21, 2017       1  \n",
       "37564  November 23, 2017       1  \n",
       "39111   November 5, 2017       1  \n",
       "14169         Apr 4, 2016      0  "
      ]
     },
     "execution_count": 266,
     "metadata": {},
     "output_type": "execute_result"
    }
   ],
   "source": [
    "# shuffle dataset\n",
    "df = df.sample(frac = 1)\n",
    "df.head()"
   ]
  },
  {
   "cell_type": "markdown",
   "id": "144607ba",
   "metadata": {},
   "source": [
    "### Data Preprocessing  "
   ]
  },
  {
   "cell_type": "code",
   "execution_count": 267,
   "id": "280b6861",
   "metadata": {},
   "outputs": [],
   "source": [
    "import nltk\n",
    "import re"
   ]
  },
  {
   "cell_type": "code",
   "execution_count": 268,
   "id": "88dee5af",
   "metadata": {},
   "outputs": [
    {
     "name": "stderr",
     "output_type": "stream",
     "text": [
      "[nltk_data] Downloading package stopwords to /Users/nayem/nltk_data...\n",
      "[nltk_data]   Package stopwords is already up-to-date!\n",
      "[nltk_data] Downloading package wordnet to /Users/nayem/nltk_data...\n",
      "[nltk_data]   Package wordnet is already up-to-date!\n"
     ]
    },
    {
     "data": {
      "text/plain": [
       "True"
      ]
     },
     "execution_count": 268,
     "metadata": {},
     "output_type": "execute_result"
    }
   ],
   "source": [
    "nltk.download('stopwords')\n",
    "nltk.download('wordnet')"
   ]
  },
  {
   "cell_type": "code",
   "execution_count": 269,
   "id": "ac512059",
   "metadata": {},
   "outputs": [],
   "source": [
    "# list of stopwords for english\n",
    "stopwords = nltk.corpus.stopwords.words(\"english\")"
   ]
  },
  {
   "cell_type": "code",
   "execution_count": 270,
   "id": "d77253f1",
   "metadata": {},
   "outputs": [],
   "source": [
    "import string\n",
    "from nltk.tokenize import word_tokenize\n",
    "ps = nltk.stem.porter.PorterStemmer()\n",
    "lem = nltk.stem.wordnet.WordNetLemmatizer()\n",
    "\n",
    "def delete_punctuation(text):\n",
    "    chars = []\n",
    "    for char in text:\n",
    "        if char not in string.punctuation:\n",
    "            chars.append(char)\n",
    "        else:\n",
    "            chars.append(' ')\n",
    "    return ''.join(chars)\n",
    "\n",
    "\n",
    "\n",
    "\n",
    "def cleaning_and_processing_text(txt):\n",
    "    \n",
    "    # lower cased the text\n",
    "    text = re.sub('[^a-zA-Z]',' ',txt)\n",
    "    text = re.sub('https?://\\S+|www\\.\\S+', '', text)\n",
    "    text = re.sub('\\\\W', ' ', text)\n",
    "    text = re.sub('\\n', '', text)\n",
    "    text = re.sub(' +', ' ', text)\n",
    "    text = re.sub(' $', '', text)\n",
    "    text = delete_punctuation(text)\n",
    "    text = text.lower()\n",
    "    \n",
    "    # remove stopwords, Stemming (remove -ing, -ly, ...) and Lemmatisation\n",
    "    text = text.split()\n",
    "    clean_text = [lem.lemmatize(word) for word in text if word not in stopwords]\n",
    "    clean_text = [ps.stem(word) for word in clean_text]\n",
    "    \n",
    "    text = \" \".join(clean_text)\n",
    "    \n",
    "    return text"
   ]
  },
  {
   "cell_type": "code",
   "execution_count": 271,
   "id": "56f07b6c",
   "metadata": {},
   "outputs": [],
   "source": [
    "df['clean_text'] = df['text'].apply(lambda x: cleaning_and_processing_text(x))"
   ]
  },
  {
   "cell_type": "code",
   "execution_count": 272,
   "id": "ab286988",
   "metadata": {},
   "outputs": [
    {
     "data": {
      "text/html": [
       "<div>\n",
       "<style scoped>\n",
       "    .dataframe tbody tr th:only-of-type {\n",
       "        vertical-align: middle;\n",
       "    }\n",
       "\n",
       "    .dataframe tbody tr th {\n",
       "        vertical-align: top;\n",
       "    }\n",
       "\n",
       "    .dataframe thead th {\n",
       "        text-align: right;\n",
       "    }\n",
       "</style>\n",
       "<table border=\"1\" class=\"dataframe\">\n",
       "  <thead>\n",
       "    <tr style=\"text-align: right;\">\n",
       "      <th></th>\n",
       "      <th>index</th>\n",
       "      <th>text</th>\n",
       "      <th>date</th>\n",
       "      <th>label</th>\n",
       "      <th>clean_text</th>\n",
       "    </tr>\n",
       "  </thead>\n",
       "  <tbody>\n",
       "    <tr>\n",
       "      <th>13906</th>\n",
       "      <td>13906</td>\n",
       "      <td>BREAKING BOMBSHELL: Blonde Clinton Neighbor, D...</td>\n",
       "      <td>May 13, 2016</td>\n",
       "      <td>0</td>\n",
       "      <td>break bombshel blond clinton neighbor dub ener...</td>\n",
       "    </tr>\n",
       "    <tr>\n",
       "      <th>37773</th>\n",
       "      <td>14292</td>\n",
       "      <td>Rosneft's Sechin to miss hearing at ex-ministe...</td>\n",
       "      <td>November 21, 2017</td>\n",
       "      <td>1</td>\n",
       "      <td>rosneft sechin miss hear ex minist corrupt tri...</td>\n",
       "    </tr>\n",
       "    <tr>\n",
       "      <th>37564</th>\n",
       "      <td>14083</td>\n",
       "      <td>Turkey to detain 99 suspects in widening post-...</td>\n",
       "      <td>November 23, 2017</td>\n",
       "      <td>1</td>\n",
       "      <td>turkey detain suspect widen post coup probe an...</td>\n",
       "    </tr>\n",
       "    <tr>\n",
       "      <th>39111</th>\n",
       "      <td>15630</td>\n",
       "      <td>France warns of ballistic proliferation after ...</td>\n",
       "      <td>November 5, 2017</td>\n",
       "      <td>1</td>\n",
       "      <td>franc warn ballist prolifer houthi target riya...</td>\n",
       "    </tr>\n",
       "    <tr>\n",
       "      <th>14169</th>\n",
       "      <td>14169</td>\n",
       "      <td>WATCH: BLACK LIVES MATTER Bernie Sanders Suppo...</td>\n",
       "      <td>Apr 4, 2016</td>\n",
       "      <td>0</td>\n",
       "      <td>watch black life matter berni sander support s...</td>\n",
       "    </tr>\n",
       "  </tbody>\n",
       "</table>\n",
       "</div>"
      ],
      "text/plain": [
       "       index                                               text  \\\n",
       "13906  13906  BREAKING BOMBSHELL: Blonde Clinton Neighbor, D...   \n",
       "37773  14292  Rosneft's Sechin to miss hearing at ex-ministe...   \n",
       "37564  14083  Turkey to detain 99 suspects in widening post-...   \n",
       "39111  15630  France warns of ballistic proliferation after ...   \n",
       "14169  14169  WATCH: BLACK LIVES MATTER Bernie Sanders Suppo...   \n",
       "\n",
       "                     date  label  \\\n",
       "13906        May 13, 2016      0   \n",
       "37773  November 21, 2017       1   \n",
       "37564  November 23, 2017       1   \n",
       "39111   November 5, 2017       1   \n",
       "14169         Apr 4, 2016      0   \n",
       "\n",
       "                                              clean_text  \n",
       "13906  break bombshel blond clinton neighbor dub ener...  \n",
       "37773  rosneft sechin miss hear ex minist corrupt tri...  \n",
       "37564  turkey detain suspect widen post coup probe an...  \n",
       "39111  franc warn ballist prolifer houthi target riya...  \n",
       "14169  watch black life matter berni sander support s...  "
      ]
     },
     "execution_count": 272,
     "metadata": {},
     "output_type": "execute_result"
    }
   ],
   "source": [
    "df.head()"
   ]
  },
  {
   "cell_type": "code",
   "execution_count": 273,
   "id": "a64edbe5",
   "metadata": {
    "scrolled": true
   },
   "outputs": [
    {
     "data": {
      "text/plain": [
       "array(['break bombshel blond clinton neighbor dub energ get million clinton chariti donald trump react donald trump react friday report clinton global foundat provid million power compani partli own rich blond divorce say peopl whisper possibl romant tie bill clinton long time commit juli tauber mcmahon firm clinton global initi place confer agenda clinton urg wall street journal report thursday initi commit million support work energi pioneer solut compani found deliv energi save commun rural america said statement chariti peopl talk year idea went certainli presumpt gop presidenti nomine said fox friend accord report wall street journal clinton global initi dole million energi pioneer solut partli own juli tauber mcmahon fit blond mother three life minut bill hillari clinton home chappaqua west chester daughter joel tauber millionair donor democrat parti mcmahon rumor woman dub energ secret servic clinton home frequent visit accord radaronlin secret servic agent even given special instruct abandon usual protocol woman came accord journalist ronald kessler tell book first famili detail stop approach let go say book base agent account energ describ book charm visitor sometim brought cooki agent book describ one sun drench afternoon agent took notic woman reveal attir warm day wear low cut tank top lean breast expos agent quot book say energ reportedli time arriv departur around hillari clinton schedul ask whether probe money direct foundat chariti compani trump said well assum put word chariti quot interview cite new york post cover stori told trump clinton help steer feder grant compani energi secretari steven chu interview also point nonprofit suppos act anyon privat interest entir stori nyp'],\n",
       "      dtype=object)"
      ]
     },
     "execution_count": 273,
     "metadata": {},
     "output_type": "execute_result"
    }
   ],
   "source": [
    "df['clean_text'][:1].values"
   ]
  },
  {
   "cell_type": "markdown",
   "id": "777e3093",
   "metadata": {},
   "source": [
    "### Text to Vectorize data\n"
   ]
  },
  {
   "cell_type": "code",
   "execution_count": 274,
   "id": "8c28b69a",
   "metadata": {},
   "outputs": [],
   "source": [
    "# sparse feature matrix from text using TfidfVectorizer \n",
    "from sklearn.feature_extraction.text import TfidfVectorizer\n",
    "vectorizer = TfidfVectorizer(stop_words='english') # params: max_features=500 can be used\n",
    "vector_df = vectorizer.fit_transform(df['clean_text'])"
   ]
  },
  {
   "cell_type": "code",
   "execution_count": 275,
   "id": "540f471c",
   "metadata": {},
   "outputs": [
    {
     "data": {
      "text/plain": [
       "(44898, 89469)"
      ]
     },
     "execution_count": 275,
     "metadata": {},
     "output_type": "execute_result"
    }
   ],
   "source": [
    "vector_df.shape"
   ]
  },
  {
   "cell_type": "code",
   "execution_count": 309,
   "id": "89c1fec5",
   "metadata": {},
   "outputs": [
    {
     "name": "stdout",
     "output_type": "stream",
     "text": [
      "['aa', 'aaa', 'aaaaaaaand', 'aaaaackkk', 'aaaaapkfhk', 'aaaahhhh', 'aaaand', 'aaaarrgh', 'aaab', 'aaarf', 'aab', 'aaba', 'aabfsv', 'aabg', 'aabo', 'aaccord', 'aachen', 'aacnr', 'aadhaar', 'aadhar', 'aadl', 'aaf', 'aafn', 'aag', 'aagi', 'aagxdwkrjpq', 'aahd', 'aahi', 'aahwuhvvnh', 'aai', 'aaj', 'aaja', 'aal', 'aalberg', 'aalbert', 'aaldef', 'aaliyah', 'aamer', 'aamin', 'aammir', 'aamom', 'aamrrd', 'aan', 'aaofj', 'aaouj', 'aapa', 'aapi', 'aapl', 'aapq', 'aapxim']\n"
     ]
    }
   ],
   "source": [
    "# display 50 features of sparse matrix\n",
    "print(vectorizer.get_feature_names()[:50])"
   ]
  },
  {
   "cell_type": "code",
   "execution_count": 277,
   "id": "e60c576a",
   "metadata": {},
   "outputs": [],
   "source": [
    "# important features using TruncatedSVD\n",
    "from sklearn.decomposition import TruncatedSVD\n",
    "svd = TruncatedSVD(n_components=1000, n_iter=7) # best 1000 features\n",
    "truncated_x = pd.DataFrame(svd.fit_transform(vector_df))"
   ]
  },
  {
   "cell_type": "code",
   "execution_count": 278,
   "id": "6ce9949c",
   "metadata": {},
   "outputs": [
    {
     "data": {
      "text/html": [
       "<div>\n",
       "<style scoped>\n",
       "    .dataframe tbody tr th:only-of-type {\n",
       "        vertical-align: middle;\n",
       "    }\n",
       "\n",
       "    .dataframe tbody tr th {\n",
       "        vertical-align: top;\n",
       "    }\n",
       "\n",
       "    .dataframe thead th {\n",
       "        text-align: right;\n",
       "    }\n",
       "</style>\n",
       "<table border=\"1\" class=\"dataframe\">\n",
       "  <thead>\n",
       "    <tr style=\"text-align: right;\">\n",
       "      <th></th>\n",
       "      <th>0</th>\n",
       "      <th>1</th>\n",
       "      <th>2</th>\n",
       "      <th>3</th>\n",
       "      <th>4</th>\n",
       "      <th>5</th>\n",
       "      <th>6</th>\n",
       "      <th>7</th>\n",
       "      <th>8</th>\n",
       "      <th>9</th>\n",
       "      <th>...</th>\n",
       "      <th>990</th>\n",
       "      <th>991</th>\n",
       "      <th>992</th>\n",
       "      <th>993</th>\n",
       "      <th>994</th>\n",
       "      <th>995</th>\n",
       "      <th>996</th>\n",
       "      <th>997</th>\n",
       "      <th>998</th>\n",
       "      <th>999</th>\n",
       "    </tr>\n",
       "  </thead>\n",
       "  <tbody>\n",
       "    <tr>\n",
       "      <th>0</th>\n",
       "      <td>0.210797</td>\n",
       "      <td>-0.084305</td>\n",
       "      <td>0.007055</td>\n",
       "      <td>-0.081936</td>\n",
       "      <td>0.104061</td>\n",
       "      <td>0.162768</td>\n",
       "      <td>0.045044</td>\n",
       "      <td>0.097901</td>\n",
       "      <td>0.019920</td>\n",
       "      <td>0.086741</td>\n",
       "      <td>...</td>\n",
       "      <td>0.002472</td>\n",
       "      <td>-0.002533</td>\n",
       "      <td>0.002268</td>\n",
       "      <td>0.001158</td>\n",
       "      <td>0.028460</td>\n",
       "      <td>-0.015367</td>\n",
       "      <td>0.004920</td>\n",
       "      <td>-0.008460</td>\n",
       "      <td>0.029138</td>\n",
       "      <td>0.015659</td>\n",
       "    </tr>\n",
       "    <tr>\n",
       "      <th>1</th>\n",
       "      <td>0.105323</td>\n",
       "      <td>0.059376</td>\n",
       "      <td>-0.003877</td>\n",
       "      <td>-0.023701</td>\n",
       "      <td>0.067404</td>\n",
       "      <td>-0.041279</td>\n",
       "      <td>0.000833</td>\n",
       "      <td>-0.008642</td>\n",
       "      <td>0.019303</td>\n",
       "      <td>-0.034081</td>\n",
       "      <td>...</td>\n",
       "      <td>0.009054</td>\n",
       "      <td>-0.018876</td>\n",
       "      <td>-0.011487</td>\n",
       "      <td>-0.035451</td>\n",
       "      <td>0.022481</td>\n",
       "      <td>-0.016869</td>\n",
       "      <td>-0.021431</td>\n",
       "      <td>-0.022158</td>\n",
       "      <td>-0.005834</td>\n",
       "      <td>-0.037660</td>\n",
       "    </tr>\n",
       "    <tr>\n",
       "      <th>2</th>\n",
       "      <td>0.129242</td>\n",
       "      <td>0.106455</td>\n",
       "      <td>-0.055181</td>\n",
       "      <td>-0.090192</td>\n",
       "      <td>0.027940</td>\n",
       "      <td>-0.041382</td>\n",
       "      <td>-0.007516</td>\n",
       "      <td>-0.014856</td>\n",
       "      <td>-0.001439</td>\n",
       "      <td>-0.000420</td>\n",
       "      <td>...</td>\n",
       "      <td>0.003606</td>\n",
       "      <td>-0.006438</td>\n",
       "      <td>-0.001062</td>\n",
       "      <td>0.001724</td>\n",
       "      <td>0.004697</td>\n",
       "      <td>-0.005695</td>\n",
       "      <td>0.004248</td>\n",
       "      <td>-0.017027</td>\n",
       "      <td>0.015447</td>\n",
       "      <td>0.004794</td>\n",
       "    </tr>\n",
       "    <tr>\n",
       "      <th>3</th>\n",
       "      <td>0.063790</td>\n",
       "      <td>0.126330</td>\n",
       "      <td>0.033238</td>\n",
       "      <td>-0.023379</td>\n",
       "      <td>0.004643</td>\n",
       "      <td>-0.010236</td>\n",
       "      <td>0.047131</td>\n",
       "      <td>0.022252</td>\n",
       "      <td>-0.078996</td>\n",
       "      <td>-0.000564</td>\n",
       "      <td>...</td>\n",
       "      <td>0.003842</td>\n",
       "      <td>0.010583</td>\n",
       "      <td>0.000530</td>\n",
       "      <td>-0.019981</td>\n",
       "      <td>-0.004235</td>\n",
       "      <td>-0.029789</td>\n",
       "      <td>-0.018588</td>\n",
       "      <td>-0.001944</td>\n",
       "      <td>0.011909</td>\n",
       "      <td>-0.021528</td>\n",
       "    </tr>\n",
       "    <tr>\n",
       "      <th>4</th>\n",
       "      <td>0.168685</td>\n",
       "      <td>-0.086978</td>\n",
       "      <td>0.024366</td>\n",
       "      <td>-0.078021</td>\n",
       "      <td>-0.094415</td>\n",
       "      <td>0.042170</td>\n",
       "      <td>-0.002704</td>\n",
       "      <td>0.008719</td>\n",
       "      <td>-0.030177</td>\n",
       "      <td>-0.062407</td>\n",
       "      <td>...</td>\n",
       "      <td>-0.004697</td>\n",
       "      <td>0.019882</td>\n",
       "      <td>0.006654</td>\n",
       "      <td>-0.003820</td>\n",
       "      <td>0.003976</td>\n",
       "      <td>0.022796</td>\n",
       "      <td>-0.022069</td>\n",
       "      <td>-0.013496</td>\n",
       "      <td>0.010119</td>\n",
       "      <td>0.008948</td>\n",
       "    </tr>\n",
       "  </tbody>\n",
       "</table>\n",
       "<p>5 rows × 1000 columns</p>\n",
       "</div>"
      ],
      "text/plain": [
       "        0         1         2         3         4         5         6    \\\n",
       "0  0.210797 -0.084305  0.007055 -0.081936  0.104061  0.162768  0.045044   \n",
       "1  0.105323  0.059376 -0.003877 -0.023701  0.067404 -0.041279  0.000833   \n",
       "2  0.129242  0.106455 -0.055181 -0.090192  0.027940 -0.041382 -0.007516   \n",
       "3  0.063790  0.126330  0.033238 -0.023379  0.004643 -0.010236  0.047131   \n",
       "4  0.168685 -0.086978  0.024366 -0.078021 -0.094415  0.042170 -0.002704   \n",
       "\n",
       "        7         8         9    ...       990       991       992       993  \\\n",
       "0  0.097901  0.019920  0.086741  ...  0.002472 -0.002533  0.002268  0.001158   \n",
       "1 -0.008642  0.019303 -0.034081  ...  0.009054 -0.018876 -0.011487 -0.035451   \n",
       "2 -0.014856 -0.001439 -0.000420  ...  0.003606 -0.006438 -0.001062  0.001724   \n",
       "3  0.022252 -0.078996 -0.000564  ...  0.003842  0.010583  0.000530 -0.019981   \n",
       "4  0.008719 -0.030177 -0.062407  ... -0.004697  0.019882  0.006654 -0.003820   \n",
       "\n",
       "        994       995       996       997       998       999  \n",
       "0  0.028460 -0.015367  0.004920 -0.008460  0.029138  0.015659  \n",
       "1  0.022481 -0.016869 -0.021431 -0.022158 -0.005834 -0.037660  \n",
       "2  0.004697 -0.005695  0.004248 -0.017027  0.015447  0.004794  \n",
       "3 -0.004235 -0.029789 -0.018588 -0.001944  0.011909 -0.021528  \n",
       "4  0.003976  0.022796 -0.022069 -0.013496  0.010119  0.008948  \n",
       "\n",
       "[5 rows x 1000 columns]"
      ]
     },
     "execution_count": 278,
     "metadata": {},
     "output_type": "execute_result"
    }
   ],
   "source": [
    "truncated_x.head()"
   ]
  },
  {
   "cell_type": "markdown",
   "id": "64dd981a",
   "metadata": {},
   "source": [
    "### Split Dataset"
   ]
  },
  {
   "cell_type": "code",
   "execution_count": 297,
   "id": "eb1db66b",
   "metadata": {},
   "outputs": [],
   "source": [
    "tf_dataset = (\n",
    "    tf.data.Dataset.from_tensor_slices(\n",
    "        (\n",
    "            tf.cast(truncated_x.values, tf.float32),\n",
    "            tf.cast(df['label'].values, tf.int32)\n",
    "        )\n",
    "    )\n",
    ")"
   ]
  },
  {
   "cell_type": "code",
   "execution_count": 298,
   "id": "a2313926",
   "metadata": {},
   "outputs": [],
   "source": [
    "# method: split dataset - train, validation, test\n",
    "def get_dataset_partitions_tf(ds, ds_size, train_split=0.8, val_split=0.1, test_split=0.1, shuffle=True, shuffle_size=10000):\n",
    "    assert (train_split + test_split + val_split) == 1\n",
    "    \n",
    "    train_size = int(train_split * ds_size)\n",
    "    val_size = int(val_split * ds_size)\n",
    "    \n",
    "    train_ds = ds.take(train_size)    \n",
    "    val_ds = ds.skip(train_size).take(val_size)\n",
    "    test_ds = ds.skip(train_size).skip(val_size)\n",
    "    \n",
    "    return train_ds, val_ds, test_ds"
   ]
  },
  {
   "cell_type": "code",
   "execution_count": 299,
   "id": "4d37d8e4",
   "metadata": {},
   "outputs": [],
   "source": [
    "train_split, valid_split, test_split = get_dataset_partitions_tf(tf_dataset, len(list(tf_dataset)))"
   ]
  },
  {
   "cell_type": "code",
   "execution_count": 300,
   "id": "9860b5ec",
   "metadata": {},
   "outputs": [],
   "source": [
    "# Create min-batch data\n",
    "train_dataset = train_split.batch(64)\n",
    "val_dataset = valid_split.batch(64)\n",
    "test_dataset = test_split.batch(64)"
   ]
  },
  {
   "cell_type": "markdown",
   "id": "8127a1fb",
   "metadata": {},
   "source": [
    "### Model"
   ]
  },
  {
   "cell_type": "code",
   "execution_count": 301,
   "id": "7f349176",
   "metadata": {},
   "outputs": [],
   "source": [
    "from tensorflow import keras\n",
    "\n",
    "model = keras.Sequential([\n",
    "    keras.layers.Reshape(target_shape=(1000,), input_shape=(1000,)),\n",
    "    keras.layers.Dense(units=40, activation='relu'),\n",
    "    keras.layers.Dense(units=20, activation='relu'),\n",
    "    keras.layers.Dense(units=10, activation='relu'),\n",
    "    keras.layers.Dense(units=5, activation='relu'),\n",
    "    keras.layers.Dense(units=1, activation='sigmoid')\n",
    "])"
   ]
  },
  {
   "cell_type": "code",
   "execution_count": 302,
   "id": "dde2f5b9",
   "metadata": {},
   "outputs": [
    {
     "name": "stdout",
     "output_type": "stream",
     "text": [
      "Model: \"sequential_13\"\n",
      "_________________________________________________________________\n",
      "Layer (type)                 Output Shape              Param #   \n",
      "=================================================================\n",
      "reshape_13 (Reshape)         (None, 1000)              0         \n",
      "_________________________________________________________________\n",
      "dense_65 (Dense)             (None, 40)                40040     \n",
      "_________________________________________________________________\n",
      "dense_66 (Dense)             (None, 20)                820       \n",
      "_________________________________________________________________\n",
      "dense_67 (Dense)             (None, 10)                210       \n",
      "_________________________________________________________________\n",
      "dense_68 (Dense)             (None, 5)                 55        \n",
      "_________________________________________________________________\n",
      "dense_69 (Dense)             (None, 1)                 6         \n",
      "=================================================================\n",
      "Total params: 41,131\n",
      "Trainable params: 41,131\n",
      "Non-trainable params: 0\n",
      "_________________________________________________________________\n"
     ]
    }
   ],
   "source": [
    "model.summary()"
   ]
  },
  {
   "cell_type": "markdown",
   "id": "215e0b8e",
   "metadata": {},
   "source": [
    "### Training Model"
   ]
  },
  {
   "cell_type": "code",
   "execution_count": 303,
   "id": "216d307a",
   "metadata": {},
   "outputs": [
    {
     "name": "stdout",
     "output_type": "stream",
     "text": [
      "Epoch 1/50\n",
      "500/500 [==============================] - 1s 1ms/step - loss: 0.6909 - accuracy: 0.5239 - val_loss: 0.6747 - val_accuracy: 0.6953\n",
      "Epoch 2/50\n",
      "500/500 [==============================] - 0s 958us/step - loss: 0.6699 - accuracy: 0.6491 - val_loss: 0.6219 - val_accuracy: 0.7969\n",
      "Epoch 3/50\n",
      "500/500 [==============================] - 0s 967us/step - loss: 0.5953 - accuracy: 0.8311 - val_loss: 0.4208 - val_accuracy: 0.9375\n",
      "Epoch 4/50\n",
      "500/500 [==============================] - 0s 939us/step - loss: 0.3535 - accuracy: 0.9195 - val_loss: 0.1680 - val_accuracy: 0.9688\n",
      "Epoch 5/50\n",
      "500/500 [==============================] - 0s 966us/step - loss: 0.1633 - accuracy: 0.9521 - val_loss: 0.1006 - val_accuracy: 0.9766\n",
      "Epoch 6/50\n",
      "500/500 [==============================] - 0s 987us/step - loss: 0.1029 - accuracy: 0.9701 - val_loss: 0.0757 - val_accuracy: 0.9766\n",
      "Epoch 7/50\n",
      "500/500 [==============================] - 0s 950us/step - loss: 0.0789 - accuracy: 0.9750 - val_loss: 0.0635 - val_accuracy: 0.9766\n",
      "Epoch 8/50\n",
      "500/500 [==============================] - 0s 948us/step - loss: 0.0680 - accuracy: 0.9785 - val_loss: 0.0614 - val_accuracy: 0.9844\n",
      "Epoch 9/50\n",
      "500/500 [==============================] - 0s 948us/step - loss: 0.0583 - accuracy: 0.9814 - val_loss: 0.0424 - val_accuracy: 0.9922\n",
      "Epoch 10/50\n",
      "500/500 [==============================] - 0s 924us/step - loss: 0.0504 - accuracy: 0.9849 - val_loss: 0.0368 - val_accuracy: 0.9766\n",
      "Epoch 11/50\n",
      "500/500 [==============================] - 0s 940us/step - loss: 0.0466 - accuracy: 0.9852 - val_loss: 0.0492 - val_accuracy: 0.9766\n",
      "Epoch 12/50\n",
      "500/500 [==============================] - 0s 939us/step - loss: 0.0444 - accuracy: 0.9861 - val_loss: 0.0281 - val_accuracy: 1.0000\n",
      "Epoch 13/50\n",
      "500/500 [==============================] - 0s 977us/step - loss: 0.0414 - accuracy: 0.9876 - val_loss: 0.0251 - val_accuracy: 1.0000\n",
      "Epoch 14/50\n",
      "500/500 [==============================] - 0s 920us/step - loss: 0.0384 - accuracy: 0.9886 - val_loss: 0.0386 - val_accuracy: 0.9844\n",
      "Epoch 15/50\n",
      "500/500 [==============================] - 0s 987us/step - loss: 0.0349 - accuracy: 0.9891 - val_loss: 0.0219 - val_accuracy: 1.0000\n",
      "Epoch 16/50\n",
      "500/500 [==============================] - 0s 986us/step - loss: 0.0342 - accuracy: 0.9899 - val_loss: 0.0227 - val_accuracy: 0.9922\n",
      "Epoch 17/50\n",
      "500/500 [==============================] - 0s 962us/step - loss: 0.0338 - accuracy: 0.9903 - val_loss: 0.0223 - val_accuracy: 0.9922\n",
      "Epoch 18/50\n",
      "500/500 [==============================] - 0s 951us/step - loss: 0.0322 - accuracy: 0.9902 - val_loss: 0.0158 - val_accuracy: 1.0000\n",
      "Epoch 19/50\n",
      "500/500 [==============================] - 0s 950us/step - loss: 0.0301 - accuracy: 0.9909 - val_loss: 0.0146 - val_accuracy: 1.0000\n",
      "Epoch 20/50\n",
      "500/500 [==============================] - 0s 952us/step - loss: 0.0284 - accuracy: 0.9918 - val_loss: 0.0215 - val_accuracy: 0.9922\n",
      "Epoch 21/50\n",
      "500/500 [==============================] - 0s 986us/step - loss: 0.0275 - accuracy: 0.9916 - val_loss: 0.0121 - val_accuracy: 1.0000\n",
      "Epoch 22/50\n",
      "500/500 [==============================] - 0s 953us/step - loss: 0.0282 - accuracy: 0.9918 - val_loss: 0.0117 - val_accuracy: 1.0000\n",
      "Epoch 23/50\n",
      "500/500 [==============================] - 0s 929us/step - loss: 0.0281 - accuracy: 0.9923 - val_loss: 0.0171 - val_accuracy: 1.0000\n",
      "Epoch 24/50\n",
      "500/500 [==============================] - 0s 958us/step - loss: 0.0248 - accuracy: 0.9929 - val_loss: 0.0109 - val_accuracy: 1.0000\n",
      "Epoch 25/50\n",
      "500/500 [==============================] - 0s 940us/step - loss: 0.0251 - accuracy: 0.9925 - val_loss: 0.0133 - val_accuracy: 1.0000\n",
      "Epoch 26/50\n",
      "500/500 [==============================] - 0s 939us/step - loss: 0.0269 - accuracy: 0.9934 - val_loss: 0.0113 - val_accuracy: 1.0000\n",
      "Epoch 27/50\n",
      "500/500 [==============================] - 0s 953us/step - loss: 0.0255 - accuracy: 0.9928 - val_loss: 0.0133 - val_accuracy: 1.0000\n",
      "Epoch 28/50\n",
      "500/500 [==============================] - 1s 1ms/step - loss: 0.0233 - accuracy: 0.9935 - val_loss: 0.0123 - val_accuracy: 1.0000\n",
      "Epoch 29/50\n",
      "500/500 [==============================] - 0s 971us/step - loss: 0.0222 - accuracy: 0.9932 - val_loss: 0.0086 - val_accuracy: 1.0000\n",
      "Epoch 30/50\n",
      "500/500 [==============================] - 0s 967us/step - loss: 0.0204 - accuracy: 0.9946 - val_loss: 0.0079 - val_accuracy: 1.0000\n",
      "Epoch 31/50\n",
      "500/500 [==============================] - 0s 995us/step - loss: 0.0223 - accuracy: 0.9927 - val_loss: 0.0080 - val_accuracy: 1.0000\n",
      "Epoch 32/50\n",
      "500/500 [==============================] - 0s 962us/step - loss: 0.0233 - accuracy: 0.9931 - val_loss: 0.0099 - val_accuracy: 1.0000\n",
      "Epoch 33/50\n",
      "500/500 [==============================] - 1s 1ms/step - loss: 0.0211 - accuracy: 0.9938 - val_loss: 0.0102 - val_accuracy: 1.0000\n",
      "Epoch 34/50\n",
      "500/500 [==============================] - 0s 976us/step - loss: 0.0214 - accuracy: 0.9937 - val_loss: 0.0232 - val_accuracy: 0.9922\n",
      "Epoch 35/50\n",
      "500/500 [==============================] - 0s 998us/step - loss: 0.0208 - accuracy: 0.9941 - val_loss: 0.0077 - val_accuracy: 1.0000\n",
      "Epoch 36/50\n",
      "500/500 [==============================] - 0s 981us/step - loss: 0.0220 - accuracy: 0.9938 - val_loss: 0.0100 - val_accuracy: 1.0000\n",
      "Epoch 37/50\n",
      "500/500 [==============================] - 1s 999us/step - loss: 0.0197 - accuracy: 0.9943 - val_loss: 0.0073 - val_accuracy: 1.0000\n",
      "Epoch 38/50\n",
      "500/500 [==============================] - 1s 1ms/step - loss: 0.0181 - accuracy: 0.9944 - val_loss: 0.0105 - val_accuracy: 1.0000\n",
      "Epoch 39/50\n",
      "500/500 [==============================] - 0s 951us/step - loss: 0.0175 - accuracy: 0.9949 - val_loss: 0.0079 - val_accuracy: 1.0000\n",
      "Epoch 40/50\n",
      "500/500 [==============================] - 0s 999us/step - loss: 0.0198 - accuracy: 0.9930 - val_loss: 0.0097 - val_accuracy: 1.0000\n",
      "Epoch 41/50\n",
      "500/500 [==============================] - 0s 984us/step - loss: 0.0212 - accuracy: 0.9941 - val_loss: 0.0145 - val_accuracy: 0.9922\n",
      "Epoch 42/50\n",
      "500/500 [==============================] - 0s 967us/step - loss: 0.0191 - accuracy: 0.9946 - val_loss: 0.0109 - val_accuracy: 0.9922\n",
      "Epoch 43/50\n",
      "500/500 [==============================] - 0s 971us/step - loss: 0.0195 - accuracy: 0.9945 - val_loss: 0.0099 - val_accuracy: 1.0000\n",
      "Epoch 44/50\n",
      "500/500 [==============================] - 0s 960us/step - loss: 0.0191 - accuracy: 0.9950 - val_loss: 0.0163 - val_accuracy: 0.9922\n",
      "Epoch 45/50\n",
      "500/500 [==============================] - 0s 955us/step - loss: 0.0195 - accuracy: 0.9949 - val_loss: 0.0226 - val_accuracy: 0.9844\n",
      "Epoch 46/50\n",
      "500/500 [==============================] - 0s 964us/step - loss: 0.0178 - accuracy: 0.9950 - val_loss: 0.0134 - val_accuracy: 0.9922\n",
      "Epoch 47/50\n",
      "500/500 [==============================] - 0s 967us/step - loss: 0.0149 - accuracy: 0.9956 - val_loss: 0.0093 - val_accuracy: 1.0000\n",
      "Epoch 48/50\n",
      "500/500 [==============================] - 0s 964us/step - loss: 0.0160 - accuracy: 0.9952 - val_loss: 0.0092 - val_accuracy: 1.0000\n",
      "Epoch 49/50\n",
      "500/500 [==============================] - 0s 981us/step - loss: 0.0180 - accuracy: 0.9939 - val_loss: 0.0119 - val_accuracy: 1.0000\n",
      "Epoch 50/50\n",
      "500/500 [==============================] - 0s 953us/step - loss: 0.0197 - accuracy: 0.9951 - val_loss: 0.0143 - val_accuracy: 0.9922\n"
     ]
    }
   ],
   "source": [
    "model.compile(optimizer='SGD', \n",
    "              loss=tf.losses.BinaryCrossentropy(from_logits=True),\n",
    "              metrics=['accuracy'])\n",
    "\n",
    "history = model.fit(\n",
    "    train_dataset.repeat(), \n",
    "    epochs=50, \n",
    "    steps_per_epoch=500,\n",
    "    validation_data=val_dataset.repeat(), \n",
    "    validation_steps=2\n",
    ")"
   ]
  },
  {
   "cell_type": "code",
   "execution_count": 310,
   "id": "330f254e",
   "metadata": {},
   "outputs": [
    {
     "data": {
      "text/plain": [
       "<function matplotlib.pyplot.show(close=None, block=None)>"
      ]
     },
     "execution_count": 310,
     "metadata": {},
     "output_type": "execute_result"
    },
    {
     "data": {
      "image/png": "[encoded data removed]",
      "text/plain": [
       "<Figure size 432x288 with 1 Axes>"
      ]
     },
     "metadata": {
      "needs_background": "light"
     },
     "output_type": "display_data"
    },
    {
     "data": {
      "text/plain": [
       "<Figure size 432x288 with 0 Axes>"
      ]
     },
     "metadata": {},
     "output_type": "display_data"
    }
   ],
   "source": [
    "# training and validation loss\n",
    "\n",
    "loss = history.history['loss']\n",
    "val_loss = history.history['val_loss']\n",
    "\n",
    "epochs = range(1, len(loss)+1)\n",
    "\n",
    "plt.plot(epochs, loss, label='Training loss')\n",
    "plt.plot(epochs, val_loss, label='Validation loss')\n",
    "plt.title('Training and validation loss')\n",
    "plt.legend()\n",
    "\n",
    "plt.figure()\n",
    "plt.show"
   ]
  },
  {
   "cell_type": "markdown",
   "id": "06e6a7cd",
   "metadata": {},
   "source": [
    "### Evaluate Model"
   ]
  },
  {
   "cell_type": "code",
   "execution_count": 311,
   "id": "d7195219",
   "metadata": {},
   "outputs": [
    {
     "name": "stdout",
     "output_type": "stream",
     "text": [
      "71/71 [==============================] - 0s 503us/step - loss: 0.0543 - accuracy: 0.9846\n"
     ]
    },
    {
     "data": {
      "text/plain": [
       "{'loss': 0.0542885884642601, 'accuracy': 0.9846359491348267}"
      ]
     },
     "execution_count": 311,
     "metadata": {},
     "output_type": "execute_result"
    }
   ],
   "source": [
    "result = model.evaluate(test_dataset)\n",
    "dict(zip(model.metrics_names, result))"
   ]
  },
  {
   "cell_type": "code",
   "execution_count": null,
   "id": "f949fec5",
   "metadata": {},
   "outputs": [],
   "source": []
  }
 ],
 "metadata": {
  "kernelspec": {
   "display_name": "Python 3",
   "language": "python",
   "name": "python3"
  },
  "language_info": {
   "codemirror_mode": {
    "name": "ipython",
    "version": 3
   },
   "file_extension": ".py",
   "mimetype": "text/x-python",
   "name": "python",
   "nbconvert_exporter": "python",
   "pygments_lexer": "ipython3",
   "version": "3.8.10"
  }
 },
 "nbformat": 4,
 "nbformat_minor": 5
}
