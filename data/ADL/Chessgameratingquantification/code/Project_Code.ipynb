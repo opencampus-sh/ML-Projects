{
  "nbformat": 4,
  "nbformat_minor": 0,
  "metadata": {
    "colab": {
      "name": "Project_Code.ipynb",
      "provenance": [],
      "collapsed_sections": []
    },
    "kernelspec": {
      "name": "python3",
      "display_name": "Python 3"
    },
    "language_info": {
      "name": "python"
    },
    "accelerator": "GPU"
  },
  "cells": [
    {
      "cell_type": "markdown",
      "metadata": {
        "id": "8OEi75IQlQ-P"
      },
      "source": [
        "---\n",
        "## Note from the Teachers:\n",
        "We added a header with information about your project. \n",
        "This is useful since we want to keep a database of all the cool projects participants have made during the courses.\n",
        "We will save the code in our database and host on github a page to show all the projects. Therefore it is more practical to add some information in the header of each notebook.\n",
        "Thanks a lot for the understanding and for taking care of it.\n",
        "\n",
        "You can delete this cell if you want\n",
        "\n",
        "---"
      ]
    },
    {
      "cell_type": "markdown",
      "metadata": {
        "id": "q1lZJs4flQ-R"
      },
      "source": [
        "# Project Name: Chess game rating quantification\n",
        "The idea is to predict, who wins a chess game after some moves. That could be a first step to analyse, which move(s) where the main reason for losing a game or not winning it."
      ]
    },
    {
      "cell_type": "markdown",
      "metadata": {
        "id": "SkNdzN5MlQ-U"
      },
      "source": [
        "### Project Repo \n",
        "link (replace if you have your own repo, otherwise delete)"
      ]
    },
    {
      "cell_type": "markdown",
      "metadata": {
        "id": "2uOCgxP-lQ-W"
      },
      "source": [
        "## Participants:\n",
        "Niko Schmidt"
      ]
    },
    {
      "cell_type": "markdown",
      "metadata": {
        "id": "qDglhyr1lQ-Y"
      },
      "source": [
        "### Course and Semester\n",
        "Advanced Deep Learning - from CNN to Transformers\n",
        "Summer semster 2021"
      ]
    },
    {
      "cell_type": "markdown",
      "metadata": {
        "id": "NllCyWXVjdIN"
      },
      "source": [
        "### License\n",
        "\n",
        "<a rel=\"license\" href=\"http://creativecommons.org/licenses/by-sa/4.0/\"><img alt=\"Creative Commons License\" style=\"border-width:0\" src=\"https://i.creativecommons.org/l/by-sa/4.0/88x31.png\" /></a><br />This work is licensed under a <a rel=\"license\" href=\"http://creativecommons.org/licenses/by-sa/4.0/\">Creative Commons Attribution-ShareAlike 4.0 International License</a>.\n",
        "\\\n",
        "Further there is absolute no warranty for the provided code."
      ]
    },
    {
      "cell_type": "code",
      "metadata": {
        "id": "DXjmxj_0ZZAV"
      },
      "source": [
        "import numpy as np\n",
        "import matplotlib.pyplot as plt\n",
        "import tensorflow as tf"
      ],
      "execution_count": null,
      "outputs": []
    },
    {
      "cell_type": "code",
      "metadata": {
        "colab": {
          "resources": {
            "http://localhost:8080/nbextensions/google.colab/files.js": {
              "data": "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",
              "ok": true,
              "headers": [
                [
                  "content-type",
                  "application/javascript"
                ]
              ],
              "status": 200,
              "status_text": "OK"
            }
          },
          "base_uri": "https://localhost:8080/",
          "height": 74
        },
        "id": "Ikk3G6duZpdo",
        "outputId": "c1ad63e9-df51-487f-da8c-7898a52440f9"
      },
      "source": [
        "# import the results\n",
        "from google.colab import files\n",
        "uploaded_Results = files.upload()"
      ],
      "execution_count": null,
      "outputs": [
        {
          "output_type": "display_data",
          "data": {
            "text/html": [
              "\n",
              "     <input type=\"file\" id=\"files-66d94177-f2df-485f-8687-ab7845c1bd65\" name=\"files[]\" multiple disabled\n",
              "        style=\"border:none\" />\n",
              "     <output id=\"result-66d94177-f2df-485f-8687-ab7845c1bd65\">\n",
              "      Upload widget is only available when the cell has been executed in the\n",
              "      current browser session. Please rerun this cell to enable.\n",
              "      </output>\n",
              "      <script src=\"/nbextensions/google.colab/files.js\"></script> "
            ],
            "text/plain": [
              "<IPython.core.display.HTML object>"
            ]
          },
          "metadata": {
            "tags": []
          }
        },
        {
          "output_type": "stream",
          "text": [
            "Saving results_in_numbers.txt.npy to results_in_numbers.txt.npy\n"
          ],
          "name": "stdout"
        }
      ]
    },
    {
      "cell_type": "code",
      "metadata": {
        "colab": {
          "resources": {
            "http://localhost:8080/nbextensions/google.colab/files.js": {
              "data": "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",
              "ok": true,
              "headers": [
                [
                  "content-type",
                  "application/javascript"
                ]
              ],
              "status": 200,
              "status_text": "OK"
            }
          },
          "base_uri": "https://localhost:8080/",
          "height": 74
        },
        "id": "u-VBK309b1Jy",
        "outputId": "f91841f1-9a85-4e8f-907e-8b0fad61062d"
      },
      "source": [
        "# import the games\n",
        "from google.colab import files\n",
        "uploaded_games = files.upload()"
      ],
      "execution_count": null,
      "outputs": [
        {
          "output_type": "display_data",
          "data": {
            "text/html": [
              "\n",
              "     <input type=\"file\" id=\"files-805c18a0-c557-409c-85bb-cfe32565be17\" name=\"files[]\" multiple disabled\n",
              "        style=\"border:none\" />\n",
              "     <output id=\"result-805c18a0-c557-409c-85bb-cfe32565be17\">\n",
              "      Upload widget is only available when the cell has been executed in the\n",
              "      current browser session. Please rerun this cell to enable.\n",
              "      </output>\n",
              "      <script src=\"/nbextensions/google.colab/files.js\"></script> "
            ],
            "text/plain": [
              "<IPython.core.display.HTML object>"
            ]
          },
          "metadata": {
            "tags": []
          }
        },
        {
          "output_type": "stream",
          "text": [
            "Saving game_in_numbers_compressed.txt.npy to game_in_numbers_compressed.txt.npy\n"
          ],
          "name": "stdout"
        }
      ]
    },
    {
      "cell_type": "code",
      "metadata": {
        "colab": {
          "base_uri": "https://localhost:8080/"
        },
        "id": "dtIvMPRtGPrT",
        "outputId": "da1dcd79-bae8-4fa0-ec05-4d74bea1d798"
      },
      "source": [
        "# we use numpy to read the file\n",
        "my_vector = np.load('game_in_numbers_compressed.txt.npy')\n",
        "print('text_file shape')\n",
        "print(np.shape(my_vector))\n",
        "\n",
        "# We have to decompress the data first\n",
        "def chess_matrix_decompress(A):\n",
        "\tshapiness = np.shape(A)\n",
        "\tresults = np.zeros((shapiness[0],shapiness[1],12,shapiness[2],shapiness[3]))\n",
        "\tfor k in range(0,12):\n",
        "\t\tpositions = np.argwhere(A==k)\n",
        "\t\tfor pos in positions:\n",
        "\t\t\tresults[pos[0],pos[1],k,pos[2],pos[3]] = 1.0\n",
        "\n",
        "\treturn results\n",
        "\n",
        "my_vector = chess_matrix_decompress(my_vector)\n",
        "print('new shape of data')\n",
        "print(np.shape(my_vector))"
      ],
      "execution_count": null,
      "outputs": [
        {
          "output_type": "stream",
          "text": [
            "text_file shape\n",
            "(8, 8, 19, 5000)\n",
            "new shape of data\n",
            "(8, 8, 12, 19, 5000)\n"
          ],
          "name": "stdout"
        }
      ]
    },
    {
      "cell_type": "code",
      "metadata": {
        "colab": {
          "base_uri": "https://localhost:8080/"
        },
        "id": "fg0b0UYOPu-M",
        "outputId": "4f7fbd0e-f88b-4e87-dabb-144f3433fb99"
      },
      "source": [
        "my_vector = np.reshape(my_vector,(8*8*12*19,5000))\n",
        "print('new shape')\n",
        "print(np.shape(my_vector))"
      ],
      "execution_count": null,
      "outputs": [
        {
          "output_type": "stream",
          "text": [
            "new shape\n",
            "(14592, 5000)\n"
          ],
          "name": "stdout"
        }
      ]
    },
    {
      "cell_type": "code",
      "metadata": {
        "colab": {
          "base_uri": "https://localhost:8080/"
        },
        "id": "3B-39Kj5goYN",
        "outputId": "64662ff0-dc9c-49b0-c74a-409e2d77e93a"
      },
      "source": [
        "my_results = np.load('results_in_numbers.txt.npy')\n",
        "print('results shape')\n",
        "print(np.shape(my_results))\n",
        "print('results')\n",
        "print(my_results[:,0])"
      ],
      "execution_count": null,
      "outputs": [
        {
          "output_type": "stream",
          "text": [
            "results shape\n",
            "(5000, 1)\n",
            "results\n",
            "[0. 1. 1. ... 0. 0. 0.]\n"
          ],
          "name": "stdout"
        }
      ]
    },
    {
      "cell_type": "code",
      "metadata": {
        "id": "blFL2hOTT9kM"
      },
      "source": [
        "import numpy as np\n",
        "import matplotlib.pyplot as plt\n",
        "import csv\n",
        "import os\n",
        "import pandas as pd\n",
        "from pandas import read_csv\n",
        "from pandas import DataFrame\n",
        "from pandas import concat\n",
        "from sklearn.preprocessing import LabelEncoder\n",
        "from sklearn.preprocessing import MinMaxScaler\n",
        "from matplotlib import pyplot\n",
        "\n",
        "from keras.models import Sequential\n",
        "from keras.layers import Dense\n",
        "from keras.layers import Dropout\n",
        "from keras import regularizers\n",
        "from sklearn import preprocessing\n",
        "from tensorflow import keras\n",
        "from tensorflow.keras import layers\n",
        "from tensorflow.keras.layers import LSTM\n",
        "from keras.layers import concatenate\n",
        "from keras.layers import Bidirectional\n",
        "\n",
        "from sklearn.model_selection import train_test_split"
      ],
      "execution_count": null,
      "outputs": []
    },
    {
      "cell_type": "code",
      "metadata": {
        "id": "37sqgxLsJ6rq",
        "colab": {
          "base_uri": "https://localhost:8080/"
        },
        "outputId": "7b978226-fc2b-4d47-b3c8-3b4e640ffaf0"
      },
      "source": [
        "import tensorflow as tf\n",
        "print(tf.__version__)"
      ],
      "execution_count": null,
      "outputs": [
        {
          "output_type": "stream",
          "text": [
            "2.5.0\n"
          ],
          "name": "stdout"
        }
      ]
    },
    {
      "cell_type": "code",
      "metadata": {
        "id": "LQdlaS6NYyXD"
      },
      "source": [
        "# The model is from the backery sales project and adapted to our purpose"
      ],
      "execution_count": null,
      "outputs": []
    },
    {
      "cell_type": "code",
      "metadata": {
        "id": "ckJ4VRjqs8QT"
      },
      "source": [
        "def buildModel2():\n",
        "  # build the network\n",
        "  model = Sequential()\n",
        "  d_rate = 1.0\n",
        "  reg = 0.0\n",
        "  model.add(Dense(2048, activation='relu',kernel_regularizer=regularizers.l2(reg), input_shape=(14592,)))\n",
        "  Dropout(d_rate)\n",
        "  model.add(Dense(1024,activation='relu',kernel_regularizer=regularizers.l2(reg)))\n",
        "  Dropout(d_rate)\n",
        "  model.add(Dense(512,activation='relu',kernel_regularizer=regularizers.l2(reg)))\n",
        "  Dropout(d_rate)\n",
        "  model.add(Dense(256,activation='relu',kernel_regularizer=regularizers.l2(reg)))\n",
        "  Dropout(d_rate)\n",
        "  model.add(Dense(64,activation='relu',kernel_regularizer=regularizers.l2(reg)))\n",
        "  Dropout(d_rate)\n",
        "  model.add(Dense(64,activation='relu',kernel_regularizer=regularizers.l2(reg)))\n",
        "  Dropout(d_rate)\n",
        "  model.add(Dense(64,activation='relu',kernel_regularizer=regularizers.l2(reg)))\n",
        "  Dropout(d_rate)\n",
        "  model.add(Dense(32, activation='relu',kernel_regularizer=regularizers.l2(reg)))\n",
        "  Dropout(d_rate)\n",
        "  model.add(Dense(32,activation='relu',kernel_regularizer=regularizers.l2(reg)))\n",
        "  Dropout(d_rate)\n",
        "  model.add(Dense(16,activation='relu'))\n",
        "  model.add(Dense(1, activation='sigmoid'))\n",
        "  \n",
        "  print(model.summary())\n",
        "  return model"
      ],
      "execution_count": null,
      "outputs": []
    },
    {
      "cell_type": "code",
      "metadata": {
        "id": "iRL9bu9L-KPM"
      },
      "source": [
        "def compileModelAdamMseAcc(buildModel):\n",
        "  #Compile the model\n",
        "  #Input: model from buildModel\n",
        "  #Return: buildModel after compilation\n",
        "  lr_schedule = tf.keras.optimizers.schedules.ExponentialDecay(\n",
        "    initial_learning_rate=1e-2,\n",
        "    decay_steps=10000,\n",
        "    decay_rate=0.9)\n",
        "  optimizer = tf.keras.optimizers.Adam(learning_rate=1e-3)\n",
        "  buildModel.compile(optimizer = optimizer,\n",
        "                loss='mae', metrics=['mae'])\n",
        "  \n",
        "  return buildModel"
      ],
      "execution_count": null,
      "outputs": []
    },
    {
      "cell_type": "code",
      "metadata": {
        "id": "xTJ7cxPT__n3"
      },
      "source": [
        "def fitModel(xTrain, yTrain, xVal, yVal, trainingEpochs, compiledModel):\n",
        "  #Fit the model\n",
        "  #Input: compiled Model, Train and Validation Data, Batch Size and trainingEpochs\n",
        "  #Return: history and model\n",
        "  history = compiledModel.fit(xTrain, yTrain,batch_size=1024, epochs = trainingEpochs, validation_data=(xVal, yVal))\n",
        "\n",
        "  return history\n"
      ],
      "execution_count": null,
      "outputs": []
    },
    {
      "cell_type": "code",
      "metadata": {
        "id": "B4ebdzZQPZsu"
      },
      "source": [
        "def fitModelLearningRateTuner(xTrain, yTrain, xVal, yVal, trainingEpochs, compiledModel):\n",
        "  #Fit the model\n",
        "  #Input: compiled Model, Train and Validation Data, Batch Size and trainingEpochs\n",
        "  #Return: history and model\n",
        "  optimizer = tf.keras.optimizers.Adam(lr=1e-6)\n",
        "  compiledModel.compile(optimizer = optimizer,\n",
        "                loss='mae', metrics=['mae'])\n",
        "  lr_schedule = tf.keras.callbacks.LearningRateScheduler(\n",
        "    lambda epoch: 1e-6 * 10**(epoch / 20))\n",
        "\n",
        "  history = compiledModel.fit(xTrain, yTrain,batch_size=1024, epochs = trainingEpochs,callbacks=[lr_schedule])\n",
        "\n",
        "  return history"
      ],
      "execution_count": null,
      "outputs": []
    },
    {
      "cell_type": "code",
      "metadata": {
        "id": "tES7fZr5DV63"
      },
      "source": [
        "def trainDevTestSplit(X, Y, testSize, randomSeed):\n",
        "  #Splits by test size into Train / Dev\n",
        "  #Splits dev then 50/50 into dev and Test\n",
        "\n",
        "  xTrain, xDev, yTrain, yDev = train_test_split(X, Y, test_size=testSize, random_state=randomSeed)\n",
        "\n",
        "  xTest = xDev[:len(xDev)//2]\n",
        "  yTest = yDev[:len(yDev)//2]\n",
        "  \n",
        "  xDev = xDev[len(xDev)//2:]\n",
        "  yDev = yDev[len(yDev)//2:]\n",
        "  #xDev, yDev, xTest, yTest = train_test_split(xDev, yDev, test_size =0.5, random_state = randomSeed)\n",
        "\n",
        "  return xTrain, yTrain, xDev, yDev, xTest, yTest"
      ],
      "execution_count": null,
      "outputs": []
    },
    {
      "cell_type": "code",
      "metadata": {
        "id": "5SGEKTjEEL5s"
      },
      "source": [
        "xTrain, yTrain, xDev, yDev, xTest, yTest = trainDevTestSplit(np.transpose(my_vector),my_results, 0.10, 42)"
      ],
      "execution_count": null,
      "outputs": []
    },
    {
      "cell_type": "code",
      "metadata": {
        "colab": {
          "base_uri": "https://localhost:8080/"
        },
        "id": "zb4xgYS0F_Gl",
        "outputId": "5f66c50d-8ed0-45c1-ff13-7095d0cfdbe4"
      },
      "source": [
        "print(len(xTrain))\n",
        "print(len(xTest))\n",
        "print(len(xDev))"
      ],
      "execution_count": null,
      "outputs": [
        {
          "output_type": "stream",
          "text": [
            "4500\n",
            "250\n",
            "250\n"
          ],
          "name": "stdout"
        }
      ]
    },
    {
      "cell_type": "code",
      "metadata": {
        "colab": {
          "base_uri": "https://localhost:8080/",
          "height": 1000
        },
        "id": "yy5ex329GTh4",
        "outputId": "74d9dee3-76bb-45f1-8320-e153e086f9a7"
      },
      "source": [
        "modelLrTune = buildModel2()\n",
        "history = fitModelLearningRateTuner(xTrain, yTrain, xDev, yDev, 200, modelLrTune)\n",
        "plt.semilogx(history.history[\"lr\"], history.history[\"loss\"])"
      ],
      "execution_count": null,
      "outputs": [
        {
          "output_type": "stream",
          "text": [
            "Model: \"sequential_4\"\n",
            "_________________________________________________________________\n",
            "Layer (type)                 Output Shape              Param #   \n",
            "=================================================================\n",
            "dense_44 (Dense)             (None, 2048)              29886464  \n",
            "_________________________________________________________________\n",
            "dense_45 (Dense)             (None, 1024)              2098176   \n",
            "_________________________________________________________________\n",
            "dense_46 (Dense)             (None, 512)               524800    \n",
            "_________________________________________________________________\n",
            "dense_47 (Dense)             (None, 256)               131328    \n",
            "_________________________________________________________________\n",
            "dense_48 (Dense)             (None, 64)                16448     \n",
            "_________________________________________________________________\n",
            "dense_49 (Dense)             (None, 64)                4160      \n",
            "_________________________________________________________________\n",
            "dense_50 (Dense)             (None, 64)                4160      \n",
            "_________________________________________________________________\n",
            "dense_51 (Dense)             (None, 32)                2080      \n",
            "_________________________________________________________________\n",
            "dense_52 (Dense)             (None, 32)                1056      \n",
            "_________________________________________________________________\n",
            "dense_53 (Dense)             (None, 16)                528       \n",
            "_________________________________________________________________\n",
            "dense_54 (Dense)             (None, 1)                 17        \n",
            "=================================================================\n",
            "Total params: 32,669,217\n",
            "Trainable params: 32,669,217\n",
            "Non-trainable params: 0\n",
            "_________________________________________________________________\n",
            "None\n",
            "Epoch 1/200\n"
          ],
          "name": "stdout"
        },
        {
          "output_type": "stream",
          "text": [
            "/usr/local/lib/python3.7/dist-packages/tensorflow/python/keras/optimizer_v2/optimizer_v2.py:375: UserWarning: The `lr` argument is deprecated, use `learning_rate` instead.\n",
            "  \"The `lr` argument is deprecated, use `learning_rate` instead.\")\n"
          ],
          "name": "stderr"
        },
        {
          "output_type": "stream",
          "text": [
            "5/5 [==============================] - 2s 67ms/step - loss: 0.4843 - mae: 0.4843\n",
            "Epoch 2/200\n",
            "5/5 [==============================] - 0s 54ms/step - loss: 0.4837 - mae: 0.4837\n",
            "Epoch 3/200\n",
            "5/5 [==============================] - 0s 54ms/step - loss: 0.4840 - mae: 0.4840\n",
            "Epoch 4/200\n",
            "5/5 [==============================] - 0s 53ms/step - loss: 0.4843 - mae: 0.4843\n",
            "Epoch 5/200\n",
            "5/5 [==============================] - 0s 53ms/step - loss: 0.4837 - mae: 0.4837\n",
            "Epoch 6/200\n",
            "5/5 [==============================] - 0s 51ms/step - loss: 0.4846 - mae: 0.4846\n",
            "Epoch 7/200\n",
            "5/5 [==============================] - 0s 52ms/step - loss: 0.4845 - mae: 0.4845\n",
            "Epoch 8/200\n",
            "5/5 [==============================] - 0s 54ms/step - loss: 0.4830 - mae: 0.4830\n",
            "Epoch 9/200\n",
            "5/5 [==============================] - 0s 54ms/step - loss: 0.4833 - mae: 0.4833\n",
            "Epoch 10/200\n",
            "5/5 [==============================] - 0s 54ms/step - loss: 0.4837 - mae: 0.4837\n",
            "Epoch 11/200\n",
            "5/5 [==============================] - 0s 55ms/step - loss: 0.4820 - mae: 0.4820\n",
            "Epoch 12/200\n",
            "5/5 [==============================] - 0s 50ms/step - loss: 0.4822 - mae: 0.4822\n",
            "Epoch 13/200\n",
            "5/5 [==============================] - 0s 55ms/step - loss: 0.4812 - mae: 0.4812\n",
            "Epoch 14/200\n",
            "5/5 [==============================] - 0s 54ms/step - loss: 0.4809 - mae: 0.4809\n",
            "Epoch 15/200\n",
            "5/5 [==============================] - 0s 52ms/step - loss: 0.4805 - mae: 0.4805\n",
            "Epoch 16/200\n",
            "5/5 [==============================] - 0s 52ms/step - loss: 0.4793 - mae: 0.4793\n",
            "Epoch 17/200\n",
            "5/5 [==============================] - 0s 53ms/step - loss: 0.4792 - mae: 0.4792\n",
            "Epoch 18/200\n",
            "5/5 [==============================] - 0s 52ms/step - loss: 0.4785 - mae: 0.4785\n",
            "Epoch 19/200\n",
            "5/5 [==============================] - 0s 53ms/step - loss: 0.4776 - mae: 0.4776\n",
            "Epoch 20/200\n",
            "5/5 [==============================] - 0s 53ms/step - loss: 0.4757 - mae: 0.4757\n",
            "Epoch 21/200\n",
            "5/5 [==============================] - 0s 54ms/step - loss: 0.4742 - mae: 0.4742\n",
            "Epoch 22/200\n",
            "5/5 [==============================] - 0s 54ms/step - loss: 0.4720 - mae: 0.4720\n",
            "Epoch 23/200\n",
            "5/5 [==============================] - 0s 54ms/step - loss: 0.4681 - mae: 0.4681\n",
            "Epoch 24/200\n",
            "5/5 [==============================] - 0s 53ms/step - loss: 0.4644 - mae: 0.4644\n",
            "Epoch 25/200\n",
            "5/5 [==============================] - 0s 56ms/step - loss: 0.4616 - mae: 0.4616\n",
            "Epoch 26/200\n",
            "5/5 [==============================] - 0s 54ms/step - loss: 0.4562 - mae: 0.4562\n",
            "Epoch 27/200\n",
            "5/5 [==============================] - 0s 53ms/step - loss: 0.4496 - mae: 0.4496\n",
            "Epoch 28/200\n",
            "5/5 [==============================] - 0s 52ms/step - loss: 0.4420 - mae: 0.4420\n",
            "Epoch 29/200\n",
            "5/5 [==============================] - 0s 51ms/step - loss: 0.4366 - mae: 0.4366\n",
            "Epoch 30/200\n",
            "5/5 [==============================] - 0s 51ms/step - loss: 0.4339 - mae: 0.4339\n",
            "Epoch 31/200\n",
            "5/5 [==============================] - 0s 53ms/step - loss: 0.4273 - mae: 0.4273\n",
            "Epoch 32/200\n",
            "5/5 [==============================] - 0s 48ms/step - loss: 0.4175 - mae: 0.4175\n",
            "Epoch 33/200\n",
            "5/5 [==============================] - 0s 53ms/step - loss: 0.4110 - mae: 0.4110\n",
            "Epoch 34/200\n",
            "5/5 [==============================] - 0s 51ms/step - loss: 0.3916 - mae: 0.3916\n",
            "Epoch 35/200\n",
            "5/5 [==============================] - 0s 54ms/step - loss: 0.3660 - mae: 0.3660\n",
            "Epoch 36/200\n",
            "5/5 [==============================] - 0s 52ms/step - loss: 0.3541 - mae: 0.3541\n",
            "Epoch 37/200\n",
            "5/5 [==============================] - 0s 52ms/step - loss: 0.3646 - mae: 0.3646\n",
            "Epoch 38/200\n",
            "5/5 [==============================] - 0s 53ms/step - loss: 0.4424 - mae: 0.4424\n",
            "Epoch 39/200\n",
            "5/5 [==============================] - 0s 55ms/step - loss: 0.3685 - mae: 0.3685\n",
            "Epoch 40/200\n",
            "5/5 [==============================] - 0s 50ms/step - loss: 0.3238 - mae: 0.3238\n",
            "Epoch 41/200\n",
            "5/5 [==============================] - 0s 50ms/step - loss: 0.2937 - mae: 0.2937\n",
            "Epoch 42/200\n",
            "5/5 [==============================] - 0s 53ms/step - loss: 0.3076 - mae: 0.3076\n",
            "Epoch 43/200\n",
            "5/5 [==============================] - 0s 54ms/step - loss: 0.2575 - mae: 0.2575\n",
            "Epoch 44/200\n",
            "5/5 [==============================] - 0s 54ms/step - loss: 0.3383 - mae: 0.3383\n",
            "Epoch 45/200\n",
            "5/5 [==============================] - 0s 52ms/step - loss: 0.4942 - mae: 0.4942\n",
            "Epoch 46/200\n",
            "5/5 [==============================] - 0s 55ms/step - loss: 0.4967 - mae: 0.4967\n",
            "Epoch 47/200\n",
            "5/5 [==============================] - 0s 51ms/step - loss: 0.5014 - mae: 0.5014\n",
            "Epoch 48/200\n",
            "5/5 [==============================] - 0s 55ms/step - loss: 0.4973 - mae: 0.4973\n",
            "Epoch 49/200\n",
            "5/5 [==============================] - 0s 54ms/step - loss: 0.4961 - mae: 0.4961\n",
            "Epoch 50/200\n",
            "5/5 [==============================] - 0s 57ms/step - loss: 0.4973 - mae: 0.4973\n",
            "Epoch 51/200\n",
            "5/5 [==============================] - 0s 53ms/step - loss: 0.4979 - mae: 0.4979\n",
            "Epoch 52/200\n",
            "5/5 [==============================] - 0s 55ms/step - loss: 0.4958 - mae: 0.4958\n",
            "Epoch 53/200\n",
            "5/5 [==============================] - 0s 49ms/step - loss: 0.4902 - mae: 0.4902\n",
            "Epoch 54/200\n",
            "5/5 [==============================] - 0s 55ms/step - loss: 0.4570 - mae: 0.4570\n",
            "Epoch 55/200\n",
            "5/5 [==============================] - 0s 51ms/step - loss: 0.4518 - mae: 0.4518\n",
            "Epoch 56/200\n",
            "5/5 [==============================] - 0s 54ms/step - loss: 0.4453 - mae: 0.4453\n",
            "Epoch 57/200\n",
            "5/5 [==============================] - 0s 54ms/step - loss: 0.4368 - mae: 0.4368\n",
            "Epoch 58/200\n",
            "5/5 [==============================] - 0s 53ms/step - loss: 0.4379 - mae: 0.4379\n",
            "Epoch 59/200\n",
            "5/5 [==============================] - 0s 55ms/step - loss: 0.4405 - mae: 0.4405\n",
            "Epoch 60/200\n",
            "5/5 [==============================] - 0s 52ms/step - loss: 0.4384 - mae: 0.4384\n",
            "Epoch 61/200\n",
            "5/5 [==============================] - 0s 55ms/step - loss: 0.4356 - mae: 0.4356\n",
            "Epoch 62/200\n",
            "5/5 [==============================] - 0s 48ms/step - loss: 0.4449 - mae: 0.4449\n",
            "Epoch 63/200\n",
            "5/5 [==============================] - 0s 50ms/step - loss: 0.4414 - mae: 0.4414\n",
            "Epoch 64/200\n",
            "5/5 [==============================] - 0s 50ms/step - loss: 0.4405 - mae: 0.4405\n",
            "Epoch 65/200\n",
            "5/5 [==============================] - 0s 53ms/step - loss: 0.4391 - mae: 0.4391\n",
            "Epoch 66/200\n",
            "5/5 [==============================] - 0s 53ms/step - loss: 0.4401 - mae: 0.4401\n",
            "Epoch 67/200\n",
            "5/5 [==============================] - 0s 52ms/step - loss: 0.4405 - mae: 0.4405\n",
            "Epoch 68/200\n",
            "5/5 [==============================] - 0s 52ms/step - loss: 0.4390 - mae: 0.4390\n",
            "Epoch 69/200\n",
            "5/5 [==============================] - 0s 55ms/step - loss: 0.4391 - mae: 0.4391\n",
            "Epoch 70/200\n",
            "5/5 [==============================] - 0s 54ms/step - loss: 0.4404 - mae: 0.4404\n",
            "Epoch 71/200\n",
            "5/5 [==============================] - 0s 49ms/step - loss: 0.4371 - mae: 0.4371\n",
            "Epoch 72/200\n",
            "5/5 [==============================] - 0s 51ms/step - loss: 0.4304 - mae: 0.4304\n",
            "Epoch 73/200\n",
            "5/5 [==============================] - 0s 52ms/step - loss: 0.4401 - mae: 0.4401\n",
            "Epoch 74/200\n",
            "5/5 [==============================] - 0s 49ms/step - loss: 0.4400 - mae: 0.4400\n",
            "Epoch 75/200\n",
            "5/5 [==============================] - 0s 55ms/step - loss: 0.4337 - mae: 0.4337\n",
            "Epoch 76/200\n",
            "5/5 [==============================] - 0s 55ms/step - loss: 0.4377 - mae: 0.4377\n",
            "Epoch 77/200\n",
            "5/5 [==============================] - 0s 55ms/step - loss: 0.4360 - mae: 0.4360\n",
            "Epoch 78/200\n",
            "5/5 [==============================] - 0s 53ms/step - loss: 0.4347 - mae: 0.4347\n",
            "Epoch 79/200\n",
            "5/5 [==============================] - 0s 51ms/step - loss: 0.4469 - mae: 0.4469\n",
            "Epoch 80/200\n",
            "5/5 [==============================] - 0s 58ms/step - loss: 0.4384 - mae: 0.4384\n",
            "Epoch 81/200\n",
            "5/5 [==============================] - 0s 54ms/step - loss: 0.4361 - mae: 0.4361\n",
            "Epoch 82/200\n",
            "5/5 [==============================] - 0s 52ms/step - loss: 0.4341 - mae: 0.4341\n",
            "Epoch 83/200\n",
            "5/5 [==============================] - 0s 49ms/step - loss: 0.4364 - mae: 0.4364\n",
            "Epoch 84/200\n",
            "5/5 [==============================] - 0s 51ms/step - loss: 0.4404 - mae: 0.4404\n",
            "Epoch 85/200\n",
            "5/5 [==============================] - 0s 52ms/step - loss: 0.4400 - mae: 0.4400\n",
            "Epoch 86/200\n",
            "5/5 [==============================] - 0s 54ms/step - loss: 0.4429 - mae: 0.4429\n",
            "Epoch 87/200\n",
            "5/5 [==============================] - 0s 56ms/step - loss: 0.4334 - mae: 0.4334\n",
            "Epoch 88/200\n",
            "5/5 [==============================] - 0s 54ms/step - loss: 0.4341 - mae: 0.4341\n",
            "Epoch 89/200\n",
            "5/5 [==============================] - 0s 50ms/step - loss: 0.4419 - mae: 0.4419\n",
            "Epoch 90/200\n",
            "5/5 [==============================] - 0s 52ms/step - loss: 0.4402 - mae: 0.4402\n",
            "Epoch 91/200\n",
            "5/5 [==============================] - 0s 52ms/step - loss: 0.4365 - mae: 0.4365\n",
            "Epoch 92/200\n",
            "5/5 [==============================] - 0s 49ms/step - loss: 0.4350 - mae: 0.4350\n",
            "Epoch 93/200\n",
            "5/5 [==============================] - 0s 58ms/step - loss: 0.4405 - mae: 0.4405\n",
            "Epoch 94/200\n",
            "5/5 [==============================] - 0s 54ms/step - loss: 0.4472 - mae: 0.4472\n",
            "Epoch 95/200\n",
            "5/5 [==============================] - 0s 53ms/step - loss: 0.4351 - mae: 0.4351\n",
            "Epoch 96/200\n",
            "5/5 [==============================] - 0s 53ms/step - loss: 0.4333 - mae: 0.4333\n",
            "Epoch 97/200\n",
            "5/5 [==============================] - 0s 50ms/step - loss: 0.4359 - mae: 0.4359\n",
            "Epoch 98/200\n",
            "5/5 [==============================] - 0s 56ms/step - loss: 0.4338 - mae: 0.4338\n",
            "Epoch 99/200\n",
            "5/5 [==============================] - 0s 52ms/step - loss: 0.4411 - mae: 0.4411\n",
            "Epoch 100/200\n",
            "5/5 [==============================] - 0s 53ms/step - loss: 0.4350 - mae: 0.4350\n",
            "Epoch 101/200\n",
            "5/5 [==============================] - 0s 53ms/step - loss: 0.4366 - mae: 0.4366\n",
            "Epoch 102/200\n",
            "5/5 [==============================] - 0s 54ms/step - loss: 0.4376 - mae: 0.4376\n",
            "Epoch 103/200\n",
            "5/5 [==============================] - 0s 50ms/step - loss: 0.4362 - mae: 0.4362\n",
            "Epoch 104/200\n",
            "5/5 [==============================] - 0s 51ms/step - loss: 0.4416 - mae: 0.4416\n",
            "Epoch 105/200\n",
            "5/5 [==============================] - 0s 47ms/step - loss: 0.4384 - mae: 0.4384\n",
            "Epoch 106/200\n",
            "5/5 [==============================] - 0s 51ms/step - loss: 0.4402 - mae: 0.4402\n",
            "Epoch 107/200\n",
            "5/5 [==============================] - 0s 53ms/step - loss: 0.4377 - mae: 0.4377\n",
            "Epoch 108/200\n",
            "5/5 [==============================] - 0s 52ms/step - loss: 0.4374 - mae: 0.4374\n",
            "Epoch 109/200\n",
            "5/5 [==============================] - 0s 50ms/step - loss: 0.4359 - mae: 0.4359\n",
            "Epoch 110/200\n",
            "5/5 [==============================] - 0s 49ms/step - loss: 0.4361 - mae: 0.4361\n",
            "Epoch 111/200\n",
            "5/5 [==============================] - 0s 53ms/step - loss: 0.4335 - mae: 0.4335\n",
            "Epoch 112/200\n",
            "5/5 [==============================] - 0s 57ms/step - loss: 0.4345 - mae: 0.4345\n",
            "Epoch 113/200\n",
            "5/5 [==============================] - 0s 53ms/step - loss: 0.4366 - mae: 0.4366\n",
            "Epoch 114/200\n",
            "5/5 [==============================] - 0s 50ms/step - loss: 0.4425 - mae: 0.4425\n",
            "Epoch 115/200\n",
            "5/5 [==============================] - 0s 51ms/step - loss: 0.4391 - mae: 0.4391\n",
            "Epoch 116/200\n",
            "5/5 [==============================] - 0s 52ms/step - loss: 0.4324 - mae: 0.4324\n",
            "Epoch 117/200\n",
            "5/5 [==============================] - 0s 50ms/step - loss: 0.4401 - mae: 0.4401\n",
            "Epoch 118/200\n",
            "5/5 [==============================] - 0s 54ms/step - loss: 0.4366 - mae: 0.4366\n",
            "Epoch 119/200\n",
            "5/5 [==============================] - 0s 51ms/step - loss: 0.4416 - mae: 0.4416\n",
            "Epoch 120/200\n",
            "5/5 [==============================] - 0s 53ms/step - loss: 0.4360 - mae: 0.4360\n",
            "Epoch 121/200\n",
            "5/5 [==============================] - 0s 51ms/step - loss: 0.4383 - mae: 0.4383\n",
            "Epoch 122/200\n",
            "5/5 [==============================] - 0s 50ms/step - loss: 0.4411 - mae: 0.4411\n",
            "Epoch 123/200\n",
            "5/5 [==============================] - 0s 51ms/step - loss: 0.4355 - mae: 0.4355\n",
            "Epoch 124/200\n",
            "5/5 [==============================] - 0s 55ms/step - loss: 0.4333 - mae: 0.4333\n",
            "Epoch 125/200\n",
            "5/5 [==============================] - 0s 56ms/step - loss: 0.4322 - mae: 0.4322\n",
            "Epoch 126/200\n",
            "5/5 [==============================] - 0s 52ms/step - loss: 0.4348 - mae: 0.4348\n",
            "Epoch 127/200\n",
            "5/5 [==============================] - 0s 51ms/step - loss: 0.4320 - mae: 0.4320\n",
            "Epoch 128/200\n",
            "5/5 [==============================] - 0s 47ms/step - loss: 0.4344 - mae: 0.4344\n",
            "Epoch 129/200\n",
            "5/5 [==============================] - 0s 54ms/step - loss: 0.4393 - mae: 0.4393\n",
            "Epoch 130/200\n",
            "5/5 [==============================] - 0s 54ms/step - loss: 0.4433 - mae: 0.4433\n",
            "Epoch 131/200\n",
            "5/5 [==============================] - 0s 52ms/step - loss: 0.4371 - mae: 0.4371\n",
            "Epoch 132/200\n",
            "5/5 [==============================] - 0s 48ms/step - loss: 0.4366 - mae: 0.4366\n",
            "Epoch 133/200\n",
            "5/5 [==============================] - 0s 53ms/step - loss: 0.4385 - mae: 0.4385\n",
            "Epoch 134/200\n",
            "5/5 [==============================] - 0s 47ms/step - loss: 0.4385 - mae: 0.4385\n",
            "Epoch 135/200\n",
            "5/5 [==============================] - 0s 52ms/step - loss: 0.4373 - mae: 0.4373\n",
            "Epoch 136/200\n",
            "5/5 [==============================] - 0s 52ms/step - loss: 0.4386 - mae: 0.4386\n",
            "Epoch 137/200\n",
            "5/5 [==============================] - 0s 50ms/step - loss: 0.4371 - mae: 0.4371\n",
            "Epoch 138/200\n",
            "5/5 [==============================] - 0s 53ms/step - loss: 0.4354 - mae: 0.4354\n",
            "Epoch 139/200\n",
            "5/5 [==============================] - 0s 51ms/step - loss: 0.4421 - mae: 0.4421\n",
            "Epoch 140/200\n",
            "5/5 [==============================] - 0s 51ms/step - loss: 0.4422 - mae: 0.4422\n",
            "Epoch 141/200\n",
            "5/5 [==============================] - 0s 50ms/step - loss: 0.4319 - mae: 0.4319\n",
            "Epoch 142/200\n",
            "5/5 [==============================] - 0s 51ms/step - loss: 0.4404 - mae: 0.4404\n",
            "Epoch 143/200\n",
            "5/5 [==============================] - 0s 53ms/step - loss: 0.4360 - mae: 0.4360\n",
            "Epoch 144/200\n",
            "5/5 [==============================] - 0s 52ms/step - loss: 0.4373 - mae: 0.4373\n",
            "Epoch 145/200\n",
            "5/5 [==============================] - 0s 47ms/step - loss: 0.4402 - mae: 0.4402\n",
            "Epoch 146/200\n",
            "5/5 [==============================] - 0s 54ms/step - loss: 0.4339 - mae: 0.4339\n",
            "Epoch 147/200\n",
            "5/5 [==============================] - 0s 51ms/step - loss: 0.4362 - mae: 0.4362\n",
            "Epoch 148/200\n",
            "5/5 [==============================] - 0s 54ms/step - loss: 0.4360 - mae: 0.4360\n",
            "Epoch 149/200\n",
            "5/5 [==============================] - 0s 50ms/step - loss: 0.4438 - mae: 0.4438\n",
            "Epoch 150/200\n",
            "5/5 [==============================] - 0s 51ms/step - loss: 0.4375 - mae: 0.4375\n",
            "Epoch 151/200\n",
            "5/5 [==============================] - 0s 54ms/step - loss: 0.4373 - mae: 0.4373\n",
            "Epoch 152/200\n",
            "5/5 [==============================] - 0s 50ms/step - loss: 0.4309 - mae: 0.4309\n",
            "Epoch 153/200\n",
            "5/5 [==============================] - 0s 55ms/step - loss: 0.4399 - mae: 0.4399\n",
            "Epoch 154/200\n",
            "5/5 [==============================] - 0s 53ms/step - loss: 0.4329 - mae: 0.4329\n",
            "Epoch 155/200\n",
            "5/5 [==============================] - 0s 53ms/step - loss: 0.4342 - mae: 0.4342\n",
            "Epoch 156/200\n",
            "5/5 [==============================] - 0s 54ms/step - loss: 0.4342 - mae: 0.4342\n",
            "Epoch 157/200\n",
            "5/5 [==============================] - 0s 51ms/step - loss: 0.4451 - mae: 0.4451\n",
            "Epoch 158/200\n",
            "5/5 [==============================] - 0s 50ms/step - loss: 0.4398 - mae: 0.4398\n",
            "Epoch 159/200\n",
            "5/5 [==============================] - 0s 55ms/step - loss: 0.4312 - mae: 0.4312\n",
            "Epoch 160/200\n",
            "5/5 [==============================] - 0s 57ms/step - loss: 0.4403 - mae: 0.4403\n",
            "Epoch 161/200\n",
            "5/5 [==============================] - 0s 52ms/step - loss: 0.4377 - mae: 0.4377\n",
            "Epoch 162/200\n",
            "5/5 [==============================] - 0s 52ms/step - loss: 0.4417 - mae: 0.4417\n",
            "Epoch 163/200\n",
            "5/5 [==============================] - 0s 51ms/step - loss: 0.4352 - mae: 0.4352\n",
            "Epoch 164/200\n",
            "5/5 [==============================] - 0s 58ms/step - loss: 0.4346 - mae: 0.4346\n",
            "Epoch 165/200\n",
            "5/5 [==============================] - 0s 52ms/step - loss: 0.4370 - mae: 0.4370\n",
            "Epoch 166/200\n",
            "5/5 [==============================] - 0s 50ms/step - loss: 0.4354 - mae: 0.4354\n",
            "Epoch 167/200\n",
            "5/5 [==============================] - 0s 56ms/step - loss: 0.4380 - mae: 0.4380\n",
            "Epoch 168/200\n",
            "5/5 [==============================] - 0s 54ms/step - loss: 0.4384 - mae: 0.4384\n",
            "Epoch 169/200\n",
            "5/5 [==============================] - 0s 54ms/step - loss: 0.4388 - mae: 0.4388\n",
            "Epoch 170/200\n",
            "5/5 [==============================] - 0s 50ms/step - loss: 0.4389 - mae: 0.4389\n",
            "Epoch 171/200\n",
            "5/5 [==============================] - 0s 51ms/step - loss: 0.4377 - mae: 0.4377\n",
            "Epoch 172/200\n",
            "5/5 [==============================] - 0s 52ms/step - loss: 0.4381 - mae: 0.4381\n",
            "Epoch 173/200\n",
            "5/5 [==============================] - 0s 46ms/step - loss: 0.4424 - mae: 0.4424\n",
            "Epoch 174/200\n",
            "5/5 [==============================] - 0s 55ms/step - loss: 0.4350 - mae: 0.4350\n",
            "Epoch 175/200\n",
            "5/5 [==============================] - 0s 50ms/step - loss: 0.4329 - mae: 0.4329\n",
            "Epoch 176/200\n",
            "5/5 [==============================] - 0s 51ms/step - loss: 0.4380 - mae: 0.4380\n",
            "Epoch 177/200\n",
            "5/5 [==============================] - 0s 58ms/step - loss: 0.4352 - mae: 0.4352\n",
            "Epoch 178/200\n",
            "5/5 [==============================] - 0s 54ms/step - loss: 0.4413 - mae: 0.4413\n",
            "Epoch 179/200\n",
            "5/5 [==============================] - 0s 55ms/step - loss: 0.4302 - mae: 0.4302\n",
            "Epoch 180/200\n",
            "5/5 [==============================] - 0s 55ms/step - loss: 0.4388 - mae: 0.4388\n",
            "Epoch 181/200\n",
            "5/5 [==============================] - 0s 52ms/step - loss: 0.4380 - mae: 0.4380\n",
            "Epoch 182/200\n",
            "5/5 [==============================] - 0s 51ms/step - loss: 0.4330 - mae: 0.4330\n",
            "Epoch 183/200\n",
            "5/5 [==============================] - 0s 53ms/step - loss: 0.4363 - mae: 0.4363\n",
            "Epoch 184/200\n",
            "5/5 [==============================] - 0s 55ms/step - loss: 0.4359 - mae: 0.4359\n",
            "Epoch 185/200\n",
            "5/5 [==============================] - 0s 54ms/step - loss: 0.4365 - mae: 0.4365\n",
            "Epoch 186/200\n",
            "5/5 [==============================] - 0s 52ms/step - loss: 0.4340 - mae: 0.4340\n",
            "Epoch 187/200\n",
            "5/5 [==============================] - 0s 48ms/step - loss: 0.4360 - mae: 0.4360\n",
            "Epoch 188/200\n",
            "5/5 [==============================] - 0s 50ms/step - loss: 0.4325 - mae: 0.4325\n",
            "Epoch 189/200\n",
            "5/5 [==============================] - 0s 49ms/step - loss: 0.4285 - mae: 0.4285\n",
            "Epoch 190/200\n",
            "5/5 [==============================] - 0s 46ms/step - loss: 0.4345 - mae: 0.4345\n",
            "Epoch 191/200\n",
            "5/5 [==============================] - 0s 53ms/step - loss: 0.4370 - mae: 0.4370\n",
            "Epoch 192/200\n",
            "5/5 [==============================] - 0s 54ms/step - loss: 0.4342 - mae: 0.4342\n",
            "Epoch 193/200\n",
            "5/5 [==============================] - 0s 49ms/step - loss: 0.4355 - mae: 0.4355\n",
            "Epoch 194/200\n",
            "5/5 [==============================] - 0s 54ms/step - loss: 0.4357 - mae: 0.4357\n",
            "Epoch 195/200\n",
            "5/5 [==============================] - 0s 54ms/step - loss: 0.4401 - mae: 0.4401\n",
            "Epoch 196/200\n",
            "5/5 [==============================] - 0s 52ms/step - loss: 0.4330 - mae: 0.4330\n",
            "Epoch 197/200\n",
            "5/5 [==============================] - 0s 56ms/step - loss: 0.4389 - mae: 0.4389\n",
            "Epoch 198/200\n",
            "5/5 [==============================] - 0s 52ms/step - loss: 0.4309 - mae: 0.4309\n",
            "Epoch 199/200\n",
            "5/5 [==============================] - 0s 51ms/step - loss: 0.4384 - mae: 0.4384\n",
            "Epoch 200/200\n",
            "5/5 [==============================] - 0s 51ms/step - loss: 0.4326 - mae: 0.4326\n"
          ],
          "name": "stdout"
        },
        {
          "output_type": "execute_result",
          "data": {
            "text/plain": [
              "[<matplotlib.lines.Line2D at 0x7fa9f673f050>]"
            ]
          },
          "metadata": {
            "tags": []
          },
          "execution_count": 26
        },
        {
          "output_type": "display_data",
          "data": {
            "image/png": "[encoded data removed]",
            "text/plain": [
              "<Figure size 432x288 with 1 Axes>"
            ]
          },
          "metadata": {
            "tags": [],
            "needs_background": "light"
          }
        }
      ]
    },
    {
      "cell_type": "code",
      "metadata": {
        "id": "DJOj0rRgEZZq",
        "colab": {
          "base_uri": "https://localhost:8080/"
        },
        "outputId": "2a260159-947e-4f97-a216-8c8a7a570867"
      },
      "source": [
        "#Fit Model with tuned Learning Rate\n",
        "model = buildModel2()\n",
        "model = compileModelAdamMseAcc(model)\n",
        "hist = fitModel(xTrain, yTrain, xDev, yDev, 20, model)"
      ],
      "execution_count": null,
      "outputs": [
        {
          "output_type": "stream",
          "text": [
            "Model: \"sequential_5\"\n",
            "_________________________________________________________________\n",
            "Layer (type)                 Output Shape              Param #   \n",
            "=================================================================\n",
            "dense_55 (Dense)             (None, 2048)              29886464  \n",
            "_________________________________________________________________\n",
            "dense_56 (Dense)             (None, 1024)              2098176   \n",
            "_________________________________________________________________\n",
            "dense_57 (Dense)             (None, 512)               524800    \n",
            "_________________________________________________________________\n",
            "dense_58 (Dense)             (None, 256)               131328    \n",
            "_________________________________________________________________\n",
            "dense_59 (Dense)             (None, 64)                16448     \n",
            "_________________________________________________________________\n",
            "dense_60 (Dense)             (None, 64)                4160      \n",
            "_________________________________________________________________\n",
            "dense_61 (Dense)             (None, 64)                4160      \n",
            "_________________________________________________________________\n",
            "dense_62 (Dense)             (None, 32)                2080      \n",
            "_________________________________________________________________\n",
            "dense_63 (Dense)             (None, 32)                1056      \n",
            "_________________________________________________________________\n",
            "dense_64 (Dense)             (None, 16)                528       \n",
            "_________________________________________________________________\n",
            "dense_65 (Dense)             (None, 1)                 17        \n",
            "=================================================================\n",
            "Total params: 32,669,217\n",
            "Trainable params: 32,669,217\n",
            "Non-trainable params: 0\n",
            "_________________________________________________________________\n",
            "None\n",
            "Epoch 1/20\n",
            "5/5 [==============================] - 2s 177ms/step - loss: 0.4893 - mae: 0.4893 - val_loss: 0.4888 - val_mae: 0.4888\n",
            "Epoch 2/20\n",
            "5/5 [==============================] - 0s 61ms/step - loss: 0.4824 - mae: 0.4824 - val_loss: 0.4462 - val_mae: 0.4462\n",
            "Epoch 3/20\n",
            "5/5 [==============================] - 0s 62ms/step - loss: 0.4440 - mae: 0.4440 - val_loss: 0.4400 - val_mae: 0.4400\n",
            "Epoch 4/20\n",
            "5/5 [==============================] - 0s 58ms/step - loss: 0.4389 - mae: 0.4389 - val_loss: 0.4400 - val_mae: 0.4400\n",
            "Epoch 5/20\n",
            "5/5 [==============================] - 0s 60ms/step - loss: 0.4412 - mae: 0.4412 - val_loss: 0.4400 - val_mae: 0.4400\n",
            "Epoch 6/20\n",
            "5/5 [==============================] - 0s 60ms/step - loss: 0.4356 - mae: 0.4356 - val_loss: 0.4400 - val_mae: 0.4400\n",
            "Epoch 7/20\n",
            "5/5 [==============================] - 0s 56ms/step - loss: 0.4343 - mae: 0.4343 - val_loss: 0.4400 - val_mae: 0.4400\n",
            "Epoch 8/20\n",
            "5/5 [==============================] - 0s 60ms/step - loss: 0.4356 - mae: 0.4356 - val_loss: 0.4400 - val_mae: 0.4400\n",
            "Epoch 9/20\n",
            "5/5 [==============================] - 0s 62ms/step - loss: 0.4347 - mae: 0.4347 - val_loss: 0.4400 - val_mae: 0.4400\n",
            "Epoch 10/20\n",
            "5/5 [==============================] - 0s 56ms/step - loss: 0.4396 - mae: 0.4396 - val_loss: 0.4400 - val_mae: 0.4400\n",
            "Epoch 11/20\n",
            "5/5 [==============================] - 0s 53ms/step - loss: 0.4349 - mae: 0.4349 - val_loss: 0.4400 - val_mae: 0.4400\n",
            "Epoch 12/20\n",
            "5/5 [==============================] - 0s 59ms/step - loss: 0.4420 - mae: 0.4420 - val_loss: 0.4400 - val_mae: 0.4400\n",
            "Epoch 13/20\n",
            "5/5 [==============================] - 0s 62ms/step - loss: 0.4346 - mae: 0.4346 - val_loss: 0.4400 - val_mae: 0.4400\n",
            "Epoch 14/20\n",
            "5/5 [==============================] - 0s 60ms/step - loss: 0.4359 - mae: 0.4359 - val_loss: 0.4400 - val_mae: 0.4400\n",
            "Epoch 15/20\n",
            "5/5 [==============================] - 0s 57ms/step - loss: 0.4410 - mae: 0.4410 - val_loss: 0.4400 - val_mae: 0.4400\n",
            "Epoch 16/20\n",
            "5/5 [==============================] - 0s 61ms/step - loss: 0.4393 - mae: 0.4393 - val_loss: 0.4400 - val_mae: 0.4400\n",
            "Epoch 17/20\n",
            "5/5 [==============================] - 0s 59ms/step - loss: 0.4376 - mae: 0.4376 - val_loss: 0.4400 - val_mae: 0.4400\n",
            "Epoch 18/20\n",
            "5/5 [==============================] - 0s 58ms/step - loss: 0.4429 - mae: 0.4429 - val_loss: 0.4400 - val_mae: 0.4400\n",
            "Epoch 19/20\n",
            "5/5 [==============================] - 0s 58ms/step - loss: 0.4351 - mae: 0.4351 - val_loss: 0.4400 - val_mae: 0.4400\n",
            "Epoch 20/20\n",
            "5/5 [==============================] - 0s 56ms/step - loss: 0.4370 - mae: 0.4370 - val_loss: 0.4400 - val_mae: 0.4400\n"
          ],
          "name": "stdout"
        }
      ]
    },
    {
      "cell_type": "code",
      "metadata": {
        "id": "Jp04bPPKK8P-",
        "colab": {
          "base_uri": "https://localhost:8080/",
          "height": 295
        },
        "outputId": "1eda24e2-5f3f-4f1e-df50-937cb13aff75"
      },
      "source": [
        "plt.plot(hist.history['loss'])\n",
        "plt.plot(hist.history['val_loss'])\n",
        "plt.title('Model loss')\n",
        "plt.ylabel('Loss')\n",
        "plt.xlabel('Epoch')\n",
        "plt.legend(['Train', 'Val'], loc='upper right')\n",
        "plt.show()"
      ],
      "execution_count": null,
      "outputs": [
        {
          "output_type": "display_data",
          "data": {
            "image/png": "[encoded data removed]",
            "text/plain": [
              "<Figure size 432x288 with 1 Axes>"
            ]
          },
          "metadata": {
            "tags": [],
            "needs_background": "light"
          }
        }
      ]
    },
    {
      "cell_type": "code",
      "metadata": {
        "colab": {
          "base_uri": "https://localhost:8080/"
        },
        "id": "Qv2nVXQyMFaK",
        "outputId": "03a8a7c7-2c49-43e0-af4e-8ddc51fbf7c5"
      },
      "source": [
        "#Predict the test set\n",
        "predictions = model.predict(xTest)\n",
        "print(\"predictions shape:\", predictions.shape)\n",
        "# We now change it to 0 0.5 and 1.\n",
        "for k in range(len(predictions)):\n",
        "  if(predictions[k]<0.25):\n",
        "    predictions[k] = 0.0\n",
        "  elif(predictions[k]>0.75):\n",
        "    predictions[k] = 1.0\n",
        "  else:\n",
        "    predictions[k] = 0.5"
      ],
      "execution_count": null,
      "outputs": [
        {
          "output_type": "stream",
          "text": [
            "predictions shape: (250, 1)\n"
          ],
          "name": "stdout"
        }
      ]
    },
    {
      "cell_type": "code",
      "metadata": {
        "id": "KzhoFXSTh_s2",
        "colab": {
          "base_uri": "https://localhost:8080/",
          "height": 295
        },
        "outputId": "4b3e3db4-276c-4ce4-faac-7076f75aab06"
      },
      "source": [
        "plt.plot(predictions,color='blue')\n",
        "plt.plot(yTest,color='red')\n",
        "plt.title('Test Set Predictions')\n",
        "plt.ylabel('Points for white')\n",
        "plt.xlabel('Match number')\n",
        "#plt.legend(['Train', 'Val'], loc='upper right')\n",
        "plt.show()"
      ],
      "execution_count": null,
      "outputs": [
        {
          "output_type": "display_data",
          "data": {
            "image/png": "[encoded data removed]",
            "text/plain": [
              "<Figure size 432x288 with 1 Axes>"
            ]
          },
          "metadata": {
            "tags": [],
            "needs_background": "light"
          }
        }
      ]
    },
    {
      "cell_type": "code",
      "metadata": {
        "id": "mo_sA2lZ7YRu",
        "colab": {
          "base_uri": "https://localhost:8080/"
        },
        "outputId": "c919ac97-ae33-41d9-878b-16dff7a35fa4"
      },
      "source": [
        "# We use a simple comparision with draw every round\n",
        "mae = tf.keras.losses.MeanAbsoluteError()\n",
        "compare = np.ones((250,1))*0.5\n",
        "print('error simple approach')\n",
        "print(mae(compare,yTest))\n",
        "print('error corrected predictions')\n",
        "print(mae(predictions,yTest))"
      ],
      "execution_count": null,
      "outputs": [
        {
          "output_type": "stream",
          "text": [
            "error simple approach\n",
            "tf.Tensor(0.492000013589859, shape=(), dtype=float64)\n",
            "error corrected predictions\n",
            "tf.Tensor(0.4399999976158142, shape=(), dtype=float64)\n"
          ],
          "name": "stdout"
        }
      ]
    },
    {
      "cell_type": "code",
      "metadata": {
        "id": "XtUMSQhYZ7Dh"
      },
      "source": [
        ""
      ],
      "execution_count": null,
      "outputs": []
    }
  ]
}