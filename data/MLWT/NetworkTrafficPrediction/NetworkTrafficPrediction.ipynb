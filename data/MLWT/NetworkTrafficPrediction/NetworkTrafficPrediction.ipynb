{
 "cells": [
  {
   "cell_type": "markdown",
   "metadata": {},
   "source": [
    "# Internet Traffic classification using passive measurements of TCP connections"
   ]
  },
  {
   "cell_type": "markdown",
   "metadata": {},
   "source": [
    "### by: Mithra Gholami"
   ]
  },
  {
   "cell_type": "markdown",
   "metadata": {},
   "source": [
    "##### Dataset link: http://tstat.polito.it/traces-tcpcomplete.shtml \n",
    "##### The meaning of each feature: http://tstat.tlc.polito.it/measure.shtml#log_tcp_complete\n",
    "##### More Info: https://smartdata.polito.it/five-years-at-the-edge-watching-internet-from-the-isp-network/"
   ]
  },
  {
   "cell_type": "code",
   "execution_count": 1,
   "metadata": {},
   "outputs": [],
   "source": [
    "import numpy as np\n",
    "import tensorflow as tf\n",
    "import pandas as pd\n",
    "import csv\n",
    "import random\n",
    "from tensorflow.keras.preprocessing.text import Tokenizer"
   ]
  },
  {
   "cell_type": "code",
   "execution_count": 2,
   "metadata": {},
   "outputs": [
    {
     "data": {
      "text/plain": [
       "100000"
      ]
     },
     "execution_count": 2,
     "metadata": {},
     "output_type": "execute_result"
    }
   ],
   "source": [
    "# reading the csv file, using pandas \n",
    "data_frame = pd.read_csv(\"../Desktop/ML_Proj_TCP/log_tcp_complete_classes.txt\", sep=\" \")\n",
    "\n",
    "#renaming the last column (labels) for easier usage\n",
    "data_frame = data_frame.rename(columns={'class:207' : 'class207'}) \n",
    "\n",
    "# number of TCP connections in data set\n",
    "data_frame.shape[0]"
   ]
  },
  {
   "cell_type": "code",
   "execution_count": 3,
   "metadata": {},
   "outputs": [],
   "source": [
    "# do NOT use IP addresses----> high cardinality leads to overfitting.\n",
    "# do NOT use information about the server providing the service (e.g., its domain name)----> makes the problem trivial.\n",
    "# should not be used: #31#c_ip:1, c_port:2, s_ip:15, s_port:16, c_tls_SNI:116, s_tls_SCN:117, fqdn:127\n",
    "features =  [\n",
    "            \"c_pkts_all:3\",\n",
    "            \"s_pkts_all:17\",\n",
    "            \"con_t:42\",\n",
    "            'c_rtt_avg:45',\n",
    "            'c_rtt_min:46',\n",
    "            'c_rtt_std:48',\n",
    "            's_rtt_avg:52',\n",
    "            's_rtt_std:55',\n",
    "            'c_mss_min:72',\n",
    "            'c_msgsize_count:131',\n",
    "            's_msgsize_count:142',\n",
    "            \"c_pkts_data_avg:194\",\n",
    "            'c_pkts_data_std:195',\n",
    "            \"s_pkts_data_avg:197\",\n",
    "            's_pkts_data_std:198',\n",
    "            'c_seg_cnt:199',\n",
    "            \"c_sit_avg:200\",\n",
    "            's_seg_cnt:202',\n",
    "            \"s_sit_avg:203\",\n",
    "            \"c_pkts_push:205\",\n",
    "            \"s_pkts_push:206\"\n",
    "]"
   ]
  },
  {
   "cell_type": "code",
   "execution_count": 4,
   "metadata": {},
   "outputs": [
    {
     "name": "stdout",
     "output_type": "stream",
     "text": [
      "75721    class:facebook\n",
      "80184        class:ebay\n",
      "19864        class:bing\n",
      "76699    class:facebook\n",
      "92991      class:amazon\n",
      "76434    class:facebook\n",
      "84004        class:ebay\n",
      "80917        class:ebay\n",
      "60767     class:spotify\n",
      "50074     class:netflix\n",
      "Name: class207, dtype: object\n"
     ]
    }
   ],
   "source": [
    "# Shuffle all the rows\n",
    "shuffled_data = data_frame.sample(frac=1, random_state=42)\n",
    "print(shuffled_data.iloc[:10,-1])"
   ]
  },
  {
   "cell_type": "code",
   "execution_count": 5,
   "metadata": {
    "scrolled": true
   },
   "outputs": [
    {
     "name": "stdout",
     "output_type": "stream",
     "text": [
      "75721    3\n",
      "80184    2\n",
      "19864    1\n",
      "76699    3\n",
      "92991    0\n",
      "76434    3\n",
      "84004    2\n",
      "80917    2\n",
      "60767    8\n",
      "50074    7\n",
      "Name: class207, dtype: int8\n"
     ]
    }
   ],
   "source": [
    "# tokenizing the labels\n",
    "shuffled_data['class207'] = pd.Categorical(shuffled_data['class207'])   # labels are now of type categorical\n",
    "shuffled_data['class207'] = shuffled_data.class207.cat.codes\n",
    "\n",
    "labels = shuffled_data['class207'] \n",
    "print(labels[:10])"
   ]
  },
  {
   "cell_type": "code",
   "execution_count": 6,
   "metadata": {},
   "outputs": [],
   "source": [
    "# services = ['google', 'bing', 'linkedin', 'instagram', 'youtube', 'netflix', 'spotify', 'facebook', 'ebay', 'amazon']\n",
    "depth = 10 \n",
    "\n",
    "# one-hot encoding the labels\n",
    "oneHotEncoded_labels = tf.one_hot(labels, depth)"
   ]
  },
  {
   "cell_type": "code",
   "execution_count": 7,
   "metadata": {
    "scrolled": false
   },
   "outputs": [
    {
     "data": {
      "text/plain": [
       "<tf.Tensor: shape=(5, 10), dtype=float32, numpy=\n",
       "array([[0., 0., 0., 1., 0., 0., 0., 0., 0., 0.],\n",
       "       [0., 0., 1., 0., 0., 0., 0., 0., 0., 0.],\n",
       "       [0., 1., 0., 0., 0., 0., 0., 0., 0., 0.],\n",
       "       [0., 0., 0., 1., 0., 0., 0., 0., 0., 0.],\n",
       "       [1., 0., 0., 0., 0., 0., 0., 0., 0., 0.]], dtype=float32)>"
      ]
     },
     "execution_count": 7,
     "metadata": {},
     "output_type": "execute_result"
    }
   ],
   "source": [
    "# printing the first 5 vectors\n",
    "oneHotEncoded_labels[:5]"
   ]
  },
  {
   "cell_type": "code",
   "execution_count": 8,
   "metadata": {},
   "outputs": [
    {
     "data": {
      "text/html": [
       "<div>\n",
       "<style scoped>\n",
       "    .dataframe tbody tr th:only-of-type {\n",
       "        vertical-align: middle;\n",
       "    }\n",
       "\n",
       "    .dataframe tbody tr th {\n",
       "        vertical-align: top;\n",
       "    }\n",
       "\n",
       "    .dataframe thead th {\n",
       "        text-align: right;\n",
       "    }\n",
       "</style>\n",
       "<table border=\"1\" class=\"dataframe\">\n",
       "  <thead>\n",
       "    <tr style=\"text-align: right;\">\n",
       "      <th></th>\n",
       "      <th>c_pkts_all:3</th>\n",
       "      <th>s_pkts_all:17</th>\n",
       "      <th>con_t:42</th>\n",
       "      <th>c_rtt_avg:45</th>\n",
       "      <th>c_rtt_min:46</th>\n",
       "      <th>c_rtt_std:48</th>\n",
       "      <th>s_rtt_avg:52</th>\n",
       "      <th>s_rtt_std:55</th>\n",
       "      <th>c_mss_min:72</th>\n",
       "      <th>c_msgsize_count:131</th>\n",
       "      <th>...</th>\n",
       "      <th>c_pkts_data_avg:194</th>\n",
       "      <th>c_pkts_data_std:195</th>\n",
       "      <th>s_pkts_data_avg:197</th>\n",
       "      <th>s_pkts_data_std:198</th>\n",
       "      <th>c_seg_cnt:199</th>\n",
       "      <th>c_sit_avg:200</th>\n",
       "      <th>s_seg_cnt:202</th>\n",
       "      <th>s_sit_avg:203</th>\n",
       "      <th>c_pkts_push:205</th>\n",
       "      <th>s_pkts_push:206</th>\n",
       "    </tr>\n",
       "  </thead>\n",
       "  <tbody>\n",
       "    <tr>\n",
       "      <th>75721</th>\n",
       "      <td>10</td>\n",
       "      <td>10</td>\n",
       "      <td>8192</td>\n",
       "      <td>3.496413</td>\n",
       "      <td>3.237</td>\n",
       "      <td>0.19828</td>\n",
       "      <td>22.023599</td>\n",
       "      <td>0.606133</td>\n",
       "      <td>51</td>\n",
       "      <td>3</td>\n",
       "      <td>...</td>\n",
       "      <td>589.666667</td>\n",
       "      <td>542.540628</td>\n",
       "      <td>730.25</td>\n",
       "      <td>648.489619</td>\n",
       "      <td>3</td>\n",
       "      <td>19.9995</td>\n",
       "      <td>8</td>\n",
       "      <td>29.230571</td>\n",
       "      <td>3</td>\n",
       "      <td>6</td>\n",
       "    </tr>\n",
       "  </tbody>\n",
       "</table>\n",
       "<p>1 rows × 21 columns</p>\n",
       "</div>"
      ],
      "text/plain": [
       "       c_pkts_all:3  s_pkts_all:17  con_t:42  c_rtt_avg:45  c_rtt_min:46  \\\n",
       "75721            10             10      8192      3.496413         3.237   \n",
       "\n",
       "       c_rtt_std:48  s_rtt_avg:52  s_rtt_std:55  c_mss_min:72  \\\n",
       "75721       0.19828     22.023599      0.606133            51   \n",
       "\n",
       "       c_msgsize_count:131  ...  c_pkts_data_avg:194  c_pkts_data_std:195  \\\n",
       "75721                    3  ...           589.666667           542.540628   \n",
       "\n",
       "       s_pkts_data_avg:197  s_pkts_data_std:198  c_seg_cnt:199  c_sit_avg:200  \\\n",
       "75721               730.25           648.489619              3        19.9995   \n",
       "\n",
       "       s_seg_cnt:202  s_sit_avg:203  c_pkts_push:205  s_pkts_push:206  \n",
       "75721              8      29.230571                3                6  \n",
       "\n",
       "[1 rows x 21 columns]"
      ]
     },
     "execution_count": 8,
     "metadata": {},
     "output_type": "execute_result"
    }
   ],
   "source": [
    "# \"data\" contains chosen columns by feature name\n",
    "data = shuffled_data.loc[:,features]\n",
    "data[0:1]"
   ]
  },
  {
   "cell_type": "code",
   "execution_count": 9,
   "metadata": {},
   "outputs": [
    {
     "data": {
      "text/plain": [
       "c_pkts_all:3             int64\n",
       "s_pkts_all:17            int64\n",
       "con_t:42                 int64\n",
       "c_rtt_avg:45           float64\n",
       "c_rtt_min:46           float64\n",
       "c_rtt_std:48           float64\n",
       "s_rtt_avg:52           float64\n",
       "s_rtt_std:55           float64\n",
       "c_mss_min:72             int64\n",
       "c_msgsize_count:131      int64\n",
       "s_msgsize_count:142      int64\n",
       "c_pkts_data_avg:194    float64\n",
       "c_pkts_data_std:195    float64\n",
       "s_pkts_data_avg:197    float64\n",
       "s_pkts_data_std:198    float64\n",
       "c_seg_cnt:199            int64\n",
       "c_sit_avg:200          float64\n",
       "s_seg_cnt:202            int64\n",
       "s_sit_avg:203          float64\n",
       "c_pkts_push:205          int64\n",
       "s_pkts_push:206          int64\n",
       "dtype: object"
      ]
     },
     "execution_count": 9,
     "metadata": {},
     "output_type": "execute_result"
    }
   ],
   "source": [
    "# types of the chosen features\n",
    "data.dtypes"
   ]
  },
  {
   "cell_type": "code",
   "execution_count": 10,
   "metadata": {},
   "outputs": [
    {
     "name": "stdout",
     "output_type": "stream",
     "text": [
      "number of train set elements: 75000\n",
      "number of train labels: 75000\n",
      "number of test set elements: 25000\n",
      "number of test labels: 25000\n",
      "tf.Tensor([0. 0. 1. 0. 0. 0. 0. 0. 0. 0.], shape=(10,), dtype=float32)\n"
     ]
    }
   ],
   "source": [
    "# train and validation set (75% , 25%)\n",
    "\n",
    "train_set = data.iloc[:int(0.75*len(shuffled_data)), : ]  # type: DataFrame\n",
    "train_labels = oneHotEncoded_labels[:int(0.75*len(shuffled_data))]      # type: ndarray\n",
    "\n",
    "test_set = data.iloc[int(0.75*len(shuffled_data)): , : ]\n",
    "test_labels = oneHotEncoded_labels[int(0.75*len(shuffled_data)):]\n",
    "\n",
    "print(\"number of train set elements:\", len(train_set))\n",
    "print(\"number of train labels:\", len(train_labels))\n",
    "print(\"number of test set elements:\", len(test_set))\n",
    "print(\"number of test labels:\", len(test_labels))\n",
    "print(train_labels[1])"
   ]
  },
  {
   "cell_type": "code",
   "execution_count": 11,
   "metadata": {
    "scrolled": true
   },
   "outputs": [
    {
     "name": "stdout",
     "output_type": "stream",
     "text": [
      "(75000, 21) (75000, 10)\n",
      "(25000, 21) (25000, 10)\n"
     ]
    }
   ],
   "source": [
    "# shapes of data-set and labels\n",
    "print(train_set.shape,train_labels.shape)\n",
    "print(test_set.shape,test_labels.shape)"
   ]
  },
  {
   "cell_type": "code",
   "execution_count": 12,
   "metadata": {},
   "outputs": [],
   "source": [
    "# preparing the trainset and validationset\n",
    "\n",
    "trainset = tf.data.Dataset.from_tensor_slices((train_set.values , np.array(train_labels))).batch(50)\n",
    "validationset = tf.data.Dataset.from_tensor_slices((test_set.values , np.array(test_labels))).batch(50)"
   ]
  },
  {
   "cell_type": "code",
   "execution_count": 19,
   "metadata": {
    "scrolled": true
   },
   "outputs": [],
   "source": [
    "# train_set.values?\n",
    "# for feat, targ in trainset.take(5):\n",
    "#   print ('Features: {}, Target: {}'.format(feat, targ))"
   ]
  },
  {
   "cell_type": "code",
   "execution_count": 27,
   "metadata": {},
   "outputs": [],
   "source": [
    "# model definition\n",
    "\n",
    "model = tf.keras.Sequential([\n",
    "    tf.keras.layers.Lambda(lambda x: tf.expand_dims(x, axis=-1), input_shape=[None]),\n",
    "    tf.keras.layers.Bidirectional(tf.keras.layers.LSTM(32)),\n",
    "    tf.keras.layers.Dense(64, activation='relu'),\n",
    "    tf.keras.layers.Dense(10, activation='softmax')\n",
    "])\n",
    "\n",
    "##################################\n",
    "# adjusting the learning rate\n",
    "# lr_schedule = tf.keras.callbacks.LearningRateScheduler(lambda epoch: 1e-8 * 10**(epoch / 5))\n",
    "# optimizer = tf.keras.optimizers.Adam(lr=1e-8)\n",
    "# # adam.lr.assign(lr=1e-8, momentum=0.9)\n",
    "\n",
    "# tf.keras.backend.set_floatx('float64')\n",
    "\n",
    "# model.compile(loss='categorical_crossentropy',\n",
    "#               optimizer=optimizer,\n",
    "#               metrics=['accuracy'])\n",
    "# history = model.fit(trainset, validation_data = validationset,  epochs=num_epochs, callbacks=[lr_schedule])\n",
    "##################################\n",
    "\n",
    "\n",
    "\n",
    "tf.keras.backend.set_floatx('float64')\n",
    "model.compile(loss = 'categorical_crossentropy', optimizer='adam', metrics=['accuracy'])"
   ]
  },
  {
   "cell_type": "code",
   "execution_count": 37,
   "metadata": {},
   "outputs": [],
   "source": [
    "# plt.semilogx(history.history[\"lr\"], history.history[\"loss\"])\n",
    "# plt.axis([1e-8, 1e-4, 0, 30])"
   ]
  },
  {
   "cell_type": "code",
   "execution_count": 33,
   "metadata": {},
   "outputs": [],
   "source": [
    "# model.summary()"
   ]
  },
  {
   "cell_type": "code",
   "execution_count": 28,
   "metadata": {
    "scrolled": false
   },
   "outputs": [
    {
     "name": "stdout",
     "output_type": "stream",
     "text": [
      "Epoch 1/30\n",
      "1500/1500 [==============================] - 20s 13ms/step - loss: 1.3279 - accuracy: 0.5161 - val_loss: 0.9942 - val_accuracy: 0.6523\n",
      "Epoch 2/30\n",
      "1500/1500 [==============================] - 20s 13ms/step - loss: 0.8980 - accuracy: 0.6841 - val_loss: 0.8118 - val_accuracy: 0.7092\n",
      "Epoch 3/30\n",
      "1500/1500 [==============================] - 19s 13ms/step - loss: 0.7537 - accuracy: 0.7366 - val_loss: 0.7092 - val_accuracy: 0.7551\n",
      "Epoch 4/30\n",
      "1500/1500 [==============================] - 19s 13ms/step - loss: 0.6720 - accuracy: 0.7669 - val_loss: 0.6535 - val_accuracy: 0.7730\n",
      "Epoch 5/30\n",
      "1500/1500 [==============================] - 19s 13ms/step - loss: 0.6149 - accuracy: 0.7871 - val_loss: 0.6719 - val_accuracy: 0.7644\n",
      "Epoch 6/30\n",
      "1500/1500 [==============================] - 20s 13ms/step - loss: 0.5934 - accuracy: 0.7960 - val_loss: 0.5957 - val_accuracy: 0.7956\n",
      "Epoch 7/30\n",
      "1500/1500 [==============================] - 20s 13ms/step - loss: 0.5515 - accuracy: 0.8108 - val_loss: 0.5711 - val_accuracy: 0.8052\n",
      "Epoch 8/30\n",
      "1500/1500 [==============================] - 21s 14ms/step - loss: 0.5250 - accuracy: 0.8200 - val_loss: 0.5291 - val_accuracy: 0.8190\n",
      "Epoch 9/30\n",
      "1500/1500 [==============================] - 20s 13ms/step - loss: 0.5006 - accuracy: 0.8284 - val_loss: 0.4991 - val_accuracy: 0.8279\n",
      "Epoch 10/30\n",
      "1500/1500 [==============================] - 21s 14ms/step - loss: 0.4828 - accuracy: 0.8345 - val_loss: 0.4680 - val_accuracy: 0.8404\n",
      "Epoch 11/30\n",
      "1500/1500 [==============================] - 22s 14ms/step - loss: 0.4631 - accuracy: 0.8417 - val_loss: 0.4623 - val_accuracy: 0.8461\n",
      "Epoch 12/30\n",
      "1500/1500 [==============================] - 21s 14ms/step - loss: 0.4490 - accuracy: 0.8461 - val_loss: 0.4443 - val_accuracy: 0.8509\n",
      "Epoch 13/30\n",
      "1500/1500 [==============================] - 21s 14ms/step - loss: 0.4339 - accuracy: 0.8516 - val_loss: 0.4374 - val_accuracy: 0.8524\n",
      "Epoch 14/30\n",
      "1500/1500 [==============================] - 21s 14ms/step - loss: 0.4221 - accuracy: 0.8548 - val_loss: 0.4302 - val_accuracy: 0.8550\n",
      "Epoch 15/30\n",
      "1500/1500 [==============================] - 20s 13ms/step - loss: 0.4136 - accuracy: 0.8581 - val_loss: 0.4235 - val_accuracy: 0.8585\n",
      "Epoch 16/30\n",
      "1500/1500 [==============================] - 20s 13ms/step - loss: 0.4016 - accuracy: 0.8616 - val_loss: 0.4157 - val_accuracy: 0.8590\n",
      "Epoch 17/30\n",
      "1500/1500 [==============================] - 21s 14ms/step - loss: 0.3945 - accuracy: 0.8637 - val_loss: 0.4143 - val_accuracy: 0.8607\n",
      "Epoch 18/30\n",
      "1500/1500 [==============================] - 21s 14ms/step - loss: 0.3857 - accuracy: 0.8681 - val_loss: 0.4029 - val_accuracy: 0.8641\n",
      "Epoch 19/30\n",
      "1500/1500 [==============================] - 21s 14ms/step - loss: 0.3783 - accuracy: 0.8701 - val_loss: 0.3938 - val_accuracy: 0.8667\n",
      "Epoch 20/30\n",
      "1500/1500 [==============================] - 22s 14ms/step - loss: 0.3730 - accuracy: 0.8715 - val_loss: 0.3872 - val_accuracy: 0.8683\n",
      "Epoch 21/30\n",
      "1500/1500 [==============================] - 23s 15ms/step - loss: 0.3657 - accuracy: 0.8744 - val_loss: 0.3857 - val_accuracy: 0.8690\n",
      "Epoch 22/30\n",
      "1500/1500 [==============================] - 23s 15ms/step - loss: 0.3603 - accuracy: 0.8754 - val_loss: 0.3809 - val_accuracy: 0.8697\n",
      "Epoch 23/30\n",
      "1500/1500 [==============================] - 23s 15ms/step - loss: 0.3592 - accuracy: 0.8765 - val_loss: 0.3800 - val_accuracy: 0.8712\n",
      "Epoch 24/30\n",
      "1500/1500 [==============================] - 22s 15ms/step - loss: 0.3492 - accuracy: 0.8793 - val_loss: 0.3743 - val_accuracy: 0.8725\n",
      "Epoch 25/30\n",
      "1500/1500 [==============================] - 22s 15ms/step - loss: 0.3437 - accuracy: 0.8816 - val_loss: 0.3741 - val_accuracy: 0.8732\n",
      "Epoch 26/30\n",
      "1500/1500 [==============================] - 22s 14ms/step - loss: 0.3384 - accuracy: 0.8837 - val_loss: 0.3786 - val_accuracy: 0.8713\n",
      "Epoch 27/30\n",
      "1500/1500 [==============================] - 22s 15ms/step - loss: 0.3346 - accuracy: 0.8851 - val_loss: 0.3758 - val_accuracy: 0.8724\n",
      "Epoch 28/30\n",
      "1500/1500 [==============================] - 22s 14ms/step - loss: 0.3307 - accuracy: 0.8863 - val_loss: 0.3763 - val_accuracy: 0.8721\n",
      "Epoch 29/30\n",
      "1500/1500 [==============================] - 22s 14ms/step - loss: 0.3266 - accuracy: 0.8882 - val_loss: 0.3725 - val_accuracy: 0.8749\n",
      "Epoch 30/30\n",
      "1500/1500 [==============================] - 21s 14ms/step - loss: 0.3238 - accuracy: 0.8886 - val_loss: 0.3745 - val_accuracy: 0.8731\n",
      "Training Complete\n"
     ]
    }
   ],
   "source": [
    "# training the model\n",
    "num_epochs = 30\n",
    "history = model.fit(trainset, validation_data = validationset,  epochs=num_epochs)\n",
    "\n",
    "print(\"Training Complete\")"
   ]
  },
  {
   "cell_type": "code",
   "execution_count": 29,
   "metadata": {},
   "outputs": [
    {
     "data": {
      "text/plain": [
       "<Figure size 432x288 with 0 Axes>"
      ]
     },
     "execution_count": 29,
     "metadata": {},
     "output_type": "execute_result"
    },
    {
     "data": {
      "image/png": "[encoded data removed]",
      "text/plain": [
       "<Figure size 432x288 with 1 Axes>"
      ]
     },
     "metadata": {
      "needs_background": "light"
     },
     "output_type": "display_data"
    },
    {
     "data": {
      "image/png": "[encoded data removed]",
      "text/plain": [
       "<Figure size 432x288 with 1 Axes>"
      ]
     },
     "metadata": {
      "needs_background": "light"
     },
     "output_type": "display_data"
    },
    {
     "data": {
      "text/plain": [
       "<Figure size 432x288 with 0 Axes>"
      ]
     },
     "metadata": {},
     "output_type": "display_data"
    }
   ],
   "source": [
    "import matplotlib.image  as mpimg\n",
    "import matplotlib.pyplot as plt\n",
    "\n",
    "#-----------------------------------------------------------\n",
    "# Retrieve a list of list results on training and test data\n",
    "# sets for each training epoch\n",
    "#-----------------------------------------------------------\n",
    "acc=history.history['accuracy']\n",
    "val_acc=history.history['val_accuracy']\n",
    "loss=history.history['loss']\n",
    "val_loss=history.history['val_loss']\n",
    "\n",
    "epochs=range(len(acc)) # Get number of epochs\n",
    "\n",
    "#------------------------------------------------\n",
    "# Plot training and validation accuracy per epoch\n",
    "#------------------------------------------------\n",
    "plt.plot(epochs, acc, 'r')\n",
    "plt.plot(epochs, val_acc, 'b')\n",
    "plt.title('Training and validation accuracy')\n",
    "plt.xlabel(\"Epochs\")\n",
    "plt.ylabel(\"Accuracy\")\n",
    "plt.legend([\"Accuracy\", \"Validation Accuracy\"])\n",
    "\n",
    "plt.figure()\n",
    "\n",
    "#------------------------------------------------\n",
    "# Plot training and validation loss per epoch\n",
    "#------------------------------------------------\n",
    "plt.plot(epochs, loss, 'r')\n",
    "plt.plot(epochs, val_loss, 'b')\n",
    "plt.title('Training and validation loss')\n",
    "plt.xlabel(\"Epochs\")\n",
    "plt.ylabel(\"Loss\")\n",
    "plt.legend([\"Loss\", \"Validation Loss\"])\n",
    "\n",
    "plt.figure()"
   ]
  },
  {
   "cell_type": "code",
   "execution_count": null,
   "metadata": {},
   "outputs": [],
   "source": []
  }
 ],
 "metadata": {
  "kernelspec": {
   "display_name": "Python 3",
   "language": "python",
   "name": "python3"
  },
  "language_info": {
   "codemirror_mode": {
    "name": "ipython",
    "version": 3
   },
   "file_extension": ".py",
   "mimetype": "text/x-python",
   "name": "python",
   "nbconvert_exporter": "python",
   "pygments_lexer": "ipython3",
   "version": "3.8.5"
  }
 },
 "nbformat": 4,
 "nbformat_minor": 4
}