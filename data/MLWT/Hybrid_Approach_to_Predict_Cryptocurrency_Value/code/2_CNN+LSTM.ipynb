{
  "nbformat": 4,
  "nbformat_minor": 0,
  "metadata": {
    "accelerator": "GPU",
    "colab": {
      "name": "opencampus.ipynb",
      "provenance": []
    },
    "kernelspec": {
      "display_name": "Python 3",
      "name": "python3"
    },
    "language_info": {
      "name": "python"
    }
  },
  "cells": [
    {
      "cell_type": "markdown",
      "metadata": {
        "id": "P8PUJCScON6X"
      },
      "source": [
        "# CNN + LSTM Model for Predicting Cryptocurrency Value\n",
        "In this model LSTM and CNN layers are combined for predicting the cryptocurrency time series. This combination allows for the LSTM layer to account for sequential dependencies in the time series, while the CNN layer further informs this process through the use of dilated convolutions.The goal of this model was to compare the result with the other model which does not have any CNN layer. \n",
        "\n",
        "The result of this model shows a high mean absolute error which convince us prediction with LSTM and without CNN performs better. "
      ]
    },
    {
      "cell_type": "code",
      "metadata": {
        "id": "EOkbSI53G2lP"
      },
      "source": [
        "# importing main libraries and packages \n",
        "\n",
        "\n",
        "import numpy as np\n",
        "import pandas as pd \n",
        "from tensorflow.keras.layers import Dense, Dropout, LSTM\n",
        "from tensorflow.keras.models import Sequential\n",
        "import datetime as dt\n",
        "import pandas_datareader as web   # for scraping data from yahoo in terms of a dataframe\n"
      ],
      "execution_count": null,
      "outputs": []
    },
    {
      "cell_type": "code",
      "metadata": {
        "id": "ys1_7kn_Iemq"
      },
      "source": [
        "c = 'BTC'\n",
        "a = 'USD'\n",
        "\n",
        "\n",
        "s = dt.datetime(2015,1,1)\n",
        "e = dt.datetime.now()\n",
        "data = web.DataReader(f'{c}-{a}', 'yahoo',s,e)"
      ],
      "execution_count": null,
      "outputs": []
    },
    {
      "cell_type": "code",
      "metadata": {
        "colab": {
          "base_uri": "https://localhost:8080/",
          "height": 233
        },
        "id": "oSJdJ7mzJN_B",
        "outputId": "5e960c4b-7444-480d-be53-5a8d476fce42"
      },
      "source": [
        "data.head()\n"
      ],
      "execution_count": null,
      "outputs": [
        {
          "output_type": "execute_result",
          "data": {
            "text/html": [
              "<div>\n",
              "<style scoped>\n",
              "    .dataframe tbody tr th:only-of-type {\n",
              "        vertical-align: middle;\n",
              "    }\n",
              "\n",
              "    .dataframe tbody tr th {\n",
              "        vertical-align: top;\n",
              "    }\n",
              "\n",
              "    .dataframe thead th {\n",
              "        text-align: right;\n",
              "    }\n",
              "</style>\n",
              "<table border=\"1\" class=\"dataframe\">\n",
              "  <thead>\n",
              "    <tr style=\"text-align: right;\">\n",
              "      <th></th>\n",
              "      <th>High</th>\n",
              "      <th>Low</th>\n",
              "      <th>Open</th>\n",
              "      <th>Close</th>\n",
              "      <th>Volume</th>\n",
              "      <th>Adj Close</th>\n",
              "    </tr>\n",
              "    <tr>\n",
              "      <th>Date</th>\n",
              "      <th></th>\n",
              "      <th></th>\n",
              "      <th></th>\n",
              "      <th></th>\n",
              "      <th></th>\n",
              "      <th></th>\n",
              "    </tr>\n",
              "  </thead>\n",
              "  <tbody>\n",
              "    <tr>\n",
              "      <th>2015-01-01</th>\n",
              "      <td>320.434998</td>\n",
              "      <td>314.002991</td>\n",
              "      <td>320.434998</td>\n",
              "      <td>314.248993</td>\n",
              "      <td>8036550.0</td>\n",
              "      <td>314.248993</td>\n",
              "    </tr>\n",
              "    <tr>\n",
              "      <th>2015-01-02</th>\n",
              "      <td>315.838989</td>\n",
              "      <td>313.565002</td>\n",
              "      <td>314.079010</td>\n",
              "      <td>315.032013</td>\n",
              "      <td>7860650.0</td>\n",
              "      <td>315.032013</td>\n",
              "    </tr>\n",
              "    <tr>\n",
              "      <th>2015-01-03</th>\n",
              "      <td>315.149994</td>\n",
              "      <td>281.082001</td>\n",
              "      <td>314.846008</td>\n",
              "      <td>281.082001</td>\n",
              "      <td>33054400.0</td>\n",
              "      <td>281.082001</td>\n",
              "    </tr>\n",
              "    <tr>\n",
              "      <th>2015-01-04</th>\n",
              "      <td>287.230011</td>\n",
              "      <td>257.612000</td>\n",
              "      <td>281.145996</td>\n",
              "      <td>264.195007</td>\n",
              "      <td>55629100.0</td>\n",
              "      <td>264.195007</td>\n",
              "    </tr>\n",
              "    <tr>\n",
              "      <th>2015-01-05</th>\n",
              "      <td>278.341003</td>\n",
              "      <td>265.084015</td>\n",
              "      <td>265.084015</td>\n",
              "      <td>274.473999</td>\n",
              "      <td>43962800.0</td>\n",
              "      <td>274.473999</td>\n",
              "    </tr>\n",
              "  </tbody>\n",
              "</table>\n",
              "</div>"
            ],
            "text/plain": [
              "                  High         Low  ...      Volume   Adj Close\n",
              "Date                                ...                        \n",
              "2015-01-01  320.434998  314.002991  ...   8036550.0  314.248993\n",
              "2015-01-02  315.838989  313.565002  ...   7860650.0  315.032013\n",
              "2015-01-03  315.149994  281.082001  ...  33054400.0  281.082001\n",
              "2015-01-04  287.230011  257.612000  ...  55629100.0  264.195007\n",
              "2015-01-05  278.341003  265.084015  ...  43962800.0  274.473999\n",
              "\n",
              "[5 rows x 6 columns]"
            ]
          },
          "metadata": {
            "tags": []
          },
          "execution_count": 5
        }
      ]
    },
    {
      "cell_type": "code",
      "metadata": {
        "id": "RyTkugY5JTsp"
      },
      "source": [
        "data['Date'] = data.index \n",
        "\n",
        "data = data.reset_index(drop= True)\n"
      ],
      "execution_count": null,
      "outputs": []
    },
    {
      "cell_type": "code",
      "metadata": {
        "colab": {
          "base_uri": "https://localhost:8080/",
          "height": 202
        },
        "id": "fN-cxGuCKNgJ",
        "outputId": "f6bc5413-9e76-4165-eb43-d2ada3fa982b"
      },
      "source": [
        "data.head()"
      ],
      "execution_count": null,
      "outputs": [
        {
          "output_type": "execute_result",
          "data": {
            "text/html": [
              "<div>\n",
              "<style scoped>\n",
              "    .dataframe tbody tr th:only-of-type {\n",
              "        vertical-align: middle;\n",
              "    }\n",
              "\n",
              "    .dataframe tbody tr th {\n",
              "        vertical-align: top;\n",
              "    }\n",
              "\n",
              "    .dataframe thead th {\n",
              "        text-align: right;\n",
              "    }\n",
              "</style>\n",
              "<table border=\"1\" class=\"dataframe\">\n",
              "  <thead>\n",
              "    <tr style=\"text-align: right;\">\n",
              "      <th></th>\n",
              "      <th>High</th>\n",
              "      <th>Low</th>\n",
              "      <th>Open</th>\n",
              "      <th>Close</th>\n",
              "      <th>Volume</th>\n",
              "      <th>Adj Close</th>\n",
              "      <th>Date</th>\n",
              "    </tr>\n",
              "  </thead>\n",
              "  <tbody>\n",
              "    <tr>\n",
              "      <th>0</th>\n",
              "      <td>320.434998</td>\n",
              "      <td>314.002991</td>\n",
              "      <td>320.434998</td>\n",
              "      <td>314.248993</td>\n",
              "      <td>8036550.0</td>\n",
              "      <td>314.248993</td>\n",
              "      <td>2015-01-01</td>\n",
              "    </tr>\n",
              "    <tr>\n",
              "      <th>1</th>\n",
              "      <td>315.838989</td>\n",
              "      <td>313.565002</td>\n",
              "      <td>314.079010</td>\n",
              "      <td>315.032013</td>\n",
              "      <td>7860650.0</td>\n",
              "      <td>315.032013</td>\n",
              "      <td>2015-01-02</td>\n",
              "    </tr>\n",
              "    <tr>\n",
              "      <th>2</th>\n",
              "      <td>315.149994</td>\n",
              "      <td>281.082001</td>\n",
              "      <td>314.846008</td>\n",
              "      <td>281.082001</td>\n",
              "      <td>33054400.0</td>\n",
              "      <td>281.082001</td>\n",
              "      <td>2015-01-03</td>\n",
              "    </tr>\n",
              "    <tr>\n",
              "      <th>3</th>\n",
              "      <td>287.230011</td>\n",
              "      <td>257.612000</td>\n",
              "      <td>281.145996</td>\n",
              "      <td>264.195007</td>\n",
              "      <td>55629100.0</td>\n",
              "      <td>264.195007</td>\n",
              "      <td>2015-01-04</td>\n",
              "    </tr>\n",
              "    <tr>\n",
              "      <th>4</th>\n",
              "      <td>278.341003</td>\n",
              "      <td>265.084015</td>\n",
              "      <td>265.084015</td>\n",
              "      <td>274.473999</td>\n",
              "      <td>43962800.0</td>\n",
              "      <td>274.473999</td>\n",
              "      <td>2015-01-05</td>\n",
              "    </tr>\n",
              "  </tbody>\n",
              "</table>\n",
              "</div>"
            ],
            "text/plain": [
              "         High         Low        Open  ...      Volume   Adj Close       Date\n",
              "0  320.434998  314.002991  320.434998  ...   8036550.0  314.248993 2015-01-01\n",
              "1  315.838989  313.565002  314.079010  ...   7860650.0  315.032013 2015-01-02\n",
              "2  315.149994  281.082001  314.846008  ...  33054400.0  281.082001 2015-01-03\n",
              "3  287.230011  257.612000  281.145996  ...  55629100.0  264.195007 2015-01-04\n",
              "4  278.341003  265.084015  265.084015  ...  43962800.0  274.473999 2015-01-05\n",
              "\n",
              "[5 rows x 7 columns]"
            ]
          },
          "metadata": {
            "tags": []
          },
          "execution_count": 7
        }
      ]
    },
    {
      "cell_type": "code",
      "metadata": {
        "id": "ZEnRIsW7K_1B"
      },
      "source": [
        "df1 = data[['Date','Close']] "
      ],
      "execution_count": null,
      "outputs": []
    },
    {
      "cell_type": "code",
      "metadata": {
        "colab": {
          "base_uri": "https://localhost:8080/",
          "height": 202
        },
        "id": "teTqf7PjOKlg",
        "outputId": "bc8b147e-ffb5-49a0-a29f-40f1baf1c3e8"
      },
      "source": [
        "df1.head()"
      ],
      "execution_count": null,
      "outputs": [
        {
          "output_type": "execute_result",
          "data": {
            "text/html": [
              "<div>\n",
              "<style scoped>\n",
              "    .dataframe tbody tr th:only-of-type {\n",
              "        vertical-align: middle;\n",
              "    }\n",
              "\n",
              "    .dataframe tbody tr th {\n",
              "        vertical-align: top;\n",
              "    }\n",
              "\n",
              "    .dataframe thead th {\n",
              "        text-align: right;\n",
              "    }\n",
              "</style>\n",
              "<table border=\"1\" class=\"dataframe\">\n",
              "  <thead>\n",
              "    <tr style=\"text-align: right;\">\n",
              "      <th></th>\n",
              "      <th>Date</th>\n",
              "      <th>Close</th>\n",
              "    </tr>\n",
              "  </thead>\n",
              "  <tbody>\n",
              "    <tr>\n",
              "      <th>0</th>\n",
              "      <td>2015-01-01</td>\n",
              "      <td>314.248993</td>\n",
              "    </tr>\n",
              "    <tr>\n",
              "      <th>1</th>\n",
              "      <td>2015-01-02</td>\n",
              "      <td>315.032013</td>\n",
              "    </tr>\n",
              "    <tr>\n",
              "      <th>2</th>\n",
              "      <td>2015-01-03</td>\n",
              "      <td>281.082001</td>\n",
              "    </tr>\n",
              "    <tr>\n",
              "      <th>3</th>\n",
              "      <td>2015-01-04</td>\n",
              "      <td>264.195007</td>\n",
              "    </tr>\n",
              "    <tr>\n",
              "      <th>4</th>\n",
              "      <td>2015-01-05</td>\n",
              "      <td>274.473999</td>\n",
              "    </tr>\n",
              "  </tbody>\n",
              "</table>\n",
              "</div>"
            ],
            "text/plain": [
              "        Date       Close\n",
              "0 2015-01-01  314.248993\n",
              "1 2015-01-02  315.032013\n",
              "2 2015-01-03  281.082001\n",
              "3 2015-01-04  264.195007\n",
              "4 2015-01-05  274.473999"
            ]
          },
          "metadata": {
            "tags": []
          },
          "execution_count": 9
        }
      ]
    },
    {
      "cell_type": "code",
      "metadata": {
        "colab": {
          "base_uri": "https://localhost:8080/"
        },
        "id": "jVGumPRiOLRh",
        "outputId": "cf6f9fbb-c215-4748-ffef-38c387472d9c"
      },
      "source": [
        "import tensorflow as tf\n",
        "print(tf.__version__)"
      ],
      "execution_count": null,
      "outputs": [
        {
          "output_type": "stream",
          "text": [
            "2.5.0\n"
          ],
          "name": "stdout"
        }
      ]
    },
    {
      "cell_type": "code",
      "metadata": {
        "id": "lpeLSH5HOe-Z"
      },
      "source": [
        "import numpy as np\n",
        "import matplotlib.pyplot as plt\n",
        "#plotting series\n",
        "def plot_series(time, series, format=\"-\", start=0, end=None):\n",
        "    plt.plot(time[start:end], series[start:end], format)\n",
        "    plt.xlabel(\"Time\")\n",
        "    plt.ylabel(\"Value\")\n",
        "    plt.grid(True)"
      ],
      "execution_count": null,
      "outputs": []
    },
    {
      "cell_type": "code",
      "metadata": {
        "colab": {
          "base_uri": "https://localhost:8080/",
          "height": 405
        },
        "id": "dObCAWfTOgYp",
        "outputId": "50bc95f1-4c09-450f-f821-6569822b26cd"
      },
      "source": [
        "# this is hows the data looks like \n",
        "\n",
        "temps = df1.iloc[:,1]\n",
        "temps.shape\n",
        "#print(time)\n",
        "series = np.array(temps)\n",
        "time = np.array(range(0,len(temps)))\n",
        "plt.figure(figsize=(10, 6))\n",
        "plot_series(time, series)\n",
        "series.shape"
      ],
      "execution_count": null,
      "outputs": [
        {
          "output_type": "execute_result",
          "data": {
            "text/plain": [
              "(2361,)"
            ]
          },
          "metadata": {
            "tags": []
          },
          "execution_count": 12
        },
        {
          "output_type": "display_data",
          "data": {
            "image/png": "[encoded data removed]",
            "text/plain": [
              "<Figure size 720x432 with 1 Axes>"
            ]
          },
          "metadata": {
            "tags": [],
            "needs_background": "light"
          }
        }
      ]
    },
    {
      "cell_type": "code",
      "metadata": {
        "id": "NcG9r1eClbTh"
      },
      "source": [
        ""
      ],
      "execution_count": null,
      "outputs": []
    },
    {
      "cell_type": "code",
      "metadata": {
        "id": "L92YRw_IpCFG"
      },
      "source": [
        "#spliting data \n",
        "split_time = 2000\n",
        "time_train = time[:split_time]\n",
        "x_train = series[:split_time]\n",
        "time_valid = time[split_time:]\n",
        "x_valid = series[split_time:]\n",
        "\n",
        "window_size = 30\n",
        "batch_size = 64\n",
        "shuffle_buffer_size = 2000\n"
      ],
      "execution_count": null,
      "outputs": []
    },
    {
      "cell_type": "code",
      "metadata": {
        "id": "9XfK_yecP7qX"
      },
      "source": [
        "# function to get windowed or sliced data for effiecient results\n",
        "def windowed_dataset(series, window_size, batch_size, shuffle_buffer):\n",
        "    series = tf.expand_dims(series, axis=-1)\n",
        "    ds = tf.data.Dataset.from_tensor_slices(series)\n",
        "    ds = ds.window(window_size + 1, shift=1, drop_remainder=True)\n",
        "    ds = ds.flat_map(lambda w: w.batch(window_size + 1))\n",
        "    ds = ds.shuffle(shuffle_buffer)\n",
        "    ds = ds.map(lambda w: (w[:-1], w[1:]))\n",
        "    return ds.batch(batch_size).prefetch(1)"
      ],
      "execution_count": null,
      "outputs": []
    },
    {
      "cell_type": "code",
      "metadata": {
        "id": "vpWSH4KVSaG7"
      },
      "source": [
        "# forecasting model \n",
        "def model_forecast(model, series, window_size):\n",
        "    ds = tf.data.Dataset.from_tensor_slices(series)\n",
        "    ds = ds.window(window_size, shift=1, drop_remainder=True)\n",
        "    ds = ds.flat_map(lambda w: w.batch(window_size))\n",
        "    ds = ds.batch(32).prefetch(1)\n",
        "    forecast = model.predict(ds)\n",
        "    return forecast"
      ],
      "execution_count": null,
      "outputs": []
    },
    {
      "cell_type": "code",
      "metadata": {
        "id": "vNq60Z1dOA-W"
      },
      "source": [
        "# CNN+lSTM Model \n",
        "tf.keras.backend.clear_session()\n",
        "tf.random.set_seed(51)\n",
        "np.random.seed(51)\n",
        "window_size = 20\n",
        "batch_size = 64\n",
        "train_set = windowed_dataset(x_train, window_size, batch_size, shuffle_buffer_size)\n",
        "print(train_set)\n",
        "print(x_train.shape)\n",
        "\n",
        "model = tf.keras.models.Sequential([\n",
        "  tf.keras.layers.Conv1D(filters=32, kernel_size=5,\n",
        "                      strides=1, padding=\"causal\",\n",
        "                      activation=\"relu\",\n",
        "                      input_shape=[None, 1]),\n",
        "  tf.keras.layers.LSTM(64, return_sequences=True),\n",
        "  tf.keras.layers.LSTM(64, return_sequences=True),\n",
        "  tf.keras.layers.Dense(30, activation=\"relu\"),\n",
        "  tf.keras.layers.Dense(10, activation=\"relu\"),\n",
        "  tf.keras.layers.Dense(1)\n",
        "#  tf.keras.layers.Lambda(lambda x: x * 40000)\n",
        "])\n",
        "\n",
        "lr_schedule = tf.keras.callbacks.LearningRateScheduler(\n",
        "    lambda epoch: 1e-8 * 20**(epoch / 20))\n",
        "optimizer = tf.keras.optimizers.SGD(learning_rate=1e-8, momentum=0.9)\n",
        "model.compile(loss=tf.keras.losses.Huber(),\n",
        "              optimizer=optimizer,\n",
        "              metrics=[\"mae\"])\n",
        "history = model.fit(train_set, epochs=50, callbacks=[lr_schedule])\n"
      ],
      "execution_count": null,
      "outputs": []
    },
    {
      "cell_type": "code",
      "metadata": {
        "colab": {
          "base_uri": "https://localhost:8080/",
          "height": 289
        },
        "id": "DRtx_-wsSoZS",
        "outputId": "c6eb89a5-2390-487d-c0ce-ab9dd10eaa03"
      },
      "source": [
        "#analysing the optimum learning rate and choosing that optimum\n",
        "\n",
        "plt.semilogx(history.history[\"lr\"], history.history[\"loss\"])\n",
        "\n",
        "plt.axis([1e-8, 1e-4, 0, 6000])"
      ],
      "execution_count": null,
      "outputs": [
        {
          "output_type": "execute_result",
          "data": {
            "text/plain": [
              "(1e-08, 0.0001, 0.0, 6000.0)"
            ]
          },
          "metadata": {
            "tags": []
          },
          "execution_count": 17
        },
        {
          "output_type": "display_data",
          "data": {
            "image/png": "[encoded data removed]",
            "text/plain": [
              "<Figure size 432x288 with 1 Axes>"
            ]
          },
          "metadata": {
            "tags": [],
            "needs_background": "light"
          }
        }
      ]
    },
    {
      "cell_type": "code",
      "metadata": {
        "colab": {
          "base_uri": "https://localhost:8080/"
        },
        "id": "pViG70sVTeZ3",
        "outputId": "21b3de0c-604e-453b-8122-174932e6a2f9"
      },
      "source": [
        "#model learning \n",
        "\n",
        "tf.keras.backend.clear_session()\n",
        "tf.random.set_seed(51)\n",
        "np.random.seed(51)\n",
        "train_set = windowed_dataset(x_train, window_size=40, batch_size=64, shuffle_buffer=shuffle_buffer_size)\n",
        "model = tf.keras.models.Sequential([\n",
        "  tf.keras.layers.Conv1D(filters=50, kernel_size=5,\n",
        "                       strides=1, padding=\"causal\",\n",
        "                      activation=\"relu\",\n",
        "                      input_shape=[None, 1]),\n",
        "  tf.keras.layers.LSTM(30, return_sequences=True),\n",
        "  tf.keras.layers.LSTM(30, return_sequences=True),\n",
        "  tf.keras.layers.Dense(15, activation=\"relu\"),\n",
        "  tf.keras.layers.Dense(10, activation=\"relu\"),\n",
        "  tf.keras.layers.Dense(1)\n",
        " # tf.keras.layers.Lambda(lambda x: x * 40000)   # scaled the values with the averaged price that time (always changeable ) \n",
        "])\n",
        "\n",
        "optimizer = tf.keras.optimizers.SGD(learning_rate=1e-6, momentum=0.9)\n",
        "model.compile(loss=tf.keras.losses.Huber(),\n",
        "              optimizer=optimizer,\n",
        "              metrics=[\"mae\"])\n",
        "history = model.fit(train_set,epochs=50)"
      ],
      "execution_count": null,
      "outputs": [
        {
          "output_type": "stream",
          "text": [
            "Epoch 1/50\n",
            "31/31 [==============================] - 4s 38ms/step - loss: 3869.2678 - mae: 3869.7678\n",
            "Epoch 2/50\n",
            "31/31 [==============================] - 1s 38ms/step - loss: 3517.0432 - mae: 3517.5430\n",
            "Epoch 3/50\n",
            "31/31 [==============================] - 1s 38ms/step - loss: 3515.8569 - mae: 3516.3564\n",
            "Epoch 4/50\n",
            "31/31 [==============================] - 1s 38ms/step - loss: 3563.8489 - mae: 3564.3486\n",
            "Epoch 5/50\n",
            "31/31 [==============================] - 1s 38ms/step - loss: 3547.3259 - mae: 3547.8257\n",
            "Epoch 6/50\n",
            "31/31 [==============================] - 1s 38ms/step - loss: 3601.5793 - mae: 3602.0796\n",
            "Epoch 7/50\n",
            "31/31 [==============================] - 1s 38ms/step - loss: 3592.9448 - mae: 3593.4448\n",
            "Epoch 8/50\n",
            "31/31 [==============================] - 1s 38ms/step - loss: 3543.1082 - mae: 3543.6086\n",
            "Epoch 9/50\n",
            "31/31 [==============================] - 1s 38ms/step - loss: 3558.2852 - mae: 3558.7854\n",
            "Epoch 10/50\n",
            "31/31 [==============================] - 1s 38ms/step - loss: 3524.6851 - mae: 3525.1848\n",
            "Epoch 11/50\n",
            "31/31 [==============================] - 1s 38ms/step - loss: 3591.3875 - mae: 3591.8875\n",
            "Epoch 12/50\n",
            "31/31 [==============================] - 1s 38ms/step - loss: 3588.2710 - mae: 3588.7715\n",
            "Epoch 13/50\n",
            "31/31 [==============================] - 1s 38ms/step - loss: 3545.0496 - mae: 3545.5498\n",
            "Epoch 14/50\n",
            "31/31 [==============================] - 1s 38ms/step - loss: 3534.6865 - mae: 3535.1870\n",
            "Epoch 15/50\n",
            "31/31 [==============================] - 1s 38ms/step - loss: 3563.8875 - mae: 3564.3875\n",
            "Epoch 16/50\n",
            "31/31 [==============================] - 1s 37ms/step - loss: 3523.6802 - mae: 3524.1812\n",
            "Epoch 17/50\n",
            "31/31 [==============================] - 1s 38ms/step - loss: 3554.9355 - mae: 3555.4355\n",
            "Epoch 18/50\n",
            "31/31 [==============================] - 1s 38ms/step - loss: 3520.3599 - mae: 3520.8596\n",
            "Epoch 19/50\n",
            "31/31 [==============================] - 1s 38ms/step - loss: 3514.4219 - mae: 3514.9221\n",
            "Epoch 20/50\n",
            "31/31 [==============================] - 1s 37ms/step - loss: 3509.5249 - mae: 3510.0249\n",
            "Epoch 21/50\n",
            "31/31 [==============================] - 1s 38ms/step - loss: 3493.9075 - mae: 3494.4070\n",
            "Epoch 22/50\n",
            "31/31 [==============================] - 1s 38ms/step - loss: 3599.2825 - mae: 3599.7817\n",
            "Epoch 23/50\n",
            "31/31 [==============================] - 1s 38ms/step - loss: 3679.0435 - mae: 3679.5437\n",
            "Epoch 24/50\n",
            "31/31 [==============================] - 1s 37ms/step - loss: 3546.3792 - mae: 3546.8792\n",
            "Epoch 25/50\n",
            "31/31 [==============================] - 1s 37ms/step - loss: 3503.6641 - mae: 3504.1646\n",
            "Epoch 26/50\n",
            "31/31 [==============================] - 1s 38ms/step - loss: 3588.9832 - mae: 3589.4832\n",
            "Epoch 27/50\n",
            "31/31 [==============================] - 1s 38ms/step - loss: 3544.8396 - mae: 3545.3391\n",
            "Epoch 28/50\n",
            "31/31 [==============================] - 1s 39ms/step - loss: 3555.9270 - mae: 3556.4272\n",
            "Epoch 29/50\n",
            "31/31 [==============================] - 1s 38ms/step - loss: 3519.0518 - mae: 3519.5515\n",
            "Epoch 30/50\n",
            "31/31 [==============================] - 1s 38ms/step - loss: 3521.8279 - mae: 3522.3281\n",
            "Epoch 31/50\n",
            "31/31 [==============================] - 1s 37ms/step - loss: 3578.3027 - mae: 3578.8030\n",
            "Epoch 32/50\n",
            "31/31 [==============================] - 1s 37ms/step - loss: 3566.7908 - mae: 3567.2903\n",
            "Epoch 33/50\n",
            "31/31 [==============================] - 1s 38ms/step - loss: 3510.2241 - mae: 3510.7241\n",
            "Epoch 34/50\n",
            "31/31 [==============================] - 1s 39ms/step - loss: 3531.3103 - mae: 3531.8103\n",
            "Epoch 35/50\n",
            "31/31 [==============================] - 1s 38ms/step - loss: 3592.8230 - mae: 3593.3225\n",
            "Epoch 36/50\n",
            "31/31 [==============================] - 1s 38ms/step - loss: 3554.9084 - mae: 3555.4082\n",
            "Epoch 37/50\n",
            "31/31 [==============================] - 1s 38ms/step - loss: 3546.9080 - mae: 3547.4077\n",
            "Epoch 38/50\n",
            "31/31 [==============================] - 1s 38ms/step - loss: 3511.2192 - mae: 3511.7192\n",
            "Epoch 39/50\n",
            "31/31 [==============================] - 1s 38ms/step - loss: 3510.7161 - mae: 3511.2158\n",
            "Epoch 40/50\n",
            "31/31 [==============================] - 1s 39ms/step - loss: 3593.7268 - mae: 3594.2266\n",
            "Epoch 41/50\n",
            "31/31 [==============================] - 1s 37ms/step - loss: 3547.5012 - mae: 3548.0017\n",
            "Epoch 42/50\n",
            "31/31 [==============================] - 1s 39ms/step - loss: 3531.9856 - mae: 3532.4856\n",
            "Epoch 43/50\n",
            "31/31 [==============================] - 1s 38ms/step - loss: 3505.7683 - mae: 3506.2678\n",
            "Epoch 44/50\n",
            "31/31 [==============================] - 1s 37ms/step - loss: 3520.0854 - mae: 3520.5852\n",
            "Epoch 45/50\n",
            "31/31 [==============================] - 1s 37ms/step - loss: 3527.2297 - mae: 3527.7302\n",
            "Epoch 46/50\n",
            "31/31 [==============================] - 1s 38ms/step - loss: 3569.9377 - mae: 3570.4380\n",
            "Epoch 47/50\n",
            "31/31 [==============================] - 1s 38ms/step - loss: 3539.9639 - mae: 3540.4641\n",
            "Epoch 48/50\n",
            "31/31 [==============================] - 1s 38ms/step - loss: 3670.5320 - mae: 3671.0315\n",
            "Epoch 49/50\n",
            "31/31 [==============================] - 1s 38ms/step - loss: 3647.6582 - mae: 3648.1575\n",
            "Epoch 50/50\n",
            "31/31 [==============================] - 1s 38ms/step - loss: 3583.1445 - mae: 3583.6450\n"
          ],
          "name": "stdout"
        }
      ]
    },
    {
      "cell_type": "code",
      "metadata": {
        "id": "DcJEcp6Er0xL",
        "colab": {
          "base_uri": "https://localhost:8080/",
          "height": 286
        },
        "outputId": "005ac1fc-294c-45a4-c431-09e40b7ed4a0"
      },
      "source": [
        "plt.plot(history.history[\"loss\"])\n",
        "plt.axis([10,50,0,6000])"
      ],
      "execution_count": null,
      "outputs": [
        {
          "output_type": "execute_result",
          "data": {
            "text/plain": [
              "(10.0, 50.0, 0.0, 6000.0)"
            ]
          },
          "metadata": {
            "tags": []
          },
          "execution_count": 19
        },
        {
          "output_type": "display_data",
          "data": {
            "image/png": "[encoded data removed]",
            "text/plain": [
              "<Figure size 432x288 with 1 Axes>"
            ]
          },
          "metadata": {
            "tags": [],
            "needs_background": "light"
          }
        }
      ]
    },
    {
      "cell_type": "code",
      "metadata": {
        "id": "_ClSy-HMUANL",
        "colab": {
          "base_uri": "https://localhost:8080/"
        },
        "outputId": "1b6bc8a2-786a-4606-dc6f-6c8ae6ec88fb"
      },
      "source": [
        "# rnn forecasting\n",
        "rnn_forecast = model_forecast(model, series[..., np.newaxis], window_size)\n",
        "rnn_forecast = rnn_forecast[split_time - window_size:-1, -1, 0]\n",
        "rnn_forecast"
      ],
      "execution_count": null,
      "outputs": [
        {
          "output_type": "execute_result",
          "data": {
            "text/plain": [
              "array([2036.0557, 2036.0557, 2036.0557, 2036.0557, 2036.0557, 2036.0557,\n",
              "       2036.0557, 2036.0557, 2036.0557, 2036.0557, 2036.0557, 2036.0557,\n",
              "       2036.0557, 2036.0557, 2036.0557, 2036.0557, 2036.0557, 2036.0557,\n",
              "       2036.0557, 2036.0557, 2036.0557, 2036.0557, 2036.0557, 2036.0557,\n",
              "       2036.0557, 2036.0557, 2036.0557, 2036.0557, 2036.0557, 2036.0557,\n",
              "       2036.0557, 2036.0557, 2036.0557, 2036.0557, 2036.0557, 2036.0557,\n",
              "       2036.0557, 2036.0557, 2036.0557, 2036.0557, 2036.0557, 2036.0557,\n",
              "       2036.0557, 2036.0557, 2036.0557, 2036.0557, 2036.0557, 2036.0557,\n",
              "       2036.0557, 2036.0557, 2036.0557, 2036.0557, 2036.0557, 2036.0557,\n",
              "       2036.0557, 2036.0557, 2036.0557, 2036.0557, 2036.0557, 2036.0557,\n",
              "       2036.0557, 2036.0557, 2036.0557, 2036.0557, 2036.0557, 2036.0557,\n",
              "       2036.0557, 2036.0557, 2036.0557, 2036.0557, 2036.0557, 2036.0557,\n",
              "       2036.0557, 2036.0557, 2036.0557, 2036.0557, 2036.0557, 2036.0557,\n",
              "       2036.0557, 2036.0557, 2036.0557, 2036.0557, 2036.0557, 2036.0557,\n",
              "       2036.0557, 2036.0557, 2036.0557, 2036.0557, 2036.0557, 2036.0557,\n",
              "       2036.0557, 2036.0557, 2036.0557, 2036.0557, 2036.0557, 2036.0557,\n",
              "       2036.0557, 2036.0557, 2036.0557, 2036.0557, 2036.0557, 2036.0557,\n",
              "       2036.0557, 2036.0557, 2036.0557, 2036.0557, 2036.0557, 2036.0557,\n",
              "       2036.0557, 2036.0557, 2036.0557, 2036.0557, 2036.0557, 2036.0557,\n",
              "       2036.0557, 2036.0557, 2036.0557, 2036.0557, 2036.0557, 2036.0557,\n",
              "       2036.0557, 2036.0557, 2036.0557, 2036.0557, 2036.0557, 2036.0557,\n",
              "       2036.0557, 2036.0557, 2036.0557, 2036.0557, 2036.0557, 2036.0557,\n",
              "       2036.0557, 2036.0557, 2036.0557, 2036.0557, 2036.0557, 2036.0557,\n",
              "       2036.0557, 2036.0557, 2036.0557, 2036.0557, 2036.0557, 2036.0557,\n",
              "       2036.0557, 2036.0557, 2036.0557, 2036.0557, 2036.0557, 2036.0557,\n",
              "       2036.0557, 2036.0557, 2036.0557, 2036.0557, 2036.0557, 2036.0557,\n",
              "       2036.0557, 2036.0557, 2036.0557, 2036.0557, 2036.0557, 2036.0557,\n",
              "       2036.0557, 2036.0557, 2036.0557, 2036.0557, 2036.0557, 2036.0557,\n",
              "       2036.0557, 2036.0557, 2036.0557, 2036.0557, 2036.0557, 2036.0557,\n",
              "       2036.0557, 2036.0557, 2036.0557, 2036.0557, 2036.0557, 2036.0557,\n",
              "       2036.0557, 2036.0557, 2036.0557, 2036.0557, 2036.0557, 2036.0557,\n",
              "       2036.0557, 2036.0557, 2036.0557, 2036.0557, 2036.0557, 2036.0557,\n",
              "       2036.0557, 2036.0557, 2036.0557, 2036.0557, 2036.0557, 2036.0557,\n",
              "       2036.0557, 2036.0557, 2036.0557, 2036.0557, 2036.0557, 2036.0557,\n",
              "       2036.0557, 2036.0557, 2036.0557, 2036.0557, 2036.0557, 2036.0557,\n",
              "       2036.0557, 2036.0557, 2036.0557, 2036.0557, 2036.0557, 2036.0557,\n",
              "       2036.0557, 2036.0557, 2036.0557, 2036.0557, 2036.0557, 2036.0557,\n",
              "       2036.0557, 2036.0557, 2036.0557, 2036.0557, 2036.0557, 2036.0557,\n",
              "       2036.0557, 2036.0557, 2036.0557, 2036.0557, 2036.0557, 2036.0557,\n",
              "       2036.0557, 2036.0557, 2036.0557, 2036.0557, 2036.0557, 2036.0557,\n",
              "       2036.0557, 2036.0557, 2036.0557, 2036.0557, 2036.0557, 2036.0557,\n",
              "       2036.0557, 2036.0557, 2036.0557, 2036.0557, 2036.0557, 2036.0557,\n",
              "       2036.0557, 2036.0557, 2036.0557, 2036.0557, 2036.0557, 2036.0557,\n",
              "       2036.0557, 2036.0557, 2036.0557, 2036.0557, 2036.0557, 2036.0557,\n",
              "       2036.0557, 2036.0557, 2036.0557, 2036.0557, 2036.0557, 2036.0557,\n",
              "       2036.0557, 2036.0557, 2036.0557, 2036.0557, 2036.0557, 2036.0557,\n",
              "       2036.0557, 2036.0557, 2036.0557, 2036.0557, 2036.0557, 2036.0557,\n",
              "       2036.0557, 2036.0557, 2036.0557, 2036.0557, 2036.0557, 2036.0557,\n",
              "       2036.0557, 2036.0557, 2036.0557, 2036.0557, 2036.0557, 2036.0557,\n",
              "       2036.0557, 2036.0557, 2036.0557, 2036.0557, 2036.0557, 2036.0557,\n",
              "       2036.0557, 2036.0557, 2036.0557, 2036.0557, 2036.0557, 2036.0557,\n",
              "       2036.0557, 2036.0557, 2036.0557, 2036.0557, 2036.0557, 2036.0557,\n",
              "       2036.0557, 2036.0557, 2036.0557, 2036.0557, 2036.0557, 2036.0557,\n",
              "       2036.0557, 2036.0557, 2036.0557, 2036.0557, 2036.0557, 2036.0557,\n",
              "       2036.0557, 2036.0557, 2036.0557, 2036.0557, 2036.0557, 2036.0557,\n",
              "       2036.0557, 2036.0557, 2036.0557, 2036.0557, 2036.0557, 2036.0557,\n",
              "       2036.0557, 2036.0557, 2036.0557, 2036.0557, 2036.0557, 2036.0557,\n",
              "       2036.0557, 2036.0557, 2036.0557, 2036.0557, 2036.0557, 2036.0557,\n",
              "       2036.0557, 2036.0557, 2036.0557, 2036.0557, 2036.0557, 2036.0557,\n",
              "       2036.0557, 2036.0557, 2036.0557, 2036.0557, 2036.0557, 2036.0557,\n",
              "       2036.0557], dtype=float32)"
            ]
          },
          "metadata": {
            "tags": []
          },
          "execution_count": 20
        }
      ]
    },
    {
      "cell_type": "code",
      "metadata": {
        "id": "xx49R7HIVRyg",
        "colab": {
          "base_uri": "https://localhost:8080/",
          "height": 388
        },
        "outputId": "3804a792-c85b-4ca3-a199-ee7ebbb07528"
      },
      "source": [
        "plt.figure(figsize=(10, 6))\n",
        "plot_series(time_valid, x_valid)\n",
        "plot_series(time_valid, rnn_forecast)"
      ],
      "execution_count": null,
      "outputs": [
        {
          "output_type": "display_data",
          "data": {
            "image/png": "[encoded data removed]",
            "text/plain": [
              "<Figure size 720x432 with 1 Axes>"
            ]
          },
          "metadata": {
            "tags": [],
            "needs_background": "light"
          }
        }
      ]
    },
    {
      "cell_type": "code",
      "metadata": {
        "id": "_bxNQ9nfVUHs",
        "colab": {
          "base_uri": "https://localhost:8080/"
        },
        "outputId": "29df6200-fe20-4b01-edb9-4e5b4a9dedaf"
      },
      "source": [
        "tf.keras.metrics.mean_absolute_error(x_valid, rnn_forecast).numpy()                   "
      ],
      "execution_count": null,
      "outputs": [
        {
          "output_type": "execute_result",
          "data": {
            "text/plain": [
              "27310.299"
            ]
          },
          "metadata": {
            "tags": []
          },
          "execution_count": 22
        }
      ]
    },
    {
      "cell_type": "code",
      "metadata": {
        "id": "CaSFUsodVdwF",
        "colab": {
          "base_uri": "https://localhost:8080/"
        },
        "outputId": "f3ae40f9-a9ed-4520-a65e-cb77c5564b09"
      },
      "source": [
        "print(rnn_forecast)"
      ],
      "execution_count": null,
      "outputs": [
        {
          "output_type": "stream",
          "text": [
            "[2036.0557 2036.0557 2036.0557 2036.0557 2036.0557 2036.0557 2036.0557\n",
            " 2036.0557 2036.0557 2036.0557 2036.0557 2036.0557 2036.0557 2036.0557\n",
            " 2036.0557 2036.0557 2036.0557 2036.0557 2036.0557 2036.0557 2036.0557\n",
            " 2036.0557 2036.0557 2036.0557 2036.0557 2036.0557 2036.0557 2036.0557\n",
            " 2036.0557 2036.0557 2036.0557 2036.0557 2036.0557 2036.0557 2036.0557\n",
            " 2036.0557 2036.0557 2036.0557 2036.0557 2036.0557 2036.0557 2036.0557\n",
            " 2036.0557 2036.0557 2036.0557 2036.0557 2036.0557 2036.0557 2036.0557\n",
            " 2036.0557 2036.0557 2036.0557 2036.0557 2036.0557 2036.0557 2036.0557\n",
            " 2036.0557 2036.0557 2036.0557 2036.0557 2036.0557 2036.0557 2036.0557\n",
            " 2036.0557 2036.0557 2036.0557 2036.0557 2036.0557 2036.0557 2036.0557\n",
            " 2036.0557 2036.0557 2036.0557 2036.0557 2036.0557 2036.0557 2036.0557\n",
            " 2036.0557 2036.0557 2036.0557 2036.0557 2036.0557 2036.0557 2036.0557\n",
            " 2036.0557 2036.0557 2036.0557 2036.0557 2036.0557 2036.0557 2036.0557\n",
            " 2036.0557 2036.0557 2036.0557 2036.0557 2036.0557 2036.0557 2036.0557\n",
            " 2036.0557 2036.0557 2036.0557 2036.0557 2036.0557 2036.0557 2036.0557\n",
            " 2036.0557 2036.0557 2036.0557 2036.0557 2036.0557 2036.0557 2036.0557\n",
            " 2036.0557 2036.0557 2036.0557 2036.0557 2036.0557 2036.0557 2036.0557\n",
            " 2036.0557 2036.0557 2036.0557 2036.0557 2036.0557 2036.0557 2036.0557\n",
            " 2036.0557 2036.0557 2036.0557 2036.0557 2036.0557 2036.0557 2036.0557\n",
            " 2036.0557 2036.0557 2036.0557 2036.0557 2036.0557 2036.0557 2036.0557\n",
            " 2036.0557 2036.0557 2036.0557 2036.0557 2036.0557 2036.0557 2036.0557\n",
            " 2036.0557 2036.0557 2036.0557 2036.0557 2036.0557 2036.0557 2036.0557\n",
            " 2036.0557 2036.0557 2036.0557 2036.0557 2036.0557 2036.0557 2036.0557\n",
            " 2036.0557 2036.0557 2036.0557 2036.0557 2036.0557 2036.0557 2036.0557\n",
            " 2036.0557 2036.0557 2036.0557 2036.0557 2036.0557 2036.0557 2036.0557\n",
            " 2036.0557 2036.0557 2036.0557 2036.0557 2036.0557 2036.0557 2036.0557\n",
            " 2036.0557 2036.0557 2036.0557 2036.0557 2036.0557 2036.0557 2036.0557\n",
            " 2036.0557 2036.0557 2036.0557 2036.0557 2036.0557 2036.0557 2036.0557\n",
            " 2036.0557 2036.0557 2036.0557 2036.0557 2036.0557 2036.0557 2036.0557\n",
            " 2036.0557 2036.0557 2036.0557 2036.0557 2036.0557 2036.0557 2036.0557\n",
            " 2036.0557 2036.0557 2036.0557 2036.0557 2036.0557 2036.0557 2036.0557\n",
            " 2036.0557 2036.0557 2036.0557 2036.0557 2036.0557 2036.0557 2036.0557\n",
            " 2036.0557 2036.0557 2036.0557 2036.0557 2036.0557 2036.0557 2036.0557\n",
            " 2036.0557 2036.0557 2036.0557 2036.0557 2036.0557 2036.0557 2036.0557\n",
            " 2036.0557 2036.0557 2036.0557 2036.0557 2036.0557 2036.0557 2036.0557\n",
            " 2036.0557 2036.0557 2036.0557 2036.0557 2036.0557 2036.0557 2036.0557\n",
            " 2036.0557 2036.0557 2036.0557 2036.0557 2036.0557 2036.0557 2036.0557\n",
            " 2036.0557 2036.0557 2036.0557 2036.0557 2036.0557 2036.0557 2036.0557\n",
            " 2036.0557 2036.0557 2036.0557 2036.0557 2036.0557 2036.0557 2036.0557\n",
            " 2036.0557 2036.0557 2036.0557 2036.0557 2036.0557 2036.0557 2036.0557\n",
            " 2036.0557 2036.0557 2036.0557 2036.0557 2036.0557 2036.0557 2036.0557\n",
            " 2036.0557 2036.0557 2036.0557 2036.0557 2036.0557 2036.0557 2036.0557\n",
            " 2036.0557 2036.0557 2036.0557 2036.0557 2036.0557 2036.0557 2036.0557\n",
            " 2036.0557 2036.0557 2036.0557 2036.0557 2036.0557 2036.0557 2036.0557\n",
            " 2036.0557 2036.0557 2036.0557 2036.0557 2036.0557 2036.0557 2036.0557\n",
            " 2036.0557 2036.0557 2036.0557 2036.0557 2036.0557 2036.0557 2036.0557\n",
            " 2036.0557 2036.0557 2036.0557 2036.0557 2036.0557 2036.0557 2036.0557\n",
            " 2036.0557 2036.0557 2036.0557 2036.0557 2036.0557 2036.0557 2036.0557\n",
            " 2036.0557 2036.0557 2036.0557 2036.0557 2036.0557 2036.0557 2036.0557\n",
            " 2036.0557 2036.0557 2036.0557 2036.0557 2036.0557 2036.0557 2036.0557\n",
            " 2036.0557 2036.0557 2036.0557 2036.0557 2036.0557 2036.0557 2036.0557\n",
            " 2036.0557 2036.0557 2036.0557 2036.0557]\n"
          ],
          "name": "stdout"
        }
      ]
    }
  ]
}