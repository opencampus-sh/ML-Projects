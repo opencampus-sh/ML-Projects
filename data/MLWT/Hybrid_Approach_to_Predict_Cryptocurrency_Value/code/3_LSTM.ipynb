{
  "nbformat": 4,
  "nbformat_minor": 0,
  "metadata": {
    "colab": {
      "name": "BTC_Predict_02 - editing.ipynb",
      "provenance": []
    },
    "kernelspec": {
      "name": "python3",
      "display_name": "Python 3.8.2 64-bit"
    },
    "language_info": {
      "name": "python",
      "version": "3.8.2"
    },
    "interpreter": {
      "hash": "760f2ec1b11f3853fab1da59bb8a8bf82d67f8d7bc514af53e3dd038bebd6abf"
    },
    "accelerator": "GPU"
  },
  "cells": [
    {
      "cell_type": "code",
      "metadata": {
        "id": "7-5oX3hH8aHS"
      },
      "source": [
        "import numpy as np\n",
        "import pandas as pd\n",
        "from pandas import read_csv\n",
        "import pandas_datareader as web\n",
        "import matplotlib.pyplot as plt\n",
        "\n",
        "import math\n",
        "import time\n",
        "import os\n",
        "\n",
        "from keras.models import Sequential\n",
        "from keras.layers import Dense\n",
        "from keras.layers import LSTM\n",
        "\n",
        "from sklearn.preprocessing import MinMaxScaler\n",
        "from sklearn.metrics import mean_squared_error\n",
        "from sklearn.metrics import mean_absolute_error\n",
        "from keras.layers.core import Dense, Activation, Dropout"
      ],
      "execution_count": 1,
      "outputs": []
    },
    {
      "cell_type": "code",
      "metadata": {
        "colab": {
          "base_uri": "https://localhost:8080/"
        },
        "id": "d7MX1-iE2pv8",
        "outputId": "f61d5b1d-d344-4161-caf8-511912fdd5b0"
      },
      "source": [
        "#print(os.getcwd())"
      ],
      "execution_count": 5,
      "outputs": [
        {
          "output_type": "stream",
          "text": [
            "/content\n"
          ],
          "name": "stdout"
        }
      ]
    },
    {
      "cell_type": "code",
      "metadata": {
        "id": "4_8YzXX22pv9"
      },
      "source": [
        "data = web.get_data_yahoo(\"BTC-USD\", start = \"2015-01-01\", end = \"2021-06-22\")"
      ],
      "execution_count": 2,
      "outputs": []
    },
    {
      "cell_type": "code",
      "metadata": {
        "colab": {
          "base_uri": "https://localhost:8080/",
          "height": 235
        },
        "id": "55Mjp0PW2pv-",
        "outputId": "3c1ee759-8984-4771-b81e-8f1895c9af17"
      },
      "source": [
        "data.head(5)\n",
        "data[-5:]"
      ],
      "execution_count": 111,
      "outputs": [
        {
          "output_type": "execute_result",
          "data": {
            "text/html": [
              "<div>\n",
              "<style scoped>\n",
              "    .dataframe tbody tr th:only-of-type {\n",
              "        vertical-align: middle;\n",
              "    }\n",
              "\n",
              "    .dataframe tbody tr th {\n",
              "        vertical-align: top;\n",
              "    }\n",
              "\n",
              "    .dataframe thead th {\n",
              "        text-align: right;\n",
              "    }\n",
              "</style>\n",
              "<table border=\"1\" class=\"dataframe\">\n",
              "  <thead>\n",
              "    <tr style=\"text-align: right;\">\n",
              "      <th></th>\n",
              "      <th>High</th>\n",
              "      <th>Low</th>\n",
              "      <th>Open</th>\n",
              "      <th>Close</th>\n",
              "      <th>Volume</th>\n",
              "      <th>Adj Close</th>\n",
              "    </tr>\n",
              "    <tr>\n",
              "      <th>Date</th>\n",
              "      <th></th>\n",
              "      <th></th>\n",
              "      <th></th>\n",
              "      <th></th>\n",
              "      <th></th>\n",
              "      <th></th>\n",
              "    </tr>\n",
              "  </thead>\n",
              "  <tbody>\n",
              "    <tr>\n",
              "      <th>2021-06-16</th>\n",
              "      <td>39513.671875</td>\n",
              "      <td>37439.675781</td>\n",
              "      <td>38341.421875</td>\n",
              "      <td>38053.503906</td>\n",
              "      <td>3.709667e+10</td>\n",
              "      <td>38053.503906</td>\n",
              "    </tr>\n",
              "    <tr>\n",
              "      <th>2021-06-17</th>\n",
              "      <td>38187.261719</td>\n",
              "      <td>35255.855469</td>\n",
              "      <td>38099.476562</td>\n",
              "      <td>35787.246094</td>\n",
              "      <td>3.620089e+10</td>\n",
              "      <td>35787.246094</td>\n",
              "    </tr>\n",
              "    <tr>\n",
              "      <th>2021-06-18</th>\n",
              "      <td>36457.796875</td>\n",
              "      <td>34933.062500</td>\n",
              "      <td>35854.527344</td>\n",
              "      <td>35615.871094</td>\n",
              "      <td>3.120728e+10</td>\n",
              "      <td>35615.871094</td>\n",
              "    </tr>\n",
              "    <tr>\n",
              "      <th>2021-06-19</th>\n",
              "      <td>36059.484375</td>\n",
              "      <td>33432.074219</td>\n",
              "      <td>35563.140625</td>\n",
              "      <td>35698.296875</td>\n",
              "      <td>3.666403e+10</td>\n",
              "      <td>35698.296875</td>\n",
              "    </tr>\n",
              "    <tr>\n",
              "      <th>2021-06-22</th>\n",
              "      <td>31631.478516</td>\n",
              "      <td>31235.783203</td>\n",
              "      <td>31432.669922</td>\n",
              "      <td>31631.478516</td>\n",
              "      <td>5.353971e+10</td>\n",
              "      <td>31631.478516</td>\n",
              "    </tr>\n",
              "  </tbody>\n",
              "</table>\n",
              "</div>"
            ],
            "text/plain": [
              "                    High           Low  ...        Volume     Adj Close\n",
              "Date                                    ...                            \n",
              "2021-06-16  39513.671875  37439.675781  ...  3.709667e+10  38053.503906\n",
              "2021-06-17  38187.261719  35255.855469  ...  3.620089e+10  35787.246094\n",
              "2021-06-18  36457.796875  34933.062500  ...  3.120728e+10  35615.871094\n",
              "2021-06-19  36059.484375  33432.074219  ...  3.666403e+10  35698.296875\n",
              "2021-06-22  31631.478516  31235.783203  ...  5.353971e+10  31631.478516\n",
              "\n",
              "[5 rows x 6 columns]"
            ]
          },
          "metadata": {
            "tags": []
          },
          "execution_count": 111
        }
      ]
    },
    {
      "cell_type": "code",
      "metadata": {
        "id": "CzYu4GO08zuk"
      },
      "source": [
        "#data.to_csv(\"BTC-updated.csv\")"
      ],
      "execution_count": 55,
      "outputs": []
    },
    {
      "cell_type": "code",
      "metadata": {
        "id": "oCQur7B42pwB"
      },
      "source": [
        "input_file=\"BTC-updated.csv\""
      ],
      "execution_count": 112,
      "outputs": []
    },
    {
      "cell_type": "code",
      "metadata": {
        "id": "YtZRTxtA2pwB"
      },
      "source": [
        "# fix random seed for reproducibility\n",
        "np.random.seed(100)"
      ],
      "execution_count": 113,
      "outputs": []
    },
    {
      "cell_type": "code",
      "metadata": {
        "id": "oFyYIP6W2pwC"
      },
      "source": [
        "# load the dataset\n",
        "df = read_csv(input_file, header=None, index_col=None, delimiter=',')"
      ],
      "execution_count": 114,
      "outputs": []
    },
    {
      "cell_type": "code",
      "metadata": {
        "colab": {
          "base_uri": "https://localhost:8080/",
          "height": 204
        },
        "id": "TOO010On2pwD",
        "outputId": "e9ec6f4b-08b2-42fe-d60b-8eb08dab332a"
      },
      "source": [
        "df.head(5)\n",
        "df[-5:]"
      ],
      "execution_count": 115,
      "outputs": [
        {
          "output_type": "execute_result",
          "data": {
            "text/html": [
              "<div>\n",
              "<style scoped>\n",
              "    .dataframe tbody tr th:only-of-type {\n",
              "        vertical-align: middle;\n",
              "    }\n",
              "\n",
              "    .dataframe tbody tr th {\n",
              "        vertical-align: top;\n",
              "    }\n",
              "\n",
              "    .dataframe thead th {\n",
              "        text-align: right;\n",
              "    }\n",
              "</style>\n",
              "<table border=\"1\" class=\"dataframe\">\n",
              "  <thead>\n",
              "    <tr style=\"text-align: right;\">\n",
              "      <th></th>\n",
              "      <th>0</th>\n",
              "      <th>1</th>\n",
              "      <th>2</th>\n",
              "      <th>3</th>\n",
              "      <th>4</th>\n",
              "      <th>5</th>\n",
              "      <th>6</th>\n",
              "    </tr>\n",
              "  </thead>\n",
              "  <tbody>\n",
              "    <tr>\n",
              "      <th>2357</th>\n",
              "      <td>6/17/2021</td>\n",
              "      <td>38187.26172</td>\n",
              "      <td>35255.85547</td>\n",
              "      <td>38099.47656</td>\n",
              "      <td>35787.24609</td>\n",
              "      <td>36200887275</td>\n",
              "      <td>35787.24609</td>\n",
              "    </tr>\n",
              "    <tr>\n",
              "      <th>2358</th>\n",
              "      <td>6/18/2021</td>\n",
              "      <td>36457.79688</td>\n",
              "      <td>34933.0625</td>\n",
              "      <td>35854.52734</td>\n",
              "      <td>35615.87109</td>\n",
              "      <td>31207279719</td>\n",
              "      <td>35615.87109</td>\n",
              "    </tr>\n",
              "    <tr>\n",
              "      <th>2359</th>\n",
              "      <td>6/19/2021</td>\n",
              "      <td>36059.48438</td>\n",
              "      <td>33432.07422</td>\n",
              "      <td>35563.14063</td>\n",
              "      <td>35698.29688</td>\n",
              "      <td>36664034054</td>\n",
              "      <td>35698.29688</td>\n",
              "    </tr>\n",
              "    <tr>\n",
              "      <th>2360</th>\n",
              "      <td>6/21/2021</td>\n",
              "      <td>35687.85938</td>\n",
              "      <td>32721.39453</td>\n",
              "      <td>35687.85938</td>\n",
              "      <td>32930.03125</td>\n",
              "      <td>43962011648</td>\n",
              "      <td>32930.03125</td>\n",
              "    </tr>\n",
              "    <tr>\n",
              "      <th>2361</th>\n",
              "      <td>6/22/2021</td>\n",
              "      <td>31631.47852</td>\n",
              "      <td>31235.7832</td>\n",
              "      <td>31432.66992</td>\n",
              "      <td>31631.47852</td>\n",
              "      <td>5.35E+10</td>\n",
              "      <td>31631.47852</td>\n",
              "    </tr>\n",
              "  </tbody>\n",
              "</table>\n",
              "</div>"
            ],
            "text/plain": [
              "              0            1  ...            5            6\n",
              "2357  6/17/2021  38187.26172  ...  36200887275  35787.24609\n",
              "2358  6/18/2021  36457.79688  ...  31207279719  35615.87109\n",
              "2359  6/19/2021  36059.48438  ...  36664034054  35698.29688\n",
              "2360  6/21/2021  35687.85938  ...  43962011648  32930.03125\n",
              "2361  6/22/2021  31631.47852  ...     5.35E+10  31631.47852\n",
              "\n",
              "[5 rows x 7 columns]"
            ]
          },
          "metadata": {
            "tags": []
          },
          "execution_count": 115
        }
      ]
    },
    {
      "cell_type": "code",
      "metadata": {
        "id": "-iTwgmh52pwE"
      },
      "source": [
        "# take close price column_index[4]\n",
        "\n",
        "all_y = df[4].values                        ## values\n",
        "all_y = all_y[1:]\n",
        "dataset=all_y.reshape(-1, 1)                ## list"
      ],
      "execution_count": 116,
      "outputs": []
    },
    {
      "cell_type": "code",
      "metadata": {
        "colab": {
          "base_uri": "https://localhost:8080/"
        },
        "id": "wEJ2wDAo2pwF",
        "outputId": "ea69f900-f548-4ca7-ec02-bda11eb6437f"
      },
      "source": [
        "print(len(dataset))\n",
        "dataset[:5]\n",
        "dataset[-5:]"
      ],
      "execution_count": 117,
      "outputs": [
        {
          "output_type": "stream",
          "text": [
            "2361\n"
          ],
          "name": "stdout"
        },
        {
          "output_type": "execute_result",
          "data": {
            "text/plain": [
              "array([['35787.24609'],\n",
              "       ['35615.87109'],\n",
              "       ['35698.29688'],\n",
              "       ['32930.03125'],\n",
              "       ['31631.47852']], dtype=object)"
            ]
          },
          "metadata": {
            "tags": []
          },
          "execution_count": 117
        }
      ]
    },
    {
      "cell_type": "code",
      "metadata": {
        "id": "hDNAb7lA81Bv"
      },
      "source": [
        "# convert an array of values into a dataset matrix\n",
        "def create_dataset(dataset, look_back=1):\n",
        "\tdataX, dataY = [], []\n",
        "\tfor i in range(len(dataset)-look_back-1):\n",
        "\t\ta = dataset[i:(i+look_back), 0]\n",
        "\t\tdataX.append(a)\n",
        "\t\tdataY.append(dataset[i + look_back, 0])\n",
        "\treturn np.array(dataX), np.array(dataY)"
      ],
      "execution_count": 118,
      "outputs": []
    },
    {
      "cell_type": "code",
      "metadata": {
        "id": "xYZ8TjkW9Hx3"
      },
      "source": [
        "# normalize the dataset\n",
        "scaler = MinMaxScaler(feature_range=(0, 1))\n",
        "dataset = scaler.fit_transform(dataset)"
      ],
      "execution_count": 119,
      "outputs": []
    },
    {
      "cell_type": "code",
      "metadata": {
        "id": "yG5yGI8Y9H6N"
      },
      "source": [
        "# split into train and test sets\n",
        "train_size = int(len(dataset) * 0.9)                # * 0.5\n",
        "test_size = len(dataset) - train_size\n",
        "train, test = dataset[0:train_size,:], dataset[train_size:len(dataset),:]"
      ],
      "execution_count": 120,
      "outputs": []
    },
    {
      "cell_type": "code",
      "metadata": {
        "id": "nK4kk8oA9IBz"
      },
      "source": [
        "# reshape into X=t and Y=t+1, timestep 240\n",
        "look_back = 1                                                   # 240\n",
        "trainX, trainY = create_dataset(train, look_back)               # Creating Datasets\n",
        "testX, testY = create_dataset(test, look_back)"
      ],
      "execution_count": 121,
      "outputs": []
    },
    {
      "cell_type": "code",
      "metadata": {
        "id": "izOULAjv9Six"
      },
      "source": [
        "# reshape input to be [samples, time steps, features]\n",
        "trainX = np.reshape(trainX, (trainX.shape[0], 1, trainX.shape[1]))\n",
        "testX = np.reshape(testX, (testX.shape[0], 1, testX.shape[1]))"
      ],
      "execution_count": 122,
      "outputs": []
    },
    {
      "cell_type": "code",
      "metadata": {
        "id": "8dZH3MK59So6"
      },
      "source": [
        "# create and fit the LSTM network, optimizer=adam, 25 neurons, dropout 0.1\n",
        "model = Sequential()\n",
        "model.add(LSTM(25, input_shape=(1, look_back)))\n",
        "model.add(Dropout(0.1))\n",
        "model.add(Dense(1))\n",
        "model.compile(loss='mae', optimizer='adam', metrics=['accuracy'])"
      ],
      "execution_count": 123,
      "outputs": []
    },
    {
      "cell_type": "code",
      "metadata": {
        "colab": {
          "base_uri": "https://localhost:8080/"
        },
        "id": "j268asTY6oJW",
        "outputId": "7d629b54-740f-488e-c37d-b32bf016ec75"
      },
      "source": [
        "model.summary()"
      ],
      "execution_count": 124,
      "outputs": [
        {
          "output_type": "stream",
          "text": [
            "Model: \"sequential_5\"\n",
            "_________________________________________________________________\n",
            "Layer (type)                 Output Shape              Param #   \n",
            "=================================================================\n",
            "lstm_5 (LSTM)                (None, 25)                2700      \n",
            "_________________________________________________________________\n",
            "dropout_5 (Dropout)          (None, 25)                0         \n",
            "_________________________________________________________________\n",
            "dense_5 (Dense)              (None, 1)                 26        \n",
            "=================================================================\n",
            "Total params: 2,726\n",
            "Trainable params: 2,726\n",
            "Non-trainable params: 0\n",
            "_________________________________________________________________\n"
          ],
          "name": "stdout"
        }
      ]
    },
    {
      "cell_type": "code",
      "metadata": {
        "colab": {
          "base_uri": "https://localhost:8080/"
        },
        "id": "zO6eGW9AmBr2",
        "outputId": "0a3b7f6b-5057-49a7-9277-497abaa88f10"
      },
      "source": [
        "history = model.fit(trainX, trainY, epochs=100, batch_size=64, verbose=1)"
      ],
      "execution_count": 125,
      "outputs": [
        {
          "output_type": "stream",
          "text": [
            "Epoch 1/100\n",
            "34/34 [==============================] - 2s 4ms/step - loss: 0.0678 - accuracy: 1.3156e-04\n",
            "Epoch 2/100\n",
            "34/34 [==============================] - 0s 5ms/step - loss: 0.0558 - accuracy: 9.9084e-05\n",
            "Epoch 3/100\n",
            "34/34 [==============================] - 0s 5ms/step - loss: 0.0513 - accuracy: 4.3258e-04\n",
            "Epoch 4/100\n",
            "34/34 [==============================] - 0s 5ms/step - loss: 0.0469 - accuracy: 1.3156e-04\n",
            "Epoch 5/100\n",
            "34/34 [==============================] - 0s 4ms/step - loss: 0.0424 - accuracy: 2.6847e-04\n",
            "Epoch 6/100\n",
            "34/34 [==============================] - 0s 5ms/step - loss: 0.0334 - accuracy: 8.3690e-05\n",
            "Epoch 7/100\n",
            "34/34 [==============================] - 0s 4ms/step - loss: 0.0227 - accuracy: 2.9197e-04\n",
            "Epoch 8/100\n",
            "34/34 [==============================] - 0s 5ms/step - loss: 0.0103 - accuracy: 0.0010\n",
            "Epoch 9/100\n",
            "34/34 [==============================] - 0s 5ms/step - loss: 0.0061 - accuracy: 1.3156e-04\n",
            "Epoch 10/100\n",
            "34/34 [==============================] - 0s 4ms/step - loss: 0.0055 - accuracy: 8.3690e-05\n",
            "Epoch 11/100\n",
            "34/34 [==============================] - 0s 4ms/step - loss: 0.0054 - accuracy: 6.9476e-04\n",
            "Epoch 12/100\n",
            "34/34 [==============================] - 0s 4ms/step - loss: 0.0053 - accuracy: 1.6659e-04\n",
            "Epoch 13/100\n",
            "34/34 [==============================] - 0s 5ms/step - loss: 0.0058 - accuracy: 2.0460e-04\n",
            "Epoch 14/100\n",
            "34/34 [==============================] - 0s 4ms/step - loss: 0.0054 - accuracy: 1.3156e-04\n",
            "Epoch 15/100\n",
            "34/34 [==============================] - 0s 4ms/step - loss: 0.0051 - accuracy: 0.0019\n",
            "Epoch 16/100\n",
            "34/34 [==============================] - 0s 4ms/step - loss: 0.0052 - accuracy: 2.0460e-04\n",
            "Epoch 17/100\n",
            "34/34 [==============================] - 0s 5ms/step - loss: 0.0052 - accuracy: 1.6659e-04\n",
            "Epoch 18/100\n",
            "34/34 [==============================] - 0s 4ms/step - loss: 0.0051 - accuracy: 5.4408e-05\n",
            "Epoch 19/100\n",
            "34/34 [==============================] - 0s 4ms/step - loss: 0.0052 - accuracy: 0.0014\n",
            "Epoch 20/100\n",
            "34/34 [==============================] - 0s 4ms/step - loss: 0.0052 - accuracy: 6.9476e-04\n",
            "Epoch 21/100\n",
            "34/34 [==============================] - 0s 5ms/step - loss: 0.0053 - accuracy: 5.4471e-04\n",
            "Epoch 22/100\n",
            "34/34 [==============================] - 0s 4ms/step - loss: 0.0050 - accuracy: 4.0457e-05\n",
            "Epoch 23/100\n",
            "34/34 [==============================] - 0s 4ms/step - loss: 0.0049 - accuracy: 5.8935e-04\n",
            "Epoch 24/100\n",
            "34/34 [==============================] - 0s 4ms/step - loss: 0.0049 - accuracy: 7.5854e-04\n",
            "Epoch 25/100\n",
            "34/34 [==============================] - 0s 4ms/step - loss: 0.0049 - accuracy: 4.6692e-04\n",
            "Epoch 26/100\n",
            "34/34 [==============================] - 0s 4ms/step - loss: 0.0050 - accuracy: 9.2223e-04\n",
            "Epoch 27/100\n",
            "34/34 [==============================] - 0s 4ms/step - loss: 0.0050 - accuracy: 3.4303e-04\n",
            "Epoch 28/100\n",
            "34/34 [==============================] - 0s 5ms/step - loss: 0.0050 - accuracy: 0.0010\n",
            "Epoch 29/100\n",
            "34/34 [==============================] - 0s 4ms/step - loss: 0.0048 - accuracy: 8.3294e-04\n",
            "Epoch 30/100\n",
            "34/34 [==============================] - 0s 4ms/step - loss: 0.0049 - accuracy: 0.0019\n",
            "Epoch 31/100\n",
            "34/34 [==============================] - 0s 4ms/step - loss: 0.0050 - accuracy: 2.6929e-05\n",
            "Epoch 32/100\n",
            "34/34 [==============================] - 0s 4ms/step - loss: 0.0048 - accuracy: 2.2489e-04\n",
            "Epoch 33/100\n",
            "34/34 [==============================] - 0s 5ms/step - loss: 0.0045 - accuracy: 8.3294e-04\n",
            "Epoch 34/100\n",
            "34/34 [==============================] - 0s 5ms/step - loss: 0.0049 - accuracy: 1.6659e-04\n",
            "Epoch 35/100\n",
            "34/34 [==============================] - 0s 4ms/step - loss: 0.0048 - accuracy: 2.4615e-04\n",
            "Epoch 36/100\n",
            "34/34 [==============================] - 0s 4ms/step - loss: 0.0050 - accuracy: 2.0460e-04\n",
            "Epoch 37/100\n",
            "34/34 [==============================] - 0s 5ms/step - loss: 0.0046 - accuracy: 1.6659e-04\n",
            "Epoch 38/100\n",
            "34/34 [==============================] - 0s 5ms/step - loss: 0.0046 - accuracy: 6.3896e-04\n",
            "Epoch 39/100\n",
            "34/34 [==============================] - 0s 5ms/step - loss: 0.0043 - accuracy: 2.4615e-04\n",
            "Epoch 40/100\n",
            "34/34 [==============================] - 0s 5ms/step - loss: 0.0045 - accuracy: 7.5854e-04\n",
            "Epoch 41/100\n",
            "34/34 [==============================] - 0s 4ms/step - loss: 0.0047 - accuracy: 1.4873e-04\n",
            "Epoch 42/100\n",
            "34/34 [==============================] - 0s 4ms/step - loss: 0.0046 - accuracy: 5.4471e-04\n",
            "Epoch 43/100\n",
            "34/34 [==============================] - 0s 4ms/step - loss: 0.0047 - accuracy: 4.3258e-04\n",
            "Epoch 44/100\n",
            "34/34 [==============================] - 0s 4ms/step - loss: 0.0043 - accuracy: 1.3156e-04\n",
            "Epoch 45/100\n",
            "34/34 [==============================] - 0s 4ms/step - loss: 0.0046 - accuracy: 0.0014\n",
            "Epoch 46/100\n",
            "34/34 [==============================] - 0s 4ms/step - loss: 0.0046 - accuracy: 5.4408e-05\n",
            "Epoch 47/100\n",
            "34/34 [==============================] - 0s 5ms/step - loss: 0.0046 - accuracy: 5.8935e-04\n",
            "Epoch 48/100\n",
            "34/34 [==============================] - 0s 4ms/step - loss: 0.0044 - accuracy: 8.3294e-04\n",
            "Epoch 49/100\n",
            "34/34 [==============================] - 0s 4ms/step - loss: 0.0046 - accuracy: 2.6929e-05\n",
            "Epoch 50/100\n",
            "34/34 [==============================] - 0s 5ms/step - loss: 0.0046 - accuracy: 2.2489e-04\n",
            "Epoch 51/100\n",
            "34/34 [==============================] - 0s 4ms/step - loss: 0.0044 - accuracy: 1.3156e-04\n",
            "Epoch 52/100\n",
            "34/34 [==============================] - 0s 4ms/step - loss: 0.0046 - accuracy: 2.9197e-04\n",
            "Epoch 53/100\n",
            "34/34 [==============================] - 0s 5ms/step - loss: 0.0045 - accuracy: 3.7093e-04\n",
            "Epoch 54/100\n",
            "34/34 [==============================] - 0s 4ms/step - loss: 0.0046 - accuracy: 0.0010\n",
            "Epoch 55/100\n",
            "34/34 [==============================] - 0s 4ms/step - loss: 0.0049 - accuracy: 4.3258e-04\n",
            "Epoch 56/100\n",
            "34/34 [==============================] - 0s 4ms/step - loss: 0.0048 - accuracy: 6.3896e-04\n",
            "Epoch 57/100\n",
            "34/34 [==============================] - 0s 4ms/step - loss: 0.0047 - accuracy: 4.0457e-05\n",
            "Epoch 58/100\n",
            "34/34 [==============================] - 0s 4ms/step - loss: 0.0042 - accuracy: 2.6847e-04\n",
            "Epoch 59/100\n",
            "34/34 [==============================] - 0s 4ms/step - loss: 0.0046 - accuracy: 2.6847e-04\n",
            "Epoch 60/100\n",
            "34/34 [==============================] - 0s 4ms/step - loss: 0.0044 - accuracy: 3.7093e-04\n",
            "Epoch 61/100\n",
            "34/34 [==============================] - 0s 4ms/step - loss: 0.0043 - accuracy: 5.4408e-05\n",
            "Epoch 62/100\n",
            "34/34 [==============================] - 0s 4ms/step - loss: 0.0045 - accuracy: 1.1503e-04\n",
            "Epoch 63/100\n",
            "34/34 [==============================] - 0s 5ms/step - loss: 0.0045 - accuracy: 0.0010\n",
            "Epoch 64/100\n",
            "34/34 [==============================] - 0s 4ms/step - loss: 0.0046 - accuracy: 0.0014\n",
            "Epoch 65/100\n",
            "34/34 [==============================] - 0s 4ms/step - loss: 0.0044 - accuracy: 5.4471e-04\n",
            "Epoch 66/100\n",
            "34/34 [==============================] - 0s 5ms/step - loss: 0.0045 - accuracy: 0.0014\n",
            "Epoch 67/100\n",
            "34/34 [==============================] - 0s 5ms/step - loss: 0.0046 - accuracy: 2.4615e-04\n",
            "Epoch 68/100\n",
            "34/34 [==============================] - 0s 5ms/step - loss: 0.0046 - accuracy: 0.0010\n",
            "Epoch 69/100\n",
            "34/34 [==============================] - 0s 4ms/step - loss: 0.0047 - accuracy: 9.2223e-04\n",
            "Epoch 70/100\n",
            "34/34 [==============================] - 0s 4ms/step - loss: 0.0045 - accuracy: 3.1677e-04\n",
            "Epoch 71/100\n",
            "34/34 [==============================] - 0s 5ms/step - loss: 0.0044 - accuracy: 2.4615e-04\n",
            "Epoch 72/100\n",
            "34/34 [==============================] - 0s 4ms/step - loss: 0.0043 - accuracy: 4.6692e-04\n",
            "Epoch 73/100\n",
            "34/34 [==============================] - 0s 5ms/step - loss: 0.0045 - accuracy: 0.0014\n",
            "Epoch 74/100\n",
            "34/34 [==============================] - 0s 4ms/step - loss: 0.0044 - accuracy: 5.4408e-05\n",
            "Epoch 75/100\n",
            "34/34 [==============================] - 0s 5ms/step - loss: 0.0044 - accuracy: 3.4303e-04\n",
            "Epoch 76/100\n",
            "34/34 [==============================] - 0s 4ms/step - loss: 0.0043 - accuracy: 4.0457e-05\n",
            "Epoch 77/100\n",
            "34/34 [==============================] - 0s 4ms/step - loss: 0.0044 - accuracy: 0.0014\n",
            "Epoch 78/100\n",
            "34/34 [==============================] - 0s 5ms/step - loss: 0.0041 - accuracy: 6.9476e-04\n",
            "Epoch 79/100\n",
            "34/34 [==============================] - 0s 4ms/step - loss: 0.0043 - accuracy: 1.1503e-04\n",
            "Epoch 80/100\n",
            "34/34 [==============================] - 0s 4ms/step - loss: 0.0042 - accuracy: 2.9197e-04\n",
            "Epoch 81/100\n",
            "34/34 [==============================] - 0s 4ms/step - loss: 0.0043 - accuracy: 2.4615e-04\n",
            "Epoch 82/100\n",
            "34/34 [==============================] - 0s 4ms/step - loss: 0.0044 - accuracy: 3.4303e-04\n",
            "Epoch 83/100\n",
            "34/34 [==============================] - 0s 4ms/step - loss: 0.0043 - accuracy: 3.1677e-04\n",
            "Epoch 84/100\n",
            "34/34 [==============================] - 0s 5ms/step - loss: 0.0042 - accuracy: 4.6692e-04\n",
            "Epoch 85/100\n",
            "34/34 [==============================] - 0s 5ms/step - loss: 0.0041 - accuracy: 2.6847e-04\n",
            "Epoch 86/100\n",
            "34/34 [==============================] - 0s 4ms/step - loss: 0.0043 - accuracy: 6.8809e-05\n",
            "Epoch 87/100\n",
            "34/34 [==============================] - 0s 5ms/step - loss: 0.0044 - accuracy: 2.4615e-04\n",
            "Epoch 88/100\n",
            "34/34 [==============================] - 0s 4ms/step - loss: 0.0044 - accuracy: 8.3690e-05\n",
            "Epoch 89/100\n",
            "34/34 [==============================] - 0s 4ms/step - loss: 0.0044 - accuracy: 1.3156e-04\n",
            "Epoch 90/100\n",
            "34/34 [==============================] - 0s 5ms/step - loss: 0.0041 - accuracy: 5.4408e-05\n",
            "Epoch 91/100\n",
            "34/34 [==============================] - 0s 4ms/step - loss: 0.0043 - accuracy: 1.3156e-04\n",
            "Epoch 92/100\n",
            "34/34 [==============================] - 0s 5ms/step - loss: 0.0045 - accuracy: 1.8519e-04\n",
            "Epoch 93/100\n",
            "34/34 [==============================] - 0s 4ms/step - loss: 0.0041 - accuracy: 2.0460e-04\n",
            "Epoch 94/100\n",
            "34/34 [==============================] - 0s 4ms/step - loss: 0.0044 - accuracy: 4.6692e-04\n",
            "Epoch 95/100\n",
            "34/34 [==============================] - 0s 4ms/step - loss: 0.0046 - accuracy: 3.7093e-04\n",
            "Epoch 96/100\n",
            "34/34 [==============================] - 0s 4ms/step - loss: 0.0043 - accuracy: 2.0460e-04\n",
            "Epoch 97/100\n",
            "34/34 [==============================] - 0s 4ms/step - loss: 0.0041 - accuracy: 0.0014\n",
            "Epoch 98/100\n",
            "34/34 [==============================] - 0s 5ms/step - loss: 0.0042 - accuracy: 6.3896e-04\n",
            "Epoch 99/100\n",
            "34/34 [==============================] - 0s 4ms/step - loss: 0.0043 - accuracy: 3.4303e-04\n",
            "Epoch 100/100\n",
            "34/34 [==============================] - 0s 4ms/step - loss: 0.0046 - accuracy: 0.0014\n"
          ],
          "name": "stdout"
        }
      ]
    },
    {
      "cell_type": "code",
      "metadata": {
        "colab": {
          "base_uri": "https://localhost:8080/"
        },
        "id": "7A6Le3eo7X5s",
        "outputId": "ff24ec56-ec5b-41c6-c545-dcc4b4fa2288"
      },
      "source": [
        "model.evaluate(trainX, trainY, verbose=1)\n",
        "model.evaluate(testX, testY, verbose=1)"
      ],
      "execution_count": 126,
      "outputs": [
        {
          "output_type": "stream",
          "text": [
            "67/67 [==============================] - 1s 3ms/step - loss: 0.0023 - accuracy: 4.7125e-04\n",
            "8/8 [==============================] - 0s 3ms/step - loss: 0.0268 - accuracy: 0.0043\n"
          ],
          "name": "stdout"
        },
        {
          "output_type": "execute_result",
          "data": {
            "text/plain": [
              "[0.026837483048439026, 0.0042553190141916275]"
            ]
          },
          "metadata": {
            "tags": []
          },
          "execution_count": 126
        }
      ]
    },
    {
      "cell_type": "code",
      "metadata": {
        "id": "6jQyeZhZ9St-"
      },
      "source": [
        "# make predictions\n",
        "trainPredict = model.predict(trainX)\n",
        "testPredict = model.predict(testX)\n"
      ],
      "execution_count": 127,
      "outputs": []
    },
    {
      "cell_type": "code",
      "metadata": {
        "id": "ZjZfogTk9Sy8"
      },
      "source": [
        "# invert predictions\n",
        "trainPredict = scaler.inverse_transform(trainPredict)\n",
        "trainY = scaler.inverse_transform([trainY])\n",
        "testPredict = scaler.inverse_transform(testPredict)\n",
        "testY = scaler.inverse_transform([testY])"
      ],
      "execution_count": 128,
      "outputs": []
    },
    {
      "cell_type": "code",
      "metadata": {
        "colab": {
          "base_uri": "https://localhost:8080/"
        },
        "id": "B3spy7Hd9o4u",
        "outputId": "76ad5655-757b-454a-ca2a-5fd5445436df"
      },
      "source": [
        "# calculate root mean squared error\n",
        "trainScore = math.sqrt(mean_squared_error(trainY[0], trainPredict[:,0]))\n",
        "trainScore_mae = mean_absolute_error(trainY[0], trainPredict[:,0])\n",
        "print(f\"Train Score: {trainScore} RMSE\")\n",
        "print(f\"Train Score: {trainScore_mae} MAE\")\n",
        "testScore = math.sqrt(mean_squared_error(testY[0], testPredict[:,0]))\n",
        "testScore_mae = mean_absolute_error(testY[0], testPredict[:,0])\n",
        "print(f\"Test Score: {testScore} RMSE\")\n",
        "print(f\"Test Score: {testScore_mae} MAE\")"
      ],
      "execution_count": 129,
      "outputs": [
        {
          "output_type": "stream",
          "text": [
            "Train Score: 293.70878471585485 RMSE\n",
            "Train Score: 143.84875774903944 MAE\n",
            "Test Score: 2307.5798791560014 RMSE\n",
            "Test Score: 1699.4931935159573 MAE\n"
          ],
          "name": "stdout"
        }
      ]
    },
    {
      "cell_type": "code",
      "metadata": {
        "id": "zo1dYbkE9o-4"
      },
      "source": [
        "# shift train predictions for plotting\n",
        "trainPredictPlot = np.empty_like(dataset)\n",
        "trainPredictPlot[:, :] = np.nan\n",
        "trainPredictPlot[look_back:len(trainPredict)+look_back, :] = trainPredict"
      ],
      "execution_count": 130,
      "outputs": []
    },
    {
      "cell_type": "code",
      "metadata": {
        "id": "HcTsScW49pFn"
      },
      "source": [
        "# shift test predictions for plotting\n",
        "testPredictPlot = np.empty_like(dataset)\n",
        "testPredictPlot[:, :] = np.nan\n",
        "testPredictPlot[len(trainPredict)+(look_back*2)+1:len(dataset)-1, :] = testPredict"
      ],
      "execution_count": 131,
      "outputs": []
    },
    {
      "cell_type": "code",
      "metadata": {
        "colab": {
          "base_uri": "https://localhost:8080/",
          "height": 265
        },
        "id": "pjL7JjTz9y6e",
        "outputId": "c428b694-c04a-4f23-d03a-7385ad8d19b9"
      },
      "source": [
        "# plot baseline and predictions\n",
        "plt.plot(scaler.inverse_transform(dataset))\n",
        "plt.plot(trainPredictPlot, 'y')\n",
        "\n",
        "# plot the actual price, prediction in test data=red line, actual price=blue line\n",
        "plt.plot(testPredictPlot, 'g')\n",
        "\n",
        "plt.show()"
      ],
      "execution_count": 132,
      "outputs": [
        {
          "output_type": "display_data",
          "data": {
            "image/png": "[encoded data removed]",
            "text/plain": [
              "<Figure size 432x288 with 1 Axes>"
            ]
          },
          "metadata": {
            "tags": [],
            "needs_background": "light"
          }
        }
      ]
    },
    {
      "cell_type": "code",
      "metadata": {
        "colab": {
          "base_uri": "https://localhost:8080/"
        },
        "id": "6siiaPNp9zBe",
        "outputId": "11c47606-3df5-43e5-abc7-a2cf285f4bca"
      },
      "source": [
        "print('testPrices:')\n",
        "testPrices=scaler.inverse_transform(dataset[test_size+look_back:])\n",
        "print('testPredictions:')\n",
        "print(testPredict)"
      ],
      "execution_count": 135,
      "outputs": [
        {
          "output_type": "stream",
          "text": [
            "testPrices:\n",
            "testPredictions:\n",
            "[[13481.948]\n",
            " [13589.907]\n",
            " [13822.855]\n",
            " [13779.261]\n",
            " [13593.847]\n",
            " [13991.011]\n",
            " [14173.124]\n",
            " [15607.259]\n",
            " [15593.425]\n",
            " [14867.762]\n",
            " [15507.916]\n",
            " [15362.012]\n",
            " [15320.974]\n",
            " [15727.595]\n",
            " [16296.795]\n",
            " [16337.821]\n",
            " [16090.753]\n",
            " [15979.342]\n",
            " [16731.762]\n",
            " [17649.84 ]\n",
            " [17806.377]\n",
            " [17819.291]\n",
            " [18612.363]\n",
            " [18632.979]\n",
            " [18364.662]\n",
            " [18358.861]\n",
            " [19091.219]\n",
            " [18721.547]\n",
            " [17161.213]\n",
            " [17119.494]\n",
            " [17720.918]\n",
            " [18174.832]\n",
            " [19601.332]\n",
            " [18791.37 ]\n",
            " [19183.389]\n",
            " [19423.826]\n",
            " [18689.668]\n",
            " [19137.258]\n",
            " [19325.146]\n",
            " [19174.076]\n",
            " [18316.492]\n",
            " [18545.945]\n",
            " [18261.123]\n",
            " [18057.875]\n",
            " [18792.02 ]\n",
            " [19125.596]\n",
            " [19228.227]\n",
            " [19395.957]\n",
            " [21255.777]\n",
            " [22718.816]\n",
            " [23043.98 ]\n",
            " [23758.252]\n",
            " [23375.295]\n",
            " [22716.783]\n",
            " [23673.596]\n",
            " [23144.943]\n",
            " [23627.674]\n",
            " [24532.822]\n",
            " [26254.656]\n",
            " [26094.898]\n",
            " [26882.254]\n",
            " [27150.945]\n",
            " [28578.834]\n",
            " [28733.78 ]\n",
            " [29092.498]\n",
            " [31733.664]\n",
            " [32358.975]\n",
            " [31585.13 ]\n",
            " [33512.01 ]\n",
            " [36194.38 ]\n",
            " [38587.465]\n",
            " [39919.79 ]\n",
            " [39413.312]\n",
            " [37636.27 ]\n",
            " [35005.8  ]\n",
            " [33445.945]\n",
            " [36658.137]\n",
            " [38415.45 ]\n",
            " [36195.33 ]\n",
            " [35584.22 ]\n",
            " [35218.39 ]\n",
            " [36011.047]\n",
            " [35481.812]\n",
            " [34987.9  ]\n",
            " [30487.377]\n",
            " [32572.404]\n",
            " [31676.666]\n",
            " [31888.58 ]\n",
            " [31962.16 ]\n",
            " [32156.463]\n",
            " [30110.084]\n",
            " [31276.787]\n",
            " [33819.957]\n",
            " [33775.43 ]\n",
            " [32675.941]\n",
            " [33078.793]\n",
            " [34952.426]\n",
            " [36804.785]\n",
            " [36290.297]\n",
            " [37437.023]\n",
            " [38489.137]\n",
            " [38149.45 ]\n",
            " [44906.207]\n",
            " [45166.574]\n",
            " [43733.758]\n",
            " [46469.07 ]\n",
            " [46100.875]\n",
            " [45736.824]\n",
            " [47202.96 ]\n",
            " [46501.562]\n",
            " [47640.285]\n",
            " [50295.957]\n",
            " [49875.395]\n",
            " [53620.312]\n",
            " [53806.805]\n",
            " [55073.3  ]\n",
            " [52131.95 ]\n",
            " [47300.12 ]\n",
            " [48097.52 ]\n",
            " [45726.188]\n",
            " [45037.324]\n",
            " [44898.875]\n",
            " [43935.535]\n",
            " [48030.547]\n",
            " [46895.938]\n",
            " [48849.094]\n",
            " [47061.32 ]\n",
            " [47393.375]\n",
            " [47379.855]\n",
            " [49450.59 ]\n",
            " [50383.266]\n",
            " [52679.266]\n",
            " [53726.56 ]\n",
            " [55305.645]\n",
            " [54891.004]\n",
            " [58295.11 ]\n",
            " [56612.793]\n",
            " [53637.137]\n",
            " [54427.92 ]\n",
            " [56236.965]\n",
            " [55352.766]\n",
            " [55779.37 ]\n",
            " [55750.527]\n",
            " [55058.812]\n",
            " [52417.684]\n",
            " [52603.766]\n",
            " [50855.223]\n",
            " [49897.246]\n",
            " [52956.676]\n",
            " [53695.65 ]\n",
            " [53675.562]\n",
            " [55257.55 ]\n",
            " [56277.758]\n",
            " [56278.758]\n",
            " [56432.977]\n",
            " [56684.152]\n",
            " [55129.355]\n",
            " [56138.992]\n",
            " [56399.94 ]\n",
            " [55644.51 ]\n",
            " [53762.19 ]\n",
            " [55759.54 ]\n",
            " [55690.53 ]\n",
            " [57039.625]\n",
            " [57396.94 ]\n",
            " [57126.66 ]\n",
            " [60237.02 ]\n",
            " [59900.105]\n",
            " [60074.996]\n",
            " [58579.53 ]\n",
            " [57811.73 ]\n",
            " [53909.645]\n",
            " [53475.645]\n",
            " [54135.914]\n",
            " [51864.164]\n",
            " [49949.367]\n",
            " [49348.977]\n",
            " [48409.59 ]\n",
            " [47463.1  ]\n",
            " [51967.023]\n",
            " [52864.426]\n",
            " [52679.79 ]\n",
            " [51551.76 ]\n",
            " [55257.527]\n",
            " [55325.734]\n",
            " [54275.027]\n",
            " [54775.33 ]\n",
            " [51354.324]\n",
            " [54971.64 ]\n",
            " [54068.535]\n",
            " [54912.324]\n",
            " [56178.438]\n",
            " [55679.445]\n",
            " [53595.3  ]\n",
            " [54339.695]\n",
            " [47595.61 ]\n",
            " [48107.33 ]\n",
            " [48255.8  ]\n",
            " [45421.605]\n",
            " [45143.676]\n",
            " [42461.62 ]\n",
            " [41880.938]\n",
            " [36362.32 ]\n",
            " [39905.938]\n",
            " [36647.145]\n",
            " [36865.543]\n",
            " [34251.234]\n",
            " [37964.3  ]\n",
            " [37679.258]\n",
            " [38515.527]\n",
            " [37711.87 ]\n",
            " [35129.754]\n",
            " [34104.582]\n",
            " [35111.32 ]\n",
            " [36673.67 ]\n",
            " [36062.816]\n",
            " [36901.824]\n",
            " [38435.53 ]\n",
            " [36260.44 ]\n",
            " [34991.88 ]\n",
            " [35285.656]\n",
            " [33101.19 ]\n",
            " [33017.33 ]\n",
            " [36685.223]\n",
            " [36079.496]\n",
            " [36675.133]\n",
            " [34992.402]\n",
            " [38331.645]\n",
            " [39379.637]\n",
            " [39554.9  ]\n",
            " [37627.465]\n",
            " [37351.703]\n",
            " [35214.582]\n",
            " [35052.387]\n",
            " [35130.406]]\n"
          ],
          "name": "stdout"
        }
      ]
    },
    {
      "cell_type": "code",
      "metadata": {
        "colab": {
          "base_uri": "https://localhost:8080/"
        },
        "id": "DkQi2ohtGgRY",
        "outputId": "b740e4fb-fb11-4646-9f55-efdc0e1d44c8"
      },
      "source": [
        "print(len(testPrices))\n",
        "print(len(testPredict))"
      ],
      "execution_count": 136,
      "outputs": [
        {
          "output_type": "stream",
          "text": [
            "2123\n",
            "235\n"
          ],
          "name": "stdout"
        }
      ]
    },
    {
      "cell_type": "code",
      "metadata": {
        "id": "ffqkzYKv9zJV"
      },
      "source": [
        "# export prediction and actual prices\n",
        "#df = pd.DataFrame(data={\"prediction\": np.around(list(testPredict.reshape(-1)), decimals=2), \"test_price\": np.around(list(testPrices.reshape(-1)), decimals=2)})\n",
        "df1 = pd.DataFrame(data={\"prediction\": np.around(list(testPredict.reshape(-1)), decimals=2)})\n",
        "df2 = pd.DataFrame(data={\"test_price\": np.around(list(testPrices.reshape(-1)), decimals=2)})\n",
        "df1.to_csv(\"lstm_result_new_BTC_1.csv\", sep=';', index=None)\n",
        "df2.to_csv(\"lstm_result_new_BTC_2.csv\", sep=';', index=None)"
      ],
      "execution_count": 62,
      "outputs": []
    },
    {
      "cell_type": "code",
      "metadata": {
        "id": "N1OiE7g18-aX"
      },
      "source": [
        ""
      ],
      "execution_count": null,
      "outputs": []
    }
  ]
}