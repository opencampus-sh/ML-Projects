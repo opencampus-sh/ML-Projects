{
 "cells": [
  {
   "cell_type": "code",
   "execution_count": 1,
   "metadata": {},
   "outputs": [],
   "source": [
    "import os\n",
    "import pandas as pd\n",
    "import numpy as np\n",
    "import librosa\n",
    "import librosa.display\n",
    "import matplotlib.pyplot as plt\n",
    "from sklearn.model_selection import train_test_split\n",
    "from keras.utils import to_categorical\n",
    "from tensorflow.python.keras.models import Sequential\n",
    "from tensorflow.python.keras.layers import Dense, Dropout, Flatten, Conv2D, MaxPooling2D"
   ]
  },
  {
   "cell_type": "markdown",
   "metadata": {},
   "source": [
    "## Extract Mel Spectrograms from Audio Files and Convert to DataFrame"
   ]
  },
  {
   "cell_type": "code",
   "execution_count": 2,
   "metadata": {},
   "outputs": [],
   "source": [
    "def make_mel_spectrogram_df(directory):\n",
    "    \n",
    "    labels = []\n",
    "    mel_specs = []\n",
    "    \n",
    "    for file in os.scandir(directory):\n",
    "        y, sr = librosa.core.load(file)\n",
    "        \n",
    "         # Extracting the label and adding it to the list\n",
    "        label = str(file).split('.')[0][11:]\n",
    "        labels.append(label)\n",
    "        \n",
    "        # Computing the mel spectrograms\n",
    "        spect = librosa.feature.melspectrogram(y=y, sr=sr, n_fft=2048, hop_length=1024)\n",
    "        spect = librosa.power_to_db(spect, ref=np.max)\n",
    "        \n",
    "        # Adjusting the size to be 128 x 660\n",
    "        if spect.shape[1] != 660:\n",
    "           spect.resize(128,660, refcheck=False)\n",
    "        \n",
    "        spect = spect.flatten()\n",
    "        mel_specs.append(spect)\n",
    "        \n",
    "    mel_specs = np.array(mel_specs)\n",
    "    labels = np.array(labels).reshape(1000,1)\n",
    "    \n",
    "    # Create dataframe\n",
    "    df = pd.DataFrame(np.hstack((mel_specs,labels)))\n",
    "\n",
    "    return df"
   ]
  },
  {
   "cell_type": "code",
   "execution_count": 3,
   "metadata": {},
   "outputs": [],
   "source": [
    "df = make_mel_spectrogram_df('../data/wavfiles')\n",
    "df.to_csv('../data/genre_mel_specs.csv', index=False)"
   ]
  },
  {
   "cell_type": "markdown",
   "metadata": {},
   "source": [
    "## Extract Numeric Features from Audio Files"
   ]
  },
  {
   "cell_type": "code",
   "execution_count": 4,
   "metadata": {},
   "outputs": [],
   "source": [
    "def extract_audio_features(directory):\n",
    "    \n",
    "    # Creating an empty list to store all file names\n",
    "    files = []\n",
    "    labels = []\n",
    "    zcrs = []\n",
    "    spec_centroids = []\n",
    "    spec_rolloffs = []\n",
    "    mfccs_1 = []\n",
    "    mfccs_2 = []\n",
    "    mfccs_3 = []\n",
    "    mfccs_4 = []\n",
    "    mfccs_5 = []\n",
    "    mfccs_6 = []\n",
    "    mfccs_7 = []\n",
    "    mfccs_8 = []\n",
    "    mfccs_9 = []\n",
    "    mfccs_10 = []\n",
    "    mfccs_11 = []\n",
    "    mfccs_12 = []\n",
    "    mfccs_13 = []\n",
    "    \n",
    "    for file in os.scandir(directory):\n",
    "        \n",
    "        if file.name != '.DS_Store':\n",
    "            y, sr = librosa.core.load(file)\n",
    "            files.append(file)\n",
    "\n",
    "            # Adding the label to our list of labels\n",
    "            label = str(file).split('.')[0]\n",
    "            labels.append(label)\n",
    "\n",
    "            # zero-crossing rates\n",
    "            zcr = librosa.feature.zero_crossing_rate(y)\n",
    "            zcrs.append(np.mean(zcr))\n",
    "\n",
    "            # spectral centroids\n",
    "            spec_centroid = librosa.feature.spectral_centroid(y)\n",
    "            spec_centroids.append(np.mean(spec_centroid))\n",
    "\n",
    "            # spectral rolloffs\n",
    "            spec_rolloff = librosa.feature.spectral_rolloff(y)\n",
    "            spec_rolloffs.append(np.mean(spec_rolloff))\n",
    "\n",
    "            # the first 13 mfcc coefficients\n",
    "            mfcc = librosa.feature.mfcc(y=y, sr=sr, hop_length=512, n_mfcc=13)\n",
    "            mfcc_scaled = np.mean(mfcc.T, axis=0)\n",
    "            mfccs_1.append(mfcc_scaled[0])\n",
    "            mfccs_2.append(mfcc_scaled[1])\n",
    "            mfccs_3.append(mfcc_scaled[2])\n",
    "            mfccs_4.append(mfcc_scaled[3])\n",
    "            mfccs_5.append(mfcc_scaled[4])\n",
    "            mfccs_6.append(mfcc_scaled[5])\n",
    "            mfccs_7.append(mfcc_scaled[6])\n",
    "            mfccs_8.append(mfcc_scaled[7])\n",
    "            mfccs_9.append(mfcc_scaled[8])\n",
    "            mfccs_10.append(mfcc_scaled[9])\n",
    "            mfccs_11.append(mfcc_scaled[10])\n",
    "            mfccs_12.append(mfcc_scaled[11])\n",
    "            mfccs_13.append(mfcc_scaled[12])\n",
    "    \n",
    "    # Creating a data frame with the values we collected\n",
    "    df = pd.DataFrame({\n",
    "        'files': files,\n",
    "        'zero_crossing_rate': zcrs,\n",
    "        'spectral_centroid': spec_centroids,\n",
    "        'spectral_rolloff': spec_rolloffs,\n",
    "        'mfcc_1': mfccs_1,\n",
    "        'mfcc_2': mfccs_2,\n",
    "        'mfcc_3': mfccs_3,\n",
    "        'mfcc_4': mfccs_4,\n",
    "        'mfcc_5': mfccs_5,\n",
    "        'mfcc_6': mfccs_6,\n",
    "        'mfcc_7': mfccs_7,\n",
    "        'mfcc_8': mfccs_8,\n",
    "        'mfcc_9': mfccs_9,\n",
    "        'mfcc_10': mfccs_10,\n",
    "        'mfcc_11': mfccs_11,\n",
    "        'mfcc_12': mfccs_12,\n",
    "        'mfcc_13': mfccs_13,\n",
    "        'labels': labels\n",
    "    })\n",
    "    \n",
    "    return df"
   ]
  },
  {
   "cell_type": "code",
   "execution_count": 5,
   "metadata": {},
   "outputs": [],
   "source": [
    "df = extract_audio_features('../data/wavfiles')\n",
    "df.to_csv('../data/genre.csv', index=False)\n",
    "genre = pd.read_csv('../data/genre.csv')"
   ]
  },
  {
   "cell_type": "markdown",
   "metadata": {},
   "source": [
    "## Creating Labels"
   ]
  },
  {
   "cell_type": "code",
   "execution_count": 6,
   "metadata": {},
   "outputs": [],
   "source": [
    "genre['files'] = genre['files'].map(lambda x: x[11:-2])\n",
    "genre['labels'] = genre['labels'].map(lambda x: x[11:])\n",
    "label_map = {\n",
    "    'blues': 1,\n",
    "    'classical': 2,\n",
    "    'country': 3,\n",
    "    'disco': 4,\n",
    "    'hiphop': 5,\n",
    "    'jazz': 6,\n",
    "    'metal': 7,\n",
    "    'pop': 8,\n",
    "    'reggae': 9,\n",
    "    'rock': 10\n",
    "}\n",
    "\n",
    "genre['y'] = genre['labels'].map(label_map)\n",
    "genre.to_csv('../data/genre_clean.csv', index=False)"
   ]
  },
  {
   "cell_type": "markdown",
   "metadata": {},
   "source": [
    "## Mel Spectrogram Data"
   ]
  },
  {
   "cell_type": "code",
   "execution_count": 7,
   "metadata": {},
   "outputs": [],
   "source": [
    "mel_specs = pd.read_csv('../data/genre_mel_specs.csv')\n",
    "\n",
    "# Renaming the label column and mapping them to numeric values using the same map as above\n",
    "mel_specs = mel_specs.rename(columns={'84480': 'labels'})\n",
    "mel_specs['y'] = mel_specs['labels'].map(label_map)\n",
    "mel_specs.to_csv('../data/genre_mel_specs_clean.csv', index=False)\n",
    "\n",
    "mel_specs = pd.read_csv('../data/genre_mel_specs_clean.csv')"
   ]
  },
  {
   "cell_type": "markdown",
   "metadata": {},
   "source": [
    "### Function to Get a Subset of the Genres\n",
    "\n",
    "This function returns data with given genre"
   ]
  },
  {
   "cell_type": "code",
   "execution_count": 8,
   "metadata": {},
   "outputs": [],
   "source": [
    "def get_genre_subset(data, genre_subset):\n",
    "\n",
    "    df = data.loc[data['labels'].isin(genre_subset)]\n",
    "    df = df.reset_index().drop(columns=['index'])\n",
    "    \n",
    "    new_label_dict = {}\n",
    "    for i in range(len(genre_subset)):\n",
    "        new_label_dict[genre_subset[i]] = i\n",
    "    \n",
    "    df['y'] = df['labels'].map(new_label_dict)\n",
    "\n",
    "    return df"
   ]
  },
  {
   "cell_type": "markdown",
   "metadata": {},
   "source": [
    "## Function to Preprocess the Features and Targets\n",
    "\n",
    "    \n",
    "Preprecessing steps include:\n",
    "1. Reshaping the mel spectrograms to their original form (128 x 660)\n",
    "2. Defining the array of targets\n",
    "3. Train test split\n",
    "4. Standardizing the data\n",
    "5. Reshaping the data to be 128 x 660 x 1, where the 1 represents a single color channel\n",
    "6. One-hot-encoding target data"
   ]
  },
  {
   "cell_type": "code",
   "execution_count": 9,
   "metadata": {},
   "outputs": [],
   "source": [
    "def preprocess_mel_spec_data(data, genre_subset):\n",
    "\n",
    "    subset = get_genre_subset(data, genre_subset)\n",
    "    \n",
    "    specs = subset.drop(columns=['labels', 'y'])\n",
    "    \n",
    "    X = []\n",
    "    for i in range(len(genre_subset)*100):\n",
    "        X.append(np.array(specs.iloc[i]).reshape(128,660))\n",
    "        \n",
    "    X = np.array(X)\n",
    "    \n",
    "    y = subset.loc[subset['labels'].isin(genre_subset), 'y'].values\n",
    "    \n",
    "    X_train, X_test, y_train, y_test = train_test_split(X, y, random_state=42, stratify=y, test_size=.2)\n",
    "    \n",
    "    X_train /= -80\n",
    "    X_test /= -80\n",
    "    \n",
    "    X_train = X_train.reshape(X_train.shape[0], 128, 660, 1)\n",
    "    X_test = X_test.reshape(X_test.shape[0], 128, 660, 1)\n",
    "    \n",
    "    y_train = to_categorical(y_train, len(genre_subset))\n",
    "    y_test = to_categorical(y_test, len(genre_subset))\n",
    "    \n",
    "    return X_train, X_test, y_train, y_test"
   ]
  },
  {
   "cell_type": "code",
   "execution_count": 10,
   "metadata": {},
   "outputs": [],
   "source": [
    "genre_list = [ \n",
    "    'jazz',\n",
    "    'reggae',\n",
    "    'rock',\n",
    "    'blues',\n",
    "    'hiphop',\n",
    "    'country',\n",
    "    'metal',\n",
    "    'classical',\n",
    "    'disco',\n",
    "    'pop'\n",
    "]"
   ]
  },
  {
   "cell_type": "code",
   "execution_count": 11,
   "metadata": {},
   "outputs": [],
   "source": [
    "genre_subset = [\n",
    "    'jazz',\n",
    "    'hiphop',\n",
    "    'country',\n",
    "    'metal',\n",
    "    'classical',\n",
    "    'disco',\n",
    "    'pop'\n",
    "]"
   ]
  },
  {
   "cell_type": "code",
   "execution_count": 12,
   "metadata": {},
   "outputs": [
    {
     "name": "stdout",
     "output_type": "stream",
     "text": [
      "(140, 128, 660, 1)\n"
     ]
    }
   ],
   "source": [
    "X_train, X_test, y_train, y_test = preprocess_mel_spec_data(mel_specs, genre_subset)\n",
    "print(X_test.shape)"
   ]
  },
  {
   "cell_type": "markdown",
   "metadata": {},
   "source": [
    "## CNN Model for Subset of Genres"
   ]
  },
  {
   "cell_type": "code",
   "execution_count": 13,
   "metadata": {},
   "outputs": [
    {
     "name": "stdout",
     "output_type": "stream",
     "text": [
      "Epoch 1/15\n",
      "35/35 [==============================] - 18s 509ms/step - loss: 2.1364 - accuracy: 0.1446 - val_loss: 1.9385 - val_accuracy: 0.1429\n",
      "Epoch 2/15\n",
      "35/35 [==============================] - 20s 574ms/step - loss: 1.9387 - accuracy: 0.1375 - val_loss: 1.9330 - val_accuracy: 0.1857\n",
      "Epoch 3/15\n",
      "35/35 [==============================] - 18s 502ms/step - loss: 1.9261 - accuracy: 0.1625 - val_loss: 1.8958 - val_accuracy: 0.2500\n",
      "Epoch 4/15\n",
      "35/35 [==============================] - 19s 542ms/step - loss: 1.8752 - accuracy: 0.2536 - val_loss: 1.8713 - val_accuracy: 0.2214\n",
      "Epoch 5/15\n",
      "35/35 [==============================] - 18s 516ms/step - loss: 1.8078 - accuracy: 0.2839 - val_loss: 1.7373 - val_accuracy: 0.2786\n",
      "Epoch 6/15\n",
      "35/35 [==============================] - 17s 486ms/step - loss: 1.6698 - accuracy: 0.3625 - val_loss: 1.5172 - val_accuracy: 0.4857\n",
      "Epoch 7/15\n",
      "35/35 [==============================] - 17s 487ms/step - loss: 1.5044 - accuracy: 0.4125 - val_loss: 1.4138 - val_accuracy: 0.5000\n",
      "Epoch 8/15\n",
      "35/35 [==============================] - 17s 498ms/step - loss: 1.3729 - accuracy: 0.4482 - val_loss: 1.1477 - val_accuracy: 0.6143\n",
      "Epoch 9/15\n",
      "35/35 [==============================] - 18s 502ms/step - loss: 1.2474 - accuracy: 0.5018 - val_loss: 1.2712 - val_accuracy: 0.5000\n",
      "Epoch 10/15\n",
      "35/35 [==============================] - 18s 512ms/step - loss: 1.1211 - accuracy: 0.5429 - val_loss: 1.0386 - val_accuracy: 0.6500\n",
      "Epoch 11/15\n",
      "35/35 [==============================] - 27s 770ms/step - loss: 1.0442 - accuracy: 0.5821 - val_loss: 1.0227 - val_accuracy: 0.6357\n",
      "Epoch 12/15\n",
      "35/35 [==============================] - 21s 603ms/step - loss: 0.9736 - accuracy: 0.6304 - val_loss: 0.9714 - val_accuracy: 0.6857\n",
      "Epoch 13/15\n",
      "35/35 [==============================] - 21s 607ms/step - loss: 0.9003 - accuracy: 0.6429 - val_loss: 0.9551 - val_accuracy: 0.6714\n",
      "Epoch 14/15\n",
      "35/35 [==============================] - 22s 619ms/step - loss: 0.9111 - accuracy: 0.6321 - val_loss: 0.9139 - val_accuracy: 0.6857\n",
      "Epoch 15/15\n",
      "35/35 [==============================] - 23s 666ms/step - loss: 0.7733 - accuracy: 0.7125 - val_loss: 0.9242 - val_accuracy: 0.7071\n"
     ]
    }
   ],
   "source": [
    "np.random.seed(23456)\n",
    "\n",
    "cnn_model = Sequential(name='cnn_1')\n",
    "\n",
    "cnn_model.add(Conv2D(filters=16,\n",
    "                     kernel_size=(3,3),\n",
    "                     activation='relu',\n",
    "                     input_shape=(128,660,1)))\n",
    "\n",
    "cnn_model.add(MaxPooling2D(pool_size=(2,4)))\n",
    "\n",
    "cnn_model.add(Conv2D(filters=32,\n",
    "                     kernel_size=(3,3),\n",
    "                     activation='relu'))\n",
    "\n",
    "cnn_model.add(MaxPooling2D(pool_size=(2,4)))\n",
    "\n",
    "cnn_model.add(Flatten())\n",
    "\n",
    "cnn_model.add(Dense(64, activation='relu'))\n",
    "\n",
    "cnn_model.add(Dropout(0.25))\n",
    "\n",
    "cnn_model.add(Dense(7, activation='softmax'))\n",
    "\n",
    "cnn_model.compile(loss='categorical_crossentropy',\n",
    "                  optimizer='adam',\n",
    "                  metrics=['accuracy'])\n",
    "\n",
    "# Fitting our neural network\n",
    "history = cnn_model.fit(X_train,\n",
    "                        y_train, \n",
    "                        batch_size=16,\n",
    "                        validation_data=(X_test, y_test),\n",
    "                        epochs=15)"
   ]
  },
  {
   "cell_type": "code",
   "execution_count": 14,
   "metadata": {},
   "outputs": [
    {
     "name": "stdout",
     "output_type": "stream",
     "text": [
      "Model: \"cnn_1\"\n",
      "_________________________________________________________________\n",
      "Layer (type)                 Output Shape              Param #   \n",
      "=================================================================\n",
      "conv2d (Conv2D)              (None, 126, 658, 16)      160       \n",
      "_________________________________________________________________\n",
      "max_pooling2d (MaxPooling2D) (None, 63, 164, 16)       0         \n",
      "_________________________________________________________________\n",
      "conv2d_1 (Conv2D)            (None, 61, 162, 32)       4640      \n",
      "_________________________________________________________________\n",
      "max_pooling2d_1 (MaxPooling2 (None, 30, 40, 32)        0         \n",
      "_________________________________________________________________\n",
      "flatten (Flatten)            (None, 38400)             0         \n",
      "_________________________________________________________________\n",
      "dense (Dense)                (None, 64)                2457664   \n",
      "_________________________________________________________________\n",
      "dropout (Dropout)            (None, 64)                0         \n",
      "_________________________________________________________________\n",
      "dense_1 (Dense)              (None, 7)                 455       \n",
      "=================================================================\n",
      "Total params: 2,462,919\n",
      "Trainable params: 2,462,919\n",
      "Non-trainable params: 0\n",
      "_________________________________________________________________\n"
     ]
    }
   ],
   "source": [
    "# Checking the model summary\n",
    "cnn_model.summary()\n",
    "cnn_model.save('cnn_sub_classifier.h5')"
   ]
  },
  {
   "cell_type": "code",
   "execution_count": 15,
   "metadata": {},
   "outputs": [
    {
     "data": {
      "image/png": "[encoded data removed]",
      "text/plain": [
       "<Figure size 864x576 with 1 Axes>"
      ]
     },
     "metadata": {
      "needs_background": "light"
     },
     "output_type": "display_data"
    }
   ],
   "source": [
    "train_loss = history.history['loss']\n",
    "test_loss = history.history['val_loss']\n",
    "\n",
    "\n",
    "plt.figure(figsize=(12, 8))\n",
    "\n",
    "plt.plot(train_loss, label='Training Loss', color='blue')\n",
    "plt.plot(test_loss, label='Testing Loss', color='red')\n",
    "\n",
    "plt.title('Training and Testing Loss by Epoch', fontsize = 25)\n",
    "plt.xlabel('Epoch', fontsize = 18)\n",
    "plt.ylabel('Categorical Crossentropy', fontsize = 18)\n",
    "plt.xticks(range(1,11), range(1,11))\n",
    "\n",
    "plt.legend(fontsize = 18);"
   ]
  },
  {
   "cell_type": "code",
   "execution_count": 16,
   "metadata": {},
   "outputs": [
    {
     "name": "stdout",
     "output_type": "stream",
     "text": [
      "5/5 [==============================] - 1s 223ms/step\n"
     ]
    }
   ],
   "source": [
    "predictions = cnn_model.predict(X_test, verbose=1)"
   ]
  },
  {
   "cell_type": "markdown",
   "metadata": {},
   "source": [
    "## Confusion Matrix"
   ]
  },
  {
   "cell_type": "code",
   "execution_count": 17,
   "metadata": {},
   "outputs": [],
   "source": [
    "# List of a subset of the genres\n",
    "genre_labels = {\n",
    "    0:'jazz',\n",
    "    1:'hiphop',\n",
    "    2:'country',\n",
    "    3:'metal',\n",
    "    4:'classical',\n",
    "    5:'disco',\n",
    "    6:'pop'\n",
    "}"
   ]
  },
  {
   "cell_type": "code",
   "execution_count": 18,
   "metadata": {},
   "outputs": [],
   "source": [
    "from sklearn.metrics import confusion_matrix\n",
    "\n",
    "\n",
    "conf_matrix = confusion_matrix(np.argmax(y_test, 1), np.argmax(predictions, 1))\n",
    "confusion_df = pd.DataFrame(conf_matrix)\n",
    "confusion_df = confusion_df.rename(columns=genre_labels)\n",
    "confusion_df.index = confusion_df.columns\n",
    "\n",
    "\n"
   ]
  },
  {
   "cell_type": "code",
   "execution_count": 19,
   "metadata": {},
   "outputs": [
    {
     "data": {
      "text/plain": [
       "(7.0, 0)"
      ]
     },
     "execution_count": 19,
     "metadata": {},
     "output_type": "execute_result"
    },
    {
     "data": {
      "image/png": "[encoded data removed]",
      "text/plain": [
       "<Figure size 1080x360 with 2 Axes>"
      ]
     },
     "metadata": {
      "needs_background": "light"
     },
     "output_type": "display_data"
    }
   ],
   "source": [
    "import seaborn as sns\n",
    "\n",
    "plt.figure(figsize= (15,5))\n",
    "sns.set(font_scale = 2);\n",
    "ax = sns.heatmap(confusion_df, annot=True,cmap='YlGnBu');\n",
    "ax.set(xlabel='Predicted Values', ylabel='Actual Values');\n",
    "\n",
    "ax.set_ylim(7.0, 0)\n",
    "\n"
   ]
  }
 ],
 "metadata": {
  "kernelspec": {
   "display_name": "Python 3",
   "language": "python",
   "name": "python3"
  },
  "language_info": {
   "codemirror_mode": {
    "name": "ipython",
    "version": 3
   },
   "file_extension": ".py",
   "mimetype": "text/x-python",
   "name": "python",
   "nbconvert_exporter": "python",
   "pygments_lexer": "ipython3",
   "version": "3.7.4"
  }
 },
 "nbformat": 4,
 "nbformat_minor": 2
}
