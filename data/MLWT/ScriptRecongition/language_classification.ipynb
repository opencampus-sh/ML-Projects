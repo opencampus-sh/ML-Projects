{
  "nbformat": 4,
  "nbformat_minor": 0,
  "metadata": {
    "accelerator": "GPU",
    "colab": {
      "name": "Copy_of_Untitled4.ipynb",
      "provenance": [],
      "collapsed_sections": [
        "dTRDItpRKtzk",
        "xZZcgr1Ef1Dg",
        "JrH5iESt4zVz"
      ],
      "toc_visible": true
    },
    "kernelspec": {
      "display_name": "Python 3",
      "language": "python",
      "name": "python3"
    },
    "language_info": {
      "codemirror_mode": {
        "name": "ipython",
        "version": 3
      },
      "file_extension": ".py",
      "mimetype": "text/x-python",
      "name": "python",
      "nbconvert_exporter": "python",
      "pygments_lexer": "ipython3",
      "version": "3.7.7"
    }
  },
  "cells": [
    {
      "cell_type": "markdown",
      "metadata": {
        "id": "SKqpenoVEb5U"
      },
      "source": [
        "# **Project Title :**   Script Recognition via Neural Network(s)"
      ]
    },
    {
      "cell_type": "markdown",
      "metadata": {
        "id": "vdO34HfHCtYT"
      },
      "source": [
        "# **Team Memebers**\n",
        "\n",
        "\n",
        "*   Sebastian Koch \n",
        "*   Manpreet Singh\n",
        "*   Adnan Nooruddin\n",
        "*   Rahima Akter\n"
      ]
    },
    {
      "cell_type": "markdown",
      "metadata": {
        "id": "jKRREB0KMQ6E"
      },
      "source": [
        "# **CNN** (Convolutional Neural Networks)"
      ]
    },
    {
      "cell_type": "markdown",
      "metadata": {
        "id": "dTRDItpRKtzk"
      },
      "source": [
        "# Two Languages classification "
      ]
    },
    {
      "cell_type": "code",
      "metadata": {
        "id": "Fy_Fb0b6KySe"
      },
      "source": [
        "#------------------------------------------------\n",
        "# Load Libraries\n",
        "#------------------------------------------------\n",
        "import os\n",
        "import zipfile\n",
        "import tensorflow as tf\n",
        "from tensorflow.keras.optimizers import RMSprop\n",
        "from tensorflow.keras.preprocessing.image import ImageDataGenerator\n",
        "import random\n",
        "import shutil\n",
        "from shutil import copyfile "
      ],
      "execution_count": null,
      "outputs": []
    },
    {
      "cell_type": "code",
      "metadata": {
        "id": "6YVI_Ta_O2XK"
      },
      "source": [
        "#------------------------------------------------\n",
        "# Upload Lat_Sin.zip in Colab sample_data\n",
        "#------------------------------------------------\n",
        "local_zip = '/content/sample_data/Lat_Sin.zip'\n",
        "zip_ref = zipfile.ZipFile(local_zip, 'r')\n",
        "zip_ref.extractall('/tmp')\n",
        "zip_ref.close()  "
      ],
      "execution_count": null,
      "outputs": []
    },
    {
      "cell_type": "code",
      "metadata": {
        "id": "Fg9DkZTqjeaa"
      },
      "source": [
        "try:\n",
        "    #-------------------------------------\n",
        "    #Create folder for testing and trining\n",
        "    #--------------------------------------\n",
        "    os.mkdir('/tmp/Lat_v_Sin') \n",
        "    os.mkdir('/tmp/Lat_v_Sin/training')  \n",
        "    os.mkdir('/tmp/Lat_v_Sin/training/lat') \n",
        "    os.mkdir('/tmp/Lat_v_Sin/training/sin')  \n",
        "    os.mkdir('/tmp/Lat_v_Sin/testing') \n",
        "    os.mkdir('/tmp/Lat_v_Sin/testing/lat')  \n",
        "    os.mkdir('/tmp/Lat_v_Sin/testing/sin') \n",
        "except OSError:\n",
        "    pass\n",
        "\n",
        "#---------------------------------------------------------------------------\n",
        "# Define a Callback class that stops training once accuracy reaches 90.0%\n",
        "#---------------------------------------------------------------------------\n",
        "class myCallback(tf.keras.callbacks.Callback):\n",
        "    def on_epoch_end(self, epoch, logs=None):\n",
        "        if(logs['acc']>0.90):\n",
        "            print(\"\\nReached 90.0% accuracy so cancelling training!\")\n",
        "            self.model.stop_training = True\n",
        "\n",
        "#--------------------------------------------------------------------------\n",
        "# Define a split data function that split item for testing and training \n",
        "#--------------------------------------------------------------------------\n",
        "def split_data(SOURCE, TRAINING, TESTING, SPLIT_SIZE):\n",
        "    file_contents=os.listdir(SOURCE)\n",
        "    files=[]\n",
        "    for i in range(len(file_contents)):\n",
        "        if(os.path.getsize(SOURCE+file_contents[i])==0):\n",
        "            print(file_contents[i]+\" is zero length, so ignoring\")\n",
        "        else:\n",
        "            files.append(file_contents[i])\n",
        "            \n",
        "    training_length=int(len(files)*SPLIT_SIZE)\n",
        "    testing_length=int(len(files)-training_length)\n",
        "    shuffled_set=random.sample(files,len(files))\n",
        "    training_set=shuffled_set[0:training_length]\n",
        "    testing_set=shuffled_set[-testing_length:]\n",
        "    for file in training_set:\n",
        "        copyfile(SOURCE+file,TRAINING+file)\n",
        "    for file in testing_set:\n",
        "        copyfile(SOURCE+file,TESTING+file)    \n",
        "\n",
        "\n",
        "LAT_SOURCE_DIR = \"/tmp/Lat_Sin/Lat/\"\n",
        "TRAINING_LAT_DIR = \"/tmp/Lat_v_Sin/training/sin/\"\n",
        "TESTING_LAT_DIR = \"/tmp/Lat_v_Sin/testing/sin/\"\n",
        "SIN_SOURCE_DIR = \"/tmp/Lat_Sin/Lat/\"\n",
        "TRAINING_SIN_DIR = \"/tmp/Lat_v_Sin/training/lat/\"\n",
        "TESTING_SIN_DIR = \"/tmp/Lat_v_Sin/testing/lat/\"\n",
        "\n",
        "split_size = .833\n",
        "split_data(LAT_SOURCE_DIR, TRAINING_LAT_DIR, TESTING_LAT_DIR, split_size)\n",
        "split_data(SIN_SOURCE_DIR, TRAINING_SIN_DIR, TESTING_SIN_DIR, split_size)        "
      ],
      "execution_count": null,
      "outputs": []
    },
    {
      "cell_type": "code",
      "metadata": {
        "colab": {
          "base_uri": "https://localhost:8080/"
        },
        "id": "jNUhxx4YmVtf",
        "outputId": "8d985dd8-187a-4d94-9725-eed2498a136b"
      },
      "source": [
        "#------------------------------------------------\n",
        "# print How many image for testing and training\n",
        "#------------------------------------------------\n",
        "print(len(os.listdir('/tmp/Lat_v_Sin/training/sin/')))\n",
        "print(len(os.listdir('/tmp/Lat_v_Sin/testing/sin/')))\n",
        "\n",
        "#------------------------------------------------\n",
        "# 3 convolution layers, 1 flatten and dense layer\n",
        "#------------------------------------------------\n",
        "model = tf.keras.models.Sequential([\n",
        "  tf.keras.layers.Conv2D(16,(3,3),activation='relu',input_shape=(150,150,3)),\n",
        "  tf.keras.layers.MaxPooling2D(2,2),\n",
        "  tf.keras.layers.Conv2D(32,(3,3),activation='tanh'),\n",
        "  tf.keras.layers.MaxPooling2D(2,2),\n",
        "  tf.keras.layers.Conv2D(64,(3,3),activation='tanh'),\n",
        "  tf.keras.layers.MaxPooling2D(2,2),\n",
        "  tf.keras.layers.Flatten(), \n",
        "  tf.keras.layers.Dense(1,activation='sigmoid')\n",
        "])\n",
        "\n",
        "model.compile(optimizer=RMSprop(lr=0.01), loss='binary_crossentropy', metrics=['acc'])\n",
        "\n",
        "\n",
        "TRAINING_DIR = '/tmp/Lat_v_Sin/training/' \n",
        "train_datagen = ImageDataGenerator(rescale=1/255)\n",
        "# TRAIN GENERATOR.\n",
        "train_generator = train_datagen.flow_from_directory(TRAINING_DIR,batch_size=20,\n",
        "                                                    class_mode='binary',\n",
        "                                                    target_size=(150, 150))\n",
        "\n",
        "VALIDATION_DIR = '/tmp/Lat_v_Sin/testing/' \n",
        "validation_datagen = ImageDataGenerator(rescale=1/255) \n",
        "# VALIDATION GENERATOR.\n",
        "validation_generator = validation_datagen.flow_from_directory(VALIDATION_DIR,batch_size=15,\n",
        "                                                    class_mode='binary',\n",
        "                                                    target_size=(150, 150)) "
      ],
      "execution_count": null,
      "outputs": [
        {
          "output_type": "stream",
          "text": [
            "299\n",
            "129\n",
            "Found 596 images belonging to 2 classes.\n",
            "Found 249 images belonging to 2 classes.\n"
          ],
          "name": "stdout"
        }
      ]
    },
    {
      "cell_type": "code",
      "metadata": {
        "id": "X8GndBOlakC8",
        "colab": {
          "base_uri": "https://localhost:8080/"
        },
        "outputId": "aaae8b89-e166-4824-ee59-08f4f295763e"
      },
      "source": [
        "callbacks = myCallback()\n",
        "history = model.fit(train_generator,\n",
        "                    validation_data = validation_generator, \n",
        "                    steps_per_epoch=15,\n",
        "                    epochs = 100, \n",
        "                    verbose = 1, \n",
        "                    validation_steps=3,\n",
        "                    callbacks=[callbacks])"
      ],
      "execution_count": null,
      "outputs": [
        {
          "output_type": "stream",
          "text": [
            "Epoch 1/100\n",
            "15/15 [==============================] - 1s 46ms/step - loss: 28.4150 - acc: 0.4884 - val_loss: 0.8099 - val_acc: 0.5111\n",
            "Epoch 2/100\n",
            "15/15 [==============================] - 1s 36ms/step - loss: 0.8200 - acc: 0.4560 - val_loss: 0.6847 - val_acc: 0.5778\n",
            "Epoch 3/100\n",
            "15/15 [==============================] - 1s 35ms/step - loss: 0.7139 - acc: 0.4431 - val_loss: 0.7058 - val_acc: 0.4889\n",
            "Epoch 4/100\n",
            "15/15 [==============================] - 1s 35ms/step - loss: 0.8665 - acc: 0.4992 - val_loss: 2.9077 - val_acc: 0.4889\n",
            "Epoch 5/100\n",
            "15/15 [==============================] - 1s 35ms/step - loss: 3.4854 - acc: 0.4713 - val_loss: 0.6886 - val_acc: 0.5556\n",
            "Epoch 6/100\n",
            "15/15 [==============================] - 1s 34ms/step - loss: 0.7052 - acc: 0.4851 - val_loss: 0.6930 - val_acc: 0.4667\n",
            "Epoch 7/100\n",
            "15/15 [==============================] - 1s 35ms/step - loss: 0.6950 - acc: 0.4926 - val_loss: 0.6924 - val_acc: 0.5111\n",
            "Epoch 8/100\n",
            "15/15 [==============================] - 1s 36ms/step - loss: 6.3884 - acc: 0.4548 - val_loss: 1.3625 - val_acc: 0.4000\n",
            "Epoch 9/100\n",
            "15/15 [==============================] - 1s 44ms/step - loss: 0.7633 - acc: 0.5455 - val_loss: 0.6948 - val_acc: 0.5111\n",
            "Epoch 10/100\n",
            "15/15 [==============================] - 1s 36ms/step - loss: 0.7180 - acc: 0.4916 - val_loss: 0.6813 - val_acc: 0.5778\n",
            "Epoch 11/100\n",
            "15/15 [==============================] - 1s 39ms/step - loss: 0.6984 - acc: 0.4928 - val_loss: 0.6987 - val_acc: 0.4667\n",
            "Epoch 12/100\n",
            "15/15 [==============================] - 1s 36ms/step - loss: 0.6957 - acc: 0.4913 - val_loss: 0.7167 - val_acc: 0.5333\n",
            "Epoch 13/100\n",
            "15/15 [==============================] - 1s 35ms/step - loss: 7.5051 - acc: 0.4683 - val_loss: 0.7466 - val_acc: 0.4667\n",
            "Epoch 14/100\n",
            "15/15 [==============================] - 1s 36ms/step - loss: 0.6921 - acc: 0.5638 - val_loss: 0.7004 - val_acc: 0.4889\n",
            "Epoch 15/100\n",
            "15/15 [==============================] - 1s 34ms/step - loss: 0.8073 - acc: 0.5177 - val_loss: 4.1060 - val_acc: 0.5556\n",
            "Epoch 16/100\n",
            "15/15 [==============================] - 1s 34ms/step - loss: 6.1645 - acc: 0.5457 - val_loss: 0.7502 - val_acc: 0.3778\n",
            "Epoch 17/100\n",
            "15/15 [==============================] - 1s 37ms/step - loss: 0.7055 - acc: 0.4741 - val_loss: 0.6919 - val_acc: 0.5333\n",
            "Epoch 18/100\n",
            "15/15 [==============================] - 1s 36ms/step - loss: 0.8281 - acc: 0.5139 - val_loss: 23.7644 - val_acc: 0.6000\n",
            "Epoch 19/100\n",
            "15/15 [==============================] - 1s 36ms/step - loss: 11.8695 - acc: 0.4381 - val_loss: 0.8136 - val_acc: 0.5111\n",
            "Epoch 20/100\n",
            "15/15 [==============================] - 1s 35ms/step - loss: 0.7487 - acc: 0.5351 - val_loss: 0.7214 - val_acc: 0.4000\n",
            "Epoch 21/100\n",
            "15/15 [==============================] - 1s 36ms/step - loss: 0.6932 - acc: 0.5527 - val_loss: 0.6963 - val_acc: 0.4889\n",
            "Epoch 22/100\n",
            "15/15 [==============================] - 1s 35ms/step - loss: 2.5149 - acc: 0.5335 - val_loss: 0.7413 - val_acc: 0.4444\n",
            "Epoch 23/100\n",
            "15/15 [==============================] - 1s 36ms/step - loss: 0.7750 - acc: 0.4476 - val_loss: 0.6935 - val_acc: 0.5111\n",
            "Epoch 24/100\n",
            "15/15 [==============================] - 1s 35ms/step - loss: 0.7131 - acc: 0.4154 - val_loss: 0.6930 - val_acc: 0.5111\n",
            "Epoch 25/100\n",
            "15/15 [==============================] - 1s 37ms/step - loss: 0.6891 - acc: 0.5591 - val_loss: 0.6935 - val_acc: 0.4444\n",
            "Epoch 26/100\n",
            "15/15 [==============================] - 1s 37ms/step - loss: 3.2351 - acc: 0.4783 - val_loss: 1.2226 - val_acc: 0.4444\n",
            "Epoch 27/100\n",
            "15/15 [==============================] - 1s 37ms/step - loss: 1.0044 - acc: 0.4685 - val_loss: 0.7232 - val_acc: 0.4444\n",
            "Epoch 28/100\n",
            "15/15 [==============================] - 1s 37ms/step - loss: 0.7030 - acc: 0.4771 - val_loss: 0.6973 - val_acc: 0.5333\n",
            "Epoch 29/100\n",
            "15/15 [==============================] - 1s 35ms/step - loss: 0.7038 - acc: 0.4803 - val_loss: 0.6945 - val_acc: 0.4667\n",
            "Epoch 30/100\n",
            "15/15 [==============================] - 1s 34ms/step - loss: 3.2674 - acc: 0.4244 - val_loss: 0.6936 - val_acc: 0.4444\n",
            "Epoch 31/100\n",
            "15/15 [==============================] - 1s 34ms/step - loss: 0.6887 - acc: 0.5368 - val_loss: 0.7141 - val_acc: 0.4444\n",
            "Epoch 32/100\n",
            "15/15 [==============================] - 1s 36ms/step - loss: 0.7040 - acc: 0.4466 - val_loss: 0.6894 - val_acc: 0.5778\n",
            "Epoch 33/100\n",
            "15/15 [==============================] - 1s 36ms/step - loss: 0.6942 - acc: 0.4834 - val_loss: 0.6942 - val_acc: 0.4889\n",
            "Epoch 34/100\n",
            "15/15 [==============================] - 1s 37ms/step - loss: 4.1977 - acc: 0.4387 - val_loss: 0.6935 - val_acc: 0.4000\n",
            "Epoch 35/100\n",
            "15/15 [==============================] - 1s 36ms/step - loss: 0.6994 - acc: 0.4941 - val_loss: 0.7134 - val_acc: 0.4222\n",
            "Epoch 36/100\n",
            "15/15 [==============================] - 1s 36ms/step - loss: 0.6962 - acc: 0.5151 - val_loss: 0.7632 - val_acc: 0.4667\n",
            "Epoch 37/100\n",
            "15/15 [==============================] - 1s 36ms/step - loss: 3.6546 - acc: 0.5427 - val_loss: 0.7016 - val_acc: 0.4889\n",
            "Epoch 38/100\n",
            "15/15 [==============================] - 1s 36ms/step - loss: 0.7174 - acc: 0.4925 - val_loss: 0.6910 - val_acc: 0.5333\n",
            "Epoch 39/100\n",
            "15/15 [==============================] - 1s 35ms/step - loss: 0.6945 - acc: 0.4951 - val_loss: 0.6926 - val_acc: 0.5333\n",
            "Epoch 40/100\n",
            "15/15 [==============================] - 1s 35ms/step - loss: 0.7655 - acc: 0.4721 - val_loss: 1.0906 - val_acc: 0.5111\n",
            "Epoch 41/100\n",
            "15/15 [==============================] - 1s 34ms/step - loss: 14.9150 - acc: 0.4694 - val_loss: 0.9462 - val_acc: 0.4667\n",
            "Epoch 42/100\n",
            "15/15 [==============================] - 1s 35ms/step - loss: 0.7584 - acc: 0.5175 - val_loss: 0.6993 - val_acc: 0.4667\n",
            "Epoch 43/100\n",
            "15/15 [==============================] - 1s 35ms/step - loss: 0.6963 - acc: 0.5013 - val_loss: 0.6951 - val_acc: 0.4444\n",
            "Epoch 44/100\n",
            "15/15 [==============================] - 1s 35ms/step - loss: 1.0060 - acc: 0.4466 - val_loss: 12.6089 - val_acc: 0.4444\n",
            "Epoch 45/100\n",
            "15/15 [==============================] - 1s 34ms/step - loss: 3.5208 - acc: 0.5272 - val_loss: 0.6949 - val_acc: 0.5111\n",
            "Epoch 46/100\n",
            "15/15 [==============================] - 1s 34ms/step - loss: 0.7075 - acc: 0.4918 - val_loss: 0.6913 - val_acc: 0.5333\n",
            "Epoch 47/100\n",
            "15/15 [==============================] - 1s 35ms/step - loss: 0.6930 - acc: 0.5224 - val_loss: 0.7088 - val_acc: 0.4667\n",
            "Epoch 48/100\n",
            "15/15 [==============================] - 1s 35ms/step - loss: 3.2255 - acc: 0.5043 - val_loss: 0.7611 - val_acc: 0.4889\n",
            "Epoch 49/100\n",
            "15/15 [==============================] - 1s 34ms/step - loss: 0.7172 - acc: 0.5347 - val_loss: 0.8998 - val_acc: 0.3556\n",
            "Epoch 50/100\n",
            "15/15 [==============================] - 1s 34ms/step - loss: 0.7399 - acc: 0.5414 - val_loss: 0.6926 - val_acc: 0.5333\n",
            "Epoch 51/100\n",
            "15/15 [==============================] - 1s 34ms/step - loss: 0.7003 - acc: 0.4774 - val_loss: 0.8750 - val_acc: 0.5111\n",
            "Epoch 52/100\n",
            "15/15 [==============================] - 1s 35ms/step - loss: 11.6271 - acc: 0.4977 - val_loss: 0.8031 - val_acc: 0.4222\n",
            "Epoch 53/100\n",
            "15/15 [==============================] - 1s 41ms/step - loss: 0.7931 - acc: 0.4804 - val_loss: 0.6881 - val_acc: 0.5556\n",
            "Epoch 54/100\n",
            "15/15 [==============================] - 1s 34ms/step - loss: 0.7029 - acc: 0.5329 - val_loss: 0.7540 - val_acc: 0.4667\n",
            "Epoch 55/100\n",
            "15/15 [==============================] - 1s 34ms/step - loss: 5.1129 - acc: 0.5393 - val_loss: 0.7225 - val_acc: 0.4000\n",
            "Epoch 56/100\n",
            "15/15 [==============================] - 1s 35ms/step - loss: 0.6946 - acc: 0.5258 - val_loss: 0.6910 - val_acc: 0.5333\n",
            "Epoch 57/100\n",
            "15/15 [==============================] - 1s 34ms/step - loss: 0.6983 - acc: 0.4576 - val_loss: 0.7038 - val_acc: 0.4222\n",
            "Epoch 58/100\n",
            "15/15 [==============================] - 1s 35ms/step - loss: 2.2287 - acc: 0.5098 - val_loss: 1.2884 - val_acc: 0.4444\n",
            "Epoch 59/100\n",
            "15/15 [==============================] - 1s 34ms/step - loss: 1.4667 - acc: 0.4980 - val_loss: 0.8871 - val_acc: 0.3333\n",
            "Epoch 60/100\n",
            "15/15 [==============================] - 1s 34ms/step - loss: 0.7264 - acc: 0.4942 - val_loss: 0.7074 - val_acc: 0.4889\n",
            "Epoch 61/100\n",
            "15/15 [==============================] - 1s 35ms/step - loss: 0.6978 - acc: 0.5065 - val_loss: 0.6873 - val_acc: 0.5556\n",
            "Epoch 62/100\n",
            "15/15 [==============================] - 1s 35ms/step - loss: 0.6953 - acc: 0.5098 - val_loss: 0.6882 - val_acc: 0.5556\n",
            "Epoch 63/100\n",
            "15/15 [==============================] - 1s 34ms/step - loss: 6.0979 - acc: 0.4772 - val_loss: 0.7549 - val_acc: 0.4222\n",
            "Epoch 64/100\n",
            "15/15 [==============================] - 1s 35ms/step - loss: 0.7308 - acc: 0.4885 - val_loss: 0.6939 - val_acc: 0.4667\n",
            "Epoch 65/100\n",
            "15/15 [==============================] - 1s 36ms/step - loss: 0.6931 - acc: 0.5642 - val_loss: 0.7029 - val_acc: 0.4667\n",
            "Epoch 66/100\n",
            "15/15 [==============================] - 1s 35ms/step - loss: 0.6850 - acc: 0.5675 - val_loss: 0.6931 - val_acc: 0.5111\n",
            "Epoch 67/100\n",
            "15/15 [==============================] - 1s 36ms/step - loss: 3.0516 - acc: 0.4842 - val_loss: 0.6917 - val_acc: 0.5333\n",
            "Epoch 68/100\n",
            "15/15 [==============================] - 1s 35ms/step - loss: 0.7164 - acc: 0.4946 - val_loss: 0.7004 - val_acc: 0.5111\n",
            "Epoch 69/100\n",
            "15/15 [==============================] - 1s 34ms/step - loss: 0.6958 - acc: 0.5351 - val_loss: 0.7015 - val_acc: 0.4889\n",
            "Epoch 70/100\n",
            "15/15 [==============================] - 1s 36ms/step - loss: 0.6929 - acc: 0.5272 - val_loss: 0.6872 - val_acc: 0.5556\n",
            "Epoch 71/100\n",
            "15/15 [==============================] - 1s 36ms/step - loss: 0.7627 - acc: 0.5421 - val_loss: 2.0451 - val_acc: 0.5111\n",
            "Epoch 72/100\n",
            "15/15 [==============================] - 1s 35ms/step - loss: 6.7976 - acc: 0.5529 - val_loss: 0.7614 - val_acc: 0.4222\n",
            "Epoch 73/100\n",
            "15/15 [==============================] - 1s 36ms/step - loss: 0.7022 - acc: 0.4805 - val_loss: 0.7103 - val_acc: 0.4667\n",
            "Epoch 74/100\n",
            "15/15 [==============================] - 1s 36ms/step - loss: 0.7058 - acc: 0.4582 - val_loss: 0.6983 - val_acc: 0.4889\n",
            "Epoch 75/100\n",
            "15/15 [==============================] - 1s 35ms/step - loss: 5.8007 - acc: 0.4206 - val_loss: 0.7643 - val_acc: 0.3556\n",
            "Epoch 76/100\n",
            "15/15 [==============================] - 1s 37ms/step - loss: 0.7123 - acc: 0.5628 - val_loss: 0.7075 - val_acc: 0.4000\n",
            "Epoch 77/100\n",
            "15/15 [==============================] - 1s 36ms/step - loss: 0.6982 - acc: 0.4907 - val_loss: 0.7006 - val_acc: 0.4667\n",
            "Epoch 78/100\n",
            "15/15 [==============================] - 1s 36ms/step - loss: 0.7677 - acc: 0.5009 - val_loss: 19.4322 - val_acc: 0.5333\n",
            "Epoch 79/100\n",
            "15/15 [==============================] - 1s 36ms/step - loss: 13.6345 - acc: 0.4859 - val_loss: 0.7189 - val_acc: 0.5111\n",
            "Epoch 80/100\n",
            "15/15 [==============================] - 1s 37ms/step - loss: 0.7596 - acc: 0.4515 - val_loss: 0.7633 - val_acc: 0.3556\n",
            "Epoch 81/100\n",
            "15/15 [==============================] - 1s 37ms/step - loss: 0.7228 - acc: 0.4381 - val_loss: 0.8978 - val_acc: 0.4444\n",
            "Epoch 82/100\n",
            "15/15 [==============================] - 1s 37ms/step - loss: 8.5136 - acc: 0.4594 - val_loss: 0.7579 - val_acc: 0.3778\n",
            "Epoch 83/100\n",
            "15/15 [==============================] - 1s 36ms/step - loss: 0.7746 - acc: 0.4503 - val_loss: 0.6790 - val_acc: 0.6000\n",
            "Epoch 84/100\n",
            "15/15 [==============================] - 1s 35ms/step - loss: 0.7216 - acc: 0.4626 - val_loss: 0.6929 - val_acc: 0.5111\n",
            "Epoch 85/100\n",
            "15/15 [==============================] - 1s 37ms/step - loss: 0.7029 - acc: 0.4669 - val_loss: 0.6876 - val_acc: 0.5556\n",
            "Epoch 86/100\n",
            "15/15 [==============================] - 1s 35ms/step - loss: 3.9565 - acc: 0.5261 - val_loss: 0.6870 - val_acc: 0.5556\n",
            "Epoch 87/100\n",
            "15/15 [==============================] - 1s 35ms/step - loss: 0.7747 - acc: 0.4669 - val_loss: 0.6933 - val_acc: 0.4667\n",
            "Epoch 88/100\n",
            "15/15 [==============================] - 1s 35ms/step - loss: 0.7016 - acc: 0.5137 - val_loss: 0.7015 - val_acc: 0.3778\n",
            "Epoch 89/100\n",
            "15/15 [==============================] - 1s 34ms/step - loss: 0.6983 - acc: 0.4813 - val_loss: 0.7042 - val_acc: 0.4444\n",
            "Epoch 90/100\n",
            "15/15 [==============================] - 1s 35ms/step - loss: 4.9534 - acc: 0.4827 - val_loss: 0.6971 - val_acc: 0.5111\n",
            "Epoch 91/100\n",
            "15/15 [==============================] - 1s 34ms/step - loss: 0.7091 - acc: 0.5494 - val_loss: 0.6730 - val_acc: 0.6000\n",
            "Epoch 92/100\n",
            "15/15 [==============================] - 1s 33ms/step - loss: 0.7063 - acc: 0.4753 - val_loss: 0.6870 - val_acc: 0.5556\n",
            "Epoch 93/100\n",
            "15/15 [==============================] - 1s 35ms/step - loss: 1.7471 - acc: 0.4967 - val_loss: 3.5555 - val_acc: 0.4000\n",
            "Epoch 94/100\n",
            "15/15 [==============================] - 1s 34ms/step - loss: 1.1311 - acc: 0.4900 - val_loss: 0.6854 - val_acc: 0.5778\n",
            "Epoch 95/100\n",
            "15/15 [==============================] - 1s 35ms/step - loss: 0.6986 - acc: 0.5063 - val_loss: 0.7700 - val_acc: 0.4222\n",
            "Epoch 96/100\n",
            "15/15 [==============================] - 1s 34ms/step - loss: 0.7609 - acc: 0.4634 - val_loss: 7.2920 - val_acc: 0.5333\n",
            "Epoch 97/100\n",
            "15/15 [==============================] - 1s 35ms/step - loss: 10.8214 - acc: 0.5174 - val_loss: 0.6743 - val_acc: 0.6889\n",
            "Epoch 98/100\n",
            "15/15 [==============================] - 1s 36ms/step - loss: 0.7010 - acc: 0.4620 - val_loss: 0.7266 - val_acc: 0.4444\n",
            "Epoch 99/100\n",
            "15/15 [==============================] - 1s 36ms/step - loss: 0.6840 - acc: 0.5460 - val_loss: 0.9996 - val_acc: 0.4667\n",
            "Epoch 100/100\n",
            "15/15 [==============================] - 1s 35ms/step - loss: 12.0022 - acc: 0.4903 - val_loss: 0.9890 - val_acc: 0.4222\n"
          ],
          "name": "stdout"
        }
      ]
    },
    {
      "cell_type": "code",
      "metadata": {
        "id": "cYngJBaharZZ",
        "colab": {
          "base_uri": "https://localhost:8080/",
          "height": 545
        },
        "outputId": "b4fe0552-8904-4c5c-b3ec-2e82ad23fb18"
      },
      "source": [
        "# PLOT LOSS AND ACCURACY\n",
        "%matplotlib inline\n",
        "\n",
        "import matplotlib.image  as mpimg\n",
        "import matplotlib.pyplot as plt\n",
        "\n",
        "#-----------------------------------------------------------\n",
        "# Retrieve a list of list results on training and test data\n",
        "# sets for each training epoch\n",
        "#-----------------------------------------------------------\n",
        "acc=history.history['acc']\n",
        "val_acc=history.history['val_acc']\n",
        "loss=history.history['loss']\n",
        "val_loss=history.history['val_loss']\n",
        "\n",
        "epochs=range(len(acc))  \n",
        "\n",
        "#------------------------------------------------\n",
        "# Plot training and validation accuracy per epoch\n",
        "#------------------------------------------------\n",
        "plt.plot(epochs, acc, 'r', \"Training Accuracy\")\n",
        "plt.plot(epochs, val_acc, 'b', \"Validation Accuracy\")\n",
        "plt.title('Training and validation accuracy')\n",
        "plt.figure()\n",
        "\n",
        "#------------------------------------------------\n",
        "# Plot training and validation loss per epoch\n",
        "#------------------------------------------------\n",
        "plt.plot(epochs, loss, 'r', \"Training Loss\")\n",
        "plt.plot(epochs, val_loss, 'b', \"Validation Loss\")\n",
        "\n",
        "\n",
        "plt.title('Training and validation loss')\n",
        "\n",
        "# Desired output. Charts with training and validation metrics. \n",
        "\n",
        "#------------------------------------------------\n",
        "# Load Libraries for testing\n",
        "#------------------------------------------------\n",
        "import numpy as np\n",
        "from google.colab import files\n",
        "from keras.preprocessing import image"
      ],
      "execution_count": null,
      "outputs": [
        {
          "output_type": "display_data",
          "data": {
            "image/png": "[encoded data removed]",
            "text/plain": [
              "<Figure size 432x288 with 1 Axes>"
            ]
          },
          "metadata": {
            "tags": [],
            "needs_background": "light"
          }
        },
        {
          "output_type": "display_data",
          "data": {
            "image/png": "[encoded data removed]",
            "text/plain": [
              "<Figure size 432x288 with 1 Axes>"
            ]
          },
          "metadata": {
            "tags": [],
            "needs_background": "light"
          }
        }
      ]
    },
    {
      "cell_type": "code",
      "metadata": {
        "id": "TFN2mC9pbzEH",
        "colab": {
          "resources": {
            "http://localhost:8080/nbextensions/google.colab/files.js": {
              "data": "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",
              "ok": true,
              "headers": [
                [
                  "content-type",
                  "application/javascript"
                ]
              ],
              "status": 200,
              "status_text": "OK"
            }
          },
          "base_uri": "https://localhost:8080/",
          "height": 38
        },
        "outputId": "19c4b4cf-a5b5-4d6e-abbe-d305bef8a7b2"
      },
      "source": [
        "uploaded = files.upload()\n",
        "\n",
        "for fn in uploaded.keys():\n",
        " \n",
        "  # predicting images\n",
        "  path = fn\n",
        "  img = image.load_img(path, target_size=(150, 150))\n",
        "  x = image.img_to_array(img)\n",
        "  x = np.expand_dims(x, axis=0)\n",
        "\n",
        "  images = np.vstack([x])\n",
        "  classes = model.predict(images, batch_size=15)\n",
        "  print(fn)  \n",
        "  #------------------------------------------------\n",
        "  #LAT (...).png  [[0. 1.]] \n",
        "  #SIN (...).png  [[1. 0.]] \n",
        "  #------------------------------------------------\n",
        "  print(classes)"
      ],
      "execution_count": null,
      "outputs": [
        {
          "output_type": "display_data",
          "data": {
            "text/html": [
              "\n",
              "     <input type=\"file\" id=\"files-24261c3b-0670-4bae-a55a-7ad498187959\" name=\"files[]\" multiple disabled\n",
              "        style=\"border:none\" />\n",
              "     <output id=\"result-24261c3b-0670-4bae-a55a-7ad498187959\">\n",
              "      Upload widget is only available when the cell has been executed in the\n",
              "      current browser session. Please rerun this cell to enable.\n",
              "      </output>\n",
              "      <script src=\"/nbextensions/google.colab/files.js\"></script> "
            ],
            "text/plain": [
              "<IPython.core.display.HTML object>"
            ]
          },
          "metadata": {
            "tags": []
          }
        }
      ]
    },
    {
      "cell_type": "markdown",
      "metadata": {
        "id": "xZZcgr1Ef1Dg"
      },
      "source": [
        "# Four Languages classification"
      ]
    },
    {
      "cell_type": "code",
      "metadata": {
        "id": "3n9PGsdlglOM"
      },
      "source": [
        "#------------------------------------------------\r\n",
        "# Load Libraries\r\n",
        "#------------------------------------------------\r\n",
        "from google.colab import files\r\n",
        "import numpy as np\r\n",
        "from keras.preprocessing import image_dataset_from_directory\r\n",
        "import matplotlib.pyplot as plt\r\n",
        "import os\r\n",
        "import cv2\r\n",
        "import zipfile"
      ],
      "execution_count": null,
      "outputs": []
    },
    {
      "cell_type": "code",
      "metadata": {
        "colab": {
          "resources": {
            "http://localhost:8080/nbextensions/google.colab/files.js": {
              "data": "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",
              "ok": true,
              "headers": [
                [
                  "content-type",
                  "application/javascript"
                ]
              ],
              "status": 200,
              "status_text": "OK"
            }
          },
          "base_uri": "https://localhost:8080/",
          "height": 73
        },
        "id": "fAB7qydNgtuI",
        "outputId": "88e70968-928e-49fa-a9a2-c0ac900b3252"
      },
      "source": [
        "#------------------------------------------------\r\n",
        "# Upload Zip File, MultiLang.zip\r\n",
        "#------------------------------------------------\r\n",
        "uploaded = files.upload()"
      ],
      "execution_count": null,
      "outputs": [
        {
          "output_type": "display_data",
          "data": {
            "text/html": [
              "\n",
              "     <input type=\"file\" id=\"files-bca6e259-5ea1-4ea9-9830-210e46db369b\" name=\"files[]\" multiple disabled\n",
              "        style=\"border:none\" />\n",
              "     <output id=\"result-bca6e259-5ea1-4ea9-9830-210e46db369b\">\n",
              "      Upload widget is only available when the cell has been executed in the\n",
              "      current browser session. Please rerun this cell to enable.\n",
              "      </output>\n",
              "      <script src=\"/nbextensions/google.colab/files.js\"></script> "
            ],
            "text/plain": [
              "<IPython.core.display.HTML object>"
            ]
          },
          "metadata": {
            "tags": []
          }
        },
        {
          "output_type": "stream",
          "text": [
            "Saving MultiLang.zip to MultiLang.zip\n"
          ],
          "name": "stdout"
        }
      ]
    },
    {
      "cell_type": "code",
      "metadata": {
        "colab": {
          "base_uri": "https://localhost:8080/"
        },
        "id": "ajQXdv52iV-b",
        "outputId": "fe724186-7f6e-430b-9e56-abd0969dffea"
      },
      "source": [
        "local_zip ='/content/MultiLang.zip'\r\n",
        "zip_ref = zipfile.ZipFile(local_zip, 'r')\r\n",
        "zip_ref.extractall('/content/MultiLang')\r\n",
        "zip_ref.close()\r\n",
        "\r\n",
        "Latin_dir = os.path.join('/content/MultiLang/5_for_Keras_Train500_Test100 _ LAT _ SIN _ KYR _ GEO/Training/LAT')\r\n",
        "Geo_dir = os.path.join('/content/MultiLang/5_for_Keras_Train500_Test100 _ LAT _ SIN _ KYR _ GEO/Training/GEO')\r\n",
        "Kyr_dir = os.path.join('/content/MultiLang/5_for_Keras_Train500_Test100 _ LAT _ SIN _ KYR _ GEO/Training/KYR')\r\n",
        "Chi_dir = os.path.join('/content/MultiLang/5_for_Keras_Train500_Test100 _ LAT _ SIN _ KYR _ GEO/Training/SIN')\r\n",
        "\r\n",
        "#---------------------------------------------------\r\n",
        "# Print number of images\r\n",
        "#---------------------------------------------------\r\n",
        "print('total training Latin images:', len(os.listdir(Latin_dir)))\r\n",
        "print('total training Geo images:', len(os.listdir(Geo_dir)))\r\n",
        "print('total training KYR images:', len(os.listdir(Kyr_dir)))\r\n",
        "print('total training Chi images:', len(os.listdir(Chi_dir)))\r\n",
        "\r\n",
        "#---------------------------------------------------\r\n",
        "# Print 10 training images name per languages\r\n",
        "#---------------------------------------------------\r\n",
        "Latin_files = os.listdir(Latin_dir)\r\n",
        "print(Latin_files[:10])\r\n",
        "\r\n",
        "Geo_files = os.listdir(Geo_dir)\r\n",
        "print(Geo_files[:10])\r\n",
        "\r\n",
        "Kyr_files = os.listdir(Kyr_dir)\r\n",
        "print(Kyr_files[:10])\r\n",
        "\r\n",
        "Chi_files = os.listdir(Chi_dir)\r\n",
        "print(Chi_files[:10])"
      ],
      "execution_count": null,
      "outputs": [
        {
          "output_type": "stream",
          "text": [
            "total training Latin images: 500\n",
            "total training Geo images: 500\n",
            "total training KYR images: 500\n",
            "total training Chi images: 500\n",
            "['LAT (197).png', 'LAT (147).png', 'LAT (4).png', 'LAT (186).png', 'LAT (313).png', 'LAT (302).png', 'LAT (346).png', 'LAT (57).png', 'LAT (7).png', 'LAT (451).png']\n",
            "['GEO (149).png', 'GEO (195).png', 'GEO (101).png', 'GEO (439).png', 'GEO (222).png', 'GEO (436).png', 'GEO (138).png', 'GEO (451).png', 'GEO (92).png', 'GEO (131).png']\n",
            "['KYR (393).png', 'KYR (5).png', 'KYR (312).png', 'KYR (16).png', 'KYR (415).png', 'KYR (360).png', 'KYR (186).png', 'KYR (94).png', 'KYR (306).png', 'KYR (369).png']\n",
            "['SIN (402).png', 'SIN (66).png', 'SIN (424).png', 'SIN (488).png', 'SIN (95).png', 'SIN (222).png', 'SIN (338).png', 'SIN (56).png', 'SIN (489).png', 'SIN (209).png']\n"
          ],
          "name": "stdout"
        }
      ]
    },
    {
      "cell_type": "code",
      "metadata": {
        "colab": {
          "base_uri": "https://localhost:8080/",
          "height": 969
        },
        "id": "NTeC-BXT2Jkd",
        "outputId": "216c4af7-b76c-42c3-8aa2-9e2a4e705c00"
      },
      "source": [
        "#----------------------------------------------\r\n",
        "# print 2 images from each languages\r\n",
        "#----------------------------------------------\r\n",
        "%matplotlib inline\r\n",
        "\r\n",
        "import matplotlib.pyplot as plt\r\n",
        "import matplotlib.image as mpimg\r\n",
        "\r\n",
        "pic_index = 2\r\n",
        "\r\n",
        "next_Latin = [os.path.join(Latin_dir, fname) \r\n",
        "                 for fname in Latin_files[pic_index-2:pic_index]]\r\n",
        "next_Geo = [os.path.join(Geo_dir, fname) \r\n",
        "                for fname in Geo_files[pic_index-2:pic_index]]\r\n",
        "next_Kyr = [os.path.join(Kyr_dir, fname) \r\n",
        "                for fname in Kyr_files[pic_index-2:pic_index]]\r\n",
        "next_Chi = [os.path.join(Chi_dir, fname) \r\n",
        "                for fname in Chi_files[pic_index-2:pic_index]]\r\n",
        "\r\n",
        "\r\n",
        "for i, img_path in enumerate(next_Latin+next_Geo+next_Kyr+next_Chi):\r\n",
        "  img = mpimg.imread(img_path)\r\n",
        "  plt.imshow(img)\r\n",
        "  plt.axis('Off')\r\n",
        "  plt.show()"
      ],
      "execution_count": null,
      "outputs": [
        {
          "output_type": "display_data",
          "data": {
            "image/png": "[encoded data removed]",
            "text/plain": [
              "<Figure size 432x288 with 1 Axes>"
            ]
          },
          "metadata": {
            "tags": [],
            "needs_background": "light"
          }
        },
        {
          "output_type": "display_data",
          "data": {
            "image/png": "[encoded data removed]",
            "text/plain": [
              "<Figure size 432x288 with 1 Axes>"
            ]
          },
          "metadata": {
            "tags": [],
            "needs_background": "light"
          }
        },
        {
          "output_type": "display_data",
          "data": {
            "image/png": "[encoded data removed]",
            "text/plain": [
              "<Figure size 432x288 with 1 Axes>"
            ]
          },
          "metadata": {
            "tags": [],
            "needs_background": "light"
          }
        },
        {
          "output_type": "display_data",
          "data": {
            "image/png": "[encoded data removed]",
            "text/plain": [
              "<Figure size 432x288 with 1 Axes>"
            ]
          },
          "metadata": {
            "tags": [],
            "needs_background": "light"
          }
        },
        {
          "output_type": "display_data",
          "data": {
            "image/png": "[encoded data removed]",
            "text/plain": [
              "<Figure size 432x288 with 1 Axes>"
            ]
          },
          "metadata": {
            "tags": [],
            "needs_background": "light"
          }
        },
        {
          "output_type": "display_data",
          "data": {
            "image/png": "[encoded data removed]",
            "text/plain": [
              "<Figure size 432x288 with 1 Axes>"
            ]
          },
          "metadata": {
            "tags": [],
            "needs_background": "light"
          }
        },
        {
          "output_type": "display_data",
          "data": {
            "image/png": "[encoded data removed]",
            "text/plain": [
              "<Figure size 432x288 with 1 Axes>"
            ]
          },
          "metadata": {
            "tags": [],
            "needs_background": "light"
          }
        },
        {
          "output_type": "display_data",
          "data": {
            "image/png": "[encoded data removed]",
            "text/plain": [
              "<Figure size 432x288 with 1 Axes>"
            ]
          },
          "metadata": {
            "tags": [],
            "needs_background": "light"
          }
        }
      ]
    },
    {
      "cell_type": "code",
      "metadata": {
        "id": "P-9AfiYW2gjP"
      },
      "source": [
        "import tensorflow as tf\r\n",
        "from tensorflow.keras.optimizers import RMSprop\r\n",
        "import keras_preprocessing\r\n",
        "from keras_preprocessing import image\r\n",
        "from keras_preprocessing.image import ImageDataGenerator\r\n",
        "\r\n",
        "#-----------------------------------------------------------------------\r\n",
        "# Define a Callback class that stops training once accuracy reaches 97.0%\r\n",
        "#------------------------------------------------------------------------\r\n",
        "class stop_training(tf.keras.callbacks.Callback):\r\n",
        "    def on_epoch_end(self, epoch, logs=None):\r\n",
        "        if(logs['accuracy']>0.90):\r\n",
        "            print(\"\\nReached 90.0% accuracy so cancelling training!\")\r\n",
        "            self.model.stop_training = True\r\n",
        "\r\n",
        "#---------------------------------------------------------\r\n",
        "# Use image Augmentation for training\r\n",
        "#--------------------------------------------------------\r\n",
        "TRAINING_DIR = \"/content/MultiLang/5_for_Keras_Train500_Test100 _ LAT _ SIN _ KYR _ GEO/Training\"\r\n",
        "training_datagen = ImageDataGenerator(\r\n",
        "      rescale = 1./255,\r\n",
        "\t    rotation_range=40,\r\n",
        "      width_shift_range=0.2,\r\n",
        "      height_shift_range=0.2,\r\n",
        "      shear_range=0.2,\r\n",
        "      zoom_range=0.2,\r\n",
        "      horizontal_flip=True,\r\n",
        "      fill_mode='nearest')\r\n",
        "\r\n",
        "VALIDATION_DIR = \"/content/MultiLang/5_for_Keras_Train500_Test100 _ LAT _ SIN _ KYR _ GEO/Validation\"\r\n",
        "validation_datagen = ImageDataGenerator(rescale = 1./255)\r\n",
        "\r\n",
        "train_generator = training_datagen.flow_from_directory(\r\n",
        "\tTRAINING_DIR,\r\n",
        "\ttarget_size=(320, 100),\r\n",
        "\tclass_mode='categorical',\r\n",
        "  batch_size= 20\r\n",
        ")\r\n",
        "\r\n",
        "validation_generator = validation_datagen.flow_from_directory(\r\n",
        "\tVALIDATION_DIR,\r\n",
        "\ttarget_size=(320, 100),\r\n",
        "\tclass_mode='categorical',\r\n",
        "  batch_size= 20\r\n",
        ")\r\n",
        "\r\n",
        "#----------------------------------------------------------------------\r\n",
        "# 4 convolution layers, 1 Flatten layer, 1 Dropout layer and 2 Dense layers\r\n",
        "#----------------------------------------------------------------------\r\n",
        "model = tf.keras.models.Sequential([ \r\n",
        "    # This is the first convolution\r\n",
        "    tf.keras.layers.Conv2D(32, (3,3), activation='relu', input_shape=(320, 100, 3)),\r\n",
        "    tf.keras.layers.MaxPooling2D(2, 2),\r\n",
        "    # The second convolution\r\n",
        "    tf.keras.layers.Conv2D(64, (3,3), activation='relu'),\r\n",
        "    tf.keras.layers.MaxPooling2D(2,2),\r\n",
        "    # The third convolution\r\n",
        "    tf.keras.layers.Conv2D(128, (3,3), activation='relu'),\r\n",
        "    tf.keras.layers.MaxPooling2D(2,2),\r\n",
        "    # The fourth convolution\r\n",
        "    tf.keras.layers.Conv2D(128, (3,3), activation='relu'),\r\n",
        "    tf.keras.layers.MaxPooling2D(2,2),\r\n",
        "    # Flatten the results to feed into a DNN\r\n",
        "    tf.keras.layers.Flatten(),\r\n",
        "    tf.keras.layers.Dropout(0.2),\r\n",
        "    # 512 neuron hidden layer\r\n",
        "    tf.keras.layers.Dense(512, activation='relu'),\r\n",
        "    tf.keras.layers.Dense(4, activation='softmax')\r\n",
        "])\r\n",
        "\r\n",
        "model.summary()\r\n",
        "model.compile(loss = 'categorical_crossentropy', optimizer=RMSprop(lr=0.0001), metrics=['accuracy'])\r\n",
        "\r\n",
        "callbacks = stop_training()\r\n",
        "history = model.fit(train_generator, epochs=73, steps_per_epoch=15, validation_data = validation_generator, verbose = 0, validation_steps=3,callbacks=[callbacks])\r\n",
        "\r\n",
        "\r\n",
        "model.save(\"rps.h5\")\r\n"
      ],
      "execution_count": null,
      "outputs": []
    },
    {
      "cell_type": "code",
      "metadata": {
        "id": "9RWVpGiv35k0"
      },
      "source": [
        "import matplotlib.pyplot as plt\r\n",
        "acc = history.history['accuracy']\r\n",
        "val_acc = history.history['val_accuracy']\r\n",
        "loss = history.history['loss']\r\n",
        "val_loss = history.history['val_loss']\r\n",
        "\r\n",
        "epochs = range(len(acc))\r\n",
        "\r\n",
        "#------------------------------------------------\r\n",
        "# Plot training and validation accuracy per epoch\r\n",
        "#------------------------------------------------\r\n",
        "plt.plot(epochs, acc, 'r', label='Training accuracy')\r\n",
        "plt.plot(epochs, val_acc, 'b', label='Validation accuracy')\r\n",
        "plt.title('Training and validation accuracy')\r\n",
        "plt.legend(loc=0)\r\n",
        "plt.figure()\r\n",
        "\r\n",
        "plt.show()\r\n",
        "\r\n",
        "#------------------------------------------------\r\n",
        "# Load Libraries for testing\r\n",
        "#------------------------------------------------\r\n",
        "import numpy as np\r\n",
        "from google.colab import files\r\n",
        "from keras.preprocessing import image"
      ],
      "execution_count": null,
      "outputs": []
    },
    {
      "cell_type": "code",
      "metadata": {
        "id": "8e_nW-7O4Tat"
      },
      "source": [
        "uploaded = files.upload()\r\n",
        "\r\n",
        "for fn in uploaded.keys():\r\n",
        " \r\n",
        "  # predicting images\r\n",
        "  path = fn\r\n",
        "  img = image.load_img(path, target_size=(320, 100))\r\n",
        "  x = image.img_to_array(img)\r\n",
        "  x = np.expand_dims(x, axis=0)\r\n",
        "\r\n",
        "  images = np.vstack([x])\r\n",
        "  classes = model.predict(images, batch_size=10)\r\n",
        "  print(fn)\r\n",
        "  #-----------------------------------------------------------\r\n",
        "  # Sample of Results\r\n",
        "  #-----------------------------------------------------------\r\n",
        "  #GEO (...).png  [[1. 0. 0. 0.]] \r\n",
        "  #KYR (...).png  [[0. 1. 0. 0.]] \r\n",
        "  #LAT (...).png  [[0. 0. 1. 0.]] \r\n",
        "  #SIN (...).png  [[0. 0. 0. 1.]] \r\n",
        "  print(classes)"
      ],
      "execution_count": null,
      "outputs": []
    },
    {
      "cell_type": "markdown",
      "metadata": {
        "id": "JrH5iESt4zVz"
      },
      "source": [
        "# Future Work"
      ]
    },
    {
      "cell_type": "markdown",
      "metadata": {
        "id": "wxN38WYw6LqA"
      },
      "source": [
        "\r\n",
        "\r\n",
        "1.   Improve test accuracy and validation accuracy\r\n",
        "\r\n"
      ]
    }
  ]
}