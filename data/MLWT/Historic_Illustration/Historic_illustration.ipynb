{
 "cells": [
  {
   "cell_type": "markdown",
   "metadata": {
    "id": "7KhXfAXKQODD"
   },
   "source": [
    "<center>\n",
    "    \n",
    "# Identification and classification of illustrations in historic books\n",
    "    \n",
    "### A project for *Machine Learning with Tensorflow*\n",
    "\n",
    "### By *Irena Kampa*\n",
    "\n",
    "### 26.1.2021 </center>\n",
    "\n",
    "---"
   ]
  },
  {
   "cell_type": "markdown",
   "metadata": {
    "id": "PB_cGKwZQODI"
   },
   "source": [
    "## <h2>1. Introduction<h2>"
   ]
  },
  {
   "cell_type": "markdown",
   "metadata": {
    "id": "3aB4enjpybG6"
   },
   "source": [
    "More and more libraries digitalize their old collections and make them available to a worldwide public. Scans of thousands of historic works are already available. Artificial intelligence will be needed to process all this information and prepare it for scientific research.\n",
    "In this project I want to train a CNN to identify illustrations in monographies from  the 15th to the 18th century. In a second step I want to find and classify only the illustrations that show astronomical instruments of different types."
   ]
  },
  {
   "cell_type": "markdown",
   "metadata": {
    "id": "56D2i0-yQODJ"
   },
   "source": [
    "## <h2> 2. Preparation of the data (Jupyter) </h2>"
   ]
  },
  {
   "cell_type": "markdown",
   "metadata": {
    "id": "vVsvAICTzJOx"
   },
   "source": [
    "### 2.1 Import libraries"
   ]
  },
  {
   "cell_type": "code",
   "execution_count": 2,
   "metadata": {
    "id": "M7n52U6sQODK"
   },
   "outputs": [],
   "source": [
    "import os\n",
    "import random\n",
    "from shutil import copyfile"
   ]
  },
  {
   "cell_type": "markdown",
   "metadata": {
    "id": "eA0MWKFUQODK"
   },
   "source": [
    "### 2.2 Create an initial dataset from the imprecise original data"
   ]
  },
  {
   "cell_type": "markdown",
   "metadata": {
    "id": "Ofjjwi_SQODK"
   },
   "source": [
    "The original dataset contains almost 25.000 scanned pages in the JPG-format. They are ordered in two folders:\n",
    "1. A folder that contains all pages (including some with illustrations) - 24.140 scans\n",
    "2. A folder that contains pages with (significant) illustrations -2103 scans\n",
    "\n",
    "I will draw a subset from this data to form my new initial dataset. This new dataset will be checked manually, if the classificaton is correct."
   ]
  },
  {
   "cell_type": "code",
   "execution_count": null,
   "metadata": {
    "id": "dOZiabGVQODL",
    "outputId": "1d5db087-7d25-428e-987a-8a7d096838d0"
   },
   "outputs": [
    {
     "name": "stdout",
     "output_type": "stream",
     "text": [
      "Number of files in \"pictures\": 2103\n",
      "First 5 filenames: ['1.jpg', '2 Piccolomini ok.jpg', '2.jpg', '22_gemelli.jpg', '23_toro.jpg'] \n",
      "\n",
      "Number of files in \"books\": 24140\n",
      "First 5 filenames: ['a-0001-zle.jpg', 'a-0002-zle.jpg', 'a-0003.jpg', 'a-0004.jpg', 'a-0005.jpg']\n"
     ]
    }
   ],
   "source": [
    "# Create a list with  the original filenames\n",
    "\n",
    "## Base directory:\n",
    "directory_org = 'D:/Dokumente/Studium/Opencampus/TensorFlow/Code'\n",
    "\n",
    "## directory with pages containing illustrations:  \n",
    "pic_org_dir = os.path.join(directory_org, \"Original\", \"pictures\")\n",
    "\n",
    "## directory with all pages from the books (still including illustrations):\n",
    "books_org_dir = os.path.join(directory_org, \"Original\", \"books\")\n",
    "\n",
    "## create lists that contain the file names:\n",
    "pic_org_lst = os.listdir( pic_org_dir )\n",
    "print(\"Number of files in \\\"pictures\\\":\", len(pic_org_lst))\n",
    "print(\"First 5 filenames:\", pic_org_lst[:5], \"\\n\")\n",
    "\n",
    "books_org_lst = os.listdir( books_org_dir )\n",
    "print(\"Number of files in \\\"books\\\":\", len(books_org_lst))\n",
    "print(\"First 5 filenames:\", books_org_lst[:5])"
   ]
  },
  {
   "cell_type": "code",
   "execution_count": null,
   "metadata": {
    "id": "w0c-P5KGQODM",
    "outputId": "ae3b91a6-ee14-4e9e-e6d9-8a836a3c8258"
   },
   "outputs": [
    {
     "name": "stdout",
     "output_type": "stream",
     "text": [
      "Number \"pictures\"-list items: 1900\n",
      "First 5 filenames: ['Rost_1718_x-271.jpg', 'Borelli_1655_x-085.jpg', 'Stoeffler_1512_x-066.jpg', 'Gallucci_1603_x-298.jpg', 'x-534.jpg'] \n",
      "\n",
      "Number of \"books\"-list items: 3000\n",
      "First 5 filenames: ['x-596 (3).jpg', 'x-075 (36).jpg', 'x-114 (15).jpg', 'x-359 (12).jpg', 'x-012 (55).jpg']\n"
     ]
    }
   ],
   "source": [
    "# Draw randomly from the file list\n",
    "\n",
    "## number of pages for the initial dataset:\n",
    "number_pics = 1900\n",
    "number_books = 3000 #I need more scans from the books, because they still contain some illustrations\n",
    "\n",
    "## create two new lists that contain a random sample of the desired size:\n",
    "rand_pic_org_lst = random.sample(pic_org_lst, number_pics)\n",
    "rand_books_org_lst = random.sample(books_org_lst, number_books)\n",
    "\n",
    "## check if the lists are correct:\n",
    "print(\"Number \\\"pictures\\\"-list items:\", len(rand_pic_org_lst))\n",
    "print(\"First 5 filenames:\", rand_pic_org_lst[:5], \"\\n\")\n",
    "\n",
    "print(\"Number of \\\"books\\\"-list items:\", len(rand_books_org_lst))\n",
    "print(\"First 5 filenames:\", rand_books_org_lst[:5])"
   ]
  },
  {
   "cell_type": "code",
   "execution_count": null,
   "metadata": {
    "id": "YWnN7kVNQODM"
   },
   "outputs": [],
   "source": [
    "# Copy the files to the directory \"initial\"\n",
    "\n",
    "## Destination paths:\n",
    "path_pics = os.path.join(directory_org, \"Data\", \"initial\", \"pictures\")\n",
    "path_books = os.path.join(directory_org, \"Data\", \"initial\", \"books\")\n",
    "\n",
    "# Copy to \"pictures\" folder:\n",
    "for i in rand_pic_org_lst:\n",
    "    path_source =  os.path.join(pic_org_dir, i)\n",
    "    path_destination = os.path.join(path_pics, i)\n",
    "    copyfile(path_source, path_destination)\n",
    "    \n",
    "# Copy to \"books\" folder:\n",
    "for i in rand_books_org_lst:\n",
    "    path_source =  os.path.join(books_org_dir, i)\n",
    "    path_destination = os.path.join(path_books, i)\n",
    "    copyfile(path_source, path_destination)"
   ]
  },
  {
   "cell_type": "markdown",
   "metadata": {
    "id": "UYEZ6pERQODM"
   },
   "source": [
    "\n",
    "---\n",
    "At this point I need to **manually check** all the pages in both folders. Additionally, I use the freeware \"SimilarImages\" to find possible doublets.\n",
    "\n",
    "---\n"
   ]
  },
  {
   "cell_type": "code",
   "execution_count": null,
   "metadata": {
    "id": "In3dxFevQODN",
    "outputId": "c9c5483a-c991-4502-bcb3-f24d04da4b4a"
   },
   "outputs": [
    {
     "name": "stdout",
     "output_type": "stream",
     "text": [
      "Number of files in \"pictures\": 2012\n",
      "Number of files in \"books\": 2386\n"
     ]
    }
   ],
   "source": [
    "# Create two lists with the initial file names\n",
    "\n",
    "\n",
    "pic_lst = os.listdir( path_pics )\n",
    "print(\"Number of files in \\\"pictures\\\":\", len(pic_lst))\n",
    "\n",
    "no_pic_lst = os.listdir( path_books )\n",
    "print(\"Number of files in \\\"books\\\":\", len(no_pic_lst))"
   ]
  },
  {
   "cell_type": "markdown",
   "metadata": {
    "id": "uyB9JzMpQODN"
   },
   "source": [
    "My initial data set is finished. It contains 2012 scans with illustrations and 2386 without."
   ]
  },
  {
   "cell_type": "markdown",
   "metadata": {
    "id": "pvV3ozYbQODN"
   },
   "source": [
    "### 2.3 Split the initial dataset into training and validation set"
   ]
  },
  {
   "cell_type": "code",
   "execution_count": null,
   "metadata": {
    "id": "dQwxN85WQODN",
    "outputId": "6d93215d-04a4-421b-b58a-deca4031250c"
   },
   "outputs": [
    {
     "name": "stdout",
     "output_type": "stream",
     "text": [
      "Number of files in \"pictures\": 2012\n",
      "Number of files in \"books\": 2386\n"
     ]
    }
   ],
   "source": [
    "# Read in of the initial data\n",
    "## repetition of the cells above incase we start here\n",
    "\n",
    "## Base directory:\n",
    "directory_org = 'D:/Dokumente/Studium/Opencampus/TensorFlow/Code'\n",
    "\n",
    "## Source paths:\n",
    "path_pics = os.path.join(directory_org, \"Data\", \"initial\", \"pictures\")\n",
    "path_books = os.path.join(directory_org, \"Data\", \"initial\", \"books\")\n",
    "\n",
    "## Create two lists with the initial file names\n",
    "pic_lst = os.listdir( path_pics )\n",
    "print(\"Number of files in \\\"pictures\\\":\", len(pic_lst))\n",
    "\n",
    "no_pic_lst = os.listdir( path_books )\n",
    "print(\"Number of files in \\\"books\\\":\", len(no_pic_lst))\n"
   ]
  },
  {
   "cell_type": "code",
   "execution_count": null,
   "metadata": {
    "id": "UXqE1f9YQODO"
   },
   "outputs": [],
   "source": [
    "# Create the directories\n",
    "\n",
    "## Base directory:\n",
    "path_dataset = os.path.join(directory_org, \"Data\", \"Dataset\")\n",
    "\n",
    "## train and validation sub-directories:\n",
    "path_train = os.path.join(path_dataset, \"train\")\n",
    "path_validation = os.path.join(path_dataset, \"validation\")\n",
    "\n",
    "## pictures and no_pictures sub-directories:\n",
    "path_pics_train = os.path.join(path_train, \"pictures\")\n",
    "path_pics_validation = os.path.join(path_validation, \"pictures\")\n",
    "\n",
    "path_no_pics_train = os.path.join(path_train, \"no_pictures\")\n",
    "path_no_pics_validation = os.path.join(path_validation, \"no_pictures\")\n",
    "\n",
    "## Temporary list with directories:\n",
    "tmp_dir = [path_dataset, path_train, path_validation, path_pics_train, path_pics_validation, path_no_pics_train, path_no_pics_validation ]\n",
    "\n",
    "## Create the directories\n",
    "for i in tmp_dir:\n",
    "    os.mkdir(i)"
   ]
  },
  {
   "cell_type": "code",
   "execution_count": null,
   "metadata": {
    "id": "Kx3S2TDtQODO"
   },
   "outputs": [],
   "source": [
    "# Set the training and validation sizes:\n",
    "\n",
    "## Total number of scans per class that will be used in the CNN:\n",
    "num_data = 1300\n",
    "\n",
    "## Number of scans per class for training (80%):\n",
    "split = int(num_data*0.8)\n"
   ]
  },
  {
   "cell_type": "code",
   "execution_count": null,
   "metadata": {
    "id": "KUYczHVVQODO"
   },
   "outputs": [],
   "source": [
    "#Shuffle the lists to assure randomness:\n",
    "\n",
    "random.shuffle (pic_lst)\n",
    "random.shuffle (no_pic_lst)"
   ]
  },
  {
   "cell_type": "code",
   "execution_count": null,
   "metadata": {
    "id": "AOJXAp85QODP"
   },
   "outputs": [],
   "source": [
    "# Copy the files into the directories:\n",
    "\n",
    "## train => pictures:\n",
    "for i in pic_lst[:split]:\n",
    "    path_source =  os.path.join(path_pics, i)\n",
    "    path_destination = os.path.join(path_pics_train, i)\n",
    "    copyfile(path_source, path_destination)\n",
    "\n",
    "## validation => pictures:\n",
    "for i in pic_lst[split:num_data]:\n",
    "    path_source =  os.path.join(path_pics, i)\n",
    "    path_destination = os.path.join(path_pics_validation, i)\n",
    "    copyfile(path_source, path_destination)\n",
    "\n",
    "## train => no_pictures:\n",
    "for i in no_pic_lst[:split]:\n",
    "    path_source =  os.path.join(path_books, i)\n",
    "    path_destination = os.path.join(path_no_pics_train, i)\n",
    "    copyfile(path_source, path_destination)\n",
    "\n",
    "## validation => no_pictures:\n",
    "for i in no_pic_lst[split:num_data]:\n",
    "    path_source =  os.path.join(path_books, i)\n",
    "    path_destination = os.path.join(path_no_pics_validation, i)\n",
    "    copyfile(path_source, path_destination)"
   ]
  },
  {
   "cell_type": "code",
   "execution_count": null,
   "metadata": {
    "id": "5hTrnsO3QODP",
    "outputId": "c95cbf56-43e2-4dcd-ef7e-0da2c756d1f6"
   },
   "outputs": [
    {
     "name": "stdout",
     "output_type": "stream",
     "text": [
      "total training pages with pictures: 1040\n",
      "total training pages with no pictures : 1040\n",
      "total validation pages with pictures : 260\n",
      "total validation pages with no pictures : 260\n"
     ]
    }
   ],
   "source": [
    "#Check number of pictures in each folder:\n",
    "\n",
    "print('total training pages with pictures:', len(os.listdir(path_pics_train)))\n",
    "print('total training pages with no pictures :', len(os.listdir(path_no_pics_train)))\n",
    "\n",
    "print('total validation pages with pictures :', len(os.listdir(path_pics_validation)))\n",
    "print('total validation pages with no pictures :', len(os.listdir(path_no_pics_validation)))\n"
   ]
  },
  {
   "cell_type": "markdown",
   "metadata": {
    "id": "VK3j-iDvQODP"
   },
   "source": [
    "This conclude the creation of my dataset. \n",
    "\n",
    "I will copy these files to my google drive folder to calculate the CNN with google colab. "
   ]
  },
  {
   "cell_type": "markdown",
   "metadata": {
    "id": "rf3LXhdPQODQ"
   },
   "source": [
    "## <h2> 3. Convolutional Neural Network (in Google Colab) </h2>"
   ]
  },
  {
   "cell_type": "markdown",
   "metadata": {
    "id": "3w4t6WqDQODQ"
   },
   "source": [
    "### 3.1 Import libraries"
   ]
  },
  {
   "cell_type": "code",
   "execution_count": 1,
   "metadata": {
    "executionInfo": {
     "elapsed": 2019,
     "status": "ok",
     "timestamp": 1611422392027,
     "user": {
      "displayName": "Ir Ka",
      "photoUrl": "",
      "userId": "05728717612783919448"
     },
     "user_tz": -60
    },
    "id": "gLcA_6UZQODQ"
   },
   "outputs": [],
   "source": [
    "import numpy as np\n",
    "import os\n",
    "import random\n",
    "from shutil import copyfile\n",
    "\n",
    "import tensorflow as tf\n",
    "from tensorflow import keras\n",
    "from tensorflow.keras import layers\n",
    "from keras.preprocessing import image\n",
    "from tensorflow.keras.preprocessing.image import ImageDataGenerator\n",
    "from tensorflow.keras.optimizers import RMSprop\n",
    "\n",
    "import matplotlib.image as mpimg\n",
    "import matplotlib.pyplot as plt\n",
    "import math"
   ]
  },
  {
   "cell_type": "markdown",
   "metadata": {
    "id": "dKxvfM6pQunN"
   },
   "source": [
    "### 3.1 Set up the CNN"
   ]
  },
  {
   "cell_type": "markdown",
   "metadata": {
    "id": "qwD4PUTX0nn6"
   },
   "source": [
    "#### 3.1.1 File directories"
   ]
  },
  {
   "cell_type": "code",
   "execution_count": 2,
   "metadata": {
    "colab": {
     "base_uri": "https://localhost:8080/"
    },
    "executionInfo": {
     "elapsed": 29156,
     "status": "ok",
     "timestamp": 1611422595579,
     "user": {
      "displayName": "Ir Ka",
      "photoUrl": "",
      "userId": "05728717612783919448"
     },
     "user_tz": -60
    },
    "id": "0gLUwMEDRB9l",
    "outputId": "ba99d321-930a-4a16-dc6c-4e6b1011d36d"
   },
   "outputs": [
    {
     "name": "stdout",
     "output_type": "stream",
     "text": [
      "Mounted at /content/drive\n"
     ]
    }
   ],
   "source": [
    "# Mount Google Drive\n",
    "from google.colab import drive\n",
    "drive.mount('/content/drive')"
   ]
  },
  {
   "cell_type": "code",
   "execution_count": 3,
   "metadata": {
    "executionInfo": {
     "elapsed": 491,
     "status": "ok",
     "timestamp": 1611423036067,
     "user": {
      "displayName": "Ir Ka",
      "photoUrl": "",
      "userId": "05728717612783919448"
     },
     "user_tz": -60
    },
    "id": "peyLuJPARcLl"
   },
   "outputs": [],
   "source": [
    "# Define the directories that contain the data. The data was previously uploaded to google drive.\n",
    "\n",
    "## Path to base directory in google drive that contains the data:\n",
    "base_dir = \"/content/drive/My Drive/Tensorflow/Data/\"\n",
    "\n",
    "## Paths to training and validation directories:\n",
    "path_train = os.path.join(base_dir, 'train')\n",
    "path_validation = os.path.join(base_dir, 'validation')\n",
    "\n",
    "## Subdirectories inside the training directory:\n",
    "path_pics_train = os.path.join(path_train, 'pictures')\n",
    "path_no_pics_train = os.path.join(path_train, 'no_pictures')\n",
    "\n",
    "## Subdirectories inside the validation directories:\n",
    "path_pics_validation = os.path.join(path_validation, 'pictures')\n",
    "path_no_pics_validation = os.path.join(path_validation, 'no_pictures')"
   ]
  },
  {
   "cell_type": "code",
   "execution_count": 5,
   "metadata": {
    "colab": {
     "base_uri": "https://localhost:8080/"
    },
    "executionInfo": {
     "elapsed": 11992,
     "status": "ok",
     "timestamp": 1611423192298,
     "user": {
      "displayName": "Ir Ka",
      "photoUrl": "",
      "userId": "05728717612783919448"
     },
     "user_tz": -60
    },
    "id": "_j4v6gS_TSB-",
    "outputId": "596f3426-dcee-4dee-c597-8d7671ed4f8a"
   },
   "outputs": [
    {
     "name": "stdout",
     "output_type": "stream",
     "text": [
      "total training pages with pictures: 1040\n",
      "total training pages with no pictures : 1040\n",
      "total validation pages with pictures : 260\n",
      "total validation pages with no pictures : 260\n"
     ]
    }
   ],
   "source": [
    "#Check the number of scans in each folder:\n",
    "\n",
    "print('total training pages with pictures:', len(os.listdir(path_pics_train)))\n",
    "print('total training pages with no pictures :', len(os.listdir(path_no_pics_train)))\n",
    "\n",
    "print('total validation pages with pictures :', len(os.listdir(path_pics_validation)))\n",
    "print('total validation pages with no pictures :', len(os.listdir(path_no_pics_validation)))"
   ]
  },
  {
   "cell_type": "markdown",
   "metadata": {
    "id": "-94qh8X2UQ4m"
   },
   "source": [
    "#### 3.1.2 Set the model parameters"
   ]
  },
  {
   "cell_type": "code",
   "execution_count": 8,
   "metadata": {
    "executionInfo": {
     "elapsed": 504,
     "status": "ok",
     "timestamp": 1611423519599,
     "user": {
      "displayName": "Ir Ka",
      "photoUrl": "",
      "userId": "05728717612783919448"
     },
     "user_tz": -60
    },
    "id": "_dlkdqWbUWFq"
   },
   "outputs": [],
   "source": [
    "# Define size / batch size and steps per epoch:\n",
    "\n",
    "## Rescale images to:\n",
    "imagesize_x = 150\n",
    "imagesize_y = 210\n",
    "\n",
    "## Batch sizes:\n",
    "batchsize_t = 40\n",
    "batchsize_v = 40\n",
    "\n",
    "## Steps per epoch:\n",
    "val_steps = math.ceil(len(os.listdir(path_pics_validation))*2 /batchsize_v)\n",
    "train_steps = math.ceil(len(os.listdir(path_pics_train))*2 /batchsize_t)"
   ]
  },
  {
   "cell_type": "code",
   "execution_count": 9,
   "metadata": {
    "colab": {
     "base_uri": "https://localhost:8080/"
    },
    "executionInfo": {
     "elapsed": 1521,
     "status": "ok",
     "timestamp": 1611423764969,
     "user": {
      "displayName": "Ir Ka",
      "photoUrl": "",
      "userId": "05728717612783919448"
     },
     "user_tz": -60
    },
    "id": "dtFhwIUiU6vG",
    "outputId": "df568017-cf4c-4a9c-88b5-c954f254098d"
   },
   "outputs": [
    {
     "name": "stdout",
     "output_type": "stream",
     "text": [
      "Found 2080 images belonging to 2 classes.\n",
      "Found 520 images belonging to 2 classes.\n"
     ]
    }
   ],
   "source": [
    "# Use the Image Generator to label the pictures\n",
    "\n",
    "## Use image augmentation for the training data:\n",
    "train_datagen = ImageDataGenerator( \n",
    "    rescale = 1.0/255. ,           #Rescale the images to normalize the data\n",
    "    rotation_range = 8,            #Scans might be slightly shifted therefore rotate up to 8 degrees\n",
    "    width_shift_range = 0.1,\n",
    "    height_shift_range = 0.1,\n",
    "    zoom_range = 0.2,\n",
    "    fill_mode = \"nearest\"   \n",
    "    )\n",
    "\n",
    "## Validation data:\n",
    "valid_datagen  = ImageDataGenerator( rescale = 1.0/255. )\n",
    "\n",
    "\n",
    "## Load the pictures from the training directory:\n",
    "train_generator = train_datagen.flow_from_directory(\n",
    "    path_train,                                   # training directory\n",
    "    target_size=(imagesize_x, imagesize_y),       # resize pages                        \n",
    "    batch_size= batchsize_t,                      # pages are loaded in batches\n",
    "    class_mode='binary'                           # there are 2 classes\n",
    "                                                    )     \n",
    "\n",
    "\n",
    "## Load the pictures from the validation directory:\n",
    "validation_generator =  valid_datagen.flow_from_directory(\n",
    "    path_validation,                              # validation directory\n",
    "    target_size = (imagesize_x, imagesize_y),     # resize as above                                     \n",
    "    batch_size= batchsize_v,                      # as above\n",
    "    class_mode  = 'binary'                        # 2 classes as above\n",
    "                                                         )"
   ]
  },
  {
   "cell_type": "code",
   "execution_count": 10,
   "metadata": {
    "colab": {
     "base_uri": "https://localhost:8080/"
    },
    "executionInfo": {
     "elapsed": 6541,
     "status": "ok",
     "timestamp": 1611423889901,
     "user": {
      "displayName": "Ir Ka",
      "photoUrl": "",
      "userId": "05728717612783919448"
     },
     "user_tz": -60
    },
    "id": "pTcK2c-AV5E_",
    "outputId": "013d6a18-4429-4134-a570-49de7b1074ff"
   },
   "outputs": [
    {
     "name": "stdout",
     "output_type": "stream",
     "text": [
      "Model: \"sequential\"\n",
      "_________________________________________________________________\n",
      "Layer (type)                 Output Shape              Param #   \n",
      "=================================================================\n",
      "conv2d (Conv2D)              (None, 148, 208, 64)      1792      \n",
      "_________________________________________________________________\n",
      "max_pooling2d (MaxPooling2D) (None, 74, 104, 64)       0         \n",
      "_________________________________________________________________\n",
      "conv2d_1 (Conv2D)            (None, 72, 102, 64)       36928     \n",
      "_________________________________________________________________\n",
      "max_pooling2d_1 (MaxPooling2 (None, 36, 51, 64)        0         \n",
      "_________________________________________________________________\n",
      "conv2d_2 (Conv2D)            (None, 34, 49, 64)        36928     \n",
      "_________________________________________________________________\n",
      "max_pooling2d_2 (MaxPooling2 (None, 17, 24, 64)        0         \n",
      "_________________________________________________________________\n",
      "flatten (Flatten)            (None, 26112)             0         \n",
      "_________________________________________________________________\n",
      "dense (Dense)                (None, 100)               2611300   \n",
      "_________________________________________________________________\n",
      "dropout (Dropout)            (None, 100)               0         \n",
      "_________________________________________________________________\n",
      "dense_1 (Dense)              (None, 1)                 101       \n",
      "=================================================================\n",
      "Total params: 2,687,049\n",
      "Trainable params: 2,687,049\n",
      "Non-trainable params: 0\n",
      "_________________________________________________________________\n"
     ]
    }
   ],
   "source": [
    "# Set up the model:\n",
    "\n",
    "model = tf.keras.models.Sequential([\n",
    "    \n",
    "    ### First convolution layer:\n",
    "    tf.keras.layers.Conv2D(64, (3,3), activation='relu', input_shape=(imagesize_x, imagesize_y, 3)),\n",
    "    tf.keras.layers.MaxPooling2D(2,2),\n",
    "    \n",
    "    ### Second convolution layer:\n",
    "    tf.keras.layers.Conv2D(64, (3,3), activation='relu'),\n",
    "    tf.keras.layers.MaxPooling2D(2,2), \n",
    "    \n",
    "    ### Third convolution layer:\n",
    "    tf.keras.layers.Conv2D(64, (3,3), activation='relu'), \n",
    "    tf.keras.layers.MaxPooling2D(2,2),\n",
    "\n",
    "    ### Fourth convolution layer:\n",
    "    #tf.keras.layers.Conv2D(16, (3,3), activation='relu'), \n",
    "    #tf.keras.layers.MaxPooling2D(2,2),\n",
    "    \n",
    "    ### Flatten the results:\n",
    "    tf.keras.layers.Flatten(), \n",
    "\n",
    "    ### Hidden layer:\n",
    "    tf.keras.layers.Dense(100, activation='relu'), \n",
    "\n",
    "    ### Dropout layer:\n",
    "    tf.keras.layers.Dropout(0.2), \n",
    "\n",
    "    ### Output layer with 1 neuron:\n",
    "    tf.keras.layers.Dense(1, activation='sigmoid')  \n",
    "])\n",
    "\n",
    "model.summary()"
   ]
  },
  {
   "cell_type": "code",
   "execution_count": 11,
   "metadata": {
    "executionInfo": {
     "elapsed": 691,
     "status": "ok",
     "timestamp": 1611423941015,
     "user": {
      "displayName": "Ir Ka",
      "photoUrl": "",
      "userId": "05728717612783919448"
     },
     "user_tz": -60
    },
    "id": "NhBeaNAzWYEH"
   },
   "outputs": [],
   "source": [
    "# Compile the model\n",
    "\n",
    "model.compile(\n",
    "    optimizer= \"adam\",        \n",
    "    #optimizer = RMSprop(lr=0.0005),\n",
    "    loss='binary_crossentropy',         # binary because we have only 2 classes\n",
    "    metrics = ['accuracy']\n",
    "    )"
   ]
  },
  {
   "cell_type": "markdown",
   "metadata": {
    "id": "1QV3m-CyWhWG"
   },
   "source": [
    "### 3.2 Train the CNN\n"
   ]
  },
  {
   "cell_type": "markdown",
   "metadata": {
    "id": "UHwvTnjrl0c2"
   },
   "source": [
    "#### 3.2.1 Train for 100 epochs"
   ]
  },
  {
   "cell_type": "code",
   "execution_count": 12,
   "metadata": {
    "colab": {
     "base_uri": "https://localhost:8080/"
    },
    "executionInfo": {
     "elapsed": 8466855,
     "status": "ok",
     "timestamp": 1611432572171,
     "user": {
      "displayName": "Ir Ka",
      "photoUrl": "",
      "userId": "05728717612783919448"
     },
     "user_tz": -60
    },
    "id": "XnJSoyQGWo0l",
    "outputId": "a0db4a1b-9301-4744-d800-be9c7d4f9826"
   },
   "outputs": [
    {
     "name": "stderr",
     "output_type": "stream",
     "text": [
      "/usr/local/lib/python3.6/dist-packages/tensorflow/python/keras/engine/training.py:1844: UserWarning: `Model.fit_generator` is deprecated and will be removed in a future version. Please use `Model.fit`, which supports generators.\n",
      "  warnings.warn('`Model.fit_generator` is deprecated and '\n"
     ]
    },
    {
     "name": "stdout",
     "output_type": "stream",
     "text": [
      "Epoch 1/100\n",
      "52/52 [==============================] - 846s 16s/step - loss: 0.8162 - accuracy: 0.5521 - val_loss: 0.5746 - val_accuracy: 0.7385\n",
      "Epoch 2/100\n",
      "52/52 [==============================] - 78s 2s/step - loss: 0.6201 - accuracy: 0.6814 - val_loss: 0.5627 - val_accuracy: 0.6942\n",
      "Epoch 3/100\n",
      "52/52 [==============================] - 78s 1s/step - loss: 0.5627 - accuracy: 0.7084 - val_loss: 0.4944 - val_accuracy: 0.7442\n",
      "Epoch 4/100\n",
      "52/52 [==============================] - 77s 1s/step - loss: 0.4944 - accuracy: 0.7634 - val_loss: 0.4286 - val_accuracy: 0.8058\n",
      "Epoch 5/100\n",
      "52/52 [==============================] - 77s 1s/step - loss: 0.4557 - accuracy: 0.7927 - val_loss: 0.3859 - val_accuracy: 0.8308\n",
      "Epoch 6/100\n",
      "52/52 [==============================] - 77s 1s/step - loss: 0.4284 - accuracy: 0.7975 - val_loss: 0.3734 - val_accuracy: 0.8308\n",
      "Epoch 7/100\n",
      "52/52 [==============================] - 77s 1s/step - loss: 0.3977 - accuracy: 0.8168 - val_loss: 0.4448 - val_accuracy: 0.7923\n",
      "Epoch 8/100\n",
      "52/52 [==============================] - 77s 1s/step - loss: 0.4578 - accuracy: 0.7957 - val_loss: 0.4346 - val_accuracy: 0.7962\n",
      "Epoch 9/100\n",
      "52/52 [==============================] - 77s 1s/step - loss: 0.4191 - accuracy: 0.8122 - val_loss: 0.3832 - val_accuracy: 0.8077\n",
      "Epoch 10/100\n",
      "52/52 [==============================] - 77s 1s/step - loss: 0.3911 - accuracy: 0.8246 - val_loss: 0.4377 - val_accuracy: 0.8192\n",
      "Epoch 11/100\n",
      "52/52 [==============================] - 77s 1s/step - loss: 0.3290 - accuracy: 0.8592 - val_loss: 0.3417 - val_accuracy: 0.8500\n",
      "Epoch 12/100\n",
      "52/52 [==============================] - 77s 1s/step - loss: 0.3372 - accuracy: 0.8487 - val_loss: 0.3276 - val_accuracy: 0.8673\n",
      "Epoch 13/100\n",
      "52/52 [==============================] - 77s 1s/step - loss: 0.3472 - accuracy: 0.8515 - val_loss: 0.3514 - val_accuracy: 0.8423\n",
      "Epoch 14/100\n",
      "52/52 [==============================] - 77s 1s/step - loss: 0.3184 - accuracy: 0.8644 - val_loss: 0.2924 - val_accuracy: 0.8827\n",
      "Epoch 15/100\n",
      "52/52 [==============================] - 77s 1s/step - loss: 0.2706 - accuracy: 0.8910 - val_loss: 0.2916 - val_accuracy: 0.8712\n",
      "Epoch 16/100\n",
      "52/52 [==============================] - 77s 1s/step - loss: 0.3048 - accuracy: 0.8610 - val_loss: 0.3358 - val_accuracy: 0.8538\n",
      "Epoch 17/100\n",
      "52/52 [==============================] - 77s 1s/step - loss: 0.2935 - accuracy: 0.8628 - val_loss: 0.3355 - val_accuracy: 0.8673\n",
      "Epoch 18/100\n",
      "52/52 [==============================] - 77s 1s/step - loss: 0.2938 - accuracy: 0.8736 - val_loss: 0.2846 - val_accuracy: 0.8923\n",
      "Epoch 19/100\n",
      "52/52 [==============================] - 77s 1s/step - loss: 0.2761 - accuracy: 0.8820 - val_loss: 0.2216 - val_accuracy: 0.9212\n",
      "Epoch 20/100\n",
      "52/52 [==============================] - 78s 2s/step - loss: 0.2721 - accuracy: 0.8936 - val_loss: 0.2639 - val_accuracy: 0.8923\n",
      "Epoch 21/100\n",
      "52/52 [==============================] - 78s 2s/step - loss: 0.2901 - accuracy: 0.8655 - val_loss: 0.3033 - val_accuracy: 0.8538\n",
      "Epoch 22/100\n",
      "52/52 [==============================] - 78s 2s/step - loss: 0.2556 - accuracy: 0.8960 - val_loss: 0.2572 - val_accuracy: 0.8981\n",
      "Epoch 23/100\n",
      "52/52 [==============================] - 76s 1s/step - loss: 0.2817 - accuracy: 0.8795 - val_loss: 0.2333 - val_accuracy: 0.8885\n",
      "Epoch 24/100\n",
      "52/52 [==============================] - 76s 1s/step - loss: 0.2659 - accuracy: 0.8837 - val_loss: 0.2228 - val_accuracy: 0.8981\n",
      "Epoch 25/100\n",
      "52/52 [==============================] - 76s 1s/step - loss: 0.2454 - accuracy: 0.8920 - val_loss: 0.2329 - val_accuracy: 0.8885\n",
      "Epoch 26/100\n",
      "52/52 [==============================] - 77s 1s/step - loss: 0.2070 - accuracy: 0.9216 - val_loss: 0.2040 - val_accuracy: 0.9173\n",
      "Epoch 27/100\n",
      "52/52 [==============================] - 76s 1s/step - loss: 0.2240 - accuracy: 0.9122 - val_loss: 0.2131 - val_accuracy: 0.9173\n",
      "Epoch 28/100\n",
      "52/52 [==============================] - 76s 1s/step - loss: 0.2282 - accuracy: 0.8944 - val_loss: 0.2518 - val_accuracy: 0.8942\n",
      "Epoch 29/100\n",
      "52/52 [==============================] - 75s 1s/step - loss: 0.2047 - accuracy: 0.9183 - val_loss: 0.2477 - val_accuracy: 0.9096\n",
      "Epoch 30/100\n",
      "52/52 [==============================] - 76s 1s/step - loss: 0.2081 - accuracy: 0.9158 - val_loss: 0.1973 - val_accuracy: 0.9173\n",
      "Epoch 31/100\n",
      "52/52 [==============================] - 76s 1s/step - loss: 0.1983 - accuracy: 0.9168 - val_loss: 0.2004 - val_accuracy: 0.9192\n",
      "Epoch 32/100\n",
      "52/52 [==============================] - 76s 1s/step - loss: 0.2051 - accuracy: 0.9129 - val_loss: 0.2247 - val_accuracy: 0.9154\n",
      "Epoch 33/100\n",
      "52/52 [==============================] - 75s 1s/step - loss: 0.1859 - accuracy: 0.9283 - val_loss: 0.1920 - val_accuracy: 0.9154\n",
      "Epoch 34/100\n",
      "52/52 [==============================] - 75s 1s/step - loss: 0.1966 - accuracy: 0.9167 - val_loss: 0.1972 - val_accuracy: 0.9212\n",
      "Epoch 35/100\n",
      "52/52 [==============================] - 75s 1s/step - loss: 0.1681 - accuracy: 0.9264 - val_loss: 0.1819 - val_accuracy: 0.9365\n",
      "Epoch 36/100\n",
      "52/52 [==============================] - 75s 1s/step - loss: 0.2126 - accuracy: 0.9173 - val_loss: 0.2283 - val_accuracy: 0.9115\n",
      "Epoch 37/100\n",
      "52/52 [==============================] - 76s 1s/step - loss: 0.1899 - accuracy: 0.9205 - val_loss: 0.1548 - val_accuracy: 0.9519\n",
      "Epoch 38/100\n",
      "52/52 [==============================] - 76s 1s/step - loss: 0.1592 - accuracy: 0.9342 - val_loss: 0.1524 - val_accuracy: 0.9423\n",
      "Epoch 39/100\n",
      "52/52 [==============================] - 75s 1s/step - loss: 0.1688 - accuracy: 0.9304 - val_loss: 0.1715 - val_accuracy: 0.9365\n",
      "Epoch 40/100\n",
      "52/52 [==============================] - 75s 1s/step - loss: 0.1462 - accuracy: 0.9362 - val_loss: 0.1702 - val_accuracy: 0.9385\n",
      "Epoch 41/100\n",
      "52/52 [==============================] - 75s 1s/step - loss: 0.1516 - accuracy: 0.9417 - val_loss: 0.1383 - val_accuracy: 0.9481\n",
      "Epoch 42/100\n",
      "52/52 [==============================] - 75s 1s/step - loss: 0.1579 - accuracy: 0.9387 - val_loss: 0.1500 - val_accuracy: 0.9423\n",
      "Epoch 43/100\n",
      "52/52 [==============================] - 75s 1s/step - loss: 0.1373 - accuracy: 0.9470 - val_loss: 0.1372 - val_accuracy: 0.9442\n",
      "Epoch 44/100\n",
      "52/52 [==============================] - 76s 1s/step - loss: 0.1325 - accuracy: 0.9451 - val_loss: 0.1181 - val_accuracy: 0.9538\n",
      "Epoch 45/100\n",
      "52/52 [==============================] - 75s 1s/step - loss: 0.1467 - accuracy: 0.9456 - val_loss: 0.1257 - val_accuracy: 0.9462\n",
      "Epoch 46/100\n",
      "52/52 [==============================] - 75s 1s/step - loss: 0.1475 - accuracy: 0.9466 - val_loss: 0.1571 - val_accuracy: 0.9538\n",
      "Epoch 47/100\n",
      "52/52 [==============================] - 75s 1s/step - loss: 0.1401 - accuracy: 0.9350 - val_loss: 0.1488 - val_accuracy: 0.9481\n",
      "Epoch 48/100\n",
      "52/52 [==============================] - 75s 1s/step - loss: 0.1551 - accuracy: 0.9356 - val_loss: 0.1425 - val_accuracy: 0.9500\n",
      "Epoch 49/100\n",
      "52/52 [==============================] - 75s 1s/step - loss: 0.1406 - accuracy: 0.9471 - val_loss: 0.1786 - val_accuracy: 0.9269\n",
      "Epoch 50/100\n",
      "52/52 [==============================] - 76s 1s/step - loss: 0.1411 - accuracy: 0.9425 - val_loss: 0.1340 - val_accuracy: 0.9538\n",
      "Epoch 51/100\n",
      "52/52 [==============================] - 75s 1s/step - loss: 0.1350 - accuracy: 0.9452 - val_loss: 0.1341 - val_accuracy: 0.9385\n",
      "Epoch 52/100\n",
      "52/52 [==============================] - 76s 1s/step - loss: 0.1627 - accuracy: 0.9333 - val_loss: 0.1413 - val_accuracy: 0.9500\n",
      "Epoch 53/100\n",
      "52/52 [==============================] - 76s 1s/step - loss: 0.1210 - accuracy: 0.9486 - val_loss: 0.1591 - val_accuracy: 0.9385\n",
      "Epoch 54/100\n",
      "52/52 [==============================] - 77s 1s/step - loss: 0.1394 - accuracy: 0.9417 - val_loss: 0.2034 - val_accuracy: 0.9212\n",
      "Epoch 55/100\n",
      "52/52 [==============================] - 77s 1s/step - loss: 0.1574 - accuracy: 0.9397 - val_loss: 0.1045 - val_accuracy: 0.9692\n",
      "Epoch 56/100\n",
      "52/52 [==============================] - 77s 1s/step - loss: 0.0882 - accuracy: 0.9672 - val_loss: 0.1132 - val_accuracy: 0.9673\n",
      "Epoch 57/100\n",
      "52/52 [==============================] - 77s 1s/step - loss: 0.1289 - accuracy: 0.9522 - val_loss: 0.1517 - val_accuracy: 0.9365\n",
      "Epoch 58/100\n",
      "52/52 [==============================] - 77s 1s/step - loss: 0.1458 - accuracy: 0.9419 - val_loss: 0.0915 - val_accuracy: 0.9692\n",
      "Epoch 59/100\n",
      "52/52 [==============================] - 77s 1s/step - loss: 0.1049 - accuracy: 0.9619 - val_loss: 0.1321 - val_accuracy: 0.9577\n",
      "Epoch 60/100\n",
      "52/52 [==============================] - 77s 1s/step - loss: 0.1085 - accuracy: 0.9526 - val_loss: 0.1354 - val_accuracy: 0.9596\n",
      "Epoch 61/100\n",
      "52/52 [==============================] - 77s 1s/step - loss: 0.0943 - accuracy: 0.9757 - val_loss: 0.1486 - val_accuracy: 0.9385\n",
      "Epoch 62/100\n",
      "52/52 [==============================] - 77s 1s/step - loss: 0.1280 - accuracy: 0.9488 - val_loss: 0.1033 - val_accuracy: 0.9596\n",
      "Epoch 63/100\n",
      "52/52 [==============================] - 77s 1s/step - loss: 0.1190 - accuracy: 0.9544 - val_loss: 0.1044 - val_accuracy: 0.9654\n",
      "Epoch 64/100\n",
      "52/52 [==============================] - 78s 1s/step - loss: 0.1040 - accuracy: 0.9659 - val_loss: 0.1036 - val_accuracy: 0.9635\n",
      "Epoch 65/100\n",
      "52/52 [==============================] - 77s 1s/step - loss: 0.1096 - accuracy: 0.9569 - val_loss: 0.1525 - val_accuracy: 0.9462\n",
      "Epoch 66/100\n",
      "52/52 [==============================] - 77s 1s/step - loss: 0.0858 - accuracy: 0.9655 - val_loss: 0.1166 - val_accuracy: 0.9519\n",
      "Epoch 67/100\n",
      "52/52 [==============================] - 77s 1s/step - loss: 0.0918 - accuracy: 0.9628 - val_loss: 0.1097 - val_accuracy: 0.9577\n",
      "Epoch 68/100\n",
      "52/52 [==============================] - 78s 2s/step - loss: 0.1340 - accuracy: 0.9476 - val_loss: 0.1028 - val_accuracy: 0.9635\n",
      "Epoch 69/100\n",
      "52/52 [==============================] - 77s 1s/step - loss: 0.1027 - accuracy: 0.9552 - val_loss: 0.1055 - val_accuracy: 0.9692\n",
      "Epoch 70/100\n",
      "52/52 [==============================] - 78s 1s/step - loss: 0.0951 - accuracy: 0.9593 - val_loss: 0.1405 - val_accuracy: 0.9462\n",
      "Epoch 71/100\n",
      "52/52 [==============================] - 77s 1s/step - loss: 0.1418 - accuracy: 0.9390 - val_loss: 0.0865 - val_accuracy: 0.9692\n",
      "Epoch 72/100\n",
      "52/52 [==============================] - 78s 1s/step - loss: 0.0910 - accuracy: 0.9648 - val_loss: 0.1703 - val_accuracy: 0.9481\n",
      "Epoch 73/100\n",
      "52/52 [==============================] - 77s 1s/step - loss: 0.1266 - accuracy: 0.9524 - val_loss: 0.1267 - val_accuracy: 0.9519\n",
      "Epoch 74/100\n",
      "52/52 [==============================] - 77s 1s/step - loss: 0.0764 - accuracy: 0.9741 - val_loss: 0.0796 - val_accuracy: 0.9731\n",
      "Epoch 75/100\n",
      "52/52 [==============================] - 78s 1s/step - loss: 0.1264 - accuracy: 0.9425 - val_loss: 0.1107 - val_accuracy: 0.9558\n",
      "Epoch 76/100\n",
      "52/52 [==============================] - 78s 2s/step - loss: 0.0941 - accuracy: 0.9659 - val_loss: 0.1102 - val_accuracy: 0.9654\n",
      "Epoch 77/100\n",
      "52/52 [==============================] - 77s 1s/step - loss: 0.1078 - accuracy: 0.9679 - val_loss: 0.1277 - val_accuracy: 0.9481\n",
      "Epoch 78/100\n",
      "52/52 [==============================] - 78s 1s/step - loss: 0.1024 - accuracy: 0.9587 - val_loss: 0.1142 - val_accuracy: 0.9577\n",
      "Epoch 79/100\n",
      "52/52 [==============================] - 77s 1s/step - loss: 0.0893 - accuracy: 0.9674 - val_loss: 0.1049 - val_accuracy: 0.9654\n",
      "Epoch 80/100\n",
      "52/52 [==============================] - 78s 1s/step - loss: 0.0709 - accuracy: 0.9741 - val_loss: 0.1678 - val_accuracy: 0.9538\n",
      "Epoch 81/100\n",
      "52/52 [==============================] - 78s 1s/step - loss: 0.0996 - accuracy: 0.9609 - val_loss: 0.0967 - val_accuracy: 0.9673\n",
      "Epoch 82/100\n",
      "52/52 [==============================] - 78s 1s/step - loss: 0.0881 - accuracy: 0.9683 - val_loss: 0.1012 - val_accuracy: 0.9654\n",
      "Epoch 83/100\n",
      "52/52 [==============================] - 77s 1s/step - loss: 0.0947 - accuracy: 0.9648 - val_loss: 0.0874 - val_accuracy: 0.9673\n",
      "Epoch 84/100\n",
      "52/52 [==============================] - 78s 2s/step - loss: 0.0657 - accuracy: 0.9740 - val_loss: 0.1243 - val_accuracy: 0.9577\n",
      "Epoch 85/100\n",
      "52/52 [==============================] - 78s 1s/step - loss: 0.0786 - accuracy: 0.9678 - val_loss: 0.1256 - val_accuracy: 0.9558\n",
      "Epoch 86/100\n",
      "52/52 [==============================] - 78s 2s/step - loss: 0.0751 - accuracy: 0.9735 - val_loss: 0.1067 - val_accuracy: 0.9519\n",
      "Epoch 87/100\n",
      "52/52 [==============================] - 78s 2s/step - loss: 0.0774 - accuracy: 0.9689 - val_loss: 0.0961 - val_accuracy: 0.9712\n",
      "Epoch 88/100\n",
      "52/52 [==============================] - 77s 1s/step - loss: 0.0820 - accuracy: 0.9710 - val_loss: 0.1319 - val_accuracy: 0.9558\n",
      "Epoch 89/100\n",
      "52/52 [==============================] - 77s 1s/step - loss: 0.0863 - accuracy: 0.9681 - val_loss: 0.1129 - val_accuracy: 0.9654\n",
      "Epoch 90/100\n",
      "52/52 [==============================] - 77s 1s/step - loss: 0.1047 - accuracy: 0.9595 - val_loss: 0.0884 - val_accuracy: 0.9596\n",
      "Epoch 91/100\n",
      "52/52 [==============================] - 77s 1s/step - loss: 0.0664 - accuracy: 0.9709 - val_loss: 0.0891 - val_accuracy: 0.9654\n",
      "Epoch 92/100\n",
      "52/52 [==============================] - 77s 1s/step - loss: 0.0613 - accuracy: 0.9776 - val_loss: 0.1012 - val_accuracy: 0.9635\n",
      "Epoch 93/100\n",
      "52/52 [==============================] - 77s 1s/step - loss: 0.0526 - accuracy: 0.9871 - val_loss: 0.1806 - val_accuracy: 0.9442\n",
      "Epoch 94/100\n",
      "52/52 [==============================] - 78s 1s/step - loss: 0.0793 - accuracy: 0.9695 - val_loss: 0.0868 - val_accuracy: 0.9692\n",
      "Epoch 95/100\n",
      "52/52 [==============================] - 77s 1s/step - loss: 0.0624 - accuracy: 0.9752 - val_loss: 0.0964 - val_accuracy: 0.9558\n",
      "Epoch 96/100\n",
      "52/52 [==============================] - 78s 1s/step - loss: 0.0760 - accuracy: 0.9696 - val_loss: 0.1044 - val_accuracy: 0.9635\n",
      "Epoch 97/100\n",
      "52/52 [==============================] - 77s 1s/step - loss: 0.0715 - accuracy: 0.9772 - val_loss: 0.1007 - val_accuracy: 0.9673\n",
      "Epoch 98/100\n",
      "52/52 [==============================] - 78s 1s/step - loss: 0.0707 - accuracy: 0.9690 - val_loss: 0.1350 - val_accuracy: 0.9635\n",
      "Epoch 99/100\n",
      "52/52 [==============================] - 77s 1s/step - loss: 0.0702 - accuracy: 0.9734 - val_loss: 0.0996 - val_accuracy: 0.9692\n",
      "Epoch 100/100\n",
      "52/52 [==============================] - 77s 1s/step - loss: 0.0592 - accuracy: 0.9815 - val_loss: 0.1280 - val_accuracy: 0.9596\n"
     ]
    }
   ],
   "source": [
    "# Train the model\n",
    "\n",
    "history = model.fit_generator(\n",
    "    train_generator,                      # Stream pages from training directory\n",
    "    steps_per_epoch= train_steps,         # 2080 images in training / 80 batch size\n",
    "    epochs= 100,                          # number of epochs\n",
    "    validation_data=validation_generator, # validation set\n",
    "    validation_steps= val_steps,          # 520 pages / 80 batch size\n",
    "    verbose=1                             # progress animation\n",
    "    )"
   ]
  },
  {
   "cell_type": "markdown",
   "metadata": {
    "id": "rBSEHlnH4upv"
   },
   "source": [
    "#### 3.2.2 Plot the results"
   ]
  },
  {
   "cell_type": "code",
   "execution_count": 13,
   "metadata": {
    "colab": {
     "base_uri": "https://localhost:8080/",
     "height": 545
    },
    "executionInfo": {
     "elapsed": 860,
     "status": "ok",
     "timestamp": 1611432660322,
     "user": {
      "displayName": "Ir Ka",
      "photoUrl": "",
      "userId": "05728717612783919448"
     },
     "user_tz": -60
    },
    "id": "RPxL0VgG3tqo",
    "outputId": "1e97117a-0247-4b58-8c32-3c0eead347c6"
   },
   "outputs": [
    {
     "data": {
      "image/png": "[encoded data removed]",
      "text/plain": [
       "<Figure size 432x288 with 1 Axes>"
      ]
     },
     "metadata": {
      "needs_background": "light",
      "tags": []
     },
     "output_type": "display_data"
    },
    {
     "data": {
      "image/png": "[encoded data removed]",
      "text/plain": [
       "<Figure size 432x288 with 1 Axes>"
      ]
     },
     "metadata": {
      "needs_background": "light",
      "tags": []
     },
     "output_type": "display_data"
    }
   ],
   "source": [
    "# Plot loss and accuracy\n",
    "\n",
    "## Retrieve a list of results for each training epoch:\n",
    "acc      = history.history[     'accuracy' ]\n",
    "val_acc  = history.history[ 'val_accuracy' ]\n",
    "loss     = history.history[    'loss' ]\n",
    "val_loss = history.history['val_loss' ]\n",
    "\n",
    "## Get number of epochs:\n",
    "epochs   = range(len(acc))\n",
    "\n",
    "## Plot training and validation accuracy per epoch:\n",
    "plt.plot(epochs, acc, 'r', label='Training accuracy')\n",
    "plt.plot(epochs, val_acc, 'b', label='Validation accuracy')\n",
    "plt.title('Training and validation accuracy')\n",
    "\n",
    "plt.figure()\n",
    "\n",
    "## Plot training and validation loss per epoch:\n",
    "plt.plot(epochs, loss, 'r', label='Training Loss')\n",
    "plt.plot(epochs, val_loss, 'b', label='Validation Loss')\n",
    "plt.title('Training and validation loss')\n",
    "plt.legend()\n",
    "\n",
    "plt.show()"
   ]
  },
  {
   "cell_type": "markdown",
   "metadata": {
    "id": "VkYjSnyp4zpu"
   },
   "source": [
    "#### 3.2.3 Save/ Load the model"
   ]
  },
  {
   "cell_type": "code",
   "execution_count": 14,
   "metadata": {
    "executionInfo": {
     "elapsed": 537,
     "status": "ok",
     "timestamp": 1611433006719,
     "user": {
      "displayName": "Ir Ka",
      "photoUrl": "",
      "userId": "05728717612783919448"
     },
     "user_tz": -60
    },
    "id": "fHufM1ID43Jr"
   },
   "outputs": [],
   "source": [
    "# Model name and path\n",
    "modelname = \"/content/drive/My Drive/Tensorflow/CNN_Illustrations_final.h5\""
   ]
  },
  {
   "cell_type": "code",
   "execution_count": 15,
   "metadata": {
    "executionInfo": {
     "elapsed": 489,
     "status": "ok",
     "timestamp": 1611433009773,
     "user": {
      "displayName": "Ir Ka",
      "photoUrl": "",
      "userId": "05728717612783919448"
     },
     "user_tz": -60
    },
    "id": "AxDShgzy4_eN"
   },
   "outputs": [],
   "source": [
    "# Save the model\n",
    "model.save(modelname)"
   ]
  },
  {
   "cell_type": "code",
   "execution_count": null,
   "metadata": {
    "id": "OS_YRKWg5aYn"
   },
   "outputs": [],
   "source": [
    "# Load a saved model:\n",
    "\n",
    "model = keras.models.load_model(modelname, compile=False)"
   ]
  },
  {
   "cell_type": "markdown",
   "metadata": {
    "id": "8nhoI7c25dpu"
   },
   "source": [
    "### 3.3 Check files in directory\n",
    "\n",
    "Now I upload the pages of an unseen book into a google drive directory. The scans will be classified as \"illustration\" or \"no illustration\" and copied into new directories."
   ]
  },
  {
   "cell_type": "code",
   "execution_count": 94,
   "metadata": {
    "colab": {
     "base_uri": "https://localhost:8080/"
    },
    "executionInfo": {
     "elapsed": 4473,
     "status": "ok",
     "timestamp": 1611448373746,
     "user": {
      "displayName": "Ir Ka",
      "photoUrl": "",
      "userId": "05728717612783919448"
     },
     "user_tz": -60
    },
    "id": "ikzXtch05sbX",
    "outputId": "4342d966-3ba0-4310-86cd-7ed1a54a7f6d"
   },
   "outputs": [
    {
     "name": "stdout",
     "output_type": "stream",
     "text": [
      "There are 792 scans to check.\n"
     ]
    }
   ],
   "source": [
    "# Directory with the files to check:\n",
    "base_check_dir = \"/content/drive/My Drive/Tensorflow/Data/predict\"\n",
    "check_dir = os.path.join(base_check_dir, 'org')\n",
    "\n",
    "\n",
    "# Load into a list:\n",
    "check_lst = os.listdir(check_dir )\n",
    "\n",
    "print(\"There are\", len(check_lst), \"scans to check.\")"
   ]
  },
  {
   "cell_type": "code",
   "execution_count": 95,
   "metadata": {
    "executionInfo": {
     "elapsed": 265415,
     "status": "ok",
     "timestamp": 1611448650992,
     "user": {
      "displayName": "Ir Ka",
      "photoUrl": "",
      "userId": "05728717612783919448"
     },
     "user_tz": -60
    },
    "id": "Oe75rjmF64jW"
   },
   "outputs": [],
   "source": [
    "# create two lists check_pic (contains all pages with pictures) and check_no_pic (contains the rest)\n",
    "\n",
    "## Create 2 lists:\n",
    "check_pic =[]         #for pictures\n",
    "check_no_pic = []     #for only text\n",
    "\n",
    "## Predict for every picture in list:\n",
    "for i in check_lst:\n",
    "\n",
    "  ## Path of the picture:\n",
    "  path = os.path.join(check_dir, i)\n",
    "  ## Load the image to the target size of the model:\n",
    "  img=image.load_img(path, target_size=(imagesize_x, imagesize_y))\n",
    "\n",
    "  ## import the scans into a numpy array:\n",
    "  x=image.img_to_array(img)\n",
    "  x=np.expand_dims(x, axis=0)\n",
    "  images = np.vstack([x])\n",
    "  \n",
    "  ## Predict the class of the image:\n",
    "  classes = model.predict(images, batch_size=10)\n",
    "  \n",
    "  if classes[0]>0:\n",
    "    check_pic.append(i)\n",
    "\n",
    "  else:\n",
    "    check_no_pic.append(i)\n"
   ]
  },
  {
   "cell_type": "code",
   "execution_count": 96,
   "metadata": {
    "executionInfo": {
     "elapsed": 537,
     "status": "ok",
     "timestamp": 1611448989436,
     "user": {
      "displayName": "Ir Ka",
      "photoUrl": "",
      "userId": "05728717612783919448"
     },
     "user_tz": -60
    },
    "id": "Z9Ade2Bh8d9X"
   },
   "outputs": [],
   "source": [
    "# Create the diretories \"pictures\" / \"no_pictures\"\n",
    "\n",
    "path_check_pics = os.path.join(base_check_dir, \"pictures\")\n",
    "path_check_no_pics = os.path.join(base_check_dir, \"no pictures\")\n",
    "\n",
    "os.mkdir(path_check_pics)\n",
    "os.mkdir(path_check_no_pics)"
   ]
  },
  {
   "cell_type": "code",
   "execution_count": 97,
   "metadata": {
    "executionInfo": {
     "elapsed": 9878,
     "status": "ok",
     "timestamp": 1611449008479,
     "user": {
      "displayName": "Ir Ka",
      "photoUrl": "",
      "userId": "05728717612783919448"
     },
     "user_tz": -60
    },
    "id": "8AsHxJCc93lH"
   },
   "outputs": [],
   "source": [
    "# Copy the files to the directories\n",
    "\n",
    "\n",
    "for i in check_pic:\n",
    "\n",
    "  path_source =  os.path.join(check_dir, i)\n",
    "  path_destination = os.path.join(path_check_pics, i)\n",
    "  copyfile(path_source, path_destination)\n",
    "\n",
    "for i in check_no_pic:\n",
    "\n",
    "  path_source =  os.path.join(check_dir, i)\n",
    "  path_destination = os.path.join(path_check_no_pics, i)\n",
    "  copyfile(path_source, path_destination)"
   ]
  },
  {
   "cell_type": "markdown",
   "metadata": {
    "id": "TnZdj_0YrDWo"
   },
   "source": [
    "# Classification into types of astronomical instruments"
   ]
  },
  {
   "cell_type": "markdown",
   "metadata": {
    "id": "XT7kQMJY1uNq"
   },
   "source": [
    "**Do the found illustrations show an astronomical instrument?**\n",
    "\n",
    "In this part I want to try to find astronomical instruments in the illustrations. Therefore I will train a second CNN."
   ]
  },
  {
   "cell_type": "markdown",
   "metadata": {
    "id": "6l6YcU3IFvUw"
   },
   "source": [
    "## <h2> 4. Prepare the trainig data (Jupyter) </h2>"
   ]
  },
  {
   "cell_type": "markdown",
   "metadata": {
    "id": "YBaSnYHeH7Dp"
   },
   "source": [
    "The number of scans that actually show an astronomical instrument is quite low. I added real pictures of these instruments and graphics from other sources to the dataset. After combining several similar types of instruments to one class, I have these three classes:\n",
    "1. Armillary (armillary spheres and astrolabs) - 87\n",
    "2. Quadrant (quadrants, sextants, octants and cross staffs) - 248\n",
    "3. Telescopes (telescopes, helioscopes) - 90\n",
    "\n",
    "I add a fourth class for illustrations that do not show an instrument:\n",
    "4. Nothing ( illustrations without instruments)\n",
    "\n",
    "I see this part as an addition to the main project where I can try out a multi-categorical CNN. So I proceed despite the probably non sufficient dataset."
   ]
  },
  {
   "cell_type": "markdown",
   "metadata": {},
   "source": [
    "### 4.1 Create dataset for the class \"Nothing\""
   ]
  },
  {
   "cell_type": "code",
   "execution_count": 7,
   "metadata": {},
   "outputs": [
    {
     "name": "stdout",
     "output_type": "stream",
     "text": [
      "Number of files in \"pictures\": 2012\n"
     ]
    }
   ],
   "source": [
    "# Create list with files\n",
    "\n",
    "## directory/list with all pictures (the same variables as in 2.3 )\n",
    "directory_org = 'D:/Dokumente/Studium/Opencampus/TensorFlow/Code'\n",
    "path_pics = os.path.join(directory_org, \"Data\", \"initial\", \"pictures\")\n",
    "pic_lst = os.listdir( path_pics )\n",
    "print(\"Number of files in \\\"pictures\\\":\", len(pic_lst))"
   ]
  },
  {
   "cell_type": "code",
   "execution_count": 5,
   "metadata": {},
   "outputs": [],
   "source": [
    "# Draw randomly from the list\n",
    "\n",
    "number_pics = 400 #number of pictures to manually classify (\"Nothing\")\n",
    "\n",
    "rand_pic_lst = random.sample(pic_lst, number_pics)"
   ]
  },
  {
   "cell_type": "code",
   "execution_count": 16,
   "metadata": {},
   "outputs": [],
   "source": [
    "# Create the directory\n",
    "\n",
    "base_path_source = os.path.join(directory_org, \"Data\", \"Classify\", )\n",
    "path_nothing = os.path.join(base_path_source, \"initial\", \"Nothing\")\n",
    "os.mkdir(path_nothing)"
   ]
  },
  {
   "cell_type": "code",
   "execution_count": 9,
   "metadata": {},
   "outputs": [],
   "source": [
    "# Copy the files to directory \"initial\"\n",
    "\n",
    "for i in rand_pic_lst:\n",
    "    path_source =  os.path.join(path_pics, i)\n",
    "    path_destination = os.path.join(path_nothing, i)\n",
    "    copyfile(path_source, path_destination)"
   ]
  },
  {
   "cell_type": "markdown",
   "metadata": {},
   "source": [
    "---\n",
    "At this point I **manually check** the scans in the folder \"Nothing\" and delete all pictures that belong to one of the other three categories.\n",
    "\n",
    "---"
   ]
  },
  {
   "cell_type": "code",
   "execution_count": 17,
   "metadata": {},
   "outputs": [
    {
     "name": "stdout",
     "output_type": "stream",
     "text": [
      "Number of scans per class in the initial dataset: \n",
      "\n",
      "Armillary: 87\n",
      "Nothing: 255\n",
      "Quadrant: 248\n",
      "Telescope: 90\n"
     ]
    }
   ],
   "source": [
    "# Create four lists with the initial file names\n",
    "\n",
    "path_armillary = os.path.join(base_path_source, \"initial\", 'Armillary',)\n",
    "path_quadrant = os.path.join(base_path_source, \"initial\", 'Quadrant')\n",
    "path_telescope = os.path.join(base_path_source, \"initial\", 'Telescope')\n",
    "\n",
    "armillary_lst = os.listdir(path_armillary)\n",
    "nothing_lst = os.listdir( path_nothing)\n",
    "quadrant_lst = os.listdir( path_quadrant)\n",
    "telescope_lst = os.listdir( path_telescope)\n",
    "\n",
    "print(\"Number of scans per class in the initial dataset: \\n\")\n",
    "print(\"Armillary:\", len(armillary_lst))\n",
    "print(\"Nothing:\", len(nothing_lst))\n",
    "print(\"Quadrant:\", len(quadrant_lst))\n",
    "print(\"Telescope:\", len(telescope_lst))"
   ]
  },
  {
   "cell_type": "markdown",
   "metadata": {},
   "source": [
    "### 4.2 Split into training and validation set"
   ]
  },
  {
   "cell_type": "code",
   "execution_count": 22,
   "metadata": {},
   "outputs": [],
   "source": [
    "# Define lists with the classes\n",
    "class_lst = [armillary_lst, nothing_lst, quadrant_lst, telescope_lst]\n",
    "class_names = ['Armillary', 'Nothing', 'Quadrant', 'Telescope' ]"
   ]
  },
  {
   "cell_type": "code",
   "execution_count": 24,
   "metadata": {},
   "outputs": [],
   "source": [
    "# Create training and validation directories\n",
    "\n",
    "os.mkdir(os.path.join(base_path_source, \"train\"))\n",
    "os.mkdir(os.path.join(base_path_source, \"validate\"))\n",
    "          \n",
    "for i in range(0,4):\n",
    "    os.mkdir(os.path.join(base_path_source, \"train\",class_names[i]))\n",
    "    os.mkdir(os.path.join(base_path_source, \"validate\",class_names[i]))\n"
   ]
  },
  {
   "cell_type": "code",
   "execution_count": 25,
   "metadata": {},
   "outputs": [],
   "source": [
    "# Shuffle, split and copy the files into the directories: \n",
    "\n",
    "for i in range(0,4):\n",
    "    ### Split 80-20:\n",
    "    split = int(len(class_lst[i])*0.8)\n",
    "    \n",
    "    ### Shuffle the list\n",
    "    random.shuffle (class_lst[i])\n",
    "    \n",
    "    path_source = os.path.join(base_path_source, \"initial\", class_names[i])\n",
    "    path_train = os.path.join(base_path_source, 'train', class_names[i],)\n",
    "    path_validation = os.path.join(base_path_source,\"validate\", class_names[i])\n",
    "    \n",
    "    ### Copy the files:\n",
    "    for k in class_lst[i][:split]:\n",
    "        path_source_2 =  os.path.join(path_source, k)\n",
    "        path_destination_2 = os.path.join(path_train, k)\n",
    "        copyfile(path_source_2, path_destination_2)\n",
    "        \n",
    "    for j in class_lst[i][split:]:\n",
    "        path_source_2 =  os.path.join(path_source, j)\n",
    "        path_destination_2 = os.path.join(path_validation, j)\n",
    "        copyfile(path_source_2, path_destination_2)"
   ]
  },
  {
   "cell_type": "code",
   "execution_count": 31,
   "metadata": {},
   "outputs": [
    {
     "name": "stdout",
     "output_type": "stream",
     "text": [
      "total training pictures for Armillary : 69\n",
      "total validation pictures for Armillary : 18\n",
      "\n",
      "total training pictures for Nothing : 204\n",
      "total validation pictures for Nothing : 51\n",
      "\n",
      "total training pictures for Quadrant : 198\n",
      "total validation pictures for Quadrant : 50\n",
      "\n",
      "total training pictures for Telescope : 72\n",
      "total validation pictures for Telescope : 18\n",
      "\n"
     ]
    }
   ],
   "source": [
    "#Check the number of pictures in each folder:\n",
    "\n",
    "for i in range(0,4):\n",
    "    print(\"total training pictures for\", class_names[i], \":\", len(os.listdir(os.path.join(base_path_source, \"train\", class_names[i]))))\n",
    "    print(\"total validation pictures for\", class_names[i],\":\", len(os.listdir(os.path.join(base_path_source, \"validate\", class_names[i]))))\n",
    "    print()"
   ]
  },
  {
   "cell_type": "markdown",
   "metadata": {},
   "source": [
    "I know upload the directories to google drive to continue the calcualtion in google colab.\n",
    "Although the amount of training data is rather small, I want see what kind of results I am able to get."
   ]
  },
  {
   "cell_type": "markdown",
   "metadata": {
    "id": "FhLoAyvqITjA"
   },
   "source": [
    "## <h2>5. Train the second CNN (in Google Colab) </h2>"
   ]
  },
  {
   "cell_type": "markdown",
   "metadata": {
    "id": "uSVkirxO2T1Y"
   },
   "source": [
    "### 5.1 Load the images"
   ]
  },
  {
   "cell_type": "code",
   "execution_count": 28,
   "metadata": {
    "executionInfo": {
     "elapsed": 569,
     "status": "ok",
     "timestamp": 1611437299162,
     "user": {
      "displayName": "Ir Ka",
      "photoUrl": "",
      "userId": "05728717612783919448"
     },
     "user_tz": -60
    },
    "id": "sJ3Kj_r-Itrg"
   },
   "outputs": [],
   "source": [
    "# Define the directories that contain the data. The data was uploaded to google drive.\n",
    "\n",
    "## Path to base directory that contains the data:\n",
    "base_classify_dir = \"/content/drive/My Drive/Tensorflow/Data/Classify\"\n",
    "\n",
    "## Path to training and validation directories:\n",
    "train_classify_dir = os.path.join(base_classify_dir, 'train')\n",
    "validation_classify_dir = os.path.join(base_classify_dir, 'validate')\n",
    "\n",
    "## List of subdirectories inside the training directory:\n",
    "class_names = ['Armillary',  'Nothing', 'Quadrant', 'Telescope']\n",
    "\n",
    "## Lists with the directories:\n",
    "train_dirs = []\n",
    "validation_dirs = []\n",
    "\n",
    "for i in range(0,4):\n",
    "  train_dirs.append(os.path.join(train_classify_dir, class_names[i]))\n",
    "  validation_dirs.append(os.path.join(validation_classify_dir, class_names[i]))"
   ]
  },
  {
   "cell_type": "code",
   "execution_count": 29,
   "metadata": {
    "colab": {
     "base_uri": "https://localhost:8080/"
    },
    "executionInfo": {
     "elapsed": 2435,
     "status": "ok",
     "timestamp": 1611437329223,
     "user": {
      "displayName": "Ir Ka",
      "photoUrl": "",
      "userId": "05728717612783919448"
     },
     "user_tz": -60
    },
    "id": "d0ZsfdVdJe9h",
    "outputId": "98f0771f-f4af-438c-c70a-a33c5c547ee8"
   },
   "outputs": [
    {
     "name": "stdout",
     "output_type": "stream",
     "text": [
      "total training pictures for Armillary : 69\n",
      "total validation pictures for Armillary : 18\n",
      "\n",
      "total training pictures for Nothing : 204\n",
      "total validation pictures for Nothing : 51\n",
      "\n",
      "total training pictures for Quadrant : 198\n",
      "total validation pictures for Quadrant : 50\n",
      "\n",
      "total training pictures for Telescope : 72\n",
      "total validation pictures for Telescope : 18\n",
      "\n",
      "Sum of all training pictures: 543\n",
      "Sum of all validation pictures: 137\n"
     ]
    }
   ],
   "source": [
    "#Check the number of pictures in each folder:\n",
    "\n",
    "train_sum = 0\n",
    "valid_sum =0\n",
    "\n",
    "for i in range(0,4):\n",
    "  print(\"total training pictures for\", class_names[i], \":\", len(os.listdir(train_dirs[i])))\n",
    "  print(\"total validation pictures for\", class_names[i],\":\", len(os.listdir(validation_dirs[i])))\n",
    "  print()\n",
    "  train_sum = train_sum + len(os.listdir(train_dirs[i]))\n",
    "  valid_sum = valid_sum + len(os.listdir(validation_dirs[i]))\n",
    "\n",
    "print(\"Sum of all training pictures:\", train_sum)\n",
    "print(\"Sum of all validation pictures:\", valid_sum)"
   ]
  },
  {
   "cell_type": "markdown",
   "metadata": {
    "id": "PNJ7w6zvJzSO"
   },
   "source": [
    "### 5.2 Augment the images"
   ]
  },
  {
   "cell_type": "code",
   "execution_count": 42,
   "metadata": {
    "executionInfo": {
     "elapsed": 533,
     "status": "ok",
     "timestamp": 1611438965440,
     "user": {
      "displayName": "Ir Ka",
      "photoUrl": "",
      "userId": "05728717612783919448"
     },
     "user_tz": -60
    },
    "id": "-cLzqH77K-7P"
   },
   "outputs": [],
   "source": [
    "# Define model parameters\n",
    "\n",
    "## Rescale images to:\n",
    "classify_imagesize_x = 300\n",
    "classify_imagesize_y = 450\n",
    "\n",
    "## Batch sizes:\n",
    "batchsize_classify_t = 20\n",
    "batchsize_classify_v = 5\n",
    "\n",
    "\n",
    "# weights\n",
    "#weights = {0: 3., 1: 1., 2: 1., 3: 3.}"
   ]
  },
  {
   "cell_type": "code",
   "execution_count": 30,
   "metadata": {
    "executionInfo": {
     "elapsed": 621,
     "status": "ok",
     "timestamp": 1611437602788,
     "user": {
      "displayName": "Ir Ka",
      "photoUrl": "",
      "userId": "05728717612783919448"
     },
     "user_tz": -60
    },
    "id": "4JfsXydAJ-YA"
   },
   "outputs": [],
   "source": [
    "# Use Image Generator to label and augment the pictures\n",
    "\n",
    "## Image Augmentation:\n",
    "train_classify_datagen = ImageDataGenerator( \n",
    "    rescale = 1.0/255. ,           \n",
    "    rotation_range = 45,            \n",
    "    width_shift_range = 0.1,\n",
    "    height_shift_range = 0.1,\n",
    "    zoom_range = 0.2,\n",
    "    shear_range = 0.05,\n",
    "    horizontal_flip = True,\n",
    "    vertical_flip = True,\n",
    "    fill_mode = \"nearest\"   \n",
    "    )\n",
    "\n",
    "\n",
    "valid_classify_datagen  = ImageDataGenerator( rescale = 1.0/255. )"
   ]
  },
  {
   "cell_type": "code",
   "execution_count": 32,
   "metadata": {
    "colab": {
     "base_uri": "https://localhost:8080/"
    },
    "executionInfo": {
     "elapsed": 627,
     "status": "ok",
     "timestamp": 1611437907379,
     "user": {
      "displayName": "Ir Ka",
      "photoUrl": "",
      "userId": "05728717612783919448"
     },
     "user_tz": -60
    },
    "id": "nFTNTJAWKo1Y",
    "outputId": "1dab9bb9-8419-46d8-d7b5-dfd66bfb7bc2"
   },
   "outputs": [
    {
     "name": "stdout",
     "output_type": "stream",
     "text": [
      "Found 538 images belonging to 4 classes.\n",
      "Found 137 images belonging to 4 classes.\n"
     ]
    }
   ],
   "source": [
    "# Load the pictures\n",
    "\n",
    "# Load the pictures from the training directory:\n",
    "train_classify_generator = train_classify_datagen.flow_from_directory(\n",
    "    train_classify_dir,                                             \n",
    "    target_size=(classify_imagesize_x, classify_imagesize_y),                               \n",
    "    batch_size= batchsize_classify_t,                      \n",
    "    class_mode='categorical'                           # there are 4 classes\n",
    "                                                    )     \n",
    "\n",
    "# Load the pictures from the validation directory\n",
    "\n",
    "validation_classify_generator =  valid_classify_datagen.flow_from_directory(\n",
    "    validation_classify_dir,                               \n",
    "    target_size = (classify_imagesize_x, classify_imagesize_y),                                         \n",
    "    batch_size= batchsize_classify_v,                      \n",
    "    class_mode  = 'categorical'                    \n",
    "                                                         )"
   ]
  },
  {
   "cell_type": "markdown",
   "metadata": {
    "id": "retbaByFL7UQ"
   },
   "source": [
    "### 5.3 Set up the model"
   ]
  },
  {
   "cell_type": "code",
   "execution_count": 35,
   "metadata": {
    "colab": {
     "base_uri": "https://localhost:8080/"
    },
    "executionInfo": {
     "elapsed": 518,
     "status": "ok",
     "timestamp": 1611438234367,
     "user": {
      "displayName": "Ir Ka",
      "photoUrl": "",
      "userId": "05728717612783919448"
     },
     "user_tz": -60
    },
    "id": "sIwV_HQLMCE4",
    "outputId": "dc1482c2-f4c5-49ce-d475-7d9b5561c014"
   },
   "outputs": [
    {
     "name": "stdout",
     "output_type": "stream",
     "text": [
      "Model: \"sequential_2\"\n",
      "_________________________________________________________________\n",
      "Layer (type)                 Output Shape              Param #   \n",
      "=================================================================\n",
      "conv2d_6 (Conv2D)            (None, 298, 448, 128)     3584      \n",
      "_________________________________________________________________\n",
      "max_pooling2d_6 (MaxPooling2 (None, 149, 224, 128)     0         \n",
      "_________________________________________________________________\n",
      "conv2d_7 (Conv2D)            (None, 147, 222, 64)      73792     \n",
      "_________________________________________________________________\n",
      "max_pooling2d_7 (MaxPooling2 (None, 73, 111, 64)       0         \n",
      "_________________________________________________________________\n",
      "conv2d_8 (Conv2D)            (None, 71, 109, 64)       36928     \n",
      "_________________________________________________________________\n",
      "max_pooling2d_8 (MaxPooling2 (None, 35, 54, 64)        0         \n",
      "_________________________________________________________________\n",
      "flatten_2 (Flatten)          (None, 120960)            0         \n",
      "_________________________________________________________________\n",
      "dense_4 (Dense)              (None, 100)               12096100  \n",
      "_________________________________________________________________\n",
      "dropout_2 (Dropout)          (None, 100)               0         \n",
      "_________________________________________________________________\n",
      "dense_5 (Dense)              (None, 4)                 404       \n",
      "=================================================================\n",
      "Total params: 12,210,808\n",
      "Trainable params: 12,210,808\n",
      "Non-trainable params: 0\n",
      "_________________________________________________________________\n"
     ]
    }
   ],
   "source": [
    "# Set up the model\n",
    "\n",
    "model_classify = tf.keras.models.Sequential([\n",
    "    \n",
    "    ## First convolution layer:\n",
    "    tf.keras.layers.Conv2D(128, (3,3), activation='relu', input_shape=(classify_imagesize_x, classify_imagesize_y, 3)),\n",
    "    tf.keras.layers.MaxPooling2D(2,2),\n",
    "    \n",
    "    ## Second convolution layer:\n",
    "    tf.keras.layers.Conv2D(64, (3,3), activation='relu'),\n",
    "    tf.keras.layers.MaxPooling2D(2,2), \n",
    "    \n",
    "    ## Third convolution layer:\n",
    "    tf.keras.layers.Conv2D(64, (3,3), activation='relu'), \n",
    "    tf.keras.layers.MaxPooling2D(2,2),\n",
    " \n",
    "    ## Flatten the results:\n",
    "    tf.keras.layers.Flatten(), \n",
    "\n",
    "    ## Hidden layer:\n",
    "    tf.keras.layers.Dense(100, activation='relu'), \n",
    "\n",
    "    ## Dropout layer:\n",
    "    tf.keras.layers.Dropout(0.2), \n",
    "\n",
    "    # Output layer with 4 neurons:\n",
    "    tf.keras.layers.Dense(4, activation='softmax')  \n",
    "])\n",
    "\n",
    "model_classify.summary()"
   ]
  },
  {
   "cell_type": "code",
   "execution_count": 38,
   "metadata": {
    "executionInfo": {
     "elapsed": 492,
     "status": "ok",
     "timestamp": 1611438483380,
     "user": {
      "displayName": "Ir Ka",
      "photoUrl": "",
      "userId": "05728717612783919448"
     },
     "user_tz": -60
    },
    "id": "l-0zU96WMg_Q"
   },
   "outputs": [],
   "source": [
    "# Compile the model\n",
    "\n",
    "model_classify.compile(\n",
    "    optimizer= \"adam\",       \n",
    "    loss='categorical_crossentropy',         # categorical because there are 4 classes\n",
    "    metrics = ['accuracy']\n",
    "    )"
   ]
  },
  {
   "cell_type": "markdown",
   "metadata": {
    "id": "IG4hlwE_NRIQ"
   },
   "source": [
    "### 5.4 Train the model"
   ]
  },
  {
   "cell_type": "code",
   "execution_count": 44,
   "metadata": {
    "colab": {
     "base_uri": "https://localhost:8080/"
    },
    "executionInfo": {
     "elapsed": 4963115,
     "status": "ok",
     "timestamp": 1611444465478,
     "user": {
      "displayName": "Ir Ka",
      "photoUrl": "",
      "userId": "05728717612783919448"
     },
     "user_tz": -60
    },
    "id": "w_7q4QVrNUt3",
    "outputId": "22f28cf3-64d9-4063-d1dc-e2b33c445227"
   },
   "outputs": [
    {
     "name": "stderr",
     "output_type": "stream",
     "text": [
      "/usr/local/lib/python3.6/dist-packages/tensorflow/python/keras/engine/training.py:1844: UserWarning: `Model.fit_generator` is deprecated and will be removed in a future version. Please use `Model.fit`, which supports generators.\n",
      "  warnings.warn('`Model.fit_generator` is deprecated and '\n"
     ]
    },
    {
     "name": "stdout",
     "output_type": "stream",
     "text": [
      "Epoch 1/100\n",
      "26/26 [==============================] - 50s 2s/step - loss: 1.2710 - accuracy: 0.3996 - val_loss: 1.2775 - val_accuracy: 0.3615\n",
      "Epoch 2/100\n",
      "26/26 [==============================] - 50s 2s/step - loss: 1.2691 - accuracy: 0.4170 - val_loss: 1.3007 - val_accuracy: 0.3615\n",
      "Epoch 3/100\n",
      "26/26 [==============================] - 50s 2s/step - loss: 1.2722 - accuracy: 0.3996 - val_loss: 1.2647 - val_accuracy: 0.3385\n",
      "Epoch 4/100\n",
      "26/26 [==============================] - 50s 2s/step - loss: 1.2642 - accuracy: 0.4286 - val_loss: 1.2900 - val_accuracy: 0.3308\n",
      "Epoch 5/100\n",
      "26/26 [==============================] - 50s 2s/step - loss: 1.2645 - accuracy: 0.4131 - val_loss: 1.2843 - val_accuracy: 0.3615\n",
      "Epoch 6/100\n",
      "26/26 [==============================] - 50s 2s/step - loss: 1.2510 - accuracy: 0.4479 - val_loss: 1.3051 - val_accuracy: 0.3923\n",
      "Epoch 7/100\n",
      "26/26 [==============================] - 50s 2s/step - loss: 1.2527 - accuracy: 0.4324 - val_loss: 1.2343 - val_accuracy: 0.3923\n",
      "Epoch 8/100\n",
      "26/26 [==============================] - 50s 2s/step - loss: 1.2495 - accuracy: 0.4305 - val_loss: 1.2723 - val_accuracy: 0.3923\n",
      "Epoch 9/100\n",
      "26/26 [==============================] - 50s 2s/step - loss: 1.2575 - accuracy: 0.4228 - val_loss: 1.2566 - val_accuracy: 0.3615\n",
      "Epoch 10/100\n",
      "26/26 [==============================] - 50s 2s/step - loss: 1.2654 - accuracy: 0.4382 - val_loss: 1.2585 - val_accuracy: 0.3846\n",
      "Epoch 11/100\n",
      "26/26 [==============================] - 50s 2s/step - loss: 1.2539 - accuracy: 0.4363 - val_loss: 1.2573 - val_accuracy: 0.3538\n",
      "Epoch 12/100\n",
      "26/26 [==============================] - 50s 2s/step - loss: 1.2553 - accuracy: 0.4382 - val_loss: 1.2506 - val_accuracy: 0.3846\n",
      "Epoch 13/100\n",
      "26/26 [==============================] - 50s 2s/step - loss: 1.2564 - accuracy: 0.4093 - val_loss: 1.2652 - val_accuracy: 0.3846\n",
      "Epoch 14/100\n",
      "26/26 [==============================] - 50s 2s/step - loss: 1.2611 - accuracy: 0.4286 - val_loss: 1.2527 - val_accuracy: 0.3615\n",
      "Epoch 15/100\n",
      "26/26 [==============================] - 50s 2s/step - loss: 1.2319 - accuracy: 0.4595 - val_loss: 1.2381 - val_accuracy: 0.4462\n",
      "Epoch 16/100\n",
      "26/26 [==============================] - 50s 2s/step - loss: 1.2483 - accuracy: 0.4459 - val_loss: 1.3105 - val_accuracy: 0.3769\n",
      "Epoch 17/100\n",
      "26/26 [==============================] - 50s 2s/step - loss: 1.2638 - accuracy: 0.4344 - val_loss: 1.2359 - val_accuracy: 0.3692\n",
      "Epoch 18/100\n",
      "26/26 [==============================] - 50s 2s/step - loss: 1.2358 - accuracy: 0.4575 - val_loss: 1.2884 - val_accuracy: 0.3769\n",
      "Epoch 19/100\n",
      "26/26 [==============================] - 50s 2s/step - loss: 1.2271 - accuracy: 0.4421 - val_loss: 1.2818 - val_accuracy: 0.4385\n",
      "Epoch 20/100\n",
      "26/26 [==============================] - 50s 2s/step - loss: 1.2306 - accuracy: 0.4807 - val_loss: 1.2456 - val_accuracy: 0.4462\n",
      "Epoch 21/100\n",
      "26/26 [==============================] - 50s 2s/step - loss: 1.2152 - accuracy: 0.4691 - val_loss: 1.2537 - val_accuracy: 0.4615\n",
      "Epoch 22/100\n",
      "26/26 [==============================] - 50s 2s/step - loss: 1.2270 - accuracy: 0.4730 - val_loss: 1.2089 - val_accuracy: 0.4538\n",
      "Epoch 23/100\n",
      "26/26 [==============================] - 49s 2s/step - loss: 1.2278 - accuracy: 0.4459 - val_loss: 1.2392 - val_accuracy: 0.3846\n",
      "Epoch 24/100\n",
      "26/26 [==============================] - 50s 2s/step - loss: 1.2218 - accuracy: 0.4633 - val_loss: 1.2559 - val_accuracy: 0.4769\n",
      "Epoch 25/100\n",
      "26/26 [==============================] - 50s 2s/step - loss: 1.2156 - accuracy: 0.4730 - val_loss: 1.2152 - val_accuracy: 0.4538\n",
      "Epoch 26/100\n",
      "26/26 [==============================] - 50s 2s/step - loss: 1.2117 - accuracy: 0.4826 - val_loss: 1.1948 - val_accuracy: 0.4769\n",
      "Epoch 27/100\n",
      "26/26 [==============================] - 50s 2s/step - loss: 1.2061 - accuracy: 0.4981 - val_loss: 1.2196 - val_accuracy: 0.3846\n",
      "Epoch 28/100\n",
      "26/26 [==============================] - 50s 2s/step - loss: 1.2074 - accuracy: 0.4884 - val_loss: 1.1888 - val_accuracy: 0.4462\n",
      "Epoch 29/100\n",
      "26/26 [==============================] - 50s 2s/step - loss: 1.1925 - accuracy: 0.4903 - val_loss: 1.2184 - val_accuracy: 0.4308\n",
      "Epoch 30/100\n",
      "26/26 [==============================] - 50s 2s/step - loss: 1.2178 - accuracy: 0.4595 - val_loss: 1.2170 - val_accuracy: 0.4692\n",
      "Epoch 31/100\n",
      "26/26 [==============================] - 50s 2s/step - loss: 1.1964 - accuracy: 0.4788 - val_loss: 1.2280 - val_accuracy: 0.4923\n",
      "Epoch 32/100\n",
      "26/26 [==============================] - 49s 2s/step - loss: 1.1784 - accuracy: 0.4865 - val_loss: 1.1594 - val_accuracy: 0.4923\n",
      "Epoch 33/100\n",
      "26/26 [==============================] - 49s 2s/step - loss: 1.1905 - accuracy: 0.4884 - val_loss: 1.2038 - val_accuracy: 0.4385\n",
      "Epoch 34/100\n",
      "26/26 [==============================] - 49s 2s/step - loss: 1.1650 - accuracy: 0.4653 - val_loss: 1.2206 - val_accuracy: 0.4769\n",
      "Epoch 35/100\n",
      "26/26 [==============================] - 50s 2s/step - loss: 1.1778 - accuracy: 0.4730 - val_loss: 1.1905 - val_accuracy: 0.4615\n",
      "Epoch 36/100\n",
      "26/26 [==============================] - 50s 2s/step - loss: 1.1748 - accuracy: 0.4981 - val_loss: 1.2230 - val_accuracy: 0.4154\n",
      "Epoch 37/100\n",
      "26/26 [==============================] - 50s 2s/step - loss: 1.1867 - accuracy: 0.4961 - val_loss: 1.2062 - val_accuracy: 0.5231\n",
      "Epoch 38/100\n",
      "26/26 [==============================] - 50s 2s/step - loss: 1.2097 - accuracy: 0.4923 - val_loss: 1.2587 - val_accuracy: 0.4385\n",
      "Epoch 39/100\n",
      "26/26 [==============================] - 50s 2s/step - loss: 1.2080 - accuracy: 0.4730 - val_loss: 1.2265 - val_accuracy: 0.4000\n",
      "Epoch 40/100\n",
      "26/26 [==============================] - 50s 2s/step - loss: 1.1968 - accuracy: 0.4807 - val_loss: 1.2134 - val_accuracy: 0.4385\n",
      "Epoch 41/100\n",
      "26/26 [==============================] - 50s 2s/step - loss: 1.1669 - accuracy: 0.4865 - val_loss: 1.2080 - val_accuracy: 0.4154\n",
      "Epoch 42/100\n",
      "26/26 [==============================] - 50s 2s/step - loss: 1.1995 - accuracy: 0.4691 - val_loss: 1.2057 - val_accuracy: 0.4462\n",
      "Epoch 43/100\n",
      "26/26 [==============================] - 50s 2s/step - loss: 1.2231 - accuracy: 0.4595 - val_loss: 1.2876 - val_accuracy: 0.4615\n",
      "Epoch 44/100\n",
      "26/26 [==============================] - 50s 2s/step - loss: 1.2106 - accuracy: 0.4691 - val_loss: 1.2736 - val_accuracy: 0.4538\n",
      "Epoch 45/100\n",
      "26/26 [==============================] - 50s 2s/step - loss: 1.1768 - accuracy: 0.4865 - val_loss: 1.2077 - val_accuracy: 0.4769\n",
      "Epoch 46/100\n",
      "26/26 [==============================] - 50s 2s/step - loss: 1.1861 - accuracy: 0.4749 - val_loss: 1.2429 - val_accuracy: 0.4692\n",
      "Epoch 47/100\n",
      "26/26 [==============================] - 50s 2s/step - loss: 1.1590 - accuracy: 0.4807 - val_loss: 1.2153 - val_accuracy: 0.5231\n",
      "Epoch 48/100\n",
      "26/26 [==============================] - 50s 2s/step - loss: 1.1726 - accuracy: 0.5058 - val_loss: 1.2275 - val_accuracy: 0.4538\n",
      "Epoch 49/100\n",
      "26/26 [==============================] - 50s 2s/step - loss: 1.1672 - accuracy: 0.4846 - val_loss: 1.2067 - val_accuracy: 0.4769\n",
      "Epoch 50/100\n",
      "26/26 [==============================] - 50s 2s/step - loss: 1.1602 - accuracy: 0.4923 - val_loss: 1.2285 - val_accuracy: 0.5000\n",
      "Epoch 51/100\n",
      "26/26 [==============================] - 50s 2s/step - loss: 1.2123 - accuracy: 0.4826 - val_loss: 1.2929 - val_accuracy: 0.5154\n",
      "Epoch 52/100\n",
      "26/26 [==============================] - 50s 2s/step - loss: 1.1927 - accuracy: 0.5019 - val_loss: 1.2112 - val_accuracy: 0.4615\n",
      "Epoch 53/100\n",
      "26/26 [==============================] - 50s 2s/step - loss: 1.2098 - accuracy: 0.4826 - val_loss: 1.2886 - val_accuracy: 0.4846\n",
      "Epoch 54/100\n",
      "26/26 [==============================] - 50s 2s/step - loss: 1.1789 - accuracy: 0.4633 - val_loss: 1.2031 - val_accuracy: 0.5077\n",
      "Epoch 55/100\n",
      "26/26 [==============================] - 50s 2s/step - loss: 1.1990 - accuracy: 0.4730 - val_loss: 1.2096 - val_accuracy: 0.4692\n",
      "Epoch 56/100\n",
      "26/26 [==============================] - 50s 2s/step - loss: 1.1658 - accuracy: 0.4846 - val_loss: 1.1854 - val_accuracy: 0.5077\n",
      "Epoch 57/100\n",
      "26/26 [==============================] - 50s 2s/step - loss: 1.1618 - accuracy: 0.4865 - val_loss: 1.2011 - val_accuracy: 0.5308\n",
      "Epoch 58/100\n",
      "26/26 [==============================] - 49s 2s/step - loss: 1.1424 - accuracy: 0.4923 - val_loss: 1.1745 - val_accuracy: 0.5308\n",
      "Epoch 59/100\n",
      "26/26 [==============================] - 50s 2s/step - loss: 1.1618 - accuracy: 0.5019 - val_loss: 1.1828 - val_accuracy: 0.5385\n",
      "Epoch 60/100\n",
      "26/26 [==============================] - 50s 2s/step - loss: 1.1676 - accuracy: 0.4826 - val_loss: 1.2502 - val_accuracy: 0.5231\n",
      "Epoch 61/100\n",
      "26/26 [==============================] - 50s 2s/step - loss: 1.1416 - accuracy: 0.4923 - val_loss: 1.2093 - val_accuracy: 0.5077\n",
      "Epoch 62/100\n",
      "26/26 [==============================] - 50s 2s/step - loss: 1.1318 - accuracy: 0.4884 - val_loss: 1.2046 - val_accuracy: 0.4692\n",
      "Epoch 63/100\n",
      "26/26 [==============================] - 50s 2s/step - loss: 1.1342 - accuracy: 0.5154 - val_loss: 1.2276 - val_accuracy: 0.5231\n",
      "Epoch 64/100\n",
      "26/26 [==============================] - 50s 2s/step - loss: 1.1192 - accuracy: 0.5135 - val_loss: 1.2237 - val_accuracy: 0.5154\n",
      "Epoch 65/100\n",
      "26/26 [==============================] - 50s 2s/step - loss: 1.1368 - accuracy: 0.4961 - val_loss: 1.1733 - val_accuracy: 0.5077\n",
      "Epoch 66/100\n",
      "26/26 [==============================] - 49s 2s/step - loss: 1.1391 - accuracy: 0.4942 - val_loss: 1.1918 - val_accuracy: 0.4769\n",
      "Epoch 67/100\n",
      "26/26 [==============================] - 49s 2s/step - loss: 1.1406 - accuracy: 0.4903 - val_loss: 1.1954 - val_accuracy: 0.5385\n",
      "Epoch 68/100\n",
      "26/26 [==============================] - 49s 2s/step - loss: 1.1429 - accuracy: 0.5154 - val_loss: 1.1989 - val_accuracy: 0.5077\n",
      "Epoch 69/100\n",
      "26/26 [==============================] - 49s 2s/step - loss: 1.1492 - accuracy: 0.4942 - val_loss: 1.2129 - val_accuracy: 0.5077\n",
      "Epoch 70/100\n",
      "26/26 [==============================] - 49s 2s/step - loss: 1.1433 - accuracy: 0.5116 - val_loss: 1.2466 - val_accuracy: 0.5077\n",
      "Epoch 71/100\n",
      "26/26 [==============================] - 49s 2s/step - loss: 1.1240 - accuracy: 0.5097 - val_loss: 1.2379 - val_accuracy: 0.5231\n",
      "Epoch 72/100\n",
      "26/26 [==============================] - 49s 2s/step - loss: 1.1044 - accuracy: 0.5405 - val_loss: 1.2174 - val_accuracy: 0.5231\n",
      "Epoch 73/100\n",
      "26/26 [==============================] - 49s 2s/step - loss: 1.1068 - accuracy: 0.5347 - val_loss: 1.2367 - val_accuracy: 0.5154\n",
      "Epoch 74/100\n",
      "26/26 [==============================] - 49s 2s/step - loss: 1.0946 - accuracy: 0.5290 - val_loss: 1.2486 - val_accuracy: 0.5000\n",
      "Epoch 75/100\n",
      "26/26 [==============================] - 49s 2s/step - loss: 1.1096 - accuracy: 0.5058 - val_loss: 1.2314 - val_accuracy: 0.5077\n",
      "Epoch 76/100\n",
      "26/26 [==============================] - 49s 2s/step - loss: 1.1133 - accuracy: 0.5193 - val_loss: 1.1555 - val_accuracy: 0.5538\n",
      "Epoch 77/100\n",
      "26/26 [==============================] - 49s 2s/step - loss: 1.1112 - accuracy: 0.5193 - val_loss: 1.2071 - val_accuracy: 0.5538\n",
      "Epoch 78/100\n",
      "26/26 [==============================] - 49s 2s/step - loss: 1.1104 - accuracy: 0.5135 - val_loss: 1.2226 - val_accuracy: 0.4769\n",
      "Epoch 79/100\n",
      "26/26 [==============================] - 49s 2s/step - loss: 1.0899 - accuracy: 0.5386 - val_loss: 1.1674 - val_accuracy: 0.5385\n",
      "Epoch 80/100\n",
      "26/26 [==============================] - 49s 2s/step - loss: 1.0882 - accuracy: 0.5367 - val_loss: 1.2331 - val_accuracy: 0.5000\n",
      "Epoch 81/100\n",
      "26/26 [==============================] - 49s 2s/step - loss: 1.0785 - accuracy: 0.5463 - val_loss: 1.2446 - val_accuracy: 0.5154\n",
      "Epoch 82/100\n",
      "26/26 [==============================] - 49s 2s/step - loss: 1.1162 - accuracy: 0.5270 - val_loss: 1.2047 - val_accuracy: 0.5308\n",
      "Epoch 83/100\n",
      "26/26 [==============================] - 49s 2s/step - loss: 1.0899 - accuracy: 0.5502 - val_loss: 1.3833 - val_accuracy: 0.4923\n",
      "Epoch 84/100\n",
      "26/26 [==============================] - 49s 2s/step - loss: 1.1045 - accuracy: 0.5270 - val_loss: 1.2624 - val_accuracy: 0.5308\n",
      "Epoch 85/100\n",
      "26/26 [==============================] - 49s 2s/step - loss: 1.0671 - accuracy: 0.5463 - val_loss: 1.2629 - val_accuracy: 0.5231\n",
      "Epoch 86/100\n",
      "26/26 [==============================] - 48s 2s/step - loss: 1.0812 - accuracy: 0.5288 - val_loss: 1.2185 - val_accuracy: 0.5077\n",
      "Epoch 87/100\n",
      "26/26 [==============================] - 49s 2s/step - loss: 1.0989 - accuracy: 0.5135 - val_loss: 1.2299 - val_accuracy: 0.5077\n",
      "Epoch 88/100\n",
      "26/26 [==============================] - 49s 2s/step - loss: 1.0920 - accuracy: 0.5328 - val_loss: 1.2953 - val_accuracy: 0.5154\n",
      "Epoch 89/100\n",
      "26/26 [==============================] - 49s 2s/step - loss: 1.0622 - accuracy: 0.5483 - val_loss: 1.2397 - val_accuracy: 0.5154\n",
      "Epoch 90/100\n",
      "26/26 [==============================] - 48s 2s/step - loss: 1.0807 - accuracy: 0.5423 - val_loss: 1.2437 - val_accuracy: 0.5231\n",
      "Epoch 91/100\n",
      "26/26 [==============================] - 48s 2s/step - loss: 1.0796 - accuracy: 0.5328 - val_loss: 1.2098 - val_accuracy: 0.5077\n",
      "Epoch 92/100\n",
      "26/26 [==============================] - 49s 2s/step - loss: 1.0533 - accuracy: 0.5425 - val_loss: 1.2402 - val_accuracy: 0.5692\n",
      "Epoch 93/100\n",
      "26/26 [==============================] - 49s 2s/step - loss: 1.0729 - accuracy: 0.5637 - val_loss: 1.2003 - val_accuracy: 0.5000\n",
      "Epoch 94/100\n",
      "26/26 [==============================] - 49s 2s/step - loss: 1.0908 - accuracy: 0.5212 - val_loss: 1.2078 - val_accuracy: 0.4692\n",
      "Epoch 95/100\n",
      "26/26 [==============================] - 49s 2s/step - loss: 1.0534 - accuracy: 0.5579 - val_loss: 1.2551 - val_accuracy: 0.4923\n",
      "Epoch 96/100\n",
      "26/26 [==============================] - 49s 2s/step - loss: 1.0436 - accuracy: 0.5579 - val_loss: 1.2003 - val_accuracy: 0.4846\n",
      "Epoch 97/100\n",
      "26/26 [==============================] - 49s 2s/step - loss: 1.0406 - accuracy: 0.5598 - val_loss: 1.2503 - val_accuracy: 0.4923\n",
      "Epoch 98/100\n",
      "26/26 [==============================] - 49s 2s/step - loss: 1.0678 - accuracy: 0.5483 - val_loss: 1.2591 - val_accuracy: 0.5385\n",
      "Epoch 99/100\n",
      "26/26 [==============================] - 50s 2s/step - loss: 1.0609 - accuracy: 0.5463 - val_loss: 1.2923 - val_accuracy: 0.5308\n",
      "Epoch 100/100\n",
      "26/26 [==============================] - 50s 2s/step - loss: 1.0344 - accuracy: 0.5444 - val_loss: 1.2787 - val_accuracy: 0.5231\n"
     ]
    }
   ],
   "source": [
    "# Train the model\n",
    "\n",
    "history_classify = model_classify.fit_generator(\n",
    "    train_classify_generator,                     \n",
    "    steps_per_epoch= 26,                  \n",
    "    epochs= 100,                           \n",
    "    validation_data= validation_classify_generator, \n",
    "    validation_steps= 26,                  \n",
    "    verbose=1                             \n",
    "    #class_weight=weights\n",
    "    )"
   ]
  },
  {
   "cell_type": "code",
   "execution_count": 45,
   "metadata": {
    "colab": {
     "base_uri": "https://localhost:8080/",
     "height": 545
    },
    "executionInfo": {
     "elapsed": 904,
     "status": "ok",
     "timestamp": 1611444580534,
     "user": {
      "displayName": "Ir Ka",
      "photoUrl": "",
      "userId": "05728717612783919448"
     },
     "user_tz": -60
    },
    "id": "1RwTCg6LR-yQ",
    "outputId": "041e0bfb-f997-4716-d6c2-e87b6ef4fa87"
   },
   "outputs": [
    {
     "data": {
      "image/png": "[encoded data removed]",
      "text/plain": [
       "<Figure size 432x288 with 1 Axes>"
      ]
     },
     "metadata": {
      "needs_background": "light",
      "tags": []
     },
     "output_type": "display_data"
    },
    {
     "data": {
      "image/png": "[encoded data removed]",
      "text/plain": [
       "<Figure size 432x288 with 1 Axes>"
      ]
     },
     "metadata": {
      "needs_background": "light",
      "tags": []
     },
     "output_type": "display_data"
    }
   ],
   "source": [
    "# Plot the results\n",
    "## Retrieve a list of results  for each training epoch\n",
    "\n",
    "acc_classify      = history_classify.history[     'accuracy' ]\n",
    "val_acc_classify  = history_classify.history[ 'val_accuracy' ]\n",
    "loss_classify     = history_classify.history[    'loss' ]\n",
    "val_loss_classify = history_classify.history['val_loss' ]\n",
    "\n",
    "epochs_classify   = range(len(acc_classify)) # Get number of epochs\n",
    "\n",
    "\n",
    "## Plot training and validation accuracy per epoch:\n",
    "\n",
    "plt.plot(epochs_classify, acc_classify, 'r', label='Training accuracy')\n",
    "plt.plot(epochs_classify, val_acc_classify, 'b', label='Validation accuracy')\n",
    "plt.title('Training and validation accuracy')\n",
    "\n",
    "plt.figure()\n",
    "\n",
    "\n",
    "# Plot training and validation loss per epoch:\n",
    "plt.plot(epochs_classify, loss_classify, 'r', label='Training Loss')\n",
    "plt.plot(epochs_classify, val_loss_classify, 'b', label='Validation Loss')\n",
    "plt.title('Training and validation loss')\n",
    "plt.legend()\n",
    "\n",
    "plt.show()"
   ]
  },
  {
   "cell_type": "markdown",
   "metadata": {
    "id": "Q2qhyTvBxl2x"
   },
   "source": [
    "The accuracy and loss seem to be okay until around epoch 50. \n",
    "\n",
    "The validation accuracy reaches 52% which is higher than the 25% of pure chance, but still not very satisfactory. A training set with more data is needed to improve this model."
   ]
  },
  {
   "cell_type": "markdown",
   "metadata": {
    "id": "me0YXO5ZTKKC"
   },
   "source": [
    "### 5.5 Save/Load the model"
   ]
  },
  {
   "cell_type": "code",
   "execution_count": 46,
   "metadata": {
    "executionInfo": {
     "elapsed": 513,
     "status": "ok",
     "timestamp": 1611444609157,
     "user": {
      "displayName": "Ir Ka",
      "photoUrl": "",
      "userId": "05728717612783919448"
     },
     "user_tz": -60
    },
    "id": "CcX2zk2DTQi9"
   },
   "outputs": [],
   "source": [
    "# Modelname and path\n",
    "modelname_classify = \"/content/drive/My Drive/Tensorflow/Model_Classify_Instruments.h5\""
   ]
  },
  {
   "cell_type": "code",
   "execution_count": 47,
   "metadata": {
    "executionInfo": {
     "elapsed": 969,
     "status": "ok",
     "timestamp": 1611444613382,
     "user": {
      "displayName": "Ir Ka",
      "photoUrl": "",
      "userId": "05728717612783919448"
     },
     "user_tz": -60
    },
    "id": "QFgCqAQaTdnI"
   },
   "outputs": [],
   "source": [
    "# Save model\n",
    "model_classify.save(modelname_classify)"
   ]
  },
  {
   "cell_type": "code",
   "execution_count": null,
   "metadata": {
    "id": "fHj5VNajTkfQ"
   },
   "outputs": [],
   "source": [
    "# Load a saved model:\n",
    "\n",
    "model_classify = keras.models.load_model(modelname_classify, compile=False)"
   ]
  },
  {
   "cell_type": "markdown",
   "metadata": {
    "id": "R6vhx6FvTwZh"
   },
   "source": [
    "## <h2> 6. Prediction for the files in \"pictures\" </h2>"
   ]
  },
  {
   "cell_type": "markdown",
   "metadata": {
    "id": "ahhSJHRS4hLK"
   },
   "source": [
    "Although the results are not very encouraging, I will classify the images that the first CNN predicted to be an illustration."
   ]
  },
  {
   "cell_type": "code",
   "execution_count": 98,
   "metadata": {
    "colab": {
     "base_uri": "https://localhost:8080/"
    },
    "executionInfo": {
     "elapsed": 537,
     "status": "ok",
     "timestamp": 1611449205267,
     "user": {
      "displayName": "Ir Ka",
      "photoUrl": "",
      "userId": "05728717612783919448"
     },
     "user_tz": -60
    },
    "id": "jvNIGeHnUUV9",
    "outputId": "3f3fbaf8-65ab-47ad-9ef7-32fd256663eb"
   },
   "outputs": [
    {
     "name": "stdout",
     "output_type": "stream",
     "text": [
      "There are 134 scans to check.\n"
     ]
    }
   ],
   "source": [
    "# Directories\n",
    "\n",
    "## Source directory:\n",
    "classify_check_dir = path_check_pics\n",
    "\n",
    "# Load into a list:\n",
    "classify_check_lst = os.listdir(classify_check_dir )\n",
    "\n",
    "print(\"There are\", len(classify_check_lst), \"scans to check.\")\n",
    "\n",
    "## Create the subdirectories:\n",
    "for i in range(0,4):\n",
    "  os.mkdir(os.path.join (path_check_pics, class_names[i]))"
   ]
  },
  {
   "cell_type": "code",
   "execution_count": 104,
   "metadata": {
    "colab": {
     "base_uri": "https://localhost:8080/"
    },
    "executionInfo": {
     "elapsed": 8046,
     "status": "ok",
     "timestamp": 1611449921458,
     "user": {
      "displayName": "Ir Ka",
      "photoUrl": "",
      "userId": "05728717612783919448"
     },
     "user_tz": -60
    },
    "id": "CIiYtIoDXu5p",
    "outputId": "80ce2a86-f501-4fff-b880-880cf57994f9"
   },
   "outputs": [
    {
     "name": "stderr",
     "output_type": "stream",
     "text": [
      "/usr/local/lib/python3.6/dist-packages/tensorflow/python/keras/engine/sequential.py:450: UserWarning: `model.predict_classes()` is deprecated and will be removed after 2021-01-01. Please use instead:* `np.argmax(model.predict(x), axis=-1)`,   if your model does multi-class classification   (e.g. if it uses a `softmax` last-layer activation).* `(model.predict(x) > 0.5).astype(\"int32\")`,   if your model does binary classification   (e.g. if it uses a `sigmoid` last-layer activation).\n",
      "  warnings.warn('`model.predict_classes()` is deprecated and '\n"
     ]
    }
   ],
   "source": [
    "# Create 4 lists that hold the classified pictures:\n",
    "\n",
    "## Create 4 lists:\n",
    "classify_armillary =[]\n",
    "classify_nothing = []         \n",
    "classify_quadrant = []   \n",
    "classify_telescope = []  \n",
    "\n",
    "## Predict for every picture in list:\n",
    "for i in classify_check_lst:\n",
    "\n",
    "  ## Path of the picture:\n",
    "  path = os.path.join(classify_check_dir, i)\n",
    "  ## Load the image to the target size of the model:\n",
    "  img=image.load_img(path, target_size=(classify_imagesize_x, classify_imagesize_y))\n",
    "\n",
    "  ## import the scans into a numpy array:\n",
    "  x=image.img_to_array(img)\n",
    "  x=np.expand_dims(x, axis=0)\n",
    "  images = np.vstack([x])\n",
    "\n",
    "  #print(classes , \"==>\", path)\n",
    "  \n",
    "  ## Predict the class of the image:\n",
    "  classes = model_classify.predict_classes(images, batch_size=10)\n",
    "  \n",
    "  ## Append to the respective list:\n",
    "  if classes[0] == 0:\n",
    "    classify_armillary.append(i)\n",
    "\n",
    "  if classes[0] == 1:\n",
    "    classify_nothing.append(i)\n",
    "  \n",
    "  if classes[0] == 2:\n",
    "    classify_quadrant.append(i)\n",
    "\n",
    "  if classes[0] == 3:\n",
    "    classify_telescope.append(i)"
   ]
  },
  {
   "cell_type": "code",
   "execution_count": 102,
   "metadata": {
    "executionInfo": {
     "elapsed": 1515,
     "status": "ok",
     "timestamp": 1611449269172,
     "user": {
      "displayName": "Ir Ka",
      "photoUrl": "",
      "userId": "05728717612783919448"
     },
     "user_tz": -60
    },
    "id": "yuLarV6anTeR"
   },
   "outputs": [],
   "source": [
    "# Copy the files to the directories\n",
    "\n",
    "for i in classify_armillary:\n",
    "  path_source =  os.path.join(classify_check_dir, i)\n",
    "  path_destination = os.path.join (path_check_pics, class_names[0], i)\n",
    "  copyfile(path_source, path_destination)\n",
    "\n",
    "for i in classify_quadrant:\n",
    "  path_source =  os.path.join(classify_check_dir, i)\n",
    "  path_destination = os.path.join (path_check_pics, class_names[2], i)\n",
    "  copyfile(path_source, path_destination)\n",
    "\n",
    "for i in classify_telescope:\n",
    "  path_source =  os.path.join(classify_check_dir, i)\n",
    "  path_destination = os.path.join (path_check_pics, class_names[3], i)\n",
    "  copyfile(path_source, path_destination)"
   ]
  },
  {
   "cell_type": "code",
   "execution_count": 103,
   "metadata": {
    "executionInfo": {
     "elapsed": 920,
     "status": "ok",
     "timestamp": 1611449272721,
     "user": {
      "displayName": "Ir Ka",
      "photoUrl": "",
      "userId": "05728717612783919448"
     },
     "user_tz": -60
    },
    "id": "jVhes_lUrjJg"
   },
   "outputs": [],
   "source": [
    "for i in classify_nothing:\n",
    "  path_source =  os.path.join(classify_check_dir, i)\n",
    "  path_destination = os.path.join (path_check_pics, class_names[1], i)\n",
    "  copyfile(path_source, path_destination)"
   ]
  },
  {
   "cell_type": "markdown",
   "metadata": {},
   "source": [
    "## <h2> 7. Test of the predictions with three (mostly) unseen books </h2>"
   ]
  },
  {
   "cell_type": "markdown",
   "metadata": {},
   "source": [
    "As a conclusion, I want to test the algorithm with three books that the CNN has not yet seen. \n",
    "\n",
    "---\n",
    "**Tycho Brahe**\n",
    "\n",
    "The first book is Tycho Brahes \"*Astronomiae Instauratae Mechanica*\" from 1598. This is a famous work that has many illustrations of Tycho Brahes obervatory on the island Hven. A few pages might have been in the training set, but this is a different hand colored copy. The book has 96 pages.\n",
    "\n",
    "The results for this book were the following: \n",
    "1. There was one false negative out of 53 only text pages.\n",
    "2. There were 13 false positives out of 43. The false positives were\n",
    "    - the front and back of the book, \n",
    "    - 5 empty pages were the illustrations from the backside of the page shone through (barely visible)\n",
    "    - 3 pages that have an elaborate end of chapter decoration\n",
    "    - 3 pages were the text is written in columns\n",
    "   I would argue that false positives are int this case way preferable to false negatives. And as there is an understandable reason for the false positives, I am quite happy with the result.\n",
    "   \n",
    "The classification CNN gave the following results:\n",
    "1. One scan was correctly classified as \"Armillary\".\n",
    "2. 15 scans were correctly classified as \"Nothing\". Most of the false positives fall from bevore in this category.\n",
    "3. 16 scans were correctly classified as \"Quadrant\". 11 are false (4x \"Armillary\", \"7x\"Nothing).\n",
    "4. 0 scans are correctly classified as \"Telescope\". The telescope was invented later.\n",
    "    Even with the small training sample, the results are better than expected.\n",
    " \n",
    "\n",
    "---\n",
    "**Hevelius - Machina Coelestis**\n",
    "\n",
    "Hevelius had an observatory in Gdansk. He took Brahes *Astronomiae Instauratae Mechanica* as a role model and published his own descrition of his astronomical tooly in 1673. A few pages might have been in the training set, but again this is a different hand copy. The book has 546 pages.\n",
    "\n",
    "The results for this book were the following: \n",
    "1. All 463 scans were correctly indentified as \"No Picture\".\n",
    "2. 83 scans were classified as \"Picture\". 34 out of these were correct. The 49 false positives were\n",
    "    - 45 empty pages\n",
    "    - 1 title page\n",
    "    - 2 pages with (maybe to elaborate) decoration\n",
    "    - 1 page with a table\n",
    "    \n",
    "The classification CNN gave the following results:\n",
    "1. One false \"Armillary\". It should have been \"Nothing\", but indeed it was a very round illustration.\n",
    "2. One false \"Nothing\". It should have been \"Quadrant\". 43 scans were correctly classified. They all were empty pages.\n",
    "3. 15 correct \"Quadrants\" and 23 misclassified. (16x \"Nothing\", 7x \"Telescope\")\n",
    "4. 0 scans were classified as \"Telescope\". It should have been 7.\n",
    "\n",
    "\n",
    "---\n",
    "**Hevelius - Selenographia**\n",
    "\n",
    "As a last test I take this book from 1647. It only contains 2 pictures of a telescope, but a lot of Moon illustrations. Neither of these illustrations were part of the training set. Indeed, no illustrations of the moon were present in the dataset. I am courious how the algorithm will perform on this different data. The book has 801 pages.\n",
    "\n",
    "The results for this book were the following: \n",
    "1. Out of 658, 11 scans were false negatives . (These illustrations were mostly little diagrams, only one bigger moon illustration)\n",
    "2. 134 scans were classified as \"Picture\". 107 out of these were correct. The 27 false positives were\n",
    "    - 21 empty pages\n",
    "    - 2 title pages\n",
    "    - 3 end of chapter pages with decoration\n",
    "    - 1 book cover\n",
    "\n",
    "The classification CNN did not perform well with this data. There were only 3 scans that it should have placed in the telescope folder, and the remaining 131 should have been \"Nothing\". But the results were:\n",
    "1. 0 x \"Armillary\" (correct)\n",
    "2. 33x \"Nothing\" (correct)\n",
    "3. 96x \"Quadrant\" (incorrect - should have been 3x \"Telescope\" and 93x \"Nothing\")\n",
    "4. 5x \"Telescope\" (incorrect - should have been \"Nothing\")"
   ]
  },
  {
   "cell_type": "markdown",
   "metadata": {
    "id": "zLhXnEUR4weo"
   },
   "source": [
    "# Conclusion"
   ]
  },
  {
   "cell_type": "markdown",
   "metadata": {
    "id": "fZ9xq2y941Wb"
   },
   "source": [
    "I trained a convolutional neural network to recognise illustrations in old books. It reached a validation accuracy of 96%.\n",
    "A test with three books showed that the algorithm is quite good at recognising only-text pages. But it almost always misclassifies empty pages as illustrations.\n",
    "I only used 2600 of my previously prepared 4400 images for training and validation.\n",
    "In a future project I could create a different data set where empty pages, pages with decorative text, title pages and book covers are better represented.\n",
    "\n",
    "I trained a second CNN to classify the found illustrations. But because of a small training sample the results were not very convincing. I reached a validation accuracy of 53%.\n",
    "In the test this second algorithm was at least useful to filter out the empty pages, which it correctly classified as not containing an astronomical instrument.\n"
   ]
  },
  {
   "cell_type": "code",
   "execution_count": null,
   "metadata": {},
   "outputs": [],
   "source": []
  }
 ],
 "metadata": {
  "accelerator": "GPU",
  "colab": {
   "collapsed_sections": [
    "vVsvAICTzJOx"
   ],
   "name": "Historic_Illustrations_4.ipynb",
   "provenance": [],
   "toc_visible": true
  },
  "kernelspec": {
   "display_name": "Python 3",
   "language": "python",
   "name": "python3"
  },
  "language_info": {
   "codemirror_mode": {
    "name": "ipython",
    "version": 3
   },
   "file_extension": ".py",
   "mimetype": "text/x-python",
   "name": "python",
   "nbconvert_exporter": "python",
   "pygments_lexer": "ipython3",
   "version": "3.7.6"
  }
 },
 "nbformat": 4,
 "nbformat_minor": 1
}
